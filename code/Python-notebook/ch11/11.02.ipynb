{
 "cells": [
  {
   "cell_type": "code",
   "execution_count": null,
   "metadata": {},
   "outputs": [],
   "source": [
    "import pandas as pd\n",
    "my_url = 'https://raw.githubusercontent.com/taroyabuki/fromzero/master/data/wine.csv'\n",
    "tmp = pd.read_csv(my_url)\n",
    "tmp.head()\n",
    "#>    LPRICE2  WRAIN  DEGREES  HRAIN  TIME_SV\n",
    "#> 0 -0.99868    600  17.1167    160       31\n",
    "#> 1 -0.45440    690  16.7333     80       30\n",
    "#> 2 -0.80796    502  17.1500    130       28\n",
    "#> 3 -1.50926    420  16.1333    110       26\n",
    "#> 4 -1.71655    582  16.4167    187       25"
   ]
  },
  {
   "cell_type": "code",
   "execution_count": null,
   "metadata": {},
   "outputs": [],
   "source": [
    "from sklearn.utils import shuffle\n",
    "from sklearn.preprocessing import StandardScaler\n",
    "scaler = StandardScaler()\n",
    "my_data = scaler.fit_transform(shuffle(tmp)) # シャッフルと標準化\n",
    "X = my_data[:, 1:5] # 入力変数\n",
    "y = my_data[:, 0]   # 出力変数"
   ]
  },
  {
   "cell_type": "code",
   "execution_count": null,
   "metadata": {},
   "outputs": [],
   "source": [
    "from sklearn.linear_model import LinearRegression\n",
    "my_model = LinearRegression() # 線形回帰分析\n",
    "\n",
    "# 5分割交差検証（10回）\n",
    "from sklearn.model_selection import *\n",
    "my_cv = RepeatedKFold(n_splits=5, n_repeats=10)\n",
    "\n",
    "# 交差検証の実行\n",
    "my_scores = cross_val_score(my_model, X, y, cv=my_cv,\n",
    "                            scoring='neg_mean_squared_error') # -MSEを使う．\n",
    "-my_scores.mean() # MSE（検証）\n",
    "#> 0.2958079750627453"
   ]
  },
  {
   "cell_type": "code",
   "execution_count": null,
   "metadata": {},
   "outputs": [],
   "source": [
    "from keras.models import Sequential\n",
    "from keras.layers import Dense\n",
    "from keras.callbacks import EarlyStopping\n",
    "\n",
    "my_model = Sequential()               # 層状のネットワーク\n",
    "my_model.add(Dense(units=3,           # 隠れ層のニューロン数\n",
    "                   activation='relu', # 活性化関数\n",
    "                   input_dim=4))      # 入力層のニューロン数\n",
    "my_model.add(Dense(units=1))          # 出力層のニューロン数"
   ]
  },
  {
   "cell_type": "code",
   "execution_count": null,
   "metadata": {},
   "outputs": [],
   "source": [
    "my_model.compile(loss='mean_squared_error',\n",
    "                 optimizer='rmsprop')"
   ]
  },
  {
   "cell_type": "code",
   "execution_count": null,
   "metadata": {},
   "outputs": [],
   "source": [
    "my_cb = [EarlyStopping(patience=20,                  # 訓練停止条件\n",
    "                       restore_best_weights = True)] # 最善を保持"
   ]
  },
  {
   "cell_type": "code",
   "execution_count": null,
   "metadata": {},
   "outputs": [],
   "source": [
    "my_history = my_model.fit(\n",
    "    x=X,                   # 入力変数\n",
    "    y=y,                   # 出力変数\n",
    "    validation_split=0.25, # 検証データの割合\n",
    "    batch_size=10,         # バッチサイズ\n",
    "    epochs=500,            # エポック数の上限\n",
    "    callbacks=my_cb)       # エポックごとに行う処理"
   ]
  },
  {
   "cell_type": "code",
   "execution_count": null,
   "metadata": {},
   "outputs": [],
   "source": [
    "import pandas as pd\n",
    "tmp = my_history.history\n",
    "pd.DataFrame({'validation':tmp['val_loss'],\n",
    "              'training':tmp['loss']}).plot(ylabel='loss')"
   ]
  },
  {
   "cell_type": "code",
   "execution_count": null,
   "metadata": {},
   "outputs": [],
   "source": [
    "{k: v[-1] for k, v in my_history.history.items()}\n",
    "#> {'loss': 0.1775408387184143, 'val_loss': 0.134183868765831}"
   ]
  }
 ],
 "nbformat": 4,
 "nbformat_minor": 5,
 "metadata": {
  "kernelspec": {
   "name": "python3",
   "display_name": "Python 3"
  }
 }
}
