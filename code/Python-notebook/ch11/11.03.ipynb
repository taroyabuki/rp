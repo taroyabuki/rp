{
 "cells": [
  {
   "cell_type": "code",
   "execution_count": null,
   "metadata": {},
   "outputs": [],
   "source": [
    "y = [2, 1, 0, 1] # 正解\n",
    "\n",
    "import numpy as np\n",
    "\n",
    "# 予測例A\n",
    "p_A = np.array([[0.1, 0.1, 0.8],\n",
    "                [0.1, 0.7, 0.2],\n",
    "                [0.3, 0.4, 0.3],\n",
    "                [0.1, 0.8, 0.1]])\n",
    "\n",
    "# 予測例B\n",
    "p_B = np.array([[0.1, 0.2, 0.7],\n",
    "                [0.2, 0.6, 0.2],\n",
    "                [0.2, 0.5, 0.3],\n",
    "                [0.2, 0.7, 0.1]])"
   ]
  },
  {
   "cell_type": "code",
   "execution_count": null,
   "metadata": {},
   "outputs": [],
   "source": [
    "# 予測カテゴリA\n",
    "y_A = np.argmax(p_A, axis=1)\n",
    "y_A\n",
    "#> array([2, 1, 1, 1])\n",
    "\n",
    "# 予測カテゴリB\n",
    "y_B = np.argmax(p_B, axis=1)\n",
    "y_B\n",
    "#> array([2, 1, 1, 1])"
   ]
  },
  {
   "cell_type": "code",
   "execution_count": null,
   "metadata": {},
   "outputs": [],
   "source": [
    "(y_A == y).mean() # 正解率A\n",
    "#> 0.75\n",
    "\n",
    "(y_B == y).mean() # 正解率B\n",
    "#> 0.75"
   ]
  },
  {
   "cell_type": "code",
   "execution_count": null,
   "metadata": {},
   "outputs": [],
   "source": [
    "import pandas as pd\n",
    "p = pd.get_dummies(y)\n",
    "p\n",
    "#>    0  1  2\n",
    "#> 0  0  0  1\n",
    "#> 1  0  1  0\n",
    "#> 2  1  0  0\n",
    "#> 3  0  1  0"
   ]
  },
  {
   "cell_type": "code",
   "execution_count": null,
   "metadata": {},
   "outputs": [],
   "source": [
    "p_A * p\n",
    "#>      0    1    2\n",
    "#> 0  0.0  0.0  0.8\n",
    "#> 1  0.0  0.7  0.0\n",
    "#> 2  0.3  0.0  0.0\n",
    "#> 3  0.0  0.8  0.0\n",
    "\n",
    "# 予測例Aの交差エントロピー\n",
    "-np.mean(np.log(\n",
    "    (p_A * p).apply(np.sum, axis=1)))\n",
    "#> 0.5017337127232719\n",
    "\n",
    "# 予測例Bの交差エントロピー\n",
    "-np.mean(np.log(\n",
    "    (p_B * p).apply(np.sum, axis=1)))\n",
    "#> 0.708403356019389"
   ]
  },
  {
   "cell_type": "code",
   "execution_count": null,
   "metadata": {},
   "outputs": [],
   "source": [
    "from sklearn.datasets import load_iris\n",
    "X, y = load_iris(return_X_y=True)\n",
    "\n",
    "from sklearn.utils import shuffle\n",
    "X, y = shuffle(X, y) # シャッフル\n",
    "\n",
    "from sklearn.preprocessing import StandardScaler\n",
    "my_scaler = StandardScaler()\n",
    "X = my_scaler.fit_transform(X) # 標準化\n",
    "# yはそのまま使う．"
   ]
  },
  {
   "cell_type": "code",
   "execution_count": null,
   "metadata": {},
   "outputs": [],
   "source": [
    "from keras.models import Sequential\n",
    "from keras.layers import Dense\n",
    "\n",
    "my_model = Sequential()\n",
    "my_model.add(Dense(units=3, activation='relu', input_dim=4))\n",
    "my_model.add(Dense(units=3, activation='softmax'))"
   ]
  },
  {
   "cell_type": "code",
   "execution_count": null,
   "metadata": {},
   "outputs": [],
   "source": [
    "my_model.compile(loss = 'sparse_categorical_crossentropy',\n",
    "                 optimizer = 'rmsprop',\n",
    "                 metrics = ['accuracy']) # 正解率を記録する．"
   ]
  },
  {
   "cell_type": "code",
   "execution_count": null,
   "metadata": {},
   "outputs": [],
   "source": [
    "from keras.callbacks import EarlyStopping\n",
    "my_cb = [EarlyStopping(patience=20,                  # 訓練停止条件\n",
    "                       restore_best_weights = True)] # 最善を保持\n",
    "\n",
    "my_history = my_model.fit(\n",
    "    x=X,                   # 入力変数\n",
    "    y=y,                   # 出力変数\n",
    "    validation_split=0.25, # 検証データの割合\n",
    "    batch_size=20,         # バッチサイズ\n",
    "    epochs=500,            # エポック数の上限\n",
    "    callbacks=my_cb)       # エポックごとに行う処理"
   ]
  },
  {
   "cell_type": "code",
   "execution_count": null,
   "metadata": {},
   "outputs": [],
   "source": [
    "import matplotlib.pyplot as plt\n",
    "def my_plot_loss_acc(history):\n",
    "    f, (ax1, ax2) = plt.subplots(2, 1, sharex=True)\n",
    "    ax1.plot(history.history['val_loss'], label='validation')\n",
    "    ax1.plot(history.history['loss'], label='training')\n",
    "    ax1.set_ylabel('loss')\n",
    "    ax1.legend()\n",
    "    ax2.plot(history.history['val_accuracy'])\n",
    "    ax2.plot(history.history['accuracy'])\n",
    "    ax2.set_xlabel('epoch')\n",
    "    ax2.set_ylabel('accuracy')\n",
    "\n",
    "my_plot_loss_acc(my_history)"
   ]
  },
  {
   "cell_type": "code",
   "execution_count": null,
   "metadata": {},
   "outputs": [],
   "source": [
    "{k: v[-1] for k, v in my_history.history.items()}\n",
    "#> {'loss': 0.06126071885228157,\n",
    "#>  'accuracy': 0.9910714030265808,\n",
    "#>  'val_loss': 0.09569854289293289,\n",
    "#>  'val_accuracy': 0.9210526347160339}"
   ]
  },
  {
   "cell_type": "code",
   "execution_count": null,
   "metadata": {},
   "outputs": [],
   "source": [
    "my_model.evaluate(x=X, y=y)\n",
    "#> [0.0721130445599556,\n",
    "#>  0.9733333587646484]"
   ]
  },
  {
   "cell_type": "code",
   "execution_count": null,
   "metadata": {},
   "outputs": [],
   "source": [
    "p_A = my_model.predict(X)\n",
    "p_A[0:5]\n",
    "#> array([[5.9782765e-12, 8.6652004e-04, 9.9913353e-01],\n",
    "#>        [1.2191916e-02, 9.6308953e-01, 2.4718598e-02],\n",
    "#>        [1.0000000e+00, 7.4585138e-10, 9.9767018e-12],\n",
    "#>        [6.3189853e-10, 6.3192551e-03, 9.9368072e-01],\n",
    "#>        [9.9999988e-01, 1.7056873e-07, 2.6229992e-09]], dtype=float32)"
   ]
  },
  {
   "cell_type": "code",
   "execution_count": null,
   "metadata": {},
   "outputs": [],
   "source": [
    "import numpy as np\n",
    "# 予測カテゴリ\n",
    "y_A = np.argmax(p_A, axis=1)\n",
    "\n",
    "# 正解率（訓練）\n",
    "(y_A == y).mean()\n",
    "#> 0.9733333587646484"
   ]
  },
  {
   "cell_type": "code",
   "execution_count": null,
   "metadata": {},
   "outputs": [],
   "source": [
    "import pandas as pd\n",
    "p = pd.get_dummies(y)\n",
    "\n",
    "# 交差エントロピー（訓練）\n",
    "-np.mean(np.log(\n",
    "    (p_A * p).apply(np.sum, axis=1)))\n",
    "#> 0.0721130445599556"
   ]
  },
  {
   "cell_type": "code",
   "execution_count": null,
   "metadata": {},
   "outputs": [],
   "source": [
    "from sklearn.datasets import load_iris\n",
    "X, y = load_iris(return_X_y=True)\n",
    "from sklearn.utils import shuffle\n",
    "X, y = shuffle(X, y)\n",
    "\n",
    "import pandas as pd\n",
    "from sklearn.preprocessing import StandardScaler\n",
    "my_scaler = StandardScaler()\n",
    "X = my_scaler.fit_transform(X) # 標準化\n",
    "p = pd.get_dummies(y)          # ワンホットエンコーディング\n",
    "p.head()\n",
    "#>    0  1  2\n",
    "#> 0  0  1  0\n",
    "#> 1  1  0  0\n",
    "#> 2  0  1  0\n",
    "#> 3  1  0  0\n",
    "#> 4  1  0  0"
   ]
  },
  {
   "cell_type": "code",
   "execution_count": null,
   "metadata": {},
   "outputs": [],
   "source": [
    "from keras.models import Sequential\n",
    "from keras.layers import Dense\n",
    "\n",
    "my_model = Sequential()\n",
    "my_model.add(Dense(units=3, activation='relu', input_dim=4))\n",
    "my_model.add(Dense(units=3, activation='softmax'))\n",
    "\n",
    "my_model.compile(loss = 'categorical_crossentropy', # 変更箇所\n",
    "                 optimizer = 'rmsprop',\n",
    "                 metrics = ['accuracy'])"
   ]
  },
  {
   "cell_type": "code",
   "execution_count": null,
   "metadata": {},
   "outputs": [],
   "source": [
    "from keras.callbacks import EarlyStopping\n",
    "my_cb = [EarlyStopping(patience=20,                  # 訓練停止条件\n",
    "                       restore_best_weights = True)] # 最善を保持\n",
    "\n",
    "my_history = my_model.fit(\n",
    "    x=X,                   # 入力変数\n",
    "    y=p,                   # 出力変数\n",
    "    validation_split=0.25, # 検証データの割合\n",
    "    batch_size=20,         # バッチサイズ\n",
    "    epochs=500,            # エポック数の上限\n",
    "    callbacks=my_cb)       # エポックごとに行う処理"
   ]
  },
  {
   "cell_type": "code",
   "execution_count": null,
   "metadata": {},
   "outputs": [],
   "source": [
    "my_model.evaluate(x=X, y=p)\n",
    "#> [0.10981836915016174,\n",
    "#>  0.9599999785423279]"
   ]
  },
  {
   "cell_type": "code",
   "execution_count": null,
   "metadata": {},
   "outputs": [],
   "source": [
    "# 正解カテゴリ\n",
    "import numpy as np\n",
    "y = np.argmax(np.array(p), axis=1)\n",
    "\n",
    "# 予測確率\n",
    "p_A = my_model.predict(X)\n",
    "\n",
    "# 予測カテゴリ\n",
    "y_A = np.argmax(p_A, axis=1)\n",
    "\n",
    "# 正解率（訓練）\n",
    "(y_A == y).mean()\n",
    "#> 0.96\n",
    "\n",
    "# 交差エントロピー（訓練）\n",
    "-np.mean(np.log(\n",
    "    (p_A * p).apply(np.sum, axis=1)))\n",
    "#> 0.10981837166945979"
   ]
  }
 ],
 "nbformat": 4,
 "nbformat_minor": 5,
 "metadata": {
  "kernelspec": {
   "name": "python3",
   "display_name": "Python 3"
  }
 }
}
