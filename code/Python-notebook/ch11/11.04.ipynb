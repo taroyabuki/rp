{
 "cells": [
  {
   "cell_type": "code",
   "execution_count": null,
   "metadata": {},
   "outputs": [],
   "source": [
    "import pandas as pd\n",
    "my_url = 'https://raw.githubusercontent.com/taroyabuki/fromzero/master/data/titanic.csv'\n",
    "tmp = pd.read_csv(my_url)\n",
    "tmp2 = pd.get_dummies(tmp, drop_first=True)\n",
    "tmp2.head()\n",
    "#>    Class_2nd  Class_3rd  Class_Crew  Sex_Male  Age_Child  Survived_Yes\n",
    "#> 0          0          0           0         1          1             1\n",
    "#> 1          0          0           0         1          1             1\n",
    "#> 2          0          0           0         1          1             1\n",
    "#> 3          0          0           0         1          1             1\n",
    "#> 4          0          0           0         1          1             1\n",
    "\n",
    "from sklearn.utils import shuffle\n",
    "my_data = shuffle(tmp2) # シャッフル\n",
    "X = my_data.iloc[:, 0:5] # 入力変数\n",
    "y = my_data.iloc[:, 5]   # 出力変数"
   ]
  },
  {
   "cell_type": "code",
   "execution_count": null,
   "metadata": {},
   "outputs": [],
   "source": [
    "from keras.models import Sequential\n",
    "from keras.layers import Dense\n",
    "\n",
    "my_model = Sequential()\n",
    "my_model.add(Dense(units=5, activation='relu', input_dim=5))\n",
    "my_model.add(Dense(units=1, activation='sigmoid')) # 変更箇所1"
   ]
  },
  {
   "cell_type": "code",
   "execution_count": null,
   "metadata": {},
   "outputs": [],
   "source": [
    "my_model.compile(loss = 'binary_crossentropy', # 変更箇所2\n",
    "                 optimizer = 'rmsprop',\n",
    "                 metrics = ['accuracy'])"
   ]
  },
  {
   "cell_type": "code",
   "execution_count": null,
   "metadata": {},
   "outputs": [],
   "source": [
    "from keras.callbacks import EarlyStopping\n",
    "my_cb = [EarlyStopping(patience=20,                  # 訓練停止条件\n",
    "                       restore_best_weights = True)] # 最善を保持\n",
    "\n",
    "my_history = my_model.fit(\n",
    "    x=X,                   # 入力変数\n",
    "    y=y,                   # 出力変数\n",
    "    validation_split=0.25, # 検証データの割合\n",
    "    batch_size=20,         # バッチサイズ\n",
    "    epochs=500,            # エポック数の上限\n",
    "    callbacks=my_cb)       # エポックごとに行う処理"
   ]
  },
  {
   "cell_type": "code",
   "execution_count": null,
   "metadata": {},
   "outputs": [],
   "source": [
    "my_model.evaluate(x=X, y=y)\n",
    "#> [0.4836958348751068,\n",
    "#>  0.7891867160797119]"
   ]
  },
  {
   "cell_type": "code",
   "execution_count": null,
   "metadata": {},
   "outputs": [],
   "source": [
    "# 予測確率\n",
    "p_A = my_model.predict(X)[:, 0]\n",
    "\n",
    "# 予測カテゴリ\n",
    "y_A = p_A > 0.5\n",
    "\n",
    "# 正解率（訓練）\n",
    "(y_A == y).mean()\n",
    "#> 0.7891867333030441\n",
    "\n",
    "# 交差エントロピー（訓練）\n",
    "import numpy as np\n",
    "-np.mean(np.log(\n",
    "    p_A * y + (1 - p_A) * (y != 1)))\n",
    "#> 0.4836979806423187"
   ]
  }
 ],
 "nbformat": 4,
 "nbformat_minor": 5,
 "metadata": {
  "kernelspec": {
   "name": "python3",
   "display_name": "Python 3"
  }
 }
}
