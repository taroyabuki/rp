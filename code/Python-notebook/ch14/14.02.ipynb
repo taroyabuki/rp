{
 "cells": [
  {
   "cell_type": "code",
   "execution_count": null,
   "metadata": {},
   "outputs": [],
   "source": [
    "import pandas as pd\n",
    "my_data = pd.DataFrame(\n",
    "    {'x': [0, -16, 10, 10],\n",
    "     'y': [0, 0, 10, -15]},\n",
    "    index=['A', 'B', 'C', 'D'])\n",
    "\n",
    "from scipy.spatial import distance\n",
    "\n",
    "# ユークリッド距離\n",
    "distance.cdist(my_data, my_data)\n",
    "# あるいは\n",
    "distance.cdist(my_data, my_data, metric='euclidean')\n",
    "#> array([[ 0.        , 16.        , 14.14213562, 18.02775638],\n",
    "#>        [16.        ,  0.        , 27.85677655, 30.01666204],\n",
    "#>        [14.14213562, 27.85677655,  0.        , 25.        ],\n",
    "#>        [18.02775638, 30.01666204, 25.        ,  0.        ]])\n",
    "\n",
    "# マンハッタン距離\n",
    "distance.cdist(my_data, my_data, metric='cityblock')\n",
    "#> array([[ 0., 16., 20., 25.],\n",
    "#>        [16.,  0., 36., 41.],\n",
    "#>        [20., 36.,  0., 25.],\n",
    "#>        [25., 41., 25.,  0.]])"
   ]
  },
  {
   "cell_type": "markdown",
   "metadata": {},
   "source": [
    "#### 14.2.2.2 Pythonの場合"
   ]
  },
  {
   "cell_type": "code",
   "execution_count": null,
   "metadata": {},
   "outputs": [],
   "source": [
    "import pandas as pd\n",
    "my_data = pd.DataFrame(\n",
    "    {'x': [0, -16, 10, 10],\n",
    "     'y': [0, 0, 10, -15]},\n",
    "    index=['A', 'B', 'C', 'D'])\n",
    "\n",
    "# クラスター分析\n",
    "from scipy.cluster import hierarchy\n",
    "my_result = hierarchy.linkage(my_data)\n",
    "# あるいは\n",
    "my_result = hierarchy.linkage(my_data, metric='euclidean', method='complete')\n",
    "\n",
    "# デンドログラムの描画\n",
    "hierarchy.dendrogram(my_result, labels=my_data.index)\n",
    "\n",
    "# クラスター数を3にする場合に，各点がどのクラスターに属しているかを確認する．\n",
    "hierarchy.cut_tree(my_result, 3)\n",
    "#> array([[0],\n",
    "#>        [1],\n",
    "#>        [0],\n",
    "#>        [2]])"
   ]
  },
  {
   "cell_type": "markdown",
   "metadata": {},
   "source": [
    "#### 14.2.3.2 Pythonの場合"
   ]
  },
  {
   "cell_type": "code",
   "execution_count": null,
   "metadata": {},
   "outputs": [],
   "source": [
    "import pandas as pd\n",
    "my_data = pd.DataFrame(\n",
    "    {'language': (  0, 20, 20, 25, 22, 17),\n",
    "     'english':  (  0, 20, 40, 20, 24, 18),\n",
    "     'math':     (100, 20,  5, 30, 17, 25),\n",
    "     'science':  (  0, 20,  5, 25, 16, 23),\n",
    "     'society':  (  0, 20, 30,  0, 21, 17)},\n",
    "    index=['A', 'B', 'C', 'D', 'E', 'F'])\n",
    "\n",
    "import seaborn as sns\n",
    "sns.clustermap(my_data,\n",
    "               z_score=1, # 列ごとの標準化\n",
    "               metric='euclidean',\n",
    "               method='complete')"
   ]
  },
  {
   "cell_type": "markdown",
   "metadata": {},
   "source": [
    "#### 14.2.4.2 Pythonの場合"
   ]
  },
  {
   "cell_type": "code",
   "execution_count": null,
   "metadata": {},
   "outputs": [],
   "source": [
    "import pandas as pd\n",
    "my_data = pd.DataFrame(\n",
    "    {'x': [0, -16, 10, 10],\n",
    "     'y': [0, 0, 10, -15]},\n",
    "    index=['A', 'B', 'C', 'D'])\n",
    "\n",
    "# クラスター数を3として，非階層的クラスター分析を行う．\n",
    "from sklearn.cluster import KMeans\n",
    "my_result = KMeans(n_clusters=3).fit(my_data)\n",
    "\n",
    "# 各データがどのクラスターに属しているかを確認する．\n",
    "my_result.labels_\n",
    "#> array([1, 0, 1, 2], dtype=int32)"
   ]
  },
  {
   "cell_type": "code",
   "execution_count": null,
   "metadata": {},
   "outputs": [],
   "source": [
    "# アヤメのデータ\n",
    "import statsmodels.api as sm\n",
    "iris = sm.datasets.get_rdataset('iris', 'datasets').data\n",
    "my_data = iris.iloc[:, 0:4]\n",
    "\n",
    "# 階層的クラスター分析\n",
    "#from scipy.cluster import hierarchy\n",
    "#my_hc = hierarchy.linkage(my_data)\n",
    "#my_data.index = hierarchy.cut_tree(my_hc, 3)[:,0] # 結果の保存\n",
    "\n",
    "# 非階層的クラスター分析\n",
    "from sklearn.cluster import KMeans\n",
    "my_data.index = KMeans(n_clusters=3).fit(my_data).labels_ # 結果の保存\n",
    "\n",
    "# 主成分分析\n",
    "from pca import pca\n",
    "my_model = pca(n_components=4)\n",
    "my_result = my_model.fit_transform(my_data)\n",
    "\n",
    "# バイプロット\n",
    "my_model.biplot()"
   ]
  }
 ],
 "nbformat": 4,
 "nbformat_minor": 5,
 "metadata": {
  "kernelspec": {
   "name": "python3",
   "display_name": "Python 3"
  }
 }
}
