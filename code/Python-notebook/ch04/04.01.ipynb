{
 "cells": [
  {
   "cell_type": "code",
   "execution_count": null,
   "metadata": {},
   "outputs": [],
   "source": [
    "x = [165, 170, 175, 180, 185]\n",
    "import numpy as np\n",
    "np.mean(x) # リストの場合（アレイ・シリーズも可）\n",
    "#> 175.0\n",
    "\n",
    "x = np.array([165, 170, 175, 180, 185])\n",
    "x.mean() # アレイの場合\n",
    "#> 175.0\n",
    "\n",
    "import pandas as pd\n",
    "x = pd.Series([165, 170, 175, 180, 185])\n",
    "x.mean() # シリーズの場合\n",
    "#> 175.0"
   ]
  },
  {
   "cell_type": "code",
   "execution_count": null,
   "metadata": {},
   "outputs": [],
   "source": [
    "np.sum(x) / len(x) # 平均（その2）\n",
    "#> "
   ]
  },
  {
   "cell_type": "code",
   "execution_count": null,
   "metadata": {},
   "outputs": [],
   "source": [
    "x - np.mean(x)\n",
    "#> array([-10.,  -5.,   0.,   5.,  10.])"
   ]
  },
  {
   "cell_type": "code",
   "execution_count": null,
   "metadata": {},
   "outputs": [],
   "source": [
    "np.mean(x - np.mean(x))\n",
    "#> 0.0"
   ]
  },
  {
   "cell_type": "code",
   "execution_count": null,
   "metadata": {},
   "outputs": [],
   "source": [
    "np.mean((x - np.mean(x)) ** 2)\n",
    "#> 50.0"
   ]
  },
  {
   "cell_type": "code",
   "execution_count": null,
   "metadata": {},
   "outputs": [],
   "source": [
    "np.sqrt(np.mean((x - np.mean(x)) ** 2))\n",
    "#> 7.0710678118654755"
   ]
  },
  {
   "cell_type": "code",
   "execution_count": null,
   "metadata": {},
   "outputs": [],
   "source": [
    "y = [173, 174, 175, 176, 177]\n",
    "\n",
    "np.mean(y)\n",
    "#> 175.0 # 平均\n",
    "\n",
    "np.sqrt(np.mean((y - np.mean(y)) ** 2))\n",
    "#> 1.4142135623730951 # 標準偏差"
   ]
  },
  {
   "cell_type": "code",
   "execution_count": null,
   "metadata": {},
   "outputs": [],
   "source": [
    "np.var(x) # 分散\n",
    "#> 50.0\n",
    "\n",
    "np.std(x) # 標準偏差\n",
    "#> 7.0710678118654755"
   ]
  },
  {
   "cell_type": "code",
   "execution_count": null,
   "metadata": {},
   "outputs": [],
   "source": [
    "np.var(x, ddof=1) # 不偏分散\n",
    "#> 62.5\n",
    "\n",
    "np.std(x, ddof=1) # 平方根\n",
    "#> 7.905694150420948"
   ]
  },
  {
   "cell_type": "code",
   "execution_count": null,
   "metadata": {},
   "outputs": [],
   "source": [
    "np.var(x) # 不偏でない分散\n",
    "#> 50.0\n",
    "\n",
    "np.std(x) # 平方根\n",
    "#> 7.0710678118654755"
   ]
  },
  {
   "cell_type": "code",
   "execution_count": null,
   "metadata": {},
   "outputs": [],
   "source": [
    "import pandas as pd\n",
    "s = pd.Series(x)\n",
    "s.describe()\n",
    "#> count      5.000000 （データ数）\n",
    "#> mean     175.000000 （平均）\n",
    "#> std        7.905694 （不偏分散の平方根）\n",
    "#> min      165.000000 （最小値）\n",
    "#> 25%      170.000000 （第1四分位数）\n",
    "#> 50%      175.000000 （中央値）\n",
    "#> 75%      180.000000 （第2四分位数）\n",
    "#> max      185.000000 （最大値）\n",
    "#> dtype: float64"
   ]
  },
  {
   "cell_type": "code",
   "execution_count": null,
   "metadata": {},
   "outputs": [],
   "source": [
    "# s.describe()で計算済み"
   ]
  },
  {
   "cell_type": "code",
   "execution_count": null,
   "metadata": {},
   "outputs": [],
   "source": [
    "my_df = pd.DataFrame({\n",
    "    'english': [60, 90, 70, 90],\n",
    "    'math': [70, 80, 90, 100]})\n",
    "my_df.describe()\n",
    "\n",
    "#>        english        math\n",
    "#> count      4.0    4.000000\n",
    "#> mean      77.5   85.000000\n",
    "#> std       15.0   12.909944\n",
    "# 以下省略"
   ]
  },
  {
   "cell_type": "code",
   "execution_count": null,
   "metadata": {},
   "outputs": [],
   "source": [
    "import pandas as pd\n",
    "from sklearn.datasets import load_iris\n",
    "data = load_iris()\n",
    "iris = pd.DataFrame(data['data'], columns=data['feature_names'])\n",
    "iris['target'] = [data['target_names'][i] for i in data['target']]\n",
    "iris.head()\n",
    "#>    sepal length (cm)  sepal width (cm)  petal length (cm)  petal width (cm)  target\n",
    "#> 0                5.1               3.5                1.4               0.2  setosa\n",
    "#> 1                4.9               3.0                1.4               0.2  setosa\n",
    "#> 2                4.7               3.2                1.3               0.2  setosa\n",
    "#> 3                4.6               3.1                1.5               0.2  setosa\n",
    "#> 4                5.0               3.6                1.4               0.2  setosa"
   ]
  },
  {
   "cell_type": "code",
   "execution_count": null,
   "metadata": {},
   "outputs": [],
   "source": [
    "iris.hist('sepal length (cm)')"
   ]
  },
  {
   "cell_type": "code",
   "execution_count": null,
   "metadata": {},
   "outputs": [],
   "source": [
    "import matplotlib.pyplot as plt\n",
    "\n",
    "x = [1, 2, 3]\n",
    "plt.hist(x, bins=2) # 階級数は2"
   ]
  },
  {
   "cell_type": "code",
   "execution_count": null,
   "metadata": {},
   "outputs": [],
   "source": [
    "iris.boxplot()"
   ]
  },
  {
   "cell_type": "code",
   "execution_count": null,
   "metadata": {},
   "outputs": [],
   "source": [
    "iris.describe()\n",
    "#>        sepal length (cm)  sepal width (cm)  petal length (cm)  petal width (cm)\n",
    "#> count         150.000000        150.000000         150.000000        150.000000\n",
    "#> mean            5.843333          3.057333           3.758000          1.199333\n",
    "#> std             0.828066          0.435866           1.765298          0.762238\n",
    "#> min             4.300000          2.000000           1.000000          0.100000\n",
    "#> 25%             5.100000          2.800000           1.600000          0.300000\n",
    "#> 50%             5.800000          3.000000           4.350000          1.300000\n",
    "#> 75%             6.400000          3.300000           5.100000          1.800000\n",
    "#> max             7.900000          4.400000           6.900000          2.500000"
   ]
  },
  {
   "cell_type": "code",
   "execution_count": null,
   "metadata": {},
   "outputs": [],
   "source": [
    "iris.boxplot('sepal length (cm)',\n",
    "             by='target')"
   ]
  },
  {
   "cell_type": "code",
   "execution_count": null,
   "metadata": {},
   "outputs": [],
   "source": [
    "コメントY：お願いします．"
   ]
  },
  {
   "cell_type": "code",
   "execution_count": null,
   "metadata": {},
   "outputs": [],
   "source": [
    "iris.plot('sepal length (cm)',\n",
    "          'sepal width (cm)',\n",
    "          kind='scatter')"
   ]
  },
  {
   "cell_type": "code",
   "execution_count": null,
   "metadata": {},
   "outputs": [],
   "source": [
    "import numpy as np\n",
    "x = np.arange(-2, 2, 0.1)\n",
    "y = x**3 - x\n",
    "import matplotlib.pyplot as plt\n",
    "plt.plot(x, y)"
   ]
  }
 ],
 "nbformat": 4,
 "nbformat_minor": 5,
 "metadata": {
  "kernelspec": {
   "name": "python3",
   "display_name": "Python 3"
  }
 }
}
