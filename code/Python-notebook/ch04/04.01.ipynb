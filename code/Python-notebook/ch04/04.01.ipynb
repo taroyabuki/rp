{
 "cells": [
  {
   "cell_type": "code",
   "execution_count": null,
   "metadata": {},
   "outputs": [],
   "source": [
    "import numpy as np\n",
    "import pandas as pd\n",
    "\n",
    "x = [165, 170, 175, 180, 185]\n",
    "np.mean(x) # リストの場合\n",
    "#> 175.0\n",
    "\n",
    "x = np.array([165, 170, 175, 180, 185])\n",
    "x.mean() # アレイの場合（np.mean(x)も可）\n",
    "#> 175.0\n",
    "\n",
    "x = pd.Series([165, 170, 175, 180, 185])\n",
    "x.mean() # シリーズの場合（np.mean(x)も可）\n",
    "#> 175.0"
   ]
  },
  {
   "cell_type": "code",
   "execution_count": null,
   "metadata": {},
   "outputs": [],
   "source": [
    "n = len(x) # 標本の大きさ\n",
    "sum(x) / n\n",
    "#> 175.0"
   ]
  },
  {
   "cell_type": "code",
   "execution_count": null,
   "metadata": {},
   "outputs": [],
   "source": [
    "y = [173, 174, 175, 176, 177]\n",
    "np.mean(y)\n",
    "#> 175.0"
   ]
  },
  {
   "cell_type": "code",
   "execution_count": null,
   "metadata": {},
   "outputs": [],
   "source": [
    "np.var(x) # xの分散\n",
    "#> 50.0\n",
    "\n",
    "np.var(y) # yの分散\n",
    "#> 2.0"
   ]
  },
  {
   "cell_type": "code",
   "execution_count": null,
   "metadata": {},
   "outputs": [],
   "source": [
    "sum((x - np.mean(x))**2) / n # 分散\n",
    "#> 50.0"
   ]
  },
  {
   "cell_type": "code",
   "execution_count": null,
   "metadata": {},
   "outputs": [],
   "source": [
    "np.std(x) # xの標準偏差\n",
    "#> 7.0710678118654755\n",
    "\n",
    "np.std(y) # yの標準偏差\n",
    "#> 1.4142135623730951"
   ]
  },
  {
   "cell_type": "code",
   "execution_count": null,
   "metadata": {},
   "outputs": [],
   "source": [
    "np.var(x)**0.5 # xの標準偏差\n",
    "#> 7.0710678118654755"
   ]
  },
  {
   "cell_type": "code",
   "execution_count": null,
   "metadata": {},
   "outputs": [],
   "source": [
    "s = pd.Series(x)\n",
    "s.describe()\n",
    "#> count      5.000000 （データ数）\n",
    "#> mean     175.000000 （平均）\n",
    "#> std        7.905694 （標準偏差）\n",
    "#> min      165.000000 （最小値）\n",
    "#> 25%      170.000000 （第1四分位数）\n",
    "#> 50%      175.000000 （中央値）\n",
    "#> 75%      180.000000 （第2四分位数）\n",
    "#> max      185.000000 （最大値）\n",
    "#> dtype: float64"
   ]
  },
  {
   "cell_type": "code",
   "execution_count": null,
   "metadata": {},
   "outputs": [],
   "source": [
    "# s.describe()で計算済み"
   ]
  },
  {
   "cell_type": "code",
   "execution_count": null,
   "metadata": {},
   "outputs": [],
   "source": [
    "my_df = pd.DataFrame({\n",
    "    'english': [60, 90, 70,  90],\n",
    "    'math':    [70, 80, 90, 100]})\n",
    "my_df.describe()\n",
    "#>        english        math\n",
    "#> count      4.0    4.000000\n",
    "#> mean      77.5   85.000000\n",
    "#> std       15.0   12.909944\n",
    "# 以下省略"
   ]
  },
  {
   "cell_type": "code",
   "execution_count": null,
   "metadata": {},
   "outputs": [],
   "source": [
    "x = [165, 170, 175, 180, 185]\n",
    "n = len(x)\n",
    "\n",
    "np.var(x)\n",
    "# あるいは\n",
    "np.var(x, ddof=0)\n",
    "#> 50.0\n",
    "\n",
    "np.var(x, ddof=1)\n",
    "# あるいは\n",
    "np.var(x) * n / (n - 1)\n",
    "#> 62.5"
   ]
  },
  {
   "cell_type": "code",
   "execution_count": null,
   "metadata": {},
   "outputs": [],
   "source": [
    "# 不偏分散の平方根\n",
    "np.std(x, ddof=1)\n",
    "# あるいは\n",
    "np.sqrt(n / (n - 1)) * np.std(x)\n",
    "#> 7.905694150420949\n",
    "\n",
    "# 標準偏差'\n",
    "np.std(x)\n",
    "# あるいは\n",
    "np.std(x, ddof=0)\n",
    "#> 7.0710678118654755"
   ]
  },
  {
   "cell_type": "code",
   "execution_count": null,
   "metadata": {},
   "outputs": [],
   "source": [
    "np.std(x, ddof = 1) / len(x)**0.5\n",
    "#> 3.5355339059327373"
   ]
  },
  {
   "cell_type": "code",
   "execution_count": null,
   "metadata": {},
   "outputs": [],
   "source": [
    "import pandas as pd\n",
    "\n",
    "my_df = pd.DataFrame({\n",
    "    'name':    ['A', 'B', 'C', 'D'],\n",
    "    'english': [ 60,  90,  70,  90],\n",
    "    'math':    [ 70,  80,  90, 100],\n",
    "    'gender':  ['f', 'm', 'm', 'f']})"
   ]
  },
  {
   "cell_type": "code",
   "execution_count": null,
   "metadata": {},
   "outputs": [],
   "source": [
    "my_df['english'].var()\n",
    "# あるいは\n",
    "np.var(my_df['english'], ddof=1)\n",
    "\n",
    "#> 225.0"
   ]
  },
  {
   "cell_type": "code",
   "execution_count": null,
   "metadata": {},
   "outputs": [],
   "source": [
    "my_df.var()\n",
    "# あるいは\n",
    "my_df.agg('var')\n",
    "\n",
    "#> english    225.000000\n",
    "#> math       166.666667\n",
    "#> dtype: float64"
   ]
  },
  {
   "cell_type": "code",
   "execution_count": null,
   "metadata": {},
   "outputs": [],
   "source": [
    "my_df.iloc[:, [1,2]].agg(\n",
    "    lambda x: np.std(x, ddof=1) /\n",
    "    len(x)**0.5)\n",
    "#> english    7.500000\n",
    "#> math       6.454972\n",
    "#> dtype: float64"
   ]
  },
  {
   "cell_type": "code",
   "execution_count": null,
   "metadata": {},
   "outputs": [],
   "source": [
    "my_df.describe()\n",
    "#>        english        math\n",
    "#> count      4.0    4.000000\n",
    "#> mean      77.5   85.000000\n",
    "#> std       15.0   12.909944\n",
    "#> min       60.0   70.000000\n",
    "#> 25%       67.5   77.500000\n",
    "#> 50%       80.0   85.000000\n",
    "#> 75%       90.0   92.500000\n",
    "#> max       90.0  100.000000"
   ]
  },
  {
   "cell_type": "code",
   "execution_count": null,
   "metadata": {},
   "outputs": [],
   "source": []
  },
  {
   "cell_type": "code",
   "execution_count": null,
   "metadata": {},
   "outputs": [],
   "source": []
  },
  {
   "cell_type": "code",
   "execution_count": null,
   "metadata": {},
   "outputs": [],
   "source": [
    "my_df.groupby('gender').count()\n",
    "# あるいは\n",
    "my_df.groupby('gender').agg(len)\n",
    "\n",
    "#>         name  english  math\n",
    "#> gender\n",
    "#> f          2        2     2\n",
    "#> m          2        2     2"
   ]
  },
  {
   "cell_type": "code",
   "execution_count": null,
   "metadata": {},
   "outputs": [],
   "source": [
    "my_df.groupby('gender').mean()\n",
    "# あるいは\n",
    "my_df.groupby('gender').agg('mean')\n",
    "\n",
    "#>         english  math\n",
    "#> gender\n",
    "#> f          75.0  85.0\n",
    "#> m          80.0  85.0"
   ]
  },
  {
   "cell_type": "code",
   "execution_count": null,
   "metadata": {},
   "outputs": [],
   "source": [
    "my_df.groupby('gender').agg(\n",
    "    lambda x: x.std() /\n",
    "    len(x)**0.5)\n",
    "#>         english  math\n",
    "#> gender\n",
    "#> f            15    15\n",
    "#> m            10     5"
   ]
  }
 ],
 "nbformat": 4,
 "nbformat_minor": 5,
 "metadata": {
  "kernelspec": {
   "name": "python3",
   "display_name": "Python 3"
  }
 }
}
