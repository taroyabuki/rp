{
 "cells": [
  {
   "cell_type": "code",
   "execution_count": null,
   "metadata": {},
   "outputs": [],
   "source": [
    "from statsmodels.stats.proportion import binom_test\n",
    "binom_test(count=2,   # 当たった回数\n",
    "           nobs=15,   # くじを引いた回数\n",
    "           prop=4/10) # 当たる確率（仮説）\n",
    "#> 0.03646166155263999"
   ]
  },
  {
   "cell_type": "markdown",
   "metadata": {},
   "source": [
    "### 4.4.2 推定"
   ]
  },
  {
   "cell_type": "code",
   "execution_count": null,
   "metadata": {},
   "outputs": [],
   "source": [
    "from statsmodels.stats.proportion import proportion_confint\n",
    "\n",
    "proportion_confint(count=2,             # 当たった回数\n",
    "                   nobs=15,             # くじを引いた回数\n",
    "                   alpha=0.05,          # 有意水準（省略可）\n",
    "                   method='binom_test') # 手法（両側p値）\n",
    "#> (0.024225732468536626, 0.3967139842509865)\n",
    "\n",
    "proportion_confint(count=2,             # 当たった回数\n",
    "                   nobs=15,             # くじを引いた回数\n",
    "                   alpha=0.05,          # 有意水準（省略可）\n",
    "                   method='beta')       # 手法（片側p値の2倍）\n",
    "#> (0.016575913440083623, 0.4046026966033721)"
   ]
  },
  {
   "cell_type": "code",
   "execution_count": null,
   "metadata": {},
   "outputs": [],
   "source": [
    "X = [32.1, 26.2, 27.5, 31.8, 32.1, 31.2, 30.1, 32.4, 32.3, 29.9, 29.6,\n",
    "     26.6, 31.2, 30.9, 29.3]\n",
    "Y = [35.4, 34.6, 31.1, 32.4, 33.3, 34.7, 35.3, 34.3, 32.1, 28.3, 33.3,\n",
    "     30.5, 32.6, 33.3, 32.2]\n",
    "\n",
    "from statsmodels.stats.weightstats import CompareMeans, DescrStatsW\n",
    "a = 0.05          # 有意水準（デフォルト） = 1 - 信頼係数\n",
    "alt = 'two-sided' # 両側検定（デフォルト）\n",
    "                  # 左片側検定なら'smaller'\n",
    "                  # 右片側検定なら'larger'\n",
    "\n",
    "d = DescrStatsW(X - Y)           # 対標本の場合\n",
    "d.ttest_mean(alternative=alt)[1] # p値\n",
    "#> 0.0006415571512322235\n",
    "\n",
    "d.tconfint_mean(alpha=a, alternative=alt) # 信頼区間\n",
    "#> (-3.9955246743198867, -1.3644753256801117)"
   ]
  },
  {
   "cell_type": "code",
   "execution_count": null,
   "metadata": {},
   "outputs": [],
   "source": [
    "c = CompareMeans(DescrStatsW(X), DescrStatsW(Y)) #対標本でない場合\n",
    "\n",
    "ve = 'pooled' # 等分散を仮定する（デフォルト）．仮定しないなら'unequal'．\n",
    "c.ttest_ind(alternative=alt, usevar=ve)[1] # p値\n",
    "#> 0.000978530937238609\n",
    "\n",
    "c.tconfint_diff(alpha=a, alternative=alt, usevar=ve) # 信頼区間\n",
    "#> (-4.170905570517185, -1.1890944294828283)"
   ]
  },
  {
   "cell_type": "code",
   "execution_count": null,
   "metadata": {},
   "outputs": [],
   "source": [
    "import pandas as pd\n",
    "my_url = ('https://raw.githubusercontent.com/taroyabuki/' +\n",
    "          '/fromzero/master/data/smoker.csv')\n",
    "my_data = pd.read_csv(my_url)"
   ]
  },
  {
   "cell_type": "code",
   "execution_count": null,
   "metadata": {},
   "outputs": [],
   "source": [
    "my_data.head()\n",
    "#>   alive smoker\n",
    "#> 0   Yes     No\n",
    "#> 1   Yes     No\n",
    "#> 2   Yes     No\n",
    "#> 3   Yes     No\n",
    "#> 4   Yes     No\n",
    "\n",
    "my_table = pd.crosstab(\n",
    "    my_data['alive'],\n",
    "    my_data['smoker'])\n",
    "my_table\n",
    "#> smoker   No  Yes\n",
    "#> alive\n",
    "#> No      117   54\n",
    "#> Yes     950  348"
   ]
  },
  {
   "cell_type": "code",
   "execution_count": null,
   "metadata": {},
   "outputs": [],
   "source": [
    "from scipy.stats import chi2_contingency\n",
    "chi2_contingency(my_table, correction = False)[1]\n",
    "#> 0.18860725715300422"
   ]
  },
  {
   "cell_type": "code",
   "execution_count": null,
   "metadata": {},
   "outputs": [],
   "source": [
    "X = [0] * 13 + [1] * 2 # 手順1\n",
    "X\n",
    "#> [0, 0, 0, 0, 0, 0, 0, 0, 0, 0, 0, 0, 0, 1, 1]\n",
    "\n",
    "tmp = np.random.choice(X, 15, replace=True) # 手順2\n",
    "tmp\n",
    "#> array([0, 0, 0, 0, 0, 0, 0, 1, 0, 0, 0, 0, 1, 0, 0])\n",
    "\n",
    "sum(tmp) # 手順3\n",
    "#> 2\n",
    "\n",
    "n = 10**5\n",
    "result = [sum(np.random.choice(X, len(X), replace=True)) # 手順4\n",
    "            for _ in range(n)]"
   ]
  },
  {
   "cell_type": "code",
   "execution_count": null,
   "metadata": {},
   "outputs": [],
   "source": [
    "import matplotlib.pyplot as plt\n",
    "plt.hist(result,\n",
    "         bins=range(0, 16))"
   ]
  },
  {
   "cell_type": "code",
   "execution_count": null,
   "metadata": {},
   "outputs": [],
   "source": [
    "np.quantile(result, [0.025, 0.975])\n",
    "#> array([0., 5.])"
   ]
  },
  {
   "cell_type": "code",
   "execution_count": null,
   "metadata": {},
   "outputs": [],
   "source": [
    "import numpy as np\n",
    "X = [32.1, 26.2, 27.5, 31.8, 32.1, 31.2, 30.1, 32.4, 32.3, 29.9, 29.6,\n",
    "     26.6, 31.2, 30.9, 29.3]\n",
    "Y = [35.4, 34.6, 31.1, 32.4, 33.3, 34.7, 35.3, 34.3, 32.1, 28.3, 33.3,\n",
    "     30.5, 32.6, 33.3, 32.2]\n",
    "Z = np.array(X) - np.array(Y) # 対標本として扱う．\n",
    "\n",
    "n = 10**5\n",
    "result = [np.random.choice(Z, len(Z), replace=True).mean() for _ in range(n)]\n",
    "\n",
    "np.quantile(result, [0.025, 0.975])\n",
    "#> array([-3.88666667, -1.55333333])"
   ]
  },
  {
   "cell_type": "code",
   "execution_count": null,
   "metadata": {},
   "outputs": [],
   "source": [
    "import matplotlib.pyplot as plt\n",
    "plt.hist(result, bins='sturges')"
   ]
  },
  {
   "cell_type": "code",
   "execution_count": null,
   "metadata": {},
   "outputs": [],
   "source": [
    "result = [np.random.choice(X, len(X), replace=True).mean() -\n",
    "          np.random.choice(Y, len(Y), replace=True).mean()\n",
    "          for _ in range(n)]\n",
    "\n",
    "np.quantile(result, [0.025, 0.975])\n",
    "#> array([-4.06, -1.3 ])"
   ]
  }
 ],
 "nbformat": 4,
 "nbformat_minor": 5,
 "metadata": {
  "kernelspec": {
   "name": "python3",
   "display_name": "Python 3"
  }
 }
}
