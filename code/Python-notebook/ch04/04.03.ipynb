{
 "cells": [
  {
   "cell_type": "markdown",
   "metadata": {},
   "source": [
    "## 4.3 乱数"
   ]
  },
  {
   "cell_type": "code",
   "execution_count": null,
   "metadata": {},
   "outputs": [],
   "source": [
    "import matplotlib.pyplot as plt\n",
    "import numpy as np"
   ]
  },
  {
   "cell_type": "code",
   "execution_count": null,
   "metadata": {},
   "outputs": [],
   "source": [
    "x = np.random.randint(\n",
    "      1,     # 最小\n",
    "      7,     # 最大+1\n",
    "      10000) # 個数\n",
    "# あるいは\n",
    "x = np.random.choice(\n",
    "      range(1, 7), # 1から6\n",
    "      10000,       # 個数\n",
    "      True)        # 重複あり\n",
    "plt.hist(x, bins=6) # ヒストグラム"
   ]
  },
  {
   "cell_type": "code",
   "execution_count": null,
   "metadata": {},
   "outputs": [],
   "source": [
    "x = np.random.uniform(0, 1, 1000)\n",
    "# あるいは\n",
    "x = np.random.random(1000)\n",
    "plt.hist(x)"
   ]
  },
  {
   "cell_type": "code",
   "execution_count": null,
   "metadata": {},
   "outputs": [],
   "source": [
    "tmp = np.random.uniform(1, 7, 1000)\n",
    "x = np.array(tmp, dtype=int)\n",
    "plt.hist(x, bins=6) # 結果は割愛"
   ]
  },
  {
   "cell_type": "code",
   "execution_count": null,
   "metadata": {},
   "outputs": [],
   "source": [
    "x = np.random.binomial(100, 0.5, 1000)\n",
    "plt.hist(x)"
   ]
  },
  {
   "cell_type": "code",
   "execution_count": null,
   "metadata": {},
   "outputs": [],
   "source": [
    "x = np.random.normal(165, 10, 1000)\n",
    "plt.hist(x)"
   ]
  },
  {
   "cell_type": "code",
   "execution_count": null,
   "metadata": {},
   "outputs": [],
   "source": [
    "n = 10000\n",
    "x = [np.random.normal(\n",
    "    size=5, scale=3).var()\n",
    "    for i in range(n)]\n",
    "\n",
    "np.mean(x)\n",
    "#> 7.16166215199147\n",
    "\n",
    "plt.hist(x, bins=14)"
   ]
  },
  {
   "cell_type": "code",
   "execution_count": null,
   "metadata": {},
   "outputs": [],
   "source": [
    "x = [np.random.normal(\n",
    "    size=5, scale=3).std(ddof=1)\n",
    "    for i in range(n)]\n",
    "\n",
    "np.mean(x)\n",
    "#> 2.797564339614321"
   ]
  }
 ],
 "nbformat": 4,
 "nbformat_minor": 5,
 "metadata": {
  "kernelspec": {
   "name": "python3",
   "display_name": "Python 3"
  }
 }
}
