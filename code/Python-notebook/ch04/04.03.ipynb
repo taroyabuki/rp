{
 "cells": [
  {
   "cell_type": "code",
   "execution_count": null,
   "metadata": {},
   "outputs": [],
   "source": [
    "from scipy import stats\n",
    "stats.binom_test(14, n=20, p=0.5)\n",
    "\n",
    "#> 0.11531829833984371"
   ]
  },
  {
   "cell_type": "code",
   "execution_count": null,
   "metadata": {},
   "outputs": [],
   "source": [
    "from scipy.stats import binom\n",
    "x = 5\n",
    "s = binom.cdf(k=x, n=20, p=0.5)\n",
    "s\n",
    "#> 0.020694732666015625\n",
    "\n",
    "binom.ppf(q=s, n=20, p=0.5)\n",
    "#> 5.0"
   ]
  },
  {
   "cell_type": "code",
   "execution_count": null,
   "metadata": {},
   "outputs": [],
   "source": [
    "from scipy.stats import binom\n",
    "alpha = 0.05\n",
    "binom.ppf(q=[alpha / 2, 1 - alpha / 2], n=20, p=0.5)\n",
    "#> array([ 6., 14.]) # 左側の境界は6，右側の境界は14"
   ]
  },
  {
   "cell_type": "code",
   "execution_count": null,
   "metadata": {},
   "outputs": [],
   "source": [
    "import numpy as np\n",
    "X = np.array([0] * 6 + [1] * 14)            # 手順1\n",
    "tmp = np.random.choice(X, 20, replace=True) # 手順2\n",
    "tmp\n",
    "#> array([1, 1, 1, 1, 0, 1, 1, 1, 0, 1, 1, 0, 1, 1, 1, 1, 1, 1, 0, 1])\n",
    "\n",
    "np.mean(tmp) # 手順3\n",
    "#> 0.8"
   ]
  },
  {
   "cell_type": "code",
   "execution_count": null,
   "metadata": {},
   "outputs": [],
   "source": [
    "# 手順4\n",
    "result = [np.mean(np.random.choice(X, 20, replace=True)) for _ in range(10**5)]\n",
    "np.quantile(result, [0.025, 0.975]) # 手順5\n",
    "\n",
    "#> array([0.5, 0.9])"
   ]
  }
 ],
 "nbformat": 4,
 "nbformat_minor": 5,
 "metadata": {
  "kernelspec": {
   "name": "python3",
   "display_name": "Python 3"
  }
 }
}
