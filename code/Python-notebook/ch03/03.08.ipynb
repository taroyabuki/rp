{
 "cells": [
  {
   "cell_type": "code",
   "execution_count": null,
   "metadata": {},
   "outputs": [],
   "source": [
    "my_model = xgboost.XGBClassifier()\n",
    "#> Traceback (most recent call last):\n",
    "#>   File \"<stdin>\", line 1, in <module>\n",
    "#> NameError: name 'xgboost' is not defined\n",
    "# xgboostが定義されていないというエラーです．\n",
    "# モジュールxgboostを読み込むことで対応します．\n",
    "\n",
    "import xgboost\n",
    "#> Traceback (most recent call last):\n",
    "#>   File \"<stdin>\", line 1, in <module>\n",
    "#> ModuleNotFoundError: No module named 'xgboost'\n",
    "# xgboostというモジュールが見つからないというエラーです．\n",
    "# xgboostをインストールすることで対応します．\n",
    "\n",
    "# Jupyter Notebookなら次のとおりです．\n",
    "!pip install xgboost"
   ]
  },
  {
   "cell_type": "code",
   "execution_count": null,
   "metadata": {},
   "outputs": [],
   "source": [
    "x = 123\n",
    "type(x)\n",
    "#> int"
   ]
  },
  {
   "cell_type": "code",
   "execution_count": null,
   "metadata": {},
   "outputs": [],
   "source": [
    "%whos\n",
    "#> Variable   Type      Data/Info\n",
    "#> ------------------------------\n",
    "#> math       module    <module 'math' from '/opt<...>-38-x86_64-linux-gnu.so'>\n",
    "#> x          int       123"
   ]
  },
  {
   "cell_type": "code",
   "execution_count": null,
   "metadata": {},
   "outputs": [],
   "source": [
    "import math\n",
    "?math.log\n",
    "# あるいは\n",
    "help(math.log)"
   ]
  },
  {
   "cell_type": "code",
   "execution_count": null,
   "metadata": {},
   "outputs": [],
   "source": [
    "import numpy as np\n",
    "my_v = [1, np.nan, 3]\n",
    "my_v\n",
    "#> [1, nan, 3]"
   ]
  },
  {
   "cell_type": "code",
   "execution_count": null,
   "metadata": {},
   "outputs": [],
   "source": [
    "np.isnan(my_v[1])\n",
    "#> True\n",
    "\n",
    "my_v[1] == np.nan # 誤り\n",
    "#> False"
   ]
  }
 ],
 "nbformat": 4,
 "nbformat_minor": 5,
 "metadata": {
  "kernelspec": {
   "name": "python3",
   "display_name": "Python 3"
  }
 }
}
