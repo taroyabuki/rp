{
 "cells": [
  {
   "cell_type": "code",
   "execution_count": null,
   "metadata": {},
   "outputs": [],
   "source": [
    "import numpy as np\n",
    "my_v = [1, np.nan, 3]\n",
    "my_v\n",
    "#> [1, nan, 3]"
   ]
  },
  {
   "cell_type": "code",
   "execution_count": null,
   "metadata": {},
   "outputs": [],
   "source": [
    "np.isnan(my_v[1])\n",
    "#> True\n",
    "\n",
    "my_v[1] == np.nan # 誤り\n",
    "#> False"
   ]
  },
  {
   "cell_type": "code",
   "execution_count": null,
   "metadata": {},
   "outputs": [],
   "source": [
    "x = 123\n",
    "type(x)\n",
    "#> int"
   ]
  },
  {
   "cell_type": "code",
   "execution_count": null,
   "metadata": {},
   "outputs": [],
   "source": [
    "%whos\n",
    "Variable   Type      Data/Info\n",
    "------------------------------\n",
    "my_v       list      n=3\n",
    "np         module    <module 'numpy' from '/op<...>kages/numpy/__init__.py'>\n",
    "x          int       123"
   ]
  }
 ],
 "nbformat": 4,
 "nbformat_minor": 5,
 "metadata": {
  "kernelspec": {
   "name": "python3",
   "display_name": "Python 3"
  }
 }
}
