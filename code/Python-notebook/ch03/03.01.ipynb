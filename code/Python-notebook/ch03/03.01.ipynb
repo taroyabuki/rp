{
 "cells": [
  {
   "cell_type": "code",
   "execution_count": null,
   "metadata": {},
   "outputs": [],
   "source": [
    "2 * 3\n",
    "#> 6"
   ]
  },
  {
   "cell_type": "code",
   "execution_count": null,
   "metadata": {},
   "outputs": [],
   "source": [
    "10 / 3\n",
    "#> 0.3333333333333333"
   ]
  },
  {
   "cell_type": "code",
   "execution_count": null,
   "metadata": {},
   "outputs": [],
   "source": [
    "10 // 3 # 商\n",
    "#> 3\n",
    "\n",
    "10 % 3 # 余り\n",
    "#> 1"
   ]
  },
  {
   "cell_type": "code",
   "execution_count": null,
   "metadata": {},
   "outputs": [],
   "source": [
    "0.1 + 0.1 + 0.1 == 0.3\n",
    "#> False\n",
    "\n",
    "import math\n",
    "math.isclose(0.1 + 0.1 + 0.1, 0.3)\n",
    "#> True"
   ]
  },
  {
   "cell_type": "code",
   "execution_count": null,
   "metadata": {},
   "outputs": [],
   "source": [
    "x = 2\n",
    "y = 3\n",
    "x * y\n",
    "#> 6\n",
    "\n",
    "x, y = 20, 30 # まとめて名付け\n",
    "x * y\n",
    "#> 600"
   ]
  },
  {
   "cell_type": "code",
   "execution_count": null,
   "metadata": {},
   "outputs": [],
   "source": [
    "x = 1 + 1\n",
    "# この段階では結果は表示されない\n",
    "\n",
    "x # 変数名\n",
    "#> 2"
   ]
  },
  {
   "cell_type": "code",
   "execution_count": null,
   "metadata": {},
   "outputs": [],
   "source": [
    "my_s = 'abcde'"
   ]
  },
  {
   "cell_type": "code",
   "execution_count": null,
   "metadata": {},
   "outputs": [],
   "source": [
    "len(my_s)\n",
    "#> 5"
   ]
  },
  {
   "cell_type": "code",
   "execution_count": null,
   "metadata": {},
   "outputs": [],
   "source": [
    "'This is ' + 'a' + ' pen.'\n",
    "#> 'This is a pen.'"
   ]
  },
  {
   "cell_type": "code",
   "execution_count": null,
   "metadata": {},
   "outputs": [],
   "source": [
    "my_s[1:4]\n",
    "#> 'bcd'"
   ]
  },
  {
   "cell_type": "code",
   "execution_count": null,
   "metadata": {},
   "outputs": [],
   "source": [
    "my_t = \"{} is {}.\"\n",
    "my_t.format('This', 'a pen')\n",
    "#> 'This is a pen.'"
   ]
  },
  {
   "cell_type": "code",
   "execution_count": null,
   "metadata": {},
   "outputs": [],
   "source": [
    "1 <= 2\n",
    "#> True\n",
    "\n",
    "1 < 0\n",
    "#> False"
   ]
  },
  {
   "cell_type": "code",
   "execution_count": null,
   "metadata": {},
   "outputs": [],
   "source": [
    "True and False # 論理積（かつ）\n",
    "#> False\n",
    "\n",
    "True or False # 論理和（または）\n",
    "#> True\n",
    "\n",
    "not True      # 否定（でない）\n",
    "#> False"
   ]
  },
  {
   "cell_type": "code",
   "execution_count": null,
   "metadata": {},
   "outputs": [],
   "source": [
    "0 if 3 < 5 else 10\n",
    "#> 0"
   ]
  },
  {
   "cell_type": "code",
   "execution_count": null,
   "metadata": {},
   "outputs": [],
   "source": [
    "import os\n",
    "os.getcwd()\n",
    "#> '/home/jovyan/work'"
   ]
  },
  {
   "cell_type": "code",
   "execution_count": null,
   "metadata": {},
   "outputs": [],
   "source": [
    "os.chdir('fromzero')\n",
    "os.getcwd()\n",
    "#> '/home/jovyan/work/fromzero'"
   ]
  }
 ],
 "nbformat": 4,
 "nbformat_minor": 5,
 "metadata": {
  "kernelspec": {
   "name": "python3",
   "display_name": "Python 3"
  }
 }
}
