{
 "cells": [
  {
   "cell_type": "code",
   "execution_count": null,
   "metadata": {},
   "outputs": [],
   "source": [
    "my_v = ['foo', 'bar', 'baz']"
   ]
  },
  {
   "cell_type": "code",
   "execution_count": null,
   "metadata": {},
   "outputs": [],
   "source": [
    "len(my_v)\n",
    "#> 3"
   ]
  },
  {
   "cell_type": "code",
   "execution_count": null,
   "metadata": {},
   "outputs": [],
   "source": [
    "my_v[1]\n",
    "#> 'bar'"
   ]
  },
  {
   "cell_type": "code",
   "execution_count": null,
   "metadata": {},
   "outputs": [],
   "source": [
    "my_v[-2]\n",
    "#> 'bar'"
   ]
  },
  {
   "cell_type": "code",
   "execution_count": null,
   "metadata": {},
   "outputs": [],
   "source": [
    "my_v + ['qux']\n",
    "#> ['foo', 'bar', 'baz', 'qux']"
   ]
  },
  {
   "cell_type": "code",
   "execution_count": null,
   "metadata": {},
   "outputs": [],
   "source": [
    "my_v.append('qux')\n",
    "# あるいは\n",
    "my_v = my_v + ['qux']\n",
    "my_v\n",
    "#> ['foo', 'bar', 'baz', 'qux']"
   ]
  },
  {
   "cell_type": "code",
   "execution_count": null,
   "metadata": {},
   "outputs": [],
   "source": [
    "my_v = list(range(5))\n",
    "# my_v = [0, 1, 2, 3, 4]と同じ"
   ]
  },
  {
   "cell_type": "code",
   "execution_count": null,
   "metadata": {},
   "outputs": [],
   "source": [
    "list(range(1, 10, 2))\n",
    "#> [1, 3, 5, 7, 9]"
   ]
  },
  {
   "cell_type": "code",
   "execution_count": null,
   "metadata": {},
   "outputs": [],
   "source": [
    "import numpy as np\n",
    "import pandas as pd"
   ]
  },
  {
   "cell_type": "code",
   "execution_count": null,
   "metadata": {},
   "outputs": [],
   "source": [
    "my_v = np.array([2, 3, 5, 7])  # アレイ\n",
    "# あるいは\n",
    "mv_v = pd.Series([2, 3, 5, 7]) # シリーズ\n",
    "\n",
    "my_v + 10 # 加算\n",
    "#> array([12, 13, 15, 17])\n",
    "\n",
    "my_v * 10 # 乗算\n",
    "#> array([20, 30, 50, 70])"
   ]
  },
  {
   "cell_type": "code",
   "execution_count": null,
   "metadata": {},
   "outputs": [],
   "source": [
    "my_u = [2, 3]\n",
    "import numpy as np\n",
    "np.sin(my_u)\n",
    "#> array([0.90929743, 0.14112001])"
   ]
  },
  {
   "cell_type": "code",
   "execution_count": null,
   "metadata": {},
   "outputs": [],
   "source": [
    "my_v = np.array([2,  3,   5,    7])\n",
    "my_w = np.array([1, 10, 100, 1000])\n",
    "my_v + my_w\n",
    "#> array([   3,   13,  105, 1007])\n",
    "\n",
    "my_v * my_w\n",
    "#> array([   2,   30,  500, 7000])"
   ]
  },
  {
   "cell_type": "code",
   "execution_count": null,
   "metadata": {},
   "outputs": [],
   "source": [
    "np.dot(my_v, my_w)\n",
    "#> 7532"
   ]
  },
  {
   "cell_type": "code",
   "execution_count": null,
   "metadata": {},
   "outputs": [],
   "source": [
    "import numpy as np\n",
    "u = np.array([1, 2, 3])\n",
    "v = np.array([1, 2, 3])\n",
    "w = np.array([1, 2, 4])\n",
    "\n",
    "# 全体の比較\n",
    "all(u == v)\n",
    "#> True\n",
    "\n",
    "all(u == w)\n",
    "#> False\n",
    "\n",
    "# 要素ごとの比較\n",
    "u == v\n",
    "#> array([ True,  True,  True])\n",
    "u == w\n",
    "#> array([ True,  True, False])"
   ]
  },
  {
   "cell_type": "code",
   "execution_count": null,
   "metadata": {},
   "outputs": [],
   "source": [
    "# 同じ要素の数\n",
    "(u == w).sum()\n",
    "#> 2\n",
    "\n",
    "# 同じ要素の割合\n",
    "(u == w).mean()\n",
    "#> [1] 0.6666667"
   ]
  },
  {
   "cell_type": "code",
   "execution_count": null,
   "metadata": {},
   "outputs": [],
   "source": [
    "my_list = [1, \"two\"]"
   ]
  },
  {
   "cell_type": "code",
   "execution_count": null,
   "metadata": {},
   "outputs": [],
   "source": [
    "my_list[1]\n",
    "#> 'two'"
   ]
  },
  {
   "cell_type": "code",
   "execution_count": null,
   "metadata": {},
   "outputs": [],
   "source": [
    "my_dic = {'apple'  : 'りんご',\n",
    "          'orange' : 'みかん'}"
   ]
  },
  {
   "cell_type": "code",
   "execution_count": null,
   "metadata": {},
   "outputs": [],
   "source": [
    "my_dic['apple']\n",
    "#> 'りんご'"
   ]
  }
 ],
 "nbformat": 4,
 "nbformat_minor": 5,
 "metadata": {
  "kernelspec": {
   "name": "python3",
   "display_name": "Python 3"
  }
 }
}
