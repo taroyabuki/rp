{
 "cells": [
  {
   "cell_type": "code",
   "execution_count": null,
   "metadata": {},
   "outputs": [],
   "source": [
    "import pandas as pd"
   ]
  },
  {
   "cell_type": "code",
   "execution_count": null,
   "metadata": {},
   "outputs": [],
   "source": [
    "my_df = pd.DataFrame({\n",
    "    'name':    ['A', 'B', 'C', 'D'],\n",
    "    'english': [ 60,  90,  70,  90],\n",
    "    'math':    [ 70,  80,  90, 100],\n",
    "    'gender':  ['f', 'm', 'm', 'f']})"
   ]
  },
  {
   "cell_type": "code",
   "execution_count": null,
   "metadata": {},
   "outputs": [],
   "source": [
    "my_df = pd.DataFrame([\n",
    "    ['A', 60, 70, 'f'],\n",
    "    ['B', 90, 80, 'm'],\n",
    "    ['C', 70, 90, 'm'],\n",
    "    ['D', 90, 100, 'f']],\n",
    "    columns=['name', 'english',\n",
    "             'math', 'gender'])"
   ]
  },
  {
   "cell_type": "code",
   "execution_count": null,
   "metadata": {},
   "outputs": [],
   "source": [
    "my_df.shape        # 行数と列数\n",
    "#> (4, 4)\n",
    "\n",
    "len(my_df)         # 行数\n",
    "#> 4\n",
    "\n",
    "len(my_df.columns) # 列数\n",
    "#> 4"
   ]
  },
  {
   "cell_type": "code",
   "execution_count": null,
   "metadata": {},
   "outputs": [],
   "source": [
    "import itertools\n",
    "my_df2 = pd.DataFrame(\n",
    "    itertools.product([1, 2, 3],\n",
    "                      [10, 100]),\n",
    "    columns=['X', 'Y'])\n",
    "my_df2\n",
    "#>    X    Y\n",
    "#> 0  1   10\n",
    "#> 1  1  100\n",
    "#> 2  2   10\n",
    "#> 3  2  100\n",
    "#> 4  3   10\n",
    "#> 5  3  100"
   ]
  },
  {
   "cell_type": "code",
   "execution_count": null,
   "metadata": {},
   "outputs": [],
   "source": [
    "my_df2.columns\n",
    "#> Index(['X', 'Y'], dtype='object')"
   ]
  },
  {
   "cell_type": "code",
   "execution_count": null,
   "metadata": {},
   "outputs": [],
   "source": [
    "my_df2.columns = ['P', 'Q']\n",
    "my_df2\n",
    "#>    P    Q\n",
    "#> 0  1   10\n",
    "#> 1  1  100"
   ]
  },
  {
   "cell_type": "code",
   "execution_count": null,
   "metadata": {},
   "outputs": [],
   "source": [
    "list(my_df.index)\n",
    "#> [0, 1, 2, 3]"
   ]
  },
  {
   "cell_type": "code",
   "execution_count": null,
   "metadata": {},
   "outputs": [],
   "source": [
    "my_df2.index = [\n",
    "    'a', 'b', 'c', 'd', 'e', 'f']\n",
    "my_df2\n",
    "#>    P    Q\n",
    "#> a  1   10\n",
    "#> b  1  100\n",
    "#> c  2   10\n",
    "# 以下略"
   ]
  },
  {
   "cell_type": "code",
   "execution_count": null,
   "metadata": {},
   "outputs": [],
   "source": [
    "my_df3 = pd.DataFrame({\n",
    "    'english': [ 60,  90,  70,  90],\n",
    "    'math':    [ 70,  80,  90, 100],\n",
    "    'gender':  ['f', 'm', 'm', 'f']},\n",
    "    index=     ['A', 'B', 'C', 'D'])\n",
    "my_df3\n",
    "#>    english  math gender\n",
    "#> A       60    70      f\n",
    "#> B       90    80      m\n",
    "#> C       70    90      m\n",
    "#> D       90   100      f"
   ]
  },
  {
   "cell_type": "code",
   "execution_count": null,
   "metadata": {},
   "outputs": [],
   "source": [
    "tmp = pd.DataFrame({\n",
    "    'name'   : ['E'],\n",
    "    'english': [80],\n",
    "    'math'   : [80],\n",
    "    'gender' : ['m']})\n",
    "my_df2 = my_df.append(tmp)"
   ]
  },
  {
   "cell_type": "code",
   "execution_count": null,
   "metadata": {},
   "outputs": [],
   "source": [
    "my_df2 = my_df.assign(id=[1, 2, 3, 4])"
   ]
  },
  {
   "cell_type": "code",
   "execution_count": null,
   "metadata": {},
   "outputs": [],
   "source": [
    "my_df3 = my_df.copy()       # コピー\n",
    "my_df3['id'] = [1, 2, 3, 4] # 更新\n",
    "my_df3 # 結果の確認（割愛）"
   ]
  },
  {
   "cell_type": "code",
   "execution_count": null,
   "metadata": {},
   "outputs": [],
   "source": [
    "x = my_df.iloc[:, 1]\n",
    "# あるいは\n",
    "x = my_df['english']\n",
    "# あるいは\n",
    "x = my_df.english\n",
    "# あるいは\n",
    "tmp = 'english'\n",
    "x = my_df[tmp]\n",
    "\n",
    "x # 結果の確認（割愛）"
   ]
  },
  {
   "cell_type": "code",
   "execution_count": null,
   "metadata": {},
   "outputs": [],
   "source": [
    "x = my_df[['name', 'math']]\n",
    "# あるいは\n",
    "x = my_df.loc[:, ['name', 'math']]"
   ]
  },
  {
   "cell_type": "code",
   "execution_count": null,
   "metadata": {},
   "outputs": [],
   "source": [
    "x = my_df.take([0, 2], axis=1)\n",
    "# あるいは\n",
    "x = my_df.iloc[:, [0, 2]]"
   ]
  },
  {
   "cell_type": "code",
   "execution_count": null,
   "metadata": {},
   "outputs": [],
   "source": [
    "x = my_df.drop(\n",
    "    columns=['english', 'gender'])\n",
    "# あるいは\n",
    "x = my_df.drop(\n",
    "    columns=my_df.columns[[1, 3]])"
   ]
  },
  {
   "cell_type": "code",
   "execution_count": null,
   "metadata": {},
   "outputs": [],
   "source": [
    "x = my_df.take([0, 2])\n",
    "# あるいは\n",
    "x = my_df.iloc[[0, 2], :]"
   ]
  },
  {
   "cell_type": "code",
   "execution_count": null,
   "metadata": {},
   "outputs": [],
   "source": [
    "x = my_df.drop([1, 3])"
   ]
  },
  {
   "cell_type": "code",
   "execution_count": null,
   "metadata": {},
   "outputs": [],
   "source": [
    "x = my_df[my_df['gender'] == 'm']\n",
    "# あるいは\n",
    "x = my_df.query('gender == \"m\"')"
   ]
  },
  {
   "cell_type": "code",
   "execution_count": null,
   "metadata": {},
   "outputs": [],
   "source": [
    "x = my_df[(my_df['english'] > 80) & (my_df['gender'] == \"m\")]\n",
    "# あるいは\n",
    "x = my_df.query('english > 80 and gender == \"m\"')"
   ]
  },
  {
   "cell_type": "code",
   "execution_count": null,
   "metadata": {},
   "outputs": [],
   "source": [
    "x = my_df[my_df['english'] == my_df['english'].max()]\n",
    "# あるいは\n",
    "tmp = my_df['english'].max()\n",
    "x = my_df.query('english == @tmp')"
   ]
  },
  {
   "cell_type": "code",
   "execution_count": null,
   "metadata": {},
   "outputs": [],
   "source": [
    "my_df2 = my_df.copy() # コピー\n",
    "my_df2.loc[my_df['gender'] == 'm', 'gender'] = 'M'"
   ]
  },
  {
   "cell_type": "code",
   "execution_count": null,
   "metadata": {},
   "outputs": [],
   "source": [
    "my_df2\n",
    "#>   name  english  math gender\n",
    "#> 0    A       60    70      f\n",
    "#> 1    B       90    80      M\n",
    "#> 2    C       70    90      M\n",
    "#> 3    D       90   100      f"
   ]
  },
  {
   "cell_type": "code",
   "execution_count": null,
   "metadata": {},
   "outputs": [],
   "source": [
    "x = my_df.sort_values('english')"
   ]
  },
  {
   "cell_type": "code",
   "execution_count": null,
   "metadata": {},
   "outputs": [],
   "source": [
    "x = my_df.sort_values(\n",
    "    'english', ascending=False)"
   ]
  },
  {
   "cell_type": "code",
   "execution_count": null,
   "metadata": {},
   "outputs": [],
   "source": [
    "import numpy as np\n",
    "x = [2, 3, 5, 7, 11, 13,\n",
    "     17, 19, 23, 29, 31, 37]\n",
    "A = np.array(x).reshape(3, 4)\n",
    "A\n",
    "#> array([[ 2,  3,  5,  7],\n",
    "#>        [11, 13, 17, 19],\n",
    "#>        [23, 29, 31, 37]])"
   ]
  },
  {
   "cell_type": "code",
   "execution_count": null,
   "metadata": {},
   "outputs": [],
   "source": [
    "x = my_df.iloc[:, [1, 2]].values\n",
    "x\n",
    "#> array([[ 60,  70],\n",
    "#>        [ 90,  80],\n",
    "#>        [ 70,  90],\n",
    "#>        [ 90, 100]])"
   ]
  },
  {
   "cell_type": "code",
   "execution_count": null,
   "metadata": {},
   "outputs": [],
   "source": [
    "pd.DataFrame(x)\n",
    "#>     0    1\n",
    "#> 0  60   70\n",
    "#> 1  90   80\n",
    "#> 2  70   90\n",
    "#> 3  90  100"
   ]
  },
  {
   "cell_type": "code",
   "execution_count": null,
   "metadata": {},
   "outputs": [],
   "source": [
    "A.T\n",
    "#> array([[ 2, 11, 23],\n",
    "#>        [ 3, 13, 29],\n",
    "#>        [ 5, 17, 31],\n",
    "#>        [ 7, 19, 37]])"
   ]
  },
  {
   "cell_type": "code",
   "execution_count": null,
   "metadata": {},
   "outputs": [],
   "source": [
    "A.T @ A\n",
    "#> array([[ 654,  816,  910, 1074],\n",
    "#>        [ 816, 1019, 1135, 1341],\n",
    "#>        [ 910, 1135, 1275, 1505],\n",
    "#>        [1074, 1341, 1505, 1779]])"
   ]
  },
  {
   "cell_type": "code",
   "execution_count": null,
   "metadata": {},
   "outputs": [],
   "source": [
    "my_df = pd.DataFrame({\n",
    "  'day':[25, 26, 27],\n",
    "  'min':[20, 21, 15],\n",
    "  'max':[24, 27, 21]})"
   ]
  },
  {
   "cell_type": "code",
   "execution_count": null,
   "metadata": {},
   "outputs": [],
   "source": [
    "my_longer = my_df.melt(id_vars='day')\n",
    "my_longer\n",
    "#>    day variable  value\n",
    "#> 0   25      min     20\n",
    "#> 1   26      min     21\n",
    "#> 2   27      min     15\n",
    "#> 3   25      max     24\n",
    "#> 4   26      max     27\n",
    "#> 5   27      max     21"
   ]
  },
  {
   "cell_type": "code",
   "execution_count": null,
   "metadata": {},
   "outputs": [],
   "source": [
    "my_wider = my_longer.pivot(\n",
    "    index='day',\n",
    "    columns='variable',\n",
    "    values='value')\n",
    "my_wider\n",
    "#> variable  max  min\n",
    "#> day\n",
    "#> 25         24   20\n",
    "#> 26         27   21\n",
    "#> 27         21   15"
   ]
  },
  {
   "cell_type": "code",
   "execution_count": null,
   "metadata": {},
   "outputs": [],
   "source": [
    "my_wider.plot(style='o-',\n",
    "              xticks=my_wider.index,\n",
    "              ylabel='temperature')"
   ]
  }
 ],
 "nbformat": 4,
 "nbformat_minor": 5,
 "metadata": {
  "kernelspec": {
   "name": "python3",
   "display_name": "Python 3"
  }
 }
}
