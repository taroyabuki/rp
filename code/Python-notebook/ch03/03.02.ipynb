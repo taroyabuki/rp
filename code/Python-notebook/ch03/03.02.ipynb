{
 "cells": [
  {
   "cell_type": "code",
   "execution_count": null,
   "metadata": {},
   "outputs": [],
   "source": [
    "%pwd\n",
    "# あるいは\n",
    "import os\n",
    "os.getcwd()\n",
    "#> '/home/jovyan/work'"
   ]
  },
  {
   "cell_type": "code",
   "execution_count": null,
   "metadata": {},
   "outputs": [],
   "source": [
    "%cd fromzero\n",
    "# あるいは\n",
    "os.chdir('fromzero')\n",
    "\n",
    "os.getcwd()\n",
    "#> '/home/jovyan/work/fromzero'"
   ]
  }
 ],
 "nbformat": 4,
 "nbformat_minor": 5,
 "metadata": {
  "kernelspec": {
   "name": "python3",
   "display_name": "Python 3"
  }
 }
}
