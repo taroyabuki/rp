{
 "cells": [
  {
   "cell_type": "code",
   "execution_count": null,
   "metadata": {},
   "outputs": [],
   "source": [
    "import pandas as pd"
   ]
  },
  {
   "cell_type": "code",
   "execution_count": null,
   "metadata": {},
   "outputs": [],
   "source": [
    "my_df = pd.DataFrame({\n",
    "    'name':    ['A', 'B', 'C', 'D'],\n",
    "    'english': [ 60,  90,  70,  90],\n",
    "    'math':    [ 70,  80,  90, 100],\n",
    "    'gender':  ['f', 'm', 'm', 'f']})"
   ]
  },
  {
   "cell_type": "code",
   "execution_count": null,
   "metadata": {},
   "outputs": [],
   "source": [
    "my_df = pd.DataFrame([\n",
    "    ['A', 60, 70, 'f'],\n",
    "    ['B', 90, 80, 'm'],\n",
    "    ['C', 70, 90, 'm'],\n",
    "    ['D', 90, 100, 'f']],\n",
    "    columns=['name', 'english',\n",
    "             'math', 'gender'])"
   ]
  },
  {
   "cell_type": "code",
   "execution_count": null,
   "metadata": {},
   "outputs": [],
   "source": [
    "import itertools\n",
    "import pandas as pd\n",
    "my_df2 = pd.DataFrame(\n",
    "    itertools.product([1, 2, 3],\n",
    "                      [10, 100]),\n",
    "    columns=['X', 'Y'])\n",
    "my_df2\n",
    "#>    X    Y\n",
    "#> 0  1   10\n",
    "#> 1  1  100\n",
    "#> 2  2   10\n",
    "#> 3  2  100\n",
    "#> 4  3   10\n",
    "#> 5  3  100"
   ]
  },
  {
   "cell_type": "code",
   "execution_count": null,
   "metadata": {},
   "outputs": [],
   "source": [
    "my_df.columns\n",
    "#> Index(['name', 'english', 'math', 'gender'], dtype='object')"
   ]
  },
  {
   "cell_type": "code",
   "execution_count": null,
   "metadata": {},
   "outputs": [],
   "source": [
    "my_df.columns = ['NAME', 'ENGLISH', 'MATH', 'GENDER']\n",
    "# あるいは\n",
    "my_df.columns = pd.Series(my_df.columns).apply(str.upper)\n",
    "\n",
    "my_df\n",
    "#>   NAME  ENGLISH  MATH GENDER\n",
    "#> 0    A       60    70      f\n",
    "#> 1    B       90    80      m\n",
    "# 以下略\n",
    "\n",
    "my_df.columns = pd.Series(my_df.columns).apply(str.lower) # 元に戻す．"
   ]
  },
  {
   "cell_type": "code",
   "execution_count": null,
   "metadata": {},
   "outputs": [],
   "source": [
    "my_df2 = pd.DataFrame({\n",
    "    'english': [ 60,  90,  70,  90],\n",
    "    'math':    [ 70,  80,  90, 100],\n",
    "    'gender':  ['f', 'm', 'm', 'f']},\n",
    "    index=     ['A', 'B', 'C', 'D'])\n",
    "my_df2\n",
    "#>    english  math gender\n",
    "#> A       60    70      f\n",
    "#> B       90    80      m\n",
    "#> C       70    90      m\n",
    "#> D       90   100      f"
   ]
  },
  {
   "cell_type": "code",
   "execution_count": null,
   "metadata": {},
   "outputs": [],
   "source": [
    "tmp = pd.DataFrame({\n",
    "    'name':['E'],\n",
    "    'english': [80],\n",
    "    'math': [80],\n",
    "    'gender': ['m']})\n",
    "pd.concat([my_df, tmp])"
   ]
  },
  {
   "cell_type": "code",
   "execution_count": null,
   "metadata": {},
   "outputs": [],
   "source": [
    "my_df.assign(id=[1, 2, 3, 4])"
   ]
  },
  {
   "cell_type": "code",
   "execution_count": null,
   "metadata": {},
   "outputs": [],
   "source": [
    "my_df['id'] = [1, 2, 3, 4]"
   ]
  },
  {
   "cell_type": "code",
   "execution_count": null,
   "metadata": {},
   "outputs": [],
   "source": [
    "my_df['english']\n",
    "#> 0    60\n",
    "#> 1    90\n",
    "#> 2    70\n",
    "#> 3    90\n",
    "#> Name: english, dtype: int64"
   ]
  },
  {
   "cell_type": "code",
   "execution_count": null,
   "metadata": {},
   "outputs": [],
   "source": [
    "my_df[['name', 'math']]"
   ]
  },
  {
   "cell_type": "code",
   "execution_count": null,
   "metadata": {},
   "outputs": [],
   "source": [
    "my_df.iloc[:, [0, 2]]"
   ]
  },
  {
   "cell_type": "code",
   "execution_count": null,
   "metadata": {},
   "outputs": [],
   "source": [
    "my_df.iloc[[0, 2], :]"
   ]
  },
  {
   "cell_type": "code",
   "execution_count": null,
   "metadata": {},
   "outputs": [],
   "source": [
    "my_df[my_df['gender'] == 'm']"
   ]
  },
  {
   "cell_type": "code",
   "execution_count": null,
   "metadata": {},
   "outputs": [],
   "source": [
    "my_df.query('english > 80 and gender == \"m\"')"
   ]
  },
  {
   "cell_type": "code",
   "execution_count": null,
   "metadata": {},
   "outputs": [],
   "source": [
    "my_df[my_df['english'] == my_df['english'].max()]"
   ]
  },
  {
   "cell_type": "code",
   "execution_count": null,
   "metadata": {},
   "outputs": [],
   "source": [
    "my_df.sort_values('english')"
   ]
  },
  {
   "cell_type": "code",
   "execution_count": null,
   "metadata": {},
   "outputs": [],
   "source": [
    "my_df.sort_values('english', ascending=False)"
   ]
  }
 ],
 "nbformat": 4,
 "nbformat_minor": 5,
 "metadata": {
  "kernelspec": {
   "name": "python3",
   "display_name": "Python 3"
  }
 }
}
