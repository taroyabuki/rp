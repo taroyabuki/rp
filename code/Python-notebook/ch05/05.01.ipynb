{
 "cells": [
  {
   "cell_type": "code",
   "execution_count": null,
   "metadata": {},
   "outputs": [],
   "source": [
    "import pandas as pd\n",
    "my_df = pd.read_csv('exam.csv')\n",
    "my_df\n",
    "#>   name  english  math gender\n",
    "#> 0    A       60    70      f\n",
    "#> 1    B       90    80      m\n",
    "#> 2    C       70    90      m\n",
    "#> 3    D       90   100      f"
   ]
  },
  {
   "cell_type": "code",
   "execution_count": null,
   "metadata": {},
   "outputs": [],
   "source": [
    "my_url = 'https://raw.githubusercontent.com/taroyabuki/rp/master/data/exam.csv'\n",
    "my_df = pd.read_csv(my_url)"
   ]
  },
  {
   "cell_type": "code",
   "execution_count": null,
   "metadata": {},
   "outputs": [],
   "source": [
    "import pandas as pd\n",
    "my_df2 = pd.read_csv('exam.csv',\n",
    "    index_col='name')\n",
    "my_df2\n",
    "#>       english  math gender\n",
    "#> name\n",
    "#> A          60    70      f\n",
    "#> B          90    80      m\n",
    "#> C          70    90      m\n",
    "#> D          90   100      f"
   ]
  },
  {
   "cell_type": "code",
   "execution_count": null,
   "metadata": {},
   "outputs": [],
   "source": [
    "my_df.to_csv('exam2.csv',\n",
    "    index=False) # 行名を出力しない．"
   ]
  },
  {
   "cell_type": "code",
   "execution_count": null,
   "metadata": {},
   "outputs": [],
   "source": [
    "my_df2.to_csv('exam3.csv')"
   ]
  },
  {
   "cell_type": "code",
   "execution_count": null,
   "metadata": {},
   "outputs": [],
   "source": [
    "import pandas as pd\n",
    "my_df = pd.read_csv('exam.csv',\n",
    "    encoding='UTF-8')"
   ]
  },
  {
   "cell_type": "code",
   "execution_count": null,
   "metadata": {},
   "outputs": [],
   "source": [
    "my_df.to_csv('exam2.csv', index=False, encoding='UTF-8')"
   ]
  },
  {
   "cell_type": "code",
   "execution_count": null,
   "metadata": {},
   "outputs": [],
   "source": [
    "import pandas as pd\n",
    "my_url = 'https://github.com/taroyabuki/rp/blob/master/data/exam.csv'\n",
    "my_tables = pd.read_html(my_url)"
   ]
  },
  {
   "cell_type": "code",
   "execution_count": null,
   "metadata": {},
   "outputs": [],
   "source": [
    "#> [   Unnamed: 0 name  english  math gender\n",
    "#>  0         NaN    A       60    70      f\n",
    "#>  1         NaN    B       90    80      m\n",
    "#>  2         NaN    C       70    90      m\n",
    "#>  3         NaN    D       90   100      f]"
   ]
  },
  {
   "cell_type": "code",
   "execution_count": null,
   "metadata": {},
   "outputs": [],
   "source": [
    "my_tables[0]\n",
    "#>    Unnamed: 0 name  english  math gender\n",
    "#> 0         NaN    A       60    70      f\n",
    "#> 1         NaN    B       90    80      m\n",
    "#> 2         NaN    C       70    90      m\n",
    "#> 3         NaN    D       90   100      f"
   ]
  },
  {
   "cell_type": "code",
   "execution_count": null,
   "metadata": {},
   "outputs": [],
   "source": [
    "# 1列目以降を取り出す．\n",
    "my_data = my_tables[0].iloc[:, 1:]\n",
    "my_data\n",
    "#>   name  english  math gender\n",
    "#> 0    A       60    70      f\n",
    "#> 1    B       90    80      m\n",
    "#> 2    C       70    90      m\n",
    "#> 3    D       90   100      f"
   ]
  }
 ],
 "nbformat": 4,
 "nbformat_minor": 5,
 "metadata": {
  "kernelspec": {
   "name": "python3",
   "display_name": "Python 3"
  }
 }
}
