{
 "cells": [
  {
   "cell_type": "code",
   "execution_count": null,
   "metadata": {},
   "outputs": [],
   "source": [
    "import pandas as pd\n",
    "my_url = 'https://raw.githubusercontent.com/taroyabuki/rp/master/data/exam.json'\n",
    "my_data = pd.read_json(my_url)\n",
    "#my_data = pd.read_json('exam.json') # （ファイルを使う場合）\n",
    "my_data\n",
    "#>   name  english  math gender\n",
    "#> 0    A       60    70      f\n",
    "#> 1    B       90    80      m\n",
    "#> 2    C       70    90      m\n",
    "#> 3    D       90   100      f"
   ]
  },
  {
   "cell_type": "code",
   "execution_count": null,
   "metadata": {},
   "outputs": [],
   "source": [
    "from urllib.request import urlopen\n",
    "import xml.etree.ElementTree as ET\n",
    "import pandas as pd\n",
    "\n",
    "my_url = 'https://raw.githubusercontent.com/taroyabuki/rp/master/data/exam.xml'\n",
    "with urlopen(my_url) as f:\n",
    "    my_tree = ET.parse(f)       # XMLデータの読み込み\n",
    "\n",
    "#my_tree = ET.parse('exam.xml') # （ファイルを使う場合）\n",
    "my_ns = '{https://www.example.net/ns/1.0}' # 名前空間"
   ]
  },
  {
   "cell_type": "code",
   "execution_count": null,
   "metadata": {},
   "outputs": [],
   "source": [
    "my_records = my_tree.findall(f'.//{my_ns}record')"
   ]
  },
  {
   "cell_type": "code",
   "execution_count": null,
   "metadata": {},
   "outputs": [],
   "source": [
    "def f(record):\n",
    "    my_dic1 = record.attrib # 属性を取り出す．\n",
    "    # 子要素の名前と内容のペアを辞書にする．\n",
    "    my_dic2 = {child.tag.replace(my_ns, ''):child.text for child in list(record)}\n",
    "    return {**my_dic1, **my_dic2} # 辞書を結合する．"
   ]
  },
  {
   "cell_type": "code",
   "execution_count": null,
   "metadata": {},
   "outputs": [],
   "source": [
    "my_data = pd.DataFrame([f(record) for record in my_records])\n",
    "my_data['english'] = pd.to_numeric(my_data['english'])\n",
    "my_data['math']    = pd.to_numeric(my_data['math'])\n",
    "my_data\n",
    "#>    english  math gender name\n",
    "#> 0       60    70      f    A\n",
    "#> 1       90    80      m    B\n",
    "#> 2       70    90      m    C\n",
    "#> 3       90   100      f    D"
   ]
  }
 ],
 "nbformat": 4,
 "nbformat_minor": 5,
 "metadata": {
  "kernelspec": {
   "name": "python3",
   "display_name": "Python 3"
  }
 }
}
