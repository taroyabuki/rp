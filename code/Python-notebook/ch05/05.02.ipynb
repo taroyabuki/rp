{
 "cells": [
  {
   "cell_type": "code",
   "execution_count": null,
   "metadata": {},
   "outputs": [],
   "source": [
    "x1 = [1, 2, 3]\n",
    "\n",
    "import numpy as np\n",
    "z1 = (x1 - np.mean(x1)) / np.std(x1)\n",
    "# あるいは\n",
    "from scipy.stats import zscore\n",
    "z1 = zscore(x1)\n",
    "\n",
    "z1\n",
    "#> array([-1.22474487,\n",
    "#>         0.        ,\n",
    "#>         1.22474487])"
   ]
  },
  {
   "cell_type": "code",
   "execution_count": null,
   "metadata": {},
   "outputs": [],
   "source": [
    "[z1.mean(), z1.std()]\n",
    "#> [0.0, 0.9999999999999999]"
   ]
  },
  {
   "cell_type": "code",
   "execution_count": null,
   "metadata": {},
   "outputs": [],
   "source": [
    "z1 * np.std(x1) + np.mean(x1)\n",
    "#> array([1., 2., 3.])"
   ]
  },
  {
   "cell_type": "code",
   "execution_count": null,
   "metadata": {},
   "outputs": [],
   "source": [
    "x2 = [1, 3, 5]\n",
    "z2 = (x2 - np.mean(x1)) / np.std(x1)\n",
    "[z2.mean(), z2.std()]\n",
    "#> [1.2247448713915892,\n",
    "#>  1.9999999999999998]"
   ]
  },
  {
   "cell_type": "code",
   "execution_count": null,
   "metadata": {},
   "outputs": [],
   "source": [
    "import pandas as pd\n",
    "my_df = pd.DataFrame({\n",
    "    'id': [1, 2, 3],\n",
    "    'class': ['A', 'B', 'C']})\n",
    "\n",
    "from sklearn.preprocessing \\\n",
    "import OneHotEncoder\n",
    "\n",
    "my_enc = OneHotEncoder()\n",
    "my_enc.fit_transform(\n",
    "    my_df[['class']]).toarray()\n",
    "#> array([[1., 0., 0.],\n",
    "#>        [0., 1., 0.],\n",
    "#>        [0., 0., 1.]])"
   ]
  },
  {
   "cell_type": "code",
   "execution_count": null,
   "metadata": {},
   "outputs": [],
   "source": [
    "my_df2 = pd.DataFrame({\n",
    "    'id': [4, 5, 6],\n",
    "    'class': ['B', 'C', 'B']})\n",
    "my_enc.transform(\n",
    "    my_df2[['class']]).toarray()\n",
    "#> array([[0., 1., 0.],\n",
    "#>        [0., 0., 1.],\n",
    "#>        [0., 1., 0.]])"
   ]
  }
 ],
 "nbformat": 4,
 "nbformat_minor": 5,
 "metadata": {
  "kernelspec": {
   "name": "python3",
   "display_name": "Python 3"
  }
 }
}
