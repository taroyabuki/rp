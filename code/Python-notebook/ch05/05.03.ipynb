{
 "cells": [
  {
   "cell_type": "code",
   "execution_count": null,
   "metadata": {},
   "outputs": [],
   "source": [
    "import numpy as np\n",
    "x = [2, 3]\n",
    "y = (x - np.mean(x)) / np.std(x)\n",
    "y\n",
    "#> array([-1.,  1.])"
   ]
  },
  {
   "cell_type": "code",
   "execution_count": null,
   "metadata": {},
   "outputs": [],
   "source": [
    "[np.mean(y), np.std(y)]\n",
    "#> [0.0, 1.0]"
   ]
  },
  {
   "cell_type": "code",
   "execution_count": null,
   "metadata": {},
   "outputs": [],
   "source": [
    "import statsmodels.api as sm\n",
    "iris = sm.datasets.get_rdataset('iris', 'datasets').data\n",
    "\n",
    "import pandas as pd\n",
    "from sklearn.preprocessing import StandardScaler\n",
    "scaler = StandardScaler()\n",
    "tmp = pd.DataFrame(scaler.fit_transform(iris.iloc[:, 0:4])) # 標準化\n",
    "tmp.head()\n",
    "#>           0         1         2         3\n",
    "#> 0 -0.900681  1.019004 -1.340227 -1.315444\n",
    "#> 1 -1.143017 -0.131979 -1.340227 -1.315444\n",
    "#> 2 -1.385353  0.328414 -1.397064 -1.315444\n",
    "#> 3 -1.506521  0.098217 -1.283389 -1.315444\n",
    "#> 4 -1.021849  1.249201 -1.340227 -1.315444\n",
    "\n",
    "scaler.mean_ # 元のデータの平均\n",
    "#> array([5.84333333, 3.05733333, 3.758     , 1.19933333])\n",
    "\n",
    "scaler.scale_ # 元のデータの標準偏差\n",
    "#> array([0.82530129, 0.43441097, 1.75940407, 0.75969263])"
   ]
  },
  {
   "cell_type": "code",
   "execution_count": null,
   "metadata": {},
   "outputs": [],
   "source": [
    "tmp.describe() # 基本統計量\n",
    "#>                   0             1             2             3\n",
    "#> count  1.500000e+02  1.500000e+02  1.500000e+02  1.500000e+02\n",
    "#> mean  -2.775558e-16 -9.695948e-16 -8.652338e-16 -4.662937e-16\n",
    "#> std    1.003350e+00  1.003350e+00  1.003350e+00  1.003350e+00\n",
    "#> 以下略"
   ]
  },
  {
   "cell_type": "code",
   "execution_count": null,
   "metadata": {},
   "outputs": [],
   "source": [
    "tmp.std(ddof=0) # 不偏出ない分散の平方根\n",
    "#> 0    1.0\n",
    "#> 1    1.0\n",
    "#> 2    1.0\n",
    "#> 3    1.0\n",
    "dtype: float64"
   ]
  },
  {
   "cell_type": "code",
   "execution_count": null,
   "metadata": {},
   "outputs": [],
   "source": [
    "import scipy.stats as sp\n",
    "tmp = pd.DataFrame(sp.stats.zscore(iris.iloc[:, 0:4], ddof=1)) # 標準化\n",
    "\n",
    "tmp.describe() # 基本統計量\n",
    "#>                   0             1             2             3\n",
    "#> count  1.500000e+02  1.500000e+02  1.500000e+02  1.500000e+02\n",
    "#> mean  -1.068220e-15 -3.639681e-16 -2.967996e-16 -2.309264e-16\n",
    "#> std    1.000000e+00  1.000000e+00  1.000000e+00  1.000000e+00\n",
    "#> 以下略"
   ]
  },
  {
   "cell_type": "code",
   "execution_count": null,
   "metadata": {},
   "outputs": [],
   "source": [
    "import pandas as pd\n",
    "my_df = pd.DataFrame({'id': [1, 2, 3],\n",
    "                      'class': ['A', 'B', 'C']})\n",
    "pd.get_dummies(my_df)\n",
    "#>    id  class_A  class_B  class_C\n",
    "#> 0   1        1        0        0\n",
    "#> 1   2        0        1        0\n",
    "#> 2   3        0        0        1"
   ]
  },
  {
   "cell_type": "code",
   "execution_count": null,
   "metadata": {},
   "outputs": [],
   "source": [
    "pd.get_dummies(my_df, drop_first=True)\n",
    "#>    id  class_B  class_C\n",
    "#> 0   1        0        0\n",
    "#> 1   2        1        0\n",
    "#> 2   3        0        1"
   ]
  }
 ],
 "nbformat": 4,
 "nbformat_minor": 5,
 "metadata": {
  "kernelspec": {
   "name": "python3",
   "display_name": "Python 3"
  }
 }
}
