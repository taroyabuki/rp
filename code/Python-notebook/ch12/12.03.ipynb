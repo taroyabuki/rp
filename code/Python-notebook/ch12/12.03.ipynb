{
 "cells": [
  {
   "cell_type": "code",
   "execution_count": null,
   "metadata": {},
   "outputs": [],
   "source": [
    "from keras.datasets import mnist\n",
    "(x_train, y_train), (x_test, y_test) = mnist.load_data()\n",
    "\n",
    "x_train = x_train / 255\n",
    "x_test  = x_test  / 255\n",
    "\n",
    "import random\n",
    "my_index = random.sample(range(60000), 6000)\n",
    "x_train = x_train[my_index, :, :]\n",
    "y_train = y_train[my_index]\n",
    "\n",
    "x_train2d = x_train.reshape(-1, 28, 28, 1)\n",
    "x_test2d = x_test.reshape(-1, 28, 28, 1)"
   ]
  },
  {
   "cell_type": "code",
   "execution_count": null,
   "metadata": {},
   "outputs": [],
   "source": [
    "from keras.models import Sequential\n",
    "from keras.layers import *\n",
    "\n",
    "my_model = Sequential()\n",
    "my_model.add(Conv2D(filters=32, kernel_size=3,\n",
    "                    activation='relu', input_shape=(28, 28, 1)))\n",
    "my_model.add(MaxPooling2D(pool_size=2))\n",
    "my_model.add(Flatten())\n",
    "my_model.add(Dense(128, activation='relu'))\n",
    "my_model.add(Dense(10, activation='softmax'))\n",
    "\n",
    "my_model.summary() # ネットワークの確認\n",
    "#> Model: \"sequential\"\n",
    "#> _________________________________________________________________\n",
    "#> Layer (type)                 Output Shape              Param #   \n",
    "#> =================================================================\n",
    "#> conv2d (Conv2D)              (None, 26, 26, 32)        320       \n",
    "#> _________________________________________________________________\n",
    "#> max_pooling2d (MaxPooling2D) (None, 13, 13, 32)        0         \n",
    "#> _________________________________________________________________\n",
    "#> flatten (Flatten)            (None, 5408)              0         \n",
    "#> _________________________________________________________________\n",
    "#> dense (Dense)                (None, 128)               692352    \n",
    "#> _________________________________________________________________\n",
    "#> dense_1 (Dense)              (None, 10)                1290      \n",
    "#> =================================================================\n",
    "#> Total params: 693,962\n",
    "#> Trainable params: 693,962\n",
    "#> Non-trainable params: 0\n",
    "#> _________________________________________________________________"
   ]
  },
  {
   "cell_type": "code",
   "execution_count": null,
   "metadata": {},
   "outputs": [],
   "source": [
    "my_model.compile(loss = 'sparse_categorical_crossentropy',\n",
    "                 optimizer = 'rmsprop',\n",
    "                 metrics = ['accuracy'])\n",
    "\n",
    "from keras.callbacks import EarlyStopping\n",
    "my_cb = [EarlyStopping(patience=5,                   # 訓練停止条件\n",
    "                       restore_best_weights = True)] # 最善を保持\n",
    "\n",
    "my_history = my_model.fit(\n",
    "    x=x_train2d,          # 入力変数\n",
    "    y=y_train,            # 出力変数\n",
    "    validation_split=0.2, # 検証データの割合\n",
    "    batch_size=128,       # バッチサイズ\n",
    "    epochs=20,            # エポック数の上限\n",
    "    callbacks=my_cb)      # エポックごとに行う処理\n",
    "\n",
    "import matplotlib.pyplot as plt\n",
    "import pandas as pd\n",
    "fig, (ax1, ax2) = plt.subplots(2, 1, sharex=True)\n",
    "tmp = my_history.history\n",
    "pd.DataFrame({'validation':tmp['val_loss'],\n",
    "              'training':tmp['loss']}\n",
    "            ).plot(ax=ax1, ylabel='loss', style='o-')\n",
    "pd.DataFrame({'valitation':tmp['val_accuracy'],\n",
    "              'training':tmp['accuracy']}\n",
    "            ).plot(ax=ax2, xlabel='epoch', ylabel='accuracy', legend=False, style='o-')"
   ]
  },
  {
   "cell_type": "code",
   "execution_count": null,
   "metadata": {},
   "outputs": [],
   "source": [
    "my_model.evaluate(x=x_test2d, y=y_test)\n",
    "#> [0.12560397386550903,\n",
    "#>  0.9670000076293945]"
   ]
  },
  {
   "cell_type": "code",
   "execution_count": null,
   "metadata": {},
   "outputs": [],
   "source": [
    "from keras.models import Sequential\n",
    "from keras.layers import *\n",
    "\n",
    "my_model = Sequential()\n",
    "my_model.add(Conv2D(filters=20, kernel_size=5, activation='relu',\n",
    "                    input_shape=(28, 28, 1)))\n",
    "my_model.add(MaxPooling2D(pool_size=2, strides=2))\n",
    "my_model.add(Conv2D(filters=20, kernel_size=5, activation='relu'))\n",
    "my_model.add(MaxPooling2D(pool_size=2, strides=2))\n",
    "my_model.add(Dropout(rate=0.25))    \n",
    "my_model.add(Flatten())\n",
    "my_model.add(Dense(500, activation='relu'))\n",
    "my_model.add(Dropout(rate=0.5))    \n",
    "my_model.add(Dense(10, activation='softmax'))"
   ]
  },
  {
   "cell_type": "code",
   "execution_count": null,
   "metadata": {},
   "outputs": [],
   "source": [
    "my_model.compile(loss = 'sparse_categorical_crossentropy',\n",
    "                 optimizer = 'rmsprop',\n",
    "                 metrics = ['accuracy'])\n",
    "\n",
    "from keras.callbacks import EarlyStopping\n",
    "my_cb = [EarlyStopping(patience=5,                   # 訓練停止条件\n",
    "                       restore_best_weights = True)] # 最善を保持\n",
    "\n",
    "my_history = my_model.fit(\n",
    "    x=x_train2d,          # 入力変数\n",
    "    y=y_train,            # 出力変数\n",
    "    validation_split=0.2, # 検証データの割合\n",
    "    batch_size=128,       # バッチサイズ\n",
    "    epochs=20,            # エポック数の上限\n",
    "    callbacks=my_cb)      # エポックごとに行う処理\n",
    "\n",
    "import matplotlib.pyplot as plt\n",
    "import pandas as pd\n",
    "fig, (ax1, ax2) = plt.subplots(2, 1, sharex=True)\n",
    "tmp = my_history.history\n",
    "pd.DataFrame({'validation':tmp['val_loss'],\n",
    "              'training':tmp['loss']}\n",
    "            ).plot(ax=ax1, ylabel='loss', style='o-')\n",
    "pd.DataFrame({'valitation':tmp['val_accuracy'],\n",
    "              'training':tmp['accuracy']}\n",
    "            ).plot(ax=ax2, xlabel='epoch', ylabel='accuracy', legend=False, style='o-')"
   ]
  },
  {
   "cell_type": "code",
   "execution_count": null,
   "metadata": {},
   "outputs": [],
   "source": [
    "my_model.evaluate(x=x_test2d, y=y_test)\n",
    "#> [0.06175168976187706,\n",
    "#>  0.9790999889373779]"
   ]
  },
  {
   "cell_type": "code",
   "execution_count": null,
   "metadata": {},
   "outputs": [],
   "source": [
    "import numpy as np\n",
    "import pandas as pd\n",
    "my_prob = my_model.predict(x_test2d)                 # カテゴリに属する確率\n",
    "\n",
    "tmp = pd.DataFrame({\n",
    "    'prob': np.max(my_prob, axis=1),                 # 確率の最大値\n",
    "    'pred': np.argmax(my_prob, axis=1),              # 予測カテゴリ\n",
    "    'answer': y_test,                                # 正解\n",
    "    'id': range(len(y_test))})                       # 番号\n",
    "\n",
    "tmp = tmp[tmp.pred != tmp.answer]                    # 予測がはずれたものを残す\n",
    "my_result = tmp.sort_values('prob', ascending=False) # 確率の大きい順に並び替える\n",
    "my_result.head()\n",
    "#>           prob  pred  answer    id\n",
    "#> 3520  0.998859     4       6  3520\n",
    "#> 2035  0.996845     3       5  2035\n",
    "#> 9729  0.995143     6       5  9729\n",
    "#> 2654  0.994415     1       6  2654\n",
    "#> 3558  0.992901     0       5  3558"
   ]
  },
  {
   "cell_type": "code",
   "execution_count": null,
   "metadata": {},
   "outputs": [],
   "source": [
    "import matplotlib.pyplot as plt\n",
    "for i in range(5):\n",
    "    plt.subplot(1, 5, i + 1)\n",
    "    id = my_result['id'].iloc[i]\n",
    "    plt.imshow(x_test[id])\n",
    "    plt.axis('off')"
   ]
  }
 ],
 "nbformat": 4,
 "nbformat_minor": 5,
 "metadata": {
  "kernelspec": {
   "name": "python3",
   "display_name": "Python 3"
  }
 }
}
