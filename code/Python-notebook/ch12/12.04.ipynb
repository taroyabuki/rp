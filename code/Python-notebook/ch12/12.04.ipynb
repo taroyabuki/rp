{
 "cells": [
  {
   "cell_type": "code",
   "execution_count": null,
   "metadata": {},
   "outputs": [],
   "source": [
    "from keras.models import Sequential\n",
    "from keras.layers import *\n",
    "\n",
    "my_model = Sequential()\n",
    "my_model.add(Conv2D(filters=32, kernel_size=3, activation='relu',\n",
    "                    input_shape=(28, 28, 1)))\n",
    "my_model.add(MaxPooling2D(pool_size=2))\n",
    "my_model.add(Dropout(rate=0.25)) # ドロップアウト\n",
    "my_model.add(Flatten())\n",
    "my_model.add(Dense(128, activation='relu'))\n",
    "my_model.add(Dense(10, activation='softmax'))"
   ]
  },
  {
   "cell_type": "code",
   "execution_count": null,
   "metadata": {},
   "outputs": [],
   "source": [
    "from keras.models import Sequential\n",
    "from keras.layers import *\n",
    "from keras import regularizers\n",
    "\n",
    "my_model = Sequential()\n",
    "my_model.add(Conv2D(filters=32, kernel_size=3, activation='relu',\n",
    "                    input_shape=(28, 28, 1)))\n",
    "my_model.add(MaxPooling2D(pool_size=2))\n",
    "my_model.add(Flatten())\n",
    "my_model.add(Dense(128, activation='relu',\n",
    "                   kernel_regularizer=regularizers.l2(0.001))) # Ridge回帰\n",
    "my_model.add(Dense(10, activation='softmax'))"
   ]
  }
 ],
 "nbformat": 4,
 "nbformat_minor": 5,
 "metadata": {
  "kernelspec": {
   "name": "python3",
   "display_name": "Python 3"
  }
 }
}
