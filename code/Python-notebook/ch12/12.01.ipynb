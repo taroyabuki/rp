{
 "cells": [
  {
   "cell_type": "code",
   "execution_count": null,
   "metadata": {},
   "outputs": [],
   "source": [
    "import pandas as pd\n",
    "pd.to_datetime('2020-01-01')\n",
    "#> Timestamp('2020-01-01 00:00:00')"
   ]
  },
  {
   "cell_type": "code",
   "execution_count": null,
   "metadata": {},
   "outputs": [],
   "source": [
    "pd.date_range(start='2021-01-01',\n",
    "              end='2023-01-01',\n",
    "              freq='1AS')\n",
    "#> DatetimeIndex(['2021-01-01', '2022-01-01', '2023-01-01'],\n",
    "#>               dtype='datetime64[ns]', freq='AS-JAN')\n",
    "\n",
    "pd.date_range(start='2021-01-01',\n",
    "              end='2021-03-01',\n",
    "              freq='2MS')\n",
    "#> DatetimeIndex(['2021-01-01', '2021-03-01'],\n",
    "#>               dtype='datetime64[ns]', freq='2MS')\n",
    "\n",
    "pd.date_range(start='2021-01-01',\n",
    "              end='2021-01-03',\n",
    "              freq='1D')\n",
    "#> DatetimeIndex(['2021-01-01', '2021-01-02', '2021-01-03'],\n",
    "#>               dtype='datetime64[ns]', freq='D')\n",
    "\n",
    "pd.date_range(start='2021-01-01 00:00:00',\n",
    "              end='2021-01-01 03:00:00',\n",
    "              freq='2H')\n",
    "#> DatetimeIndex(['2021-01-01 00:00:00', '2021-01-01 02:00:00'],\n",
    "#>               dtype='datetime64[ns]', freq='2H')"
   ]
  }
 ],
 "nbformat": 4,
 "nbformat_minor": 5,
 "metadata": {
  "kernelspec": {
   "name": "python3",
   "display_name": "Python 3"
  }
 }
}
