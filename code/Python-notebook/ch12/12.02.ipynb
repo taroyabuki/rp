{
 "cells": [
  {
   "cell_type": "code",
   "execution_count": null,
   "metadata": {},
   "outputs": [],
   "source": [
    "from keras.datasets import mnist\n",
    "(x_train, y_train), (x_test, y_test) = mnist.load_data()\n",
    "x_train = x_train / 255\n",
    "x_test  = x_test  / 255\n",
    "\n",
    "import random\n",
    "my_index = random.sample(range(60000), 6000)\n",
    "x_train = x_train[my_index, :, :]\n",
    "y_train = y_train[my_index]\n",
    "\n",
    "x_train1d = x_train.reshape(len(x_train), 784)\n",
    "x_test1d = x_test.reshape(len(x_test), 784)"
   ]
  },
  {
   "cell_type": "code",
   "execution_count": null,
   "metadata": {},
   "outputs": [],
   "source": [
    "from keras.models import Sequential\n",
    "from keras.layers import Dense\n",
    "\n",
    "my_model = Sequential()\n",
    "my_model.add(Dense(units = 256, activation = \"relu\", input_dim = 784))\n",
    "my_model.add(Dense(units = 10, activation = \"softmax\"))\n",
    "\n",
    "my_model.compile(loss = 'sparse_categorical_crossentropy',\n",
    "                 optimizer = 'rmsprop',\n",
    "                 metrics = ['accuracy'])"
   ]
  },
  {
   "cell_type": "code",
   "execution_count": null,
   "metadata": {},
   "outputs": [],
   "source": [
    "from keras.callbacks import EarlyStopping\n",
    "my_cb = [EarlyStopping(patience=5,                   # 訓練停止条件\n",
    "                       restore_best_weights = True)] # 最善を保持\n",
    "\n",
    "my_history = my_model.fit(\n",
    "    x=x_train1d,          # 入力変数\n",
    "    y=y_train,            # 出力変数\n",
    "    validation_split=0.2, # 検証データの割合\n",
    "    batch_size=128,       # バッチサイズ\n",
    "    epochs=20,            # エポック数の上限\n",
    "    callbacks=my_cb)      # エポックごとに行う処理\n",
    "\n",
    "import matplotlib.pyplot as plt\n",
    "import pandas as pd\n",
    "fig, (ax1, ax2) = plt.subplots(2, 1, sharex=True)\n",
    "tmp = my_history.history\n",
    "pd.DataFrame({'validation':tmp['val_loss'],\n",
    "              'training':tmp['loss']}\n",
    "            ).plot(ax=ax1, ylabel='loss', style='o-')\n",
    "pd.DataFrame({'valitation':tmp['val_accuracy'],\n",
    "              'training':tmp['accuracy']}\n",
    "            ).plot(ax=ax2, xlabel='epoch', ylabel='accuracy', legend=False, style='o-')"
   ]
  },
  {
   "cell_type": "code",
   "execution_count": null,
   "metadata": {},
   "outputs": [],
   "source": [
    "my_prob = my_model.predict(x_test1d)\n",
    "my_pred = np.argmax(my_prob, axis=-1)\n",
    "\n",
    "from sklearn.metrics import confusion_matrix\n",
    "confusion_matrix(y_test, my_pred)\n",
    "#> array([[ 961,    0,    1,    3,    0,    3,    9,    1,    1,    1],\n",
    "#>        [   0, 1115,    3,    1,    1,    2,    5,    0,    8,    0],\n",
    "#>        [  11,    2,  952,   17,    5,    3,    9,    9,   22,    2],\n",
    "#>        [   2,    0,    6,  943,    1,   27,    1,    6,   16,    8],\n",
    "#>        [   2,    1,    4,    1,  918,    0,   14,    1,    3,   38],\n",
    "#>        [   5,    2,    0,   15,    2,  843,   11,    1,    7,    6],\n",
    "#>        [  11,    3,    2,    1,    7,   13,  920,    0,    1,    0],\n",
    "#>        [   2,   11,   19,   11,    1,    3,    0,  955,    2,   24],\n",
    "#>        [   9,    2,    5,   22,    6,   18,   11,    7,  886,    8],\n",
    "#>        [   9,    7,    3,   11,   19,    7,    1,    7,    7,  938]])"
   ]
  },
  {
   "cell_type": "code",
   "execution_count": null,
   "metadata": {},
   "outputs": [],
   "source": [
    "(y_test == my_pred).mean()\n",
    "#> 0.9431"
   ]
  },
  {
   "cell_type": "code",
   "execution_count": null,
   "metadata": {},
   "outputs": [],
   "source": [
    "my_model.evaluate(x=x_test1d, y=y_test)\n",
    "#> [0.19800357520580292,\n",
    "#>  0.9430999755859375]"
   ]
  }
 ],
 "nbformat": 4,
 "nbformat_minor": 5,
 "metadata": {
  "kernelspec": {
   "name": "python3",
   "display_name": "Python 3"
  }
 }
}
