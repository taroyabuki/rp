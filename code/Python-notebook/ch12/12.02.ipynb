{
 "cells": [
  {
   "cell_type": "code",
   "execution_count": null,
   "metadata": {},
   "outputs": [],
   "source": [
    "x_train1d = x_train.reshape(-1, 784)\n",
    "x_test1d = x_test.reshape(-1, 784)"
   ]
  },
  {
   "cell_type": "code",
   "execution_count": null,
   "metadata": {},
   "outputs": [],
   "source": [
    "from keras.models import Sequential\n",
    "from keras.layers import Dense\n",
    "\n",
    "my_model = Sequential()\n",
    "my_model.add(Dense(units = 256, activation = \"relu\", input_dim = 784))\n",
    "my_model.add(Dense(units = 10, activation = \"softmax\"))\n",
    "\n",
    "my_model.compile(loss = 'sparse_categorical_crossentropy',\n",
    "                 optimizer = 'rmsprop',\n",
    "                 metrics = ['accuracy'])"
   ]
  },
  {
   "cell_type": "code",
   "execution_count": null,
   "metadata": {},
   "outputs": [],
   "source": [
    "from keras.callbacks import EarlyStopping\n",
    "my_cb = [EarlyStopping(patience=5,                   # 訓練停止条件\n",
    "                       restore_best_weights = True)] # 最善を保持\n",
    "\n",
    "my_history = my_model.fit(\n",
    "    x=x_train1d,          # 入力変数\n",
    "    y=y_train,            # 出力変数\n",
    "    validation_split=0.2, # 検証データの割合\n",
    "    batch_size=128,       # バッチサイズ\n",
    "    epochs=20,            # エポック数の上限\n",
    "    callbacks=my_cb)      # エポックごとに行う処理\n",
    "\n",
    "my_plot_loss_acc(my_history)"
   ]
  },
  {
   "cell_type": "code",
   "execution_count": null,
   "metadata": {},
   "outputs": [],
   "source": [
    "my_prob = my_model.predict(x_test1d)\n",
    "my_pred = np.argmax(my_prob, axis=-1)\n",
    "\n",
    "from sklearn.metrics import confusion_matrix\n",
    "confusion_matrix(y_test, my_pred)\n",
    "#> array([[ 962,    0,    1,    4,    0,    3,    6,    1,    1,    2],\n",
    "#>        [   0, 1109,    4,    1,    0,    1,    5,    2,   13,    0],\n",
    "#>        [   8,    5,  938,   14,    4,    2,   12,   17,   30,    2],\n",
    "#>        [   1,    1,   13,  954,    0,   10,    1,   11,   14,    5],\n",
    "#>        [   2,    4,    2,    5,  911,    0,   15,    6,    6,   31],\n",
    "#>        [   8,    2,    1,   35,    3,  812,    9,    7,   12,    3],\n",
    "#>        [  12,    3,    3,    1,    8,   21,  903,    1,    6,    0],\n",
    "#>        [   1,    6,   14,   10,    3,    1,    0,  972,    2,   19],\n",
    "#>        [   6,    1,    8,   19,    6,   12,   10,   16,  891,    5],\n",
    "#>        [  10,    5,    1,   15,   15,    4,    1,   26,    8,  924]])"
   ]
  },
  {
   "cell_type": "code",
   "execution_count": null,
   "metadata": {},
   "outputs": [],
   "source": [
    "(y_test == my_pred).mean()\n",
    "#> 0.9376"
   ]
  },
  {
   "cell_type": "code",
   "execution_count": null,
   "metadata": {},
   "outputs": [],
   "source": [
    "my_model.evaluate(x=x_test1d, y=y_test)\n",
    "#> [0.21355792880058289,\n",
    "#>  0.9376000165939331]"
   ]
  }
 ],
 "nbformat": 4,
 "nbformat_minor": 5,
 "metadata": {
  "kernelspec": {
   "name": "python3",
   "display_name": "Python 3"
  }
 }
}
