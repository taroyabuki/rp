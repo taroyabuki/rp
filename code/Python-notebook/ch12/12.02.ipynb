{
 "cells": [
  {
   "cell_type": "markdown",
   "metadata": {},
   "source": [
    "### 12.2.1 データの準備"
   ]
  },
  {
   "cell_type": "code",
   "execution_count": null,
   "metadata": {},
   "outputs": [],
   "source": [
    "from pmdarima.datasets import airpassengers\n",
    "my_data = airpassengers.load_airpassengers()"
   ]
  },
  {
   "cell_type": "code",
   "execution_count": null,
   "metadata": {},
   "outputs": [],
   "source": [
    "n = len(my_data) # データ数（144）\n",
    "k = 108          # 訓練データ数"
   ]
  },
  {
   "cell_type": "code",
   "execution_count": null,
   "metadata": {},
   "outputs": [],
   "source": [
    "my_ds = pd.date_range(\n",
    "    start='1949/01/01',\n",
    "    end='1960/12/01',\n",
    "    freq='MS')\n",
    "my_df = pd.DataFrame({\n",
    "    'ds':my_ds,\n",
    "    'x':range(n),\n",
    "    'y':my_data},\n",
    "    index=my_ds)\n",
    "my_df.head()\n",
    "#>                    ds  x      y\n",
    "#> 1949-01-01 1949-01-01  0  112.0\n",
    "#> 1949-02-01 1949-02-01  1  118.0\n",
    "#> 1949-03-01 1949-03-01  2  132.0\n",
    "#> 1949-04-01 1949-04-01  3  129.0\n",
    "#> 1949-05-01 1949-05-01  4  121.0"
   ]
  },
  {
   "cell_type": "code",
   "execution_count": null,
   "metadata": {},
   "outputs": [],
   "source": [
    "my_train = my_df[        :k]\n",
    "my_test  = my_df[-(n - k): ]\n",
    "y = my_test.y"
   ]
  },
  {
   "cell_type": "code",
   "execution_count": null,
   "metadata": {},
   "outputs": [],
   "source": [
    "import matplotlib.pyplot as plt\n",
    "plt.plot(my_train.y, label='train')\n",
    "plt.plot(my_test.y,  label='test')\n",
    "plt.legend()"
   ]
  },
  {
   "cell_type": "markdown",
   "metadata": {},
   "source": [
    "### 12.2.2 線形回帰分析による時系列予測"
   ]
  },
  {
   "cell_type": "code",
   "execution_count": null,
   "metadata": {},
   "outputs": [],
   "source": [
    "# 訓練\n",
    "from sklearn.linear_model import LinearRegression\n",
    "my_lm_model = LinearRegression()\n",
    "my_lm_model.fit(my_train[['x']], my_train[['y']])\n",
    "\n",
    "# テスト\n",
    "from sklearn.metrics import mean_squared_error, r2_score\n",
    "X = my_test[['x']]\n",
    "y_ = my_lm_model.predict(X)\n",
    "\n",
    "[mean_squared_error(y, y_)**0.5, # RMSE（テスト）\n",
    " r2_score(y_true=y, y_pred=y_),  # 決定係数1（方法1）\n",
    " my_lm_model.score(X, y)]        # 決定係数1（方法2）\n",
    "#> [70.63707081783771, 0.18448078010854552, 0.18448078010854552]"
   ]
  },
  {
   "cell_type": "code",
   "execution_count": null,
   "metadata": {},
   "outputs": [],
   "source": [
    "y_ = my_lm_model.predict(my_df[['x']])\n",
    "tmp = pd.DataFrame(y_, index=my_df.index)\n",
    "plt.plot(my_train[['y']], label='train')\n",
    "plt.plot(my_test[['y']],  label='test')\n",
    "plt.plot(tmp, label='model')\n",
    "plt.legend()"
   ]
  },
  {
   "cell_type": "markdown",
   "metadata": {},
   "source": [
    "#### 12.2.3.1 モデルの構築"
   ]
  },
  {
   "cell_type": "code",
   "execution_count": null,
   "metadata": {},
   "outputs": [],
   "source": [
    "import pmdarima as pm\n",
    "my_arima_model = pm.auto_arima(my_train.y, m=12, trace=True)\n",
    "#> （省略）\n",
    "#> Best model:  ARIMA(1,1,0)(0,1,0)[12]          \n",
    "#> Total fit time: 0.838 seconds"
   ]
  },
  {
   "cell_type": "markdown",
   "metadata": {},
   "source": [
    "#### 12.2.3.2 予測"
   ]
  },
  {
   "cell_type": "code",
   "execution_count": null,
   "metadata": {},
   "outputs": [],
   "source": [
    "y_, my_ci = my_arima_model.predict(len(my_test),\n",
    "                                   return_conf_int=True) # 信頼区間を求める．\n",
    "my_df = pd.DataFrame({'y': y_,\n",
    "                      'Lo': my_ci[:, 0],\n",
    "                      'Hi': my_ci[:, 1]},\n",
    "                     index=my_test.index)\n",
    "my_df.head()\n",
    "#>                      y          Lo          Hi\n",
    "#> 1958-01-01  345.964471  327.088699  364.840243\n",
    "#> 1958-02-01  331.731920  308.036230  355.427610\n",
    "#> 1958-03-01  386.787992  358.515741  415.060244\n",
    "#> 1958-04-01  378.774472  346.695454  410.853490\n",
    "#> 1958-05-01  385.777732  350.270765  421.284700"
   ]
  },
  {
   "cell_type": "code",
   "execution_count": null,
   "metadata": {},
   "outputs": [],
   "source": [
    "from sklearn.metrics import mean_squared_error, r2_score\n",
    "[mean_squared_error(y, y_)**0.5, # RMSE（テスト）\n",
    " r2_score(y_true=y, y_pred=y_)]  # 決定係数B（テスト）\n",
    "#> [22.132236727738697, 0.9199392874179217]"
   ]
  },
  {
   "cell_type": "code",
   "execution_count": null,
   "metadata": {},
   "outputs": [],
   "source": [
    "import matplotlib.pyplot as plt\n",
    "plt.plot(my_train[['y']], label='train')\n",
    "plt.plot(my_test[['y']],  label='test')\n",
    "plt.plot(tmp.y, label='model')\n",
    "plt.fill_between(tmp.index,\n",
    "                 tmp.Lo,\n",
    "                 tmp.Hi,\n",
    "                 alpha=0.25)\n",
    "plt.legend(loc='upper left')"
   ]
  },
  {
   "cell_type": "markdown",
   "metadata": {},
   "source": [
    "### 12.2.4 Prophetによる時系列予測"
   ]
  },
  {
   "cell_type": "code",
   "execution_count": null,
   "metadata": {},
   "outputs": [],
   "source": [
    "from fbprophet import Prophet\n",
    "my_prophet_model = Prophet(seasonality_mode='multiplicative')\n",
    "my_prophet_model.fit(my_train)"
   ]
  },
  {
   "cell_type": "code",
   "execution_count": null,
   "metadata": {},
   "outputs": [],
   "source": [
    "my_prophet_result = my_prophet_model.predict(my_test)\n",
    "my_prophet_result[['ds', 'yhat', 'yhat_lower', 'yhat_upper']].head()\n",
    "#>           ds        yhat  yhat_lower  yhat_upper\n",
    "#> 0 1958-01-01  359.239305  350.910898  368.464588\n",
    "#> 1 1958-02-01  350.690546  341.748862  359.964881\n",
    "#> 2 1958-03-01  407.188556  398.483316  415.463759\n",
    "#> 3 1958-04-01  398.481739  389.244105  406.742333\n",
    "#> 4 1958-05-01  402.595604  393.721421  411.331761"
   ]
  },
  {
   "cell_type": "code",
   "execution_count": null,
   "metadata": {},
   "outputs": [],
   "source": [
    "from sklearn.metrics import mean_squared_error, r2_score\n",
    "[mean_squared_error(y, y_)**0.5, # RMSE（テスト）\n",
    " r2_score(y_true=y, y_pred=y_)]  # 決定係数（テスト）\n",
    "#> [33.795549086036466, 0.8133242729288646]"
   ]
  },
  {
   "cell_type": "code",
   "execution_count": null,
   "metadata": {},
   "outputs": [],
   "source": [
    "# my_prophet_model.plot(my_prophet_result) # 予測結果のみでよい場合\n",
    "\n",
    "fig = my_prophet_model.plot(my_prophet_result)\n",
    "fig.axes[0].plot(my_train.ds, my_train.y)\n",
    "fig.axes[0].plot(my_test.ds, my_test.y, color = 'red')"
   ]
  }
 ],
 "nbformat": 4,
 "nbformat_minor": 5,
 "metadata": {
  "kernelspec": {
   "name": "python3",
   "display_name": "Python 3"
  }
 }
}
