{
 "cells": [
  {
   "cell_type": "markdown",
   "metadata": {},
   "source": [
    "### 9.8.2 Pythonの場合"
   ]
  },
  {
   "cell_type": "code",
   "execution_count": null,
   "metadata": {},
   "outputs": [],
   "source": [
    "from sklearn.ensemble import RandomForestClassifier\n",
    "my_model = RandomForestClassifier()"
   ]
  },
  {
   "cell_type": "code",
   "execution_count": null,
   "metadata": {},
   "outputs": [],
   "source": [
    "# データの読み込み\n",
    "import statsmodels.api as sm\n",
    "iris = sm.datasets.get_rdataset('iris', 'datasets').data\n",
    "X, y = iris.iloc[:, 0:4], iris.Species\n",
    "\n",
    "# 5分割交差検証（10回）\n",
    "from sklearn.model_selection import *\n",
    "my_cv = RepeatedKFold(n_splits=5, n_repeats=10)\n",
    "\n",
    "# 交差検証の実行\n",
    "my_scores = cross_val_score(my_model, X, y,\n",
    "                            cv=my_cv,\n",
    "                            n_jobs=-1)\n",
    "my_scores.mean() # 正解率（検証）\n",
    "#> 0.9560000000000001"
   ]
  },
  {
   "cell_type": "code",
   "execution_count": null,
   "metadata": {},
   "outputs": [],
   "source": [
    "import xgboost\n",
    "my_model = xgboost.XGBClassifier()"
   ]
  },
  {
   "cell_type": "code",
   "execution_count": null,
   "metadata": {},
   "outputs": [],
   "source": [
    "# 割愛（データの読み込み，交差検証の設定と実行）\n",
    "my_scores.mean() # 正解率（検証）\n",
    "#> 0.9486666666666665"
   ]
  }
 ],
 "nbformat": 4,
 "nbformat_minor": 5,
 "metadata": {
  "kernelspec": {
   "name": "python3",
   "display_name": "Python 3"
  }
 }
}
