{
 "cells": [
  {
   "cell_type": "markdown",
   "metadata": {},
   "source": [
    "### 9.7.2 Pythonの場合"
   ]
  },
  {
   "cell_type": "code",
   "execution_count": null,
   "metadata": {},
   "outputs": [],
   "source": [
    "from sklearn import tree\n",
    "my_model = tree.DecisionTreeClassifier()\n",
    "\n",
    "# チューニングの設定\n",
    "params = {'max_depth': range(3, 7),         # 木の深さの最大値（3から6）\n",
    "          'min_samples_leaf': range(1, 11)} # 葉に該当するサンプルの最小数"
   ]
  },
  {
   "cell_type": "code",
   "execution_count": null,
   "metadata": {},
   "outputs": [],
   "source": [
    "# 割愛（データの読み込み，交差検証の設定，チューニングの実行）\n",
    "\n",
    "my_search.best_params_ # 最良パラメータ\n",
    "#> {'max_depth': 4, 'min_samples_leaf': 3}\n",
    "\n",
    "my_search.best_score_ # 正解率（検証）\n",
    "#> 0.9620000000000002"
   ]
  },
  {
   "cell_type": "code",
   "execution_count": null,
   "metadata": {},
   "outputs": [],
   "source": [
    "tree.plot_tree(my_search.best_estimator_, filled=True)"
   ]
  }
 ],
 "nbformat": 4,
 "nbformat_minor": 5,
 "metadata": {
  "kernelspec": {
   "name": "python3",
   "display_name": "Python 3"
  }
 }
}
