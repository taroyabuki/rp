{
 "cells": [
  {
   "cell_type": "markdown",
   "metadata": {},
   "source": [
    "### 9.7.2 Pythonの場合"
   ]
  },
  {
   "cell_type": "code",
   "execution_count": null,
   "metadata": {},
   "outputs": [],
   "source": [
    "from sklearn import tree\n",
    "my_model = tree.DecisionTreeClassifier()\n",
    "\n",
    "import statsmodels.api as sm\n",
    "iris = sm.datasets.get_rdataset('iris', 'datasets').data\n",
    "X, y = iris.iloc[:, 0:4], iris.Species\n",
    "\n",
    "from sklearn.model_selection import *\n",
    "my_cv = KFold(n_splits=5) # 5分割交差検証\n",
    "my_score = cross_validate(my_model, X, y,\n",
    "                          cv=my_cv,\n",
    "                          return_train_score=True)\n",
    "my_score['test_score'].mean() # 正解率（検証）\n",
    "#> 0.9133333333333333"
   ]
  },
  {
   "cell_type": "code",
   "execution_count": null,
   "metadata": {},
   "outputs": [],
   "source": [
    "my_model.fit(X, y)\n",
    "tree.plot_tree(my_model, filled=True)"
   ]
  }
 ],
 "nbformat": 4,
 "nbformat_minor": 5,
 "metadata": {
  "kernelspec": {
   "name": "python3",
   "display_name": "Python 3"
  }
 }
}
