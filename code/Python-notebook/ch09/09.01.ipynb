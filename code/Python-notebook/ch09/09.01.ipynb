{
 "cells": [
  {
   "cell_type": "code",
   "execution_count": null,
   "metadata": {},
   "outputs": [],
   "source": [
    "import statsmodels.api as sm\n",
    "my_data = sm.datasets.get_rdataset('iris', 'datasets').data\n",
    "my_data.head()\n",
    "#>    Sepal.Length  Sepal.Width  Petal.Length  Petal.Width Species\n",
    "#> 0           5.1          3.5           1.4          0.2  setosa\n",
    "#> 1           4.9          3.0           1.4          0.2  setosa\n",
    "#> 2           4.7          3.2           1.3          0.2  setosa\n",
    "#> 3           4.6          3.1           1.5          0.2  setosa\n",
    "#> 4           5.0          3.6           1.4          0.2  setosa"
   ]
  },
  {
   "cell_type": "code",
   "execution_count": null,
   "metadata": {},
   "outputs": [],
   "source": [
    "my_data.describe()\n",
    "#>        Sepal.Length  Sepal.Width  Petal.Length  Petal.Width\n",
    "#> count    150.000000   150.000000    150.000000   150.000000\n",
    "#> mean       5.843333     3.057333      3.758000     1.199333\n",
    "#> std        0.828066     0.435866      1.765298     0.762238\n",
    "#> min        4.300000     2.000000      1.000000     0.100000\n",
    "#> 25%        5.100000     2.800000      1.600000     0.300000\n",
    "#> 50%        5.800000     3.000000      4.350000     1.300000\n",
    "#> 75%        6.400000     3.300000      5.100000     1.800000\n",
    "#> max        7.900000     4.400000      6.900000     2.500000"
   ]
  }
 ],
 "nbformat": 4,
 "nbformat_minor": 5,
 "metadata": {
  "kernelspec": {
   "name": "python3",
   "display_name": "Python 3"
  }
 }
}
