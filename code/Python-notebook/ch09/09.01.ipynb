{
 "cells": [
  {
   "cell_type": "markdown",
   "metadata": {},
   "source": [
    "### 9.1.2 Pythonの場合"
   ]
  },
  {
   "cell_type": "code",
   "execution_count": null,
   "metadata": {},
   "outputs": [],
   "source": [
    "import statsmodels.api as sm\n",
    "iris = sm.datasets.get_rdataset('iris', 'datasets').data\n",
    "iris.head()\n",
    "#>    Sepal.Length  Sepal.Width  Petal.Length  Petal.Width Species\n",
    "#> 0           5.1          3.5           1.4          0.2  setosa\n",
    "#> 1           4.9          3.0           1.4          0.2  setosa\n",
    "#> 2           4.7          3.2           1.3          0.2  setosa\n",
    "#> 3           4.6          3.1           1.5          0.2  setosa\n",
    "#> 4           5.0          3.6           1.4          0.2  setosa"
   ]
  },
  {
   "cell_type": "code",
   "execution_count": null,
   "metadata": {},
   "outputs": [],
   "source": [
    "iris.info()\n",
    "#> <class 'pandas.core.frame.DataFrame'>\n",
    "#> RangeIndex: 150 entries, 0 to 149\n",
    "#> Data columns (total 5 columns):\n",
    "#>  #   Column        Non-Null Count  Dtype\n",
    "#> ---  ------        --------------  -----\n",
    "#>  0   Sepal.Length  150 non-null    float64\n",
    "#>  1   Sepal.Width   150 non-null    float64\n",
    "#>  2   Petal.Length  150 non-null    float64\n",
    "#>  3   Petal.Width   150 non-null    float64\n",
    "#>  4   Species       150 non-null    object\n",
    "#> dtypes: float64(4), object(1)\n",
    "#> memory usage: 6.0+ KB"
   ]
  }
 ],
 "nbformat": 4,
 "nbformat_minor": 5,
 "metadata": {
  "kernelspec": {
   "name": "python3",
   "display_name": "Python 3"
  }
 }
}
