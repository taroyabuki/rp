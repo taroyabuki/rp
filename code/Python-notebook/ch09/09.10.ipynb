{
 "cells": [
  {
   "cell_type": "code",
   "execution_count": null,
   "metadata": {},
   "outputs": [],
   "source": [
    "import statsmodels.api as sm\n",
    "iris = sm.datasets.get_rdataset('iris', 'datasets').data\n",
    "X, y = iris.iloc[:, 0:4], iris.Species\n",
    "\n",
    "for c in range(4):\n",
    "    X.iloc[:, c] = [np.nan if np.random.random() < 0.1 else x for x in X.iloc[:, c]]\n",
    "\n",
    "X.describe()\n",
    "#>        Sepal.Length  Sepal.Width  Petal.Length  Petal.Width\n",
    "#> count    134.000000   144.000000    136.000000   128.000000\n",
    "#> 以下略"
   ]
  },
  {
   "cell_type": "code",
   "execution_count": null,
   "metadata": {},
   "outputs": [],
   "source": [
    "import xgboost\n",
    "my_model = xgboost.XGBClassifier()\n",
    "\n",
    "# 5分割交差検証（10回）\n",
    "from sklearn.model_selection import *\n",
    "my_cv = RepeatedKFold(n_splits=5, n_repeats=10)\n",
    "\n",
    "my_scores = cross_val_score(my_model, X, y, cv=my_cv, n_jobs=-1)\n",
    "my_scores.mean() # 正解率（検証）\n",
    "#> 0.9513333333333334"
   ]
  }
 ],
 "nbformat": 4,
 "nbformat_minor": 5,
 "metadata": {
  "kernelspec": {
   "name": "python3",
   "display_name": "Python 3"
  }
 }
}
