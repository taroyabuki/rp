{
 "cells": [
  {
   "cell_type": "code",
   "execution_count": null,
   "metadata": {},
   "outputs": [],
   "source": [
    "import numpy as np\n",
    "# 正解\n",
    "y = np.array(['serosa', 'setosa'])\n",
    "\n",
    "# 予測\n",
    "y_A = np.array(['serosa', 'versicolor'])\n",
    "\n",
    "# 比較\n",
    "y_A == y\n",
    "#> array([ True, False])\n",
    "\n",
    "# 正解率\n",
    "np.mean(y_A == y)\n",
    "#> 0.5"
   ]
  },
  {
   "cell_type": "markdown",
   "metadata": {},
   "source": [
    "### 9.4.2 Pythonの場合"
   ]
  },
  {
   "cell_type": "code",
   "execution_count": null,
   "metadata": {},
   "outputs": [],
   "source": [
    "import statsmodels.api as sm\n",
    "iris = sm.datasets.get_rdataset('iris', 'datasets').data\n",
    "X, y = iris.iloc[:, 0:4], iris.Species\n",
    "\n",
    "from sklearn.neighbors import KNeighborsClassifier\n",
    "my_model = KNeighborsClassifier(n_neighbors=5)\n",
    "my_model.fit(X, y)\n",
    "my_pred = my_model.predict(X)\n",
    "\n",
    "from sklearn.metrics import confusion_matrix\n",
    "confusion_matrix(y, my_pred) # Rの仕様に合わせる．\n",
    "#> array([[50,  0,  0],\n",
    "#>        [ 0, 47,  2],\n",
    "#>        [ 0,  3, 48]])"
   ]
  },
  {
   "cell_type": "code",
   "execution_count": null,
   "metadata": {},
   "outputs": [],
   "source": [
    "my_model.score(X, y)\n",
    "# あるいは\n",
    "my_pred = my_model.predict(X)\n",
    "(y == my_pred).mean()\n",
    "#> 0.9666666666666667"
   ]
  }
 ],
 "nbformat": 4,
 "nbformat_minor": 5,
 "metadata": {
  "kernelspec": {
   "name": "python3",
   "display_name": "Python 3"
  }
 }
}
