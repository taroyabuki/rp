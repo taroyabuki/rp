{
 "cells": [
  {
   "cell_type": "markdown",
   "metadata": {},
   "source": [
    "### 9.5.2 Pythonの場合"
   ]
  },
  {
   "cell_type": "code",
   "execution_count": null,
   "metadata": {},
   "outputs": [],
   "source": [
    "from sklearn.neighbors import KNeighborsClassifier\n",
    "my_model = KNeighborsClassifier()\n",
    "\n",
    "# チューニングの設定（1以上21未満のKを調べる．）\n",
    "params = {'n_neighbors': list(range(1,21))}"
   ]
  },
  {
   "cell_type": "code",
   "execution_count": null,
   "metadata": {},
   "outputs": [],
   "source": [
    "import statsmodels.api as sm\n",
    "iris = sm.datasets.get_rdataset('iris', 'datasets').data\n",
    "X, y = iris.iloc[:, 0:4], iris.Species\n",
    "\n",
    "# 5分割交差検証（10回）\n",
    "from sklearn.model_selection import *\n",
    "my_cv = RepeatedKFold(n_splits=5, n_repeats=10)\n",
    "\n",
    "# パラメータチューニングの設定\n",
    "my_search = GridSearchCV(my_model,\n",
    "                         params,\n",
    "                         cv=my_cv,\n",
    "                         return_train_score=True) # 正解率（訓練）の保存\n",
    "\n",
    "# 訓練（チューニング）\n",
    "my_search.fit(X, y)\n",
    "\n",
    "my_search.best_params_ # 最良パラメータ\n",
    "#> {'n_neighbors': 9}\n",
    "\n",
    "my_search.best_score_ # 正解率（検証）\n",
    "#> 0.968"
   ]
  },
  {
   "cell_type": "code",
   "execution_count": null,
   "metadata": {},
   "outputs": [],
   "source": [
    "import pandas as pd\n",
    "my_result = my_search.cv_results_\n",
    "my_df = pd.DataFrame({'k':range(1,21),\n",
    "                      'train':my_result['mean_train_score'],\n",
    "                      'test':my_result['mean_test_score']})\n",
    "my_df.plot(x='k', ylabel='Accuracy', style='o-')"
   ]
  }
 ],
 "nbformat": 4,
 "nbformat_minor": 5,
 "metadata": {
  "kernelspec": {
   "name": "python3",
   "display_name": "Python 3"
  }
 }
}
