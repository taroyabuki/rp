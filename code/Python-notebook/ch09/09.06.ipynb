{
 "cells": [
  {
   "cell_type": "markdown",
   "metadata": {},
   "source": [
    "### 9.6.2 Pythonの場合"
   ]
  },
  {
   "cell_type": "code",
   "execution_count": null,
   "metadata": {},
   "outputs": [],
   "source": [
    "from sklearn.neural_network import MLPClassifier\n",
    "from sklearn.pipeline import Pipeline\n",
    "from sklearn.preprocessing import StandardScaler\n",
    "\n",
    "my_model = Pipeline([('sc', StandardScaler()), # 標準化\n",
    "                     ('mlp', MLPClassifier(max_iter=1000))])\n",
    "\n",
    "# 収束に関する警告を非表示にする．\n",
    "import warnings\n",
    "from sklearn.exceptions import ConvergenceWarning\n",
    "warnings.simplefilter('ignore', ConvergenceWarning)\n",
    "\n",
    "import statsmodels.api as sm\n",
    "iris = sm.datasets.get_rdataset('iris', 'datasets').data\n",
    "X, y = iris.iloc[:, 0:4], iris.Species\n",
    "\n",
    "from sklearn.model_selection import *\n",
    "my_cv = KFold(5) # 5分割交差検証\n",
    "my_score = cross_validate(my_model, X, y,\n",
    "                          cv=my_cv,\n",
    "                          return_train_score=True)\n",
    "my_score['test_score'].mean() # 正解率（検証）\n",
    "#> 0.9266666666666667"
   ]
  }
 ],
 "nbformat": 4,
 "nbformat_minor": 5,
 "metadata": {
  "kernelspec": {
   "name": "python3",
   "display_name": "Python 3"
  }
 }
}
