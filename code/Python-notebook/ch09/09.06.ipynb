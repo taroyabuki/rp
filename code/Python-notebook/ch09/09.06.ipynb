{
 "cells": [
  {
   "cell_type": "markdown",
   "metadata": {},
   "source": [
    "### 9.6.2 Pythonの場合"
   ]
  },
  {
   "cell_type": "code",
   "execution_count": null,
   "metadata": {},
   "outputs": [],
   "source": [
    "from sklearn.neural_network import MLPClassifier\n",
    "from sklearn.pipeline import Pipeline\n",
    "from sklearn.preprocessing import StandardScaler\n",
    "\n",
    "my_model = Pipeline([('sc', StandardScaler()), ('mlp', MLPClassifier())])\n",
    "my_model.set_params(mlp__activation='logistic',\n",
    "                    mlp__max_iter=50000)\n",
    "\n",
    "# チューニングの設定（隠れ層のニューロン数：1, 3, 5）\n",
    "params = {'mlp__hidden_layer_sizes': [(1, ), (3, ), (5, )]}\n",
    "\n",
    "# 収束に関する警告を非表示にする．\n",
    "import warnings\n",
    "from sklearn.exceptions import ConvergenceWarning\n",
    "warnings.simplefilter('ignore', ConvergenceWarning)"
   ]
  },
  {
   "cell_type": "code",
   "execution_count": null,
   "metadata": {},
   "outputs": [],
   "source": [
    "# 割愛（データの読み込み，交差検証の設定，チューニングの実行）\n",
    "\n",
    "my_search.best_params_ # 最良パラメータ\n",
    "#> {'mlp__hidden_layer_sizes': (5,)}\n",
    "\n",
    "my_search.best_score_ # 正解率（検証）\n",
    "#> 0.9633333333333333"
   ]
  }
 ],
 "nbformat": 4,
 "nbformat_minor": 5,
 "metadata": {
  "kernelspec": {
   "name": "python3",
   "display_name": "Python 3"
  }
 }
}
