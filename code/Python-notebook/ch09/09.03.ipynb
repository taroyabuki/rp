{
 "cells": [
  {
   "cell_type": "markdown",
   "metadata": {},
   "source": [
    "### 9.3.2 Pythonの場合"
   ]
  },
  {
   "cell_type": "code",
   "execution_count": null,
   "metadata": {},
   "outputs": [],
   "source": [
    "import statsmodels.api as sm\n",
    "iris = sm.datasets.get_rdataset('iris', 'datasets').data\n",
    "X, y = iris.iloc[:, 0:4], iris.Species"
   ]
  },
  {
   "cell_type": "code",
   "execution_count": null,
   "metadata": {},
   "outputs": [],
   "source": [
    "from sklearn.neighbors import KNeighborsClassifier\n",
    "my_model = KNeighborsClassifier(n_neighbors=5)\n",
    "my_model.fit(X, y)"
   ]
  },
  {
   "cell_type": "code",
   "execution_count": null,
   "metadata": {},
   "outputs": [],
   "source": [
    "import pandas as pd\n",
    "my_test = pd.DataFrame([[5.0, 3.5, 1.5, 0.5], [6.5, 3.0, 5.0, 2.0]])\n",
    "my_model.predict(my_test)\n",
    "#> array(['setosa', 'virginica'], dtype=object)"
   ]
  },
  {
   "cell_type": "code",
   "execution_count": null,
   "metadata": {},
   "outputs": [],
   "source": [
    "my_model.predict_proba(my_test)\n",
    "#> array([[1. , 0. , 0. ],\n",
    "#>        [0. , 0.2, 0.8]])"
   ]
  }
 ],
 "nbformat": 4,
 "nbformat_minor": 5,
 "metadata": {
  "kernelspec": {
   "name": "python3",
   "display_name": "Python 3"
  }
 }
}
