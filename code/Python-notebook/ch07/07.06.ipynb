{
 "cells": [
  {
   "cell_type": "code",
   "execution_count": null,
   "metadata": {},
   "outputs": [],
   "source": [
    "# データの準備\n",
    "import statsmodels.api as sm\n",
    "from sklearn.linear_model import LinearRegression\n",
    "from sklearn.model_selection import cross_val_score\n",
    "my_data = sm.datasets.get_rdataset('cars', 'datasets').data\n",
    "X, y = my_data[['speed']], my_data['dist']\n",
    "\n",
    "# モデルの指定\n",
    "my_model = LinearRegression()\n",
    "\n",
    "# 検証（5分割交差検証）\n",
    "my_scores = cross_val_score(my_model, X, y)\n",
    "\n",
    "# 5個の決定係数1を得る．\n",
    "my_scores\n",
    "#> array([-0.25789256, -0.21421069, -0.30902773, -0.27346232,  0.02312918])\n",
    "\n",
    "# 平均を決定係数1（検証）とする．\n",
    "my_scores.mean()\n",
    "#> -0.20629282165364665"
   ]
  },
  {
   "cell_type": "code",
   "execution_count": null,
   "metadata": {},
   "outputs": [],
   "source": [
    "-cross_val_score(my_model, X, y, scoring='neg_root_mean_squared_error').mean()\n",
    "#> 15.58402474583013 # RMSE（検証）"
   ]
  },
  {
   "cell_type": "code",
   "execution_count": null,
   "metadata": {},
   "outputs": [],
   "source": [
    "import numpy as np\n",
    "import statsmodels.api as sm\n",
    "from sklearn.linear_model import LinearRegression\n",
    "from sklearn.metrics import make_scorer, mean_squared_error, r2_score\n",
    "from sklearn.model_selection import cross_val_score, LeaveOneOut, RepeatedKFold\n",
    "\n",
    "my_data = sm.datasets.get_rdataset('cars', 'datasets').data\n",
    "X, y = my_data[['speed']], my_data['dist']\n",
    "my_model = LinearRegression().fit(X, y)\n",
    "y_ = my_model.predict(X)"
   ]
  },
  {
   "cell_type": "code",
   "execution_count": null,
   "metadata": {},
   "outputs": [],
   "source": [
    "# RMSE（訓練）\n",
    "mean_squared_error(y, y_)**0.5\n",
    "# あるいは\n",
    "((y_ - y)**2).mean()**0.5\n",
    "#> 15.068855995791381\n",
    "\n",
    "# 決定係数1（訓練）\n",
    "my_model.score(X, y)\n",
    "# あるいは\n",
    "r2_score(y_true=y, y_pred=y_)\n",
    "#> 0.6510793807582509\n",
    "\n",
    "# 決定係数6（訓練）\n",
    "np.corrcoef(y, y_)[0, 1]**2\n",
    "#> 0.6510793807582511"
   ]
  },
  {
   "cell_type": "code",
   "execution_count": null,
   "metadata": {},
   "outputs": [],
   "source": [
    "my_scores = cross_val_score(\n",
    "    my_model, X, y, cv=RepeatedKFold(),\n",
    "    scoring='neg_root_mean_squared_error')\n",
    "my_scores.mean()\n",
    "#> 15.301860331378464 # RMSE（検証）\n",
    "\n",
    "my_scores = cross_val_score(my_model, X, y, cv=RepeatedKFold())\n",
    "my_scores.mean()\n",
    "#> 0.49061365458235245 # 決定係数1（検証）\n",
    "\n",
    "my_scores = cross_val_score(my_model, X, y, cv=RepeatedKFold(),\n",
    "                            scoring=make_scorer(my_r2_6))\n",
    "my_scores.mean()\n",
    "#> 0.6417227070606119 # 決定係数6（検証）"
   ]
  },
  {
   "cell_type": "code",
   "execution_count": null,
   "metadata": {},
   "outputs": [],
   "source": [
    "# 決定係数6（検証）を求める関数\n",
    "def my_r2_6(y_true, y_pred):\n",
    "    return ((np.corrcoef(y_true, y_pred)[0, 1]**2)).mean()\n",
    "\n",
    "cross_val_score(my_model, X, y, cv=RepeatedKFold(),\n",
    "                scoring=make_scorer(my_r2_6)).mean()\n",
    "#> 0.6417227070606119"
   ]
  },
  {
   "cell_type": "code",
   "execution_count": null,
   "metadata": {},
   "outputs": [],
   "source": [
    "# 方法1\n",
    "my_scores = cross_val_score(my_model, X, y, cv=LeaveOneOut(),\n",
    "                            scoring='neg_mean_squared_error')\n",
    "(-my_scores.mean())**0.5\n",
    "#> 15.697306009399101 # RMSE（検証）\n",
    "\n",
    "# 方法2\n",
    "my_scores = cross_val_score(my_model, X, y, cv=LeaveOneOut(),\n",
    "                            scoring='neg_root_mean_squared_error')\n",
    "(my_scores**2).mean()**0.5 # my_scores.mean()ではない\n",
    "#> 15.697306009399101 # RMSE（検証）"
   ]
  },
  {
   "cell_type": "code",
   "execution_count": null,
   "metadata": {},
   "outputs": [],
   "source": [
    "def my_predict(id): # 指定した番号のデータを検証データとし，その予測値を求める．\n",
    "    my_train = my_data.drop([id])\n",
    "    my_valid = my_data.take([id])\n",
    "    X, y = my_train[['speed']], my_train['dist']\n",
    "    return  LinearRegression().fit(X, y).predict(my_valid[['speed']])[0]\n",
    "\n",
    "y  = my_data['dist']\n",
    "y_ = [my_predict(id) for id in range(len(y))] # LOOCVでの予測値\n",
    "\n",
    "mean_squared_error(y, y_)**0.5       # RMSE（検証）\n",
    "#> 15.697306009399101                # （前と同じ結果）\n",
    "\n",
    "r2_score(y_true=y, y_pred=y_)        # 決定係数1（検証）\n",
    "#> 0.6213688690415049\n",
    "\n",
    "np.corrcoef(y, y_)[0, 1]**2          # 決定係数6（検証）\n",
    "#> 0.6217139186808114"
   ]
  },
  {
   "cell_type": "code",
   "execution_count": null,
   "metadata": {},
   "outputs": [],
   "source": [
    "import pandas as pd\n",
    "import statsmodels.api as sm\n",
    "from sklearn.linear_model import LinearRegression\n",
    "from sklearn.metrics import mean_squared_error\n",
    "from sklearn.model_selection import cross_val_score, LeaveOneOut\n",
    "from sklearn.neighbors import KNeighborsRegressor\n",
    "\n",
    "my_data = sm.datasets.get_rdataset('cars', 'datasets').data\n",
    "X, y = my_data[['speed']], my_data['dist']\n",
    "\n",
    "my_lm_scores = cross_val_score(\n",
    "    LinearRegression(),\n",
    "    X, y, cv=LeaveOneOut(), scoring='neg_mean_squared_error')\n",
    "\n",
    "my_knn_socres = cross_val_score(\n",
    "    KNeighborsRegressor(n_neighbors=5),\n",
    "    X, y, cv=LeaveOneOut(), scoring='neg_mean_squared_error')"
   ]
  },
  {
   "cell_type": "code",
   "execution_count": null,
   "metadata": {},
   "outputs": [],
   "source": [
    "(-my_lm_scores.mean())**0.5\n",
    "#> 15.697306009399101 # 線形回帰分析\n",
    "\n",
    "(-my_knn_socres.mean())**0.5\n",
    "#> 16.07308308943869 # K最近傍法"
   ]
  },
  {
   "cell_type": "code",
   "execution_count": null,
   "metadata": {},
   "outputs": [],
   "source": [
    "my_df = pd.DataFrame({\n",
    "    'lm':my_lm_scores,\n",
    "    'knn':my_knn_socres})\n",
    "my_df.head()\n",
    "#>            lm     knn\n",
    "#> 0  -18.913720 -108.16\n",
    "#> 1 -179.215044   -0.64\n",
    "#> 2  -41.034336  -64.00\n",
    "#> 3 -168.490212 -184.96\n",
    "#> 4   -5.085308   -0.00"
   ]
  },
  {
   "cell_type": "code",
   "execution_count": null,
   "metadata": {},
   "outputs": [],
   "source": [
    "my_df.boxplot().set_ylabel(\"$r^2$\")"
   ]
  },
  {
   "cell_type": "code",
   "execution_count": null,
   "metadata": {},
   "outputs": [],
   "source": [
    "from statsmodels.stats.weightstats import CompareMeans, DescrStatsW\n",
    "d = DescrStatsW(my_df.lm - my_df.knn)\n",
    "d.ttest_mean()[1] # p値\n",
    "#> 0.6952755720536115\n",
    "\n",
    "d.tconfint_mean(alpha = 0.05, alternative='two-sided') # 信頼区間\n",
    "#> (-72.8275283312228, 48.95036023665703)"
   ]
  }
 ],
 "nbformat": 4,
 "nbformat_minor": 5,
 "metadata": {
  "kernelspec": {
   "name": "python3",
   "display_name": "Python 3"
  }
 }
}
