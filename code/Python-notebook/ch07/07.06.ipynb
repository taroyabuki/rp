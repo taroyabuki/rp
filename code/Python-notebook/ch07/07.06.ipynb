{
 "cells": [
  {
   "cell_type": "markdown",
   "metadata": {},
   "source": [
    "### 7.6.2 Pythonの場合"
   ]
  },
  {
   "cell_type": "code",
   "execution_count": null,
   "metadata": {},
   "outputs": [],
   "source": [
    "import statsmodels.api as sm\n",
    "my_data = sm.datasets.get_rdataset('cars', 'datasets').data\n",
    "from sklearn.linear_model import LinearRegression\n",
    "lr = LinearRegression()\n",
    "my_result = lr.fit(my_data[['speed']], my_data['dist'])\n",
    "my_data['prediction'] = my_result.predict(my_data[['speed']])"
   ]
  },
  {
   "cell_type": "code",
   "execution_count": null,
   "metadata": {},
   "outputs": [],
   "source": [
    "my_data['residual'] = my_data['dist'] - my_data['prediction']\n",
    "my_data.head()\n",
    "#>    speed  dist  prediction   residual\n",
    "#> 0      4     2   -1.849460   3.849460\n",
    "#> 1      4    10   -1.849460  11.849460\n",
    "#> 2      7     4    9.947766  -5.947766\n",
    "#> 3      7    22    9.947766  12.052234\n",
    "#> 4      8    16   13.880175   2.119825"
   ]
  },
  {
   "cell_type": "code",
   "execution_count": null,
   "metadata": {},
   "outputs": [],
   "source": [
    "# 残差計算の前にやってもいいのではないか？と思いました．\n",
    "import matplotlib.pyplot as plt\n",
    "plt.scatter(my_data['speed'], my_data['dist'], c='c', label='train')\n",
    "plt.plot(my_data['speed'], my_data['prediction'], c='k', label='prediction')\n",
    "for i in my_data.index:\n",
    "    v = my_data.loc[i]\n",
    "    plt.vlines(v['speed'], v['dist'], v['prediction'], colors='g', linestyles='dashed')\n",
    "plt.xlabel('speed')\n",
    "plt.ylabel('dist')\n",
    "plt.legend()"
   ]
  },
  {
   "cell_type": "code",
   "execution_count": null,
   "metadata": {},
   "outputs": [],
   "source": [
    "(my_data['residual'] ** 2).mean()\n",
    "# あるいは\n",
    "from sklearn.metrics import mean_squared_error\n",
    "mean_squared_error(my_data['dist'], my_data['prediction'])\n",
    "\n",
    "#> 227.07042102189783"
   ]
  }
 ],
 "nbformat": 4,
 "nbformat_minor": 5,
 "metadata": {
  "kernelspec": {
   "name": "python3",
   "display_name": "Python 3"
  }
 }
}
