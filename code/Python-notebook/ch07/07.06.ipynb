{
 "cells": [
  {
   "cell_type": "markdown",
   "metadata": {},
   "source": [
    "### 7.6.2 Pythonの場合"
   ]
  },
  {
   "cell_type": "code",
   "execution_count": null,
   "metadata": {},
   "outputs": [],
   "source": [
    "from sklearn.linear_model import LinearRegression\n",
    "my_model = LinearRegression()\n",
    "\n",
    "import statsmodels.api as sm\n",
    "my_data = sm.datasets.get_rdataset('cars', 'datasets').data\n",
    "X, y = my_data[['speed']], my_data['dist']\n",
    "my_model.fit(X, y)\n",
    "\n",
    "my_data['prediction'] = my_model.predict(X)"
   ]
  },
  {
   "cell_type": "code",
   "execution_count": null,
   "metadata": {},
   "outputs": [],
   "source": [
    "my_data['residual'] = my_data['dist'] - my_data['prediction']\n",
    "my_data.head()\n",
    "#>    speed  dist  prediction   residual\n",
    "#> 0      4     2   -1.849460   3.849460\n",
    "#> 1      4    10   -1.849460  11.849460\n",
    "#> 2      7     4    9.947766  -5.947766\n",
    "#> 3      7    22    9.947766  12.052234\n",
    "#> 4      8    16   13.880175   2.119825"
   ]
  },
  {
   "cell_type": "code",
   "execution_count": null,
   "metadata": {},
   "outputs": [],
   "source": [
    "import matplotlib.pyplot as plt\n",
    "plt.scatter(my_data['speed'], my_data['dist'], label='data')\n",
    "plt.plot(my_data['speed'], my_data['prediction'], label='model')\n",
    "for i in my_data.index:\n",
    "    v = my_data.loc[i]\n",
    "    plt.vlines(v['speed'], v['dist'], v['prediction'], colors='g', linestyles='dashed')\n",
    "plt.xlabel('speed')\n",
    "plt.ylabel('dist')\n",
    "plt.legend()"
   ]
  },
  {
   "cell_type": "code",
   "execution_count": null,
   "metadata": {},
   "outputs": [],
   "source": [
    "(my_data['residual'] ** 2).mean() ** 0.5\n",
    "# あるいは\n",
    "from sklearn.metrics import mean_squared_error\n",
    "mean_squared_error(my_data['dist'], my_data['prediction']) ** 0.5\n",
    "\n",
    "#> 15.068855995791381"
   ]
  }
 ],
 "nbformat": 4,
 "nbformat_minor": 5,
 "metadata": {
  "kernelspec": {
   "name": "python3",
   "display_name": "Python 3"
  }
 }
}
