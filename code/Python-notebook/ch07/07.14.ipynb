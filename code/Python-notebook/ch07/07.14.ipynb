{
 "cells": [
  {
   "cell_type": "code",
   "execution_count": null,
   "metadata": {},
   "outputs": [],
   "source": [
    "import pandas as pd\n",
    "import numpy as np\n",
    "from sklearn.linear_model import LinearRegression\n",
    "from sklearn.preprocessing import PolynomialFeatures\n",
    "\n",
    "import statsmodels.api as sm\n",
    "my_data = sm.datasets.get_rdataset('cars', 'datasets').data\n",
    "X, y = my_data[['speed']], my_data[['dist']]\n",
    "\n",
    "from sklearn.model_selection import *\n",
    "my_cv = RepeatedKFold(n_splits=5, n_repeats=10) # 5分割交差検証（10回）"
   ]
  },
  {
   "cell_type": "code",
   "execution_count": null,
   "metadata": {},
   "outputs": [],
   "source": [
    "def f(x):\n",
    "    my_model = LinearRegression()\n",
    "    X_poly = PolynomialFeatures(x).fit_transform(X)\n",
    "    my_scores =  cross_validate(my_model, X_poly, y, cv=my_cv, n_jobs=-1,\n",
    "                                return_train_score=True) # 決定係数（訓練）も返す．\n",
    "    my_train = my_scores['train_score']\n",
    "    my_test = my_scores['test_score']\n",
    "    s = np.sqrt(len(my_train))\n",
    "    return pd.Series([x,\n",
    "                      my_train.mean(), my_train.std() / s,\n",
    "                      my_test.mean(),  my_test.std()  / s],\n",
    "                     index=['degree',\n",
    "                            'mean_train_score', 'std_error_train',\n",
    "                            'mean_test_score',  'std_error_test'])"
   ]
  },
  {
   "cell_type": "code",
   "execution_count": null,
   "metadata": {},
   "outputs": [],
   "source": [
    "my_x = range(1, 7)\n",
    "my_results = pd.Series(my_x).apply(f)\n",
    "my_results\n",
    "#>    degree  mean_train_score  std_error_train  mean_test_score  std_error_test\n",
    "#> 0     1.0          0.650336         0.005173         0.486990        0.048597\n",
    "#> 1     2.0          0.668367         0.005871         0.508901        0.034347\n",
    "#> 2     3.0          0.675553         0.005857         0.498946        0.037529\n",
    "#> 3     4.0          0.687773         0.005565         0.443572        0.088367\n",
    "#> 4     5.0          0.692880         0.005051         0.473242        0.043312\n",
    "#> 5     6.0          0.697218         0.005812        -0.500109        0.644328"
   ]
  },
  {
   "cell_type": "code",
   "execution_count": null,
   "metadata": {},
   "outputs": [],
   "source": [
    "my_df = pd.DataFrame({\n",
    "    'x':my_x,\n",
    "    'train':my_results['mean_train_score'],\n",
    "    'validation':my_results['mean_test_score']})\n",
    "\n",
    "my_errors = pd.DataFrame({\n",
    "    'x':my_x,\n",
    "    'train':my_results['std_error_train'],\n",
    "    'validation':my_results['std_error_test']}).set_index('x')\n",
    "\n",
    "import matplotlib.pyplot as plt\n",
    "my_df.plot(x='x', yerr=my_errors)\n",
    "plt.ylabel('R^2')\n",
    "plt.xlabel('degree')"
   ]
  }
 ],
 "nbformat": 4,
 "nbformat_minor": 5,
 "metadata": {
  "kernelspec": {
   "name": "python3",
   "display_name": "Python 3"
  }
 }
}
