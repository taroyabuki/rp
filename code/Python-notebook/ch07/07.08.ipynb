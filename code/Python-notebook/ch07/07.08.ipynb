{
 "cells": [
  {
   "cell_type": "markdown",
   "metadata": {},
   "source": [
    "### 7.8.2 Pythonの場合"
   ]
  },
  {
   "cell_type": "code",
   "execution_count": null,
   "metadata": {},
   "outputs": [],
   "source": [
    "import statsmodels.api as sm\n",
    "my_data = sm.datasets.get_rdataset('cars', 'datasets').data\n",
    "\n",
    "from sklearn.neighbors import KNeighborsRegressor\n",
    "my_knr = KNeighborsRegressor() #n_neighbors=5)\n",
    "my_knr.fit(my_data[['speed']] , my_data['dist'])"
   ]
  },
  {
   "cell_type": "code",
   "execution_count": null,
   "metadata": {},
   "outputs": [],
   "source": []
  },
  {
   "cell_type": "code",
   "execution_count": null,
   "metadata": {},
   "outputs": [],
   "source": [
    "# pltとfig,axのスタイルの違いを，最初にmatplotlibを紹介するところで書きましょう．ここは，pltで．\n",
    "# fig, ax = plt.subplots()\n",
    "tmp = np.linspace(my_data['speed'].min(), my_data['speed'].max(), num=100)\n",
    "y_ = my_knr.predict(tmp[:, np.newaxis])\n",
    "\n",
    "plt.scatter(my_data['speed'], my_data['dist'], c='c', label='training')\n",
    "plt.plot(tmp, y_, c='k', label='prediction')\n",
    "plt.xlabel('speed')\n",
    "plt.ylabel('dist')\n",
    "plt.legend()"
   ]
  }
 ],
 "nbformat": 4,
 "nbformat_minor": 5,
 "metadata": {
  "kernelspec": {
   "name": "python3",
   "display_name": "Python 3"
  }
 }
}
