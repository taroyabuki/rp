{
 "cells": [
  {
   "cell_type": "code",
   "execution_count": null,
   "metadata": {},
   "outputs": [],
   "source": [
    "import numpy as np\n",
    "import pandas as pd\n",
    "import statsmodels.api as sm\n",
    "from sklearn.metrics import mean_squared_error\n",
    "from sklearn.model_selection import GridSearchCV\n",
    "from sklearn.neighbors import KNeighborsRegressor\n",
    "\n",
    "my_data = sm.datasets.get_rdataset('cars', 'datasets').data\n",
    "X, y = my_data[['speed']], my_data['dist']\n",
    "\n",
    "my_params = {'n_neighbors':range(1, 16)} # 探索範囲（1以上15以下の整数）\n",
    "\n",
    "my_search = GridSearchCV(estimator=KNeighborsRegressor(),\n",
    "                         param_grid=my_params,\n",
    "                         cv=len(y),\n",
    "                         scoring='neg_mean_squared_error')\n",
    "my_search.fit(X, y)"
   ]
  },
  {
   "cell_type": "code",
   "execution_count": null,
   "metadata": {},
   "outputs": [],
   "source": [
    "tmp = my_search.cv_results_\n",
    "my_df = pd.DataFrame(\n",
    "    {'n_neighbors':\n",
    "     my_params['n_neighbors'],\n",
    "     'validation':\n",
    "     (-tmp['mean_test_score'])**0.5})\n",
    "my_df.plot(x='n_neighbors',\n",
    "           style='o-',\n",
    "           ylabel='RMSE')"
   ]
  },
  {
   "cell_type": "code",
   "execution_count": null,
   "metadata": {},
   "outputs": [],
   "source": [
    "my_search.best_params_\n",
    "#> {'n_neighbors': 5}"
   ]
  },
  {
   "cell_type": "code",
   "execution_count": null,
   "metadata": {},
   "outputs": [],
   "source": [
    "(-my_search.best_score_)**0.5\n",
    "#> 16.07308308943869"
   ]
  },
  {
   "cell_type": "code",
   "execution_count": null,
   "metadata": {},
   "outputs": [],
   "source": [
    "my_model = my_search.best_estimator_\n",
    "y_ = my_model.predict(X)\n",
    "mean_squared_error(y_, y)**0.5\n",
    "#> 13.087184571174962"
   ]
  },
  {
   "cell_type": "code",
   "execution_count": null,
   "metadata": {},
   "outputs": [],
   "source": [
    "import pandas as pd\n",
    "import statsmodels.api as sm\n",
    "from sklearn.metrics import mean_squared_error\n",
    "from sklearn.model_selection import cross_val_score\n",
    "from sklearn.neighbors import KNeighborsRegressor\n",
    "\n",
    "my_data = sm.datasets.get_rdataset('cars', 'datasets').data\n",
    "X, y = my_data[['speed']], my_data['dist']\n",
    "\n",
    "def f(k):\n",
    "    my_model = KNeighborsRegressor(n_neighbors=k)\n",
    "    my_scores = cross_val_score(my_model, X, y,\n",
    "                                cv=len(y),                        # LOOCV\n",
    "                                scoring='neg_mean_squared_error') # MSE\n",
    "    y_ = my_model.fit(X, y).predict(X)\n",
    "    return pd.Series([k,\n",
    "                      (-my_scores.mean())**0.5,        # RMSE（検証）\n",
    "                      mean_squared_error(y_, y)**0.5], # RMSE（訓練）\n",
    "                     index=['n_neighbors', 'validation', 'training'])\n",
    "\n",
    "my_results = pd.Series(range(1, 16)).apply(f)"
   ]
  },
  {
   "cell_type": "code",
   "execution_count": null,
   "metadata": {},
   "outputs": [],
   "source": [
    "my_results.plot(x='n_neighbors',\n",
    "                style='o-',\n",
    "                ylabel='RMSE')"
   ]
  }
 ],
 "nbformat": 4,
 "nbformat_minor": 5,
 "metadata": {
  "kernelspec": {
   "name": "python3",
   "display_name": "Python 3"
  }
 }
}
