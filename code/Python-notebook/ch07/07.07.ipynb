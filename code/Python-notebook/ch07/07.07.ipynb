{
 "cells": [
  {
   "cell_type": "code",
   "execution_count": null,
   "metadata": {},
   "outputs": [],
   "source": [
    "import numpy as np\n",
    "import pandas as pd\n",
    "import statsmodels.api as sm\n",
    "from sklearn.metrics import mean_squared_error\n",
    "from sklearn.model_selection import GridSearchCV, LeaveOneOut\n",
    "from sklearn.neighbors import KNeighborsRegressor\n",
    "\n",
    "my_data = sm.datasets.get_rdataset('cars', 'datasets').data\n",
    "X, y = my_data[['speed']], my_data['dist']\n",
    "\n",
    "my_params = {'n_neighbors':range(1, 16)} # 探索範囲（1以上15以下の整数）\n",
    "\n",
    "my_search = GridSearchCV(estimator=KNeighborsRegressor(),\n",
    "                         param_grid=my_params,\n",
    "                         cv=LeaveOneOut(),\n",
    "                         scoring='neg_mean_squared_error')\n",
    "my_search.fit(X, y)"
   ]
  },
  {
   "cell_type": "code",
   "execution_count": null,
   "metadata": {},
   "outputs": [],
   "source": [
    "tmp = my_search.cv_results_\n",
    "my_df = pd.DataFrame(\n",
    "    {'n_neighbors':\n",
    "     my_params['n_neighbors'],\n",
    "     'validation':\n",
    "     (-tmp['mean_test_score'])**0.5})\n",
    "my_df.plot(x='n_neighbors',\n",
    "           style='o-',\n",
    "           ylabel='RMSE')"
   ]
  },
  {
   "cell_type": "code",
   "execution_count": null,
   "metadata": {},
   "outputs": [],
   "source": [
    "my_search.best_params_\n",
    "#> {'n_neighbors': 5}"
   ]
  },
  {
   "cell_type": "code",
   "execution_count": null,
   "metadata": {},
   "outputs": [],
   "source": [
    "(-my_search.best_score_)**0.5\n",
    "#> 16.07308308943869"
   ]
  },
  {
   "cell_type": "code",
   "execution_count": null,
   "metadata": {},
   "outputs": [],
   "source": [
    "my_model = my_search.best_estimator_\n",
    "y_ = my_model.predict(X)\n",
    "mean_squared_error(y_, y)**0.5\n",
    "#> 13.087184571174962"
   ]
  },
  {
   "cell_type": "code",
   "execution_count": null,
   "metadata": {},
   "outputs": [],
   "source": [
    "import pandas as pd\n",
    "import statsmodels.api as sm\n",
    "from sklearn.model_selection import GridSearchCV, LeaveOneOut\n",
    "from sklearn.neighbors import KNeighborsRegressor\n",
    "\n",
    "my_data = sm.datasets.get_rdataset('cars', 'datasets').data\n",
    "X, y = my_data[['speed']], my_data['dist']\n",
    "\n",
    "my_params = {'n_neighbors':range(1, 16)} # 探索範囲（1以上15以下の整数）\n",
    "\n",
    "my_search = GridSearchCV(estimator=KNeighborsRegressor(),\n",
    "                         param_grid=my_params,\n",
    "                         cv=LeaveOneOut(),\n",
    "                         scoring='neg_mean_squared_error',\n",
    "                         return_train_score=True)\n",
    "my_search.fit(X, y)"
   ]
  },
  {
   "cell_type": "code",
   "execution_count": null,
   "metadata": {},
   "outputs": [],
   "source": [
    "tmp = my_search.cv_results_\n",
    "my_df = pd.DataFrame(\n",
    "    {'n_neighbors':\n",
    "     my_params['n_neighbors'],\n",
    "     'validation':\n",
    "     (-tmp['mean_test_score'])**0.5,\n",
    "     'training':\n",
    "     (-tmp['mean_train_score'])**0.5})\n",
    "my_df.plot(x='n_neighbors',\n",
    "           style='o-',\n",
    "           ylabel='RMSE')"
   ]
  }
 ],
 "nbformat": 4,
 "nbformat_minor": 5,
 "metadata": {
  "kernelspec": {
   "name": "python3",
   "display_name": "Python 3"
  }
 }
}
