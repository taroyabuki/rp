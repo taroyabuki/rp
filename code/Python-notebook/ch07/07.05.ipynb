{
 "cells": [
  {
   "cell_type": "markdown",
   "metadata": {},
   "source": [
    "### 7.5.2 Pythonの場合"
   ]
  },
  {
   "cell_type": "code",
   "execution_count": null,
   "metadata": {},
   "outputs": [],
   "source": [
    "import statsmodels.api as sm\n",
    "my_data = sm.datasets.get_rdataset('cars', 'datasets').data\n",
    "X, y = my_data[['speed']], my_data['dist']\n",
    "\n",
    "from sklearn.linear_model import LinearRegression\n",
    "my_model = LinearRegression()\n",
    "my_model.fit(X, y)"
   ]
  },
  {
   "cell_type": "code",
   "execution_count": null,
   "metadata": {},
   "outputs": [],
   "source": [
    "my_test = pd.DataFrame({'speed':[21.5]})\n",
    "my_model.predict(my_test)\n",
    "#> array([66.96769343])"
   ]
  },
  {
   "cell_type": "code",
   "execution_count": null,
   "metadata": {},
   "outputs": [],
   "source": [
    "y_ = my_model.predict(X) # 訓練データに対する予測\n",
    "my_data.assign(model=y_).plot(x='speed', style=['o', '-'])"
   ]
  },
  {
   "cell_type": "code",
   "execution_count": null,
   "metadata": {},
   "outputs": [],
   "source": [
    "import pandas as pd\n",
    "import numpy as np\n",
    "# モデル可視化用のデータフレームを作る．\n",
    "my_min, my_max = my_data['speed'].min(), my_data['speed'].max()\n",
    "tmp = pd.DataFrame({'speed':np.linspace(my_min, my_max, num=100)})\n",
    "y_ = my_model.predict(tmp)  # 予測し，\n",
    "tmp2 = tmp.assign(model=y_) # 結果をデータフレームに加える．\n",
    "\n",
    "tmp3 = pd.concat([my_data, tmp2])      # 訓練データとモデル可視化用データフレームを連結し，\n",
    "tmp3.plot(x='speed', style=['o', '-']) # 可視化する．\n",
    "# （先と同じ結果のため割愛）"
   ]
  }
 ],
 "nbformat": 4,
 "nbformat_minor": 5,
 "metadata": {
  "kernelspec": {
   "name": "python3",
   "display_name": "Python 3"
  }
 }
}
