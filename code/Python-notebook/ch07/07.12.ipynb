{
 "cells": [
  {
   "cell_type": "markdown",
   "metadata": {},
   "source": [
    "### 7.12.2 Pythonの場合"
   ]
  },
  {
   "cell_type": "code",
   "execution_count": null,
   "metadata": {},
   "outputs": [],
   "source": [
    "from sklearn.neighbors import KNeighborsRegressor\n",
    "my_model = KNeighborsRegressor()\n",
    "my_params = {'n_neighbors': list(range(1,16))} # K=1から15を調べる．"
   ]
  },
  {
   "cell_type": "code",
   "execution_count": null,
   "metadata": {},
   "outputs": [],
   "source": [
    "from sklearn.model_selection import *\n",
    "my_cv = RepeatedKFold(n_splits=5, n_repeats=20) # 5分割交差検証（20回）"
   ]
  },
  {
   "cell_type": "code",
   "execution_count": null,
   "metadata": {},
   "outputs": [],
   "source": [
    "import statsmodels.api as sm\n",
    "my_data = sm.datasets.get_rdataset('cars', 'datasets').data\n",
    "X, y = my_data[['speed']], my_data['dist']\n",
    "\n",
    "my_search = GridSearchCV(my_model,\n",
    "                         my_params,\n",
    "                         cv=my_cv,\n",
    "                         return_train_score=True) # 訓練データでのスコアも計算する．\n",
    "my_search.fit(X, y) # チューニングの実行"
   ]
  },
  {
   "cell_type": "code",
   "execution_count": null,
   "metadata": {},
   "outputs": [],
   "source": [
    "import pandas as pd\n",
    "my_result = my_search.cv_results_\n",
    "my_df = pd.DataFrame({'k':range(1, 16),\n",
    "                      'train': my_result['mean_train_score'],\n",
    "                      'test': my_result['mean_test_score']})\n",
    "my_df.plot(x='k', ylabel='R^22', style='o-')"
   ]
  }
 ],
 "nbformat": 4,
 "nbformat_minor": 5,
 "metadata": {
  "kernelspec": {
   "name": "python3",
   "display_name": "Python 3"
  }
 }
}
