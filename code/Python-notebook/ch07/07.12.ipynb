{
 "cells": [
  {
   "cell_type": "markdown",
   "metadata": {},
   "source": [
    "### 7.12.2 Pythonの場合"
   ]
  },
  {
   "cell_type": "code",
   "execution_count": null,
   "metadata": {},
   "outputs": [],
   "source": [
    "import statsmodels.api as sm\n",
    "my_data = sm.datasets.get_rdataset('cars', 'datasets').data"
   ]
  },
  {
   "cell_type": "code",
   "execution_count": null,
   "metadata": {},
   "outputs": [],
   "source": [
    "from sklearn.model_selection import *\n",
    "from sklearn.neighbors import KNeighborsRegressor\n",
    "\n",
    "my_knr = KNeighborsRegressor()\n",
    "params = {'n_neighbors': list(range(1,16))}\n",
    "rkf = RepeatedKFold(n_splits=5, n_repeats=20)\n",
    "clf = GridSearchCV(my_knr, params, cv=rkf, scoring='neg_mean_squared_error', return_train_score=True)\n",
    "\n",
    "clf.fit(my_data[['speed']], my_data['dist'])"
   ]
  },
  {
   "cell_type": "code",
   "execution_count": null,
   "metadata": {},
   "outputs": [],
   "source": [
    "import numpy as np\n",
    "rmse = np.sqrt(-clf.cv_results_['mean_test_score'])\n",
    "plt.plot(range(1, 16), rmse)\n",
    "plt.xlabel('k')\n",
    "plt.ylabel('rmse')"
   ]
  }
 ],
 "nbformat": 4,
 "nbformat_minor": 5,
 "metadata": {
  "kernelspec": {
   "name": "python3",
   "display_name": "Python 3"
  }
 }
}
