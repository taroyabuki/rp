{
 "cells": [
  {
   "cell_type": "markdown",
   "metadata": {},
   "source": [
    "### 7.11.2 Pythonの場合"
   ]
  },
  {
   "cell_type": "code",
   "execution_count": null,
   "metadata": {},
   "outputs": [],
   "source": [
    "import statsmodels.api as sm\n",
    "my_data = sm.datasets.get_rdataset('cars', 'datasets').data"
   ]
  },
  {
   "cell_type": "code",
   "execution_count": null,
   "metadata": {},
   "outputs": [],
   "source": [
    "from sklearn.linear_model import LinearRegression\n",
    "from sklearn.model_selection import cross_validate\n",
    "\n",
    "# from sklearn.metrics import mean_squared_error\n",
    "\n",
    "lr = LinearRegression()\n",
    "scores = cross_validate(lr, my_data[['speed']], my_data['dist'], cv=5,\n",
    "                        scoring = 'neg_mean_squared_error',\n",
    "                        return_train_score=True)"
   ]
  },
  {
   "cell_type": "code",
   "execution_count": null,
   "metadata": {},
   "outputs": [],
   "source": [
    "scores\n",
    "#> {'fit_time': array([0.00793219, 0.00227952, 0.00231218, 0.00296402, 0.00247073]),\n",
    "#>  'score_time': array([0.0033319 , 0.00127578, 0.00138569, 0.00131702, 0.00129986]),\n",
    "#>  'test_score': array([-110.30459822, -82.56632671, -379.09442919, -337.67126901, -419.62462927]),\n",
    "#>  'train_score': array([-264.33903892, -264.72197576, -189.41831029, -200.41976329, -201.86693026])}"
   ]
  },
  {
   "cell_type": "code",
   "execution_count": null,
   "metadata": {},
   "outputs": [],
   "source": [
    "np.mean(np.sqrt(-scores['test_score']))\n",
    "#> 15.58402474583013"
   ]
  },
  {
   "cell_type": "code",
   "execution_count": null,
   "metadata": {},
   "outputs": [],
   "source": [
    "import statsmodels.api as sm\n",
    "my_data = sm.datasets.get_rdataset('cars', 'datasets').data\n",
    "X, y = my_data[['speed']], my_data[['dist']]\n",
    "\n",
    "from sklearn.model_selection import *\n",
    "my_cv = RepeatedKFold(n_splits=5, n_repeats=5) # K分割交差検証（5回）\n",
    "\n",
    "# 線形単回帰分析\n",
    "from sklearn.linear_model import LinearRegression\n",
    "my_lm_model = LinearRegression()\n",
    "my_lm_scores = cross_val_score(my_lm_model, X, y, cv=my_cv)\n",
    "my_lm_scores.mean()\n",
    "#> 0.5873534834160824\n",
    "\n",
    "# K最近傍法\n",
    "from sklearn.neighbors import KNeighborsRegressor\n",
    "my_knn_model = KNeighborsRegressor()\n",
    "my_knn_scores = cross_val_score(my_knn_model, X, y, cv=my_cv)\n",
    "my_knn_scores.mean()\n",
    "#> 0.4999752343319323"
   ]
  },
  {
   "cell_type": "code",
   "execution_count": null,
   "metadata": {},
   "outputs": [],
   "source": [
    "my_df = pd.DataFrame({'lm': my_lm_scores, 'knn': my_knn_scores})\n",
    "my_df.head()\n",
    "#>          lm       knn\n",
    "#> 0  0.809073  0.581115\n",
    "#> 1  0.803353  0.583306\n",
    "#> 2  0.652358  0.478726\n",
    "#> 3  0.317201  0.676515\n",
    "#> 4  0.540462  0.564383"
   ]
  },
  {
   "cell_type": "code",
   "execution_count": null,
   "metadata": {},
   "outputs": [],
   "source": [
    "my_df.boxplot()"
   ]
  },
  {
   "cell_type": "code",
   "execution_count": null,
   "metadata": {},
   "outputs": [],
   "source": [
    "from scipy import stats\n",
    "stats.mannwhitneyu(my_lm_scores, my_knn_scores, alternative='two-sided')\n",
    "#> MannwhitneyuResult(statistic=327.0, pvalue=0.7858989168050492)"
   ]
  }
 ],
 "nbformat": 4,
 "nbformat_minor": 5,
 "metadata": {
  "kernelspec": {
   "name": "python3",
   "display_name": "Python 3"
  }
 }
}
