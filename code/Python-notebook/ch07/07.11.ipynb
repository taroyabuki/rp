{
 "cells": [
  {
   "cell_type": "markdown",
   "metadata": {},
   "source": [
    "### 7.11.2 Pythonの場合"
   ]
  },
  {
   "cell_type": "code",
   "execution_count": null,
   "metadata": {},
   "outputs": [],
   "source": [
    "from sklearn.model_selection import *\n",
    "my_cv = KFold(5) # 5分割交差検証"
   ]
  },
  {
   "cell_type": "code",
   "execution_count": null,
   "metadata": {},
   "outputs": [],
   "source": [
    "from sklearn.linear_model import LinearRegression\n",
    "my_model = LinearRegression()\n",
    "\n",
    "import statsmodels.api as sm\n",
    "my_data = sm.datasets.get_rdataset('cars', 'datasets').data\n",
    "X, y = my_data[['speed']], my_data['dist']\n",
    "\n",
    "my_score = cross_validate(my_model, X, y,\n",
    "                          cv=my_cv,\n",
    "                          return_train_score=True)"
   ]
  },
  {
   "cell_type": "code",
   "execution_count": null,
   "metadata": {},
   "outputs": [],
   "source": [
    "my_score\n",
    "#> {'fit_time': array([0.00233173, 0.0016377 , 0.01008534, 0.00153947, 0.0017395 ]),\n",
    "#>  'score_time': array([0.00134301, 0.00132465, 0.0011909 , 0.00202823, 0.00120544]),\n",
    "#>  'test_score': array([-0.25789256, -0.21421069, -0.30902773, -0.27346232,  0.02312918]),\n",
    "#>  'train_score': array([0.52996992, 0.63554457, 0.74429689, 0.71795674, 0.47109477])}"
   ]
  },
  {
   "cell_type": "code",
   "execution_count": null,
   "metadata": {},
   "outputs": [],
   "source": [
    "my_score['test_score'].mean()\n",
    "#> -0.20629282165364665"
   ]
  },
  {
   "cell_type": "code",
   "execution_count": null,
   "metadata": {},
   "outputs": [],
   "source": [
    "import statsmodels.api as sm\n",
    "my_data = sm.datasets.get_rdataset('cars', 'datasets').data\n",
    "X, y = my_data[['speed']], my_data[['dist']]\n",
    "\n",
    "from sklearn.model_selection import *\n",
    "my_cv = RepeatedKFold(n_splits=5, n_repeats=5) # 5分割交差検証（5回）\n",
    "\n",
    "# 線形単回帰分析\n",
    "from sklearn.linear_model import LinearRegression\n",
    "my_lm_model = LinearRegression()\n",
    "my_lm_score = cross_val_score(my_lm_model, X, y, cv=my_cv)\n",
    "my_lm_score.mean()\n",
    "#> 0.5873534834160824\n",
    "\n",
    "# K最近傍法\n",
    "from sklearn.neighbors import KNeighborsRegressor\n",
    "my_knn_model = KNeighborsRegressor()\n",
    "my_knn_score = cross_val_score(my_knn_model, X, y, cv=my_cv)\n",
    "my_knn_score.mean()\n",
    "#> 0.4999752343319323"
   ]
  },
  {
   "cell_type": "code",
   "execution_count": null,
   "metadata": {},
   "outputs": [],
   "source": [
    "my_df = pd.DataFrame({'lm': my_lm_score, 'knn': my_knn_score})\n",
    "my_df.head()\n",
    "#>          lm       knn\n",
    "#> 0  0.809073  0.581115\n",
    "#> 1  0.803353  0.583306\n",
    "#> 2  0.652358  0.478726\n",
    "#> 3  0.317201  0.676515\n",
    "#> 4  0.540462  0.564383"
   ]
  },
  {
   "cell_type": "code",
   "execution_count": null,
   "metadata": {},
   "outputs": [],
   "source": [
    "my_df.boxplot()"
   ]
  },
  {
   "cell_type": "code",
   "execution_count": null,
   "metadata": {},
   "outputs": [],
   "source": [
    "from scipy import stats\n",
    "stats.mannwhitneyu(my_lm_score, my_knn_score, alternative='two-sided')\n",
    "#> MannwhitneyuResult(statistic=327.0, pvalue=0.7858989168050492)"
   ]
  }
 ],
 "nbformat": 4,
 "nbformat_minor": 5,
 "metadata": {
  "kernelspec": {
   "name": "python3",
   "display_name": "Python 3"
  }
 }
}
