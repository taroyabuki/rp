{
 "cells": [
  {
   "cell_type": "code",
   "execution_count": null,
   "metadata": {},
   "outputs": [],
   "source": [
    "import numpy as np\n",
    "import matplotlib.pyplot as plt\n",
    "x = np.arange(-2, 2, 0.1)\n",
    "y = 1.0 / (1 + np.exp(-x))\n",
    "plt.plot(x, y)"
   ]
  },
  {
   "cell_type": "markdown",
   "metadata": {},
   "source": [
    "### 7.10.2 Pythonの場合"
   ]
  },
  {
   "cell_type": "code",
   "execution_count": null,
   "metadata": {},
   "outputs": [],
   "source": [
    "from sklearn.preprocessing import StandardScaler\n",
    "from sklearn.neural_network import MLPRegressor\n",
    "from sklearn.pipeline import Pipeline\n",
    "my_model = Pipeline([('sc', StandardScaler()), ('mlp', MLPRegressor())])\n",
    "my_model.set_params(mlp__max_iter=1000)"
   ]
  },
  {
   "cell_type": "code",
   "execution_count": null,
   "metadata": {},
   "outputs": [],
   "source": [
    "import statsmodels.api as sm\n",
    "my_data = sm.datasets.get_rdataset('cars', 'datasets').data\n",
    "X, y = my_data[['speed']], my_data['dist']\n",
    "my_model.fit(X, y)"
   ]
  },
  {
   "cell_type": "code",
   "execution_count": null,
   "metadata": {},
   "outputs": [],
   "source": [
    "import pandas as pd\n",
    "import numpy as np\n",
    "my_min, my_max = my_data['speed'].min(), my_data['speed'].max()\n",
    "tmp = pd.DataFrame({'speed':np.linspace(my_min, my_max, num=100)})\n",
    "tmp['model'] = my_model.predict(tmp)\n",
    "pd.concat([my_data, tmp]).plot(x='speed', style=['o', '-'])"
   ]
  }
 ],
 "nbformat": 4,
 "nbformat_minor": 5,
 "metadata": {
  "kernelspec": {
   "name": "python3",
   "display_name": "Python 3"
  }
 }
}
