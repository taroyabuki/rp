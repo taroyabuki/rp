{
 "cells": [
  {
   "cell_type": "code",
   "execution_count": null,
   "metadata": {},
   "outputs": [],
   "source": [
    "import numpy as np\n",
    "import matplotlib.pyplot as plt\n",
    "x = np.arange(-2, 2, 0.1)\n",
    "y = 1.0 / (1 + np.exp(-x))\n",
    "plt.plot(x, y)"
   ]
  },
  {
   "cell_type": "markdown",
   "metadata": {},
   "source": [
    "### 7.10.2 Pythonの場合"
   ]
  },
  {
   "cell_type": "code",
   "execution_count": null,
   "metadata": {},
   "outputs": [],
   "source": [
    "import matplotlib.pyplot as plt\n",
    "\n",
    "import statsmodels.api as sm\n",
    "my_data = sm.datasets.get_rdataset('cars', 'datasets').data"
   ]
  },
  {
   "cell_type": "code",
   "execution_count": null,
   "metadata": {},
   "outputs": [],
   "source": [
    "from sklearn.preprocessing import StandardScaler\n",
    "from sklearn.neural_network import MLPRegressor\n",
    "from sklearn.pipeline import Pipeline\n",
    "\n",
    "# Pipelineの説明が必要．\n",
    "# パラメータの値はどうするか？（どう説明するか？）\n",
    "my_model = Pipeline([('sc', StandardScaler()), ('mlp', MLPRegressor())])\n",
    "my_model.set_params(mlp__hidden_layer_sizes=(3, ),\n",
    "                    mlp__activation='logistic',\n",
    "                    mlp__max_iter=50000)\n",
    "\n",
    "# 手動でパラメータ調整しましたが，5万を超えるとちょっと時間がかかりすぎかなという気がしたので，この辺でやめておきます．\n",
    "my_model.fit(my_data[['speed']], my_data['dist'])"
   ]
  },
  {
   "cell_type": "code",
   "execution_count": null,
   "metadata": {},
   "outputs": [],
   "source": [
    "# scaler.inverse_transformを使うべきか・・・\n",
    "import numpy as np\n",
    "tmp = np.linspace(my_data['speed'].min(), my_data['speed'].max(), num=100)\n",
    "# 2行にわけてもよいかも．\n",
    "y_ = my_model.predict(tmp[:, np.newaxis])\n",
    "plt.scatter(my_data['speed'], my_data['dist'], c='c', label='train')\n",
    "plt.plot(tmp, y_, c='k', label='prediction')\n",
    "plt.xlabel('speed')\n",
    "plt.ylabel('dist')\n",
    "plt.legend()"
   ]
  }
 ],
 "nbformat": 4,
 "nbformat_minor": 5,
 "metadata": {
  "kernelspec": {
   "name": "python3",
   "display_name": "Python 3"
  }
 }
}
