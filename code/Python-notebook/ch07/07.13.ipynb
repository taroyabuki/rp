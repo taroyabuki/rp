{
 "cells": [
  {
   "cell_type": "markdown",
   "metadata": {},
   "source": [
    "### 7.13.2 Pythonの場合"
   ]
  },
  {
   "cell_type": "code",
   "execution_count": null,
   "metadata": {},
   "outputs": [],
   "source": [
    "my_score = cross_validate(my_model, X, y, cv=my_cv,\n",
    "                          n_jobs=-1, # 並列計算\n",
    "                          return_train_score=True)\n",
    "# 以下は省略\n",
    "\n",
    "my_scores = cross_val_score(my_model, X, y, cv=my_cv,\n",
    "                            n_jobs=-1) # 並列計算\n",
    "# 以下は省略\n",
    "\n",
    "my_search = GridSearchCV(my_model,\n",
    "                         my_params,\n",
    "                         cv=my_cv,\n",
    "                         n_jobs=-1, # 並列計算\n",
    "                         return_train_score=True)\n",
    "# 以下は省略"
   ]
  }
 ],
 "nbformat": 4,
 "nbformat_minor": 5,
 "metadata": {
  "kernelspec": {
   "name": "python3",
   "display_name": "Python 3"
  }
 }
}
