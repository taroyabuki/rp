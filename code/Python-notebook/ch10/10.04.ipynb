{
 "cells": [
  {
   "cell_type": "markdown",
   "metadata": {},
   "source": [
    "### 10.4.2 Pythonの場合"
   ]
  },
  {
   "cell_type": "code",
   "execution_count": null,
   "metadata": {},
   "outputs": [],
   "source": [
    "import pandas as pd\n",
    "my_url = 'https://raw.githubusercontent.com/taroyabuki/fromzero/master/data/titanic.csv'\n",
    "my_data = pd.read_csv(my_url)\n",
    "my_data.head()\n",
    "#>   Class   Sex    Age Survived\n",
    "#> 0   1st  Male  Child      Yes\n",
    "#> 1   1st  Male  Child      Yes\n",
    "#> 2   1st  Male  Child      Yes\n",
    "#> 3   1st  Male  Child      Yes\n",
    "#> 4   1st  Male  Child      Yes"
   ]
  },
  {
   "cell_type": "markdown",
   "metadata": {},
   "source": [
    "#### 10.4.3.2 Pythonの場合"
   ]
  },
  {
   "cell_type": "code",
   "execution_count": null,
   "metadata": {},
   "outputs": [],
   "source": [
    "import pandas as pd\n",
    "my_url = 'https://raw.githubusercontent.com/taroyabuki/fromzero/master/data/titanic.csv'\n",
    "my_data = pd.read_csv(my_url)\n",
    "\n",
    "X, y = pd.get_dummies(my_data.iloc[:,0:3], drop_first=True), my_data.Survived\n",
    "X.head()\n",
    "#>    Class_2nd  Class_3rd  Class_Crew  Sex_Male  Age_Child\n",
    "#> 0          0          0           0         1          1\n",
    "#> 1          0          0           0         1          1\n",
    "#> 2          0          0           0         1          1\n",
    "#> 3          0          0           0         1          1\n",
    "#> 4          0          0           0         1          1"
   ]
  },
  {
   "cell_type": "code",
   "execution_count": null,
   "metadata": {},
   "outputs": [],
   "source": [
    "from sklearn import tree\n",
    "my_model = tree.DecisionTreeClassifier(max_depth=3)\n",
    "\n",
    "# 5分割交差検証（10回）\n",
    "from sklearn.model_selection import *\n",
    "my_cv = RepeatedKFold(n_splits=5, n_repeats=10)\n",
    "\n",
    "my_scores = cross_val_score(my_model, X, y, cv=my_cv)\n",
    "my_scores.mean() # 正解率（検証）\n",
    "#> 0.7892313955885385"
   ]
  },
  {
   "cell_type": "code",
   "execution_count": null,
   "metadata": {},
   "outputs": [],
   "source": [
    "my_model.fit(X, y)\n",
    "tree.plot_tree(my_model, filled=True)"
   ]
  }
 ],
 "nbformat": 4,
 "nbformat_minor": 5,
 "metadata": {
  "kernelspec": {
   "name": "python3",
   "display_name": "Python 3"
  }
 }
}
