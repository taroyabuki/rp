{
 "cells": [
  {
   "cell_type": "code",
   "execution_count": null,
   "metadata": {},
   "outputs": [],
   "source": [
    "import numpy as np\n",
    "x = np.arange(-6, 6, 0.1)\n",
    "y = 1 / (1 + np.exp(-x))\n",
    "import matplotlib.pyplot as plt\n",
    "plt.plot(x, y)"
   ]
  },
  {
   "cell_type": "markdown",
   "metadata": {},
   "source": [
    "### 10.5.2 Pythonの場合"
   ]
  },
  {
   "cell_type": "code",
   "execution_count": null,
   "metadata": {},
   "outputs": [],
   "source": [
    "import pandas as pd\n",
    "my_url = 'https://raw.githubusercontent.com/taroyabuki/fromzero/master/data/titanic.csv'\n",
    "my_data = pd.read_csv(my_url)\n",
    "X, y = pd.get_dummies(my_data.iloc[:,0:3], drop_first=True), my_data.Survived"
   ]
  },
  {
   "cell_type": "code",
   "execution_count": null,
   "metadata": {},
   "outputs": [],
   "source": [
    "from sklearn.linear_model import LogisticRegression\n",
    "my_model = LogisticRegression()\n",
    "\n",
    "# 5分割交差検証（10回）\n",
    "from sklearn.model_selection import *\n",
    "my_cv = RepeatedKFold(n_splits=5, n_repeats=10)\n",
    "\n",
    "my_scores = cross_val_score(my_model, X, y, cv=my_cv, n_jobs=-1)\n",
    "my_scores.mean() # 正解率（検証）"
   ]
  },
  {
   "cell_type": "code",
   "execution_count": null,
   "metadata": {},
   "outputs": [],
   "source": [
    "my_model.fit(X, y)\n",
    "\n",
    "my_model.coef_\n",
    "#> array([[-0.92869887, -1.68151296, -0.80815719, -2.36602057,  0.9831511 ]])\n",
    "\n",
    "my_model.intercept_\n",
    "#> array([1.94694608])"
   ]
  },
  {
   "cell_type": "code",
   "execution_count": null,
   "metadata": {},
   "outputs": [],
   "source": [
    "my_model.score(X, y) # 正解率（訓練）\n",
    "#> 0.7782825988187188"
   ]
  }
 ],
 "nbformat": 4,
 "nbformat_minor": 5,
 "metadata": {
  "kernelspec": {
   "name": "python3",
   "display_name": "Python 3"
  }
 }
}
