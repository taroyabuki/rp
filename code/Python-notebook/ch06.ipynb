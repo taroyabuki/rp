{
 "cells": [
  {
   "cell_type": "markdown",
   "metadata": {},
   "source": [
    "# 06\n",
    "\n",
    "#### 6.2.2.2 Python"
   ]
  },
  {
   "cell_type": "code",
   "execution_count": null,
   "metadata": {},
   "outputs": [],
   "source": [
    "import statsmodels.api as sm\n",
    "iris = sm.datasets.get_rdataset('iris', 'datasets').data\n",
    "iris\n",
    "#>    Sepal.Length  Sepal.Width  Petal.Length  Petal.Width Species\n",
    "#> 0           5.1          3.5           1.4          0.2  setosa\n",
    "#> （以下省略）"
   ]
  },
  {
   "cell_type": "code",
   "execution_count": null,
   "metadata": {},
   "outputs": [],
   "source": [
    "import seaborn as sns\n",
    "iris = sns.load_dataset('iris')\n",
    "iris.head()\n",
    "#>    sepal_length  sepal_width  petal_length  petal_width species\n",
    "#> 0           5.1          3.5           1.4          0.2  setosa\n",
    "#> （以下省略）"
   ]
  },
  {
   "cell_type": "code",
   "execution_count": null,
   "metadata": {},
   "outputs": [],
   "source": [
    "import pandas as pd\n",
    "from sklearn.datasets import load_iris\n",
    "tmp = load_iris()\n",
    "iris = pd.DataFrame(tmp.data, columns=tmp.feature_names)\n",
    "iris['target'] = tmp.target_names[tmp.target]\n",
    "iris.head()\n",
    "#>    sepal length (cm)  sepal width (cm)  petal length (cm)  petal width (cm)  target\n",
    "#> 0                5.1               3.5                1.4               0.2  setosa\n",
    "#> （以下省略）"
   ]
  }
 ],
 "nbformat": 4,
 "nbformat_minor": 5,
 "metadata": {
  "kernelspec": {
   "name": "python3",
   "display_name": "Python 3"
  }
 }
}
