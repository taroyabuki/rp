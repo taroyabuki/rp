{
 "cells": [
  {
   "cell_type": "code",
   "execution_count": null,
   "metadata": {},
   "outputs": [],
   "source": [
    "import pandas as pd\n",
    "from sklearn.preprocessing import StandardScaler\n",
    "my_url = ('https://raw.githubusercontent.com'\n",
    "          '/taroyabuki/fromzero/master/data/wine.csv')\n",
    "my_data = pd.read_csv(my_url)\n",
    "X, y = my_data.drop(columns=['LPRICE2']), my_data['LPRICE2']\n",
    "\n",
    "# StandardScalerで標準化した結果をデータフレームに戻してから描画する．\n",
    "pd.DataFrame(StandardScaler().fit_transform(X), columns=X.columns).boxplot()"
   ]
  },
  {
   "cell_type": "code",
   "execution_count": null,
   "metadata": {},
   "outputs": [],
   "source": [
    "my_model = Pipeline([\n",
    "    ('sc', StandardScaler()),\n",
    "    ('lm', LinearRegression())])\n",
    "my_model.fit(X, y)"
   ]
  },
  {
   "cell_type": "code",
   "execution_count": null,
   "metadata": {},
   "outputs": [],
   "source": [
    "tmp = my_model.named_steps.lm\n",
    "[tmp.intercept_, tmp.coef_]\n",
    "[my_model.intercept_, my_model.coef_]\n",
    "#> [-1.4517651851851847,  # (Intercept)\n",
    "#>  array([ 0.14774133,   # WRAIN\n",
    "#>          0.39872399,   # DEGREES\n",
    "#>         -0.27680173,   # HRAIN\n",
    "#>          0.19297881])] # TIME_SV"
   ]
  },
  {
   "cell_type": "code",
   "execution_count": null,
   "metadata": {},
   "outputs": [],
   "source": [
    "my_test = [[500, 17, 120, 2]]\n",
    "my_model.predict(my_test)\n",
    "#> array([-1.49884253])"
   ]
  }
 ],
 "nbformat": 4,
 "nbformat_minor": 5,
 "metadata": {
  "kernelspec": {
   "name": "python3",
   "display_name": "Python 3"
  }
 }
}
