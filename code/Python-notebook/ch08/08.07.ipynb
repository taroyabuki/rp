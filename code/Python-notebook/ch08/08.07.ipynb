{
 "cells": [
  {
   "cell_type": "markdown",
   "metadata": {},
   "source": [
    "### 8.7.1 ニューラルネットワークとは何か"
   ]
  },
  {
   "cell_type": "code",
   "execution_count": null,
   "metadata": {},
   "outputs": [],
   "source": [
    "import numpy as np\n",
    "import matplotlib.pyplot as plt\n",
    "x = np.linspace(-6, 6, 100)\n",
    "y = 1 / (1 + np.exp(-x))\n",
    "plt.plot(x, y)"
   ]
  },
  {
   "cell_type": "markdown",
   "metadata": {},
   "source": [
    "### 8.7.2 ニューラルネットワークの訓練"
   ]
  },
  {
   "cell_type": "code",
   "execution_count": null,
   "metadata": {},
   "outputs": [],
   "source": [
    "import pandas as pd\n",
    "from sklearn.neural_network import MLPRegressor\n",
    "from sklearn.metrics import mean_squared_error\n",
    "from sklearn.model_selection import cross_val_score, GridSearchCV, LeaveOneOut\n",
    "from sklearn.pipeline import Pipeline\n",
    "from sklearn.preprocessing import StandardScaler\n",
    "\n",
    "my_url = ('https://raw.githubusercontent.com'\n",
    "          '/taroyabuki/fromzero/master/data/wine.csv')\n",
    "my_data = pd.read_csv(my_url)\n",
    "X, y = my_data.drop(columns=['LPRICE2']), my_data['LPRICE2']"
   ]
  },
  {
   "cell_type": "code",
   "execution_count": null,
   "metadata": {},
   "outputs": [],
   "source": [
    "my_pipeline = Pipeline([('sc', StandardScaler()),        # 標準化\n",
    "                        ('mlp', MLPRegressor())])        # ニューラルネットワーク\n",
    "my_pipeline.fit(X, y)                                    # 訓練\n",
    "\n",
    "my_scores = cross_val_score(my_pipeline, X, y,\n",
    "                            scoring='neg_root_mean_squared_error')"
   ]
  },
  {
   "cell_type": "code",
   "execution_count": null,
   "metadata": {},
   "outputs": [],
   "source": [
    "y_ = my_pipeline.predict(X)\n",
    "mean_squared_error(y_, y)**0.5\n",
    "#> 0.23277167397113335 # RMSE（訓練）\n",
    "\n",
    "-my_scores.mean()\n",
    "#> 0.46383292352312744 # RMSE（検証）"
   ]
  },
  {
   "cell_type": "markdown",
   "metadata": {},
   "source": [
    "### 8.7.3 ニューラルネットワークのチューニング"
   ]
  },
  {
   "cell_type": "code",
   "execution_count": null,
   "metadata": {},
   "outputs": [],
   "source": [
    "my_pipeline = Pipeline([\n",
    "    ('sc', StandardScaler()),\n",
    "    ('mlp', MLPRegressor(tol=1e-5,         # 改善したと見なす基準\n",
    "                         max_iter=5000))]) # 改善しなくなるまでの反復数\n",
    "my_layers = (1, 3, 5,                                         # 隠れ層1層の場合\n",
    "             (1, 1), (3, 1), (5, 1), (1, 2), (3, 2), (5, 2))  # 隠れ層2層の場合\n",
    "my_params = {'mlp__activation': ('logistic', 'tanh', 'relu'), # 活性化関数\n",
    "             'mlp__hidden_layer_sizes': my_layers}            # 隠れ層の構造\n",
    "my_search = GridSearchCV(estimator=my_pipeline,\n",
    "                         param_grid=my_params,\n",
    "                         cv=LeaveOneOut(),\n",
    "                         scoring='neg_mean_squared_error',\n",
    "                         n_jobs=-1).fit(X, y)\n",
    "my_model = my_search.best_estimator_ # 最良モデル\n",
    "\n",
    "my_search.best_params_               # チューニング結果\n",
    "#> {'mlp__activation': 'tanh', 'mlp__hidden_layer_sizes': 3}"
   ]
  },
  {
   "cell_type": "code",
   "execution_count": null,
   "metadata": {},
   "outputs": [],
   "source": [
    "y_ = my_model.predict(X)\n",
    "mean_squared_error(y_, y)**0.5\n",
    "#> 0.21660824459726416 # RMSE（訓練）\n",
    "\n",
    "(-my_search.best_score_)**0.5\n",
    "#> 0.2832501479521093  # RMSE（検証）"
   ]
  }
 ],
 "nbformat": 4,
 "nbformat_minor": 5,
 "metadata": {
  "kernelspec": {
   "name": "python3",
   "display_name": "Python 3"
  }
 }
}
