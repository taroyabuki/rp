{
 "cells": [
  {
   "cell_type": "markdown",
   "metadata": {},
   "source": [
    "#### 8.4.2.2 Pythonの場合"
   ]
  },
  {
   "cell_type": "code",
   "execution_count": null,
   "metadata": {},
   "outputs": [],
   "source": [
    "from sklearn.linear_model import ElasticNet\n",
    "my_model = ElasticNet()\n",
    "\n",
    "# チューニングの設定\n",
    "import numpy as np\n",
    "params = {'l1_ratio': np.arange(0, 0.001, 0.0001),\n",
    "          'alpha': np.arange(0.01, 0.2, 0.01)}"
   ]
  },
  {
   "cell_type": "code",
   "execution_count": null,
   "metadata": {},
   "outputs": [],
   "source": [
    "import pandas as pd\n",
    "tmp = pd.read_csv('wine.csv')\n",
    "X, y = tmp.iloc[:, 1:5], tmp.LPRICE2\n",
    "\n",
    "from sklearn.model_selection import *\n",
    "my_cv = RepeatedKFold(n_splits=5, n_repeats=25) # 5分割交差検証（10回）\n",
    "\n",
    "import os\n",
    "my_model = GridSearchCV(my_model,\n",
    "                        params,\n",
    "                        cv=my_cv,\n",
    "                        return_train_score=True, # 訓練正解率の保存\n",
    "                        n_jobs=os.cpu_count())   # 並列処理\n",
    "my_model.fit(X, y) # 訓練\n",
    "\n",
    "my_model.best_params_ # 最良パラメータ\n",
    "#> {'alpha': 0.02, 'l1_ratio': 0.0}\n",
    "\n",
    "my_model.best_score_ # 決定係数（検証）\n",
    "#> 0.5672976659881529"
   ]
  },
  {
   "cell_type": "code",
   "execution_count": null,
   "metadata": {},
   "outputs": [],
   "source": [
    "my_model.best_estimator_.coef_ # 係数\n",
    "#> array([ 0.00110609,  0.5817578 , -0.00390292,  0.02462978])\n",
    "\n",
    "my_model.best_estimator_.intercept_ # 定数\n",
    "#> -11.544234226243098"
   ]
  }
 ],
 "nbformat": 4,
 "nbformat_minor": 5,
 "metadata": {
  "kernelspec": {
   "name": "python3",
   "display_name": "Python 3"
  }
 }
}
