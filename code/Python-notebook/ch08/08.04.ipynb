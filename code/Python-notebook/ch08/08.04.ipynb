{
 "cells": [
  {
   "cell_type": "code",
   "execution_count": null,
   "metadata": {},
   "outputs": [],
   "source": [
    "import numpy as np\n",
    "import pandas as pd\n",
    "from sklearn.linear_model import LinearRegression\n",
    "from sklearn.metrics import mean_squared_error\n",
    "from sklearn.model_selection import cross_val_score\n",
    "\n",
    "my_url = ('https://raw.githubusercontent.com'\n",
    "          '/taroyabuki/fromzero/master/data/wine.csv')\n",
    "my_data = pd.read_csv(my_url)\n",
    "\n",
    "n = len(my_data)\n",
    "my_data2 = my_data.assign(rand1=np.random.random(n), rand2=np.random.random(n))\n",
    "my_data2.head()\n",
    "#>    LPRICE2  WRAIN  DEGREES  HRAIN  TIME_SV     rand1     rand2\n",
    "#> 0 -0.99868    600  17.1167    160       31  0.089076  0.877133\n",
    "#> 1 -0.45440    690  16.7333     80       30  0.645344  0.397617\n",
    "#> 2 -0.80796    502  17.1500    130       28  0.238390  0.238026\n",
    "#> 3 -1.50926    420  16.1333    110       26  0.753152  0.951262\n",
    "#> 4 -1.71655    582  16.4167    187       25  0.148555  0.866770"
   ]
  },
  {
   "cell_type": "code",
   "execution_count": null,
   "metadata": {},
   "outputs": [],
   "source": [
    "X, y = my_data2.drop(columns=['LPRICE2']), my_data2['LPRICE2']\n",
    "my_model2 = LinearRegression().fit(X, y)\n",
    "\n",
    "y_ = my_model2.predict(X)\n",
    "mean_squared_error(y_, y)**0.5\n",
    "#> 0.2530051445030606 # RMSE（訓練）\n",
    "\n",
    "my_scores = cross_val_score(my_model2, X, y,\n",
    "                            cv=len(y),                        # LOOCV           \n",
    "                            scoring='neg_mean_squared_error') # MSE\n",
    "(-my_scores.mean())**0.5\n",
    "#> 0.35191104236501053 # RMSE（検証）"
   ]
  }
 ],
 "nbformat": 4,
 "nbformat_minor": 5,
 "metadata": {
  "kernelspec": {
   "name": "python3",
   "display_name": "Python 3"
  }
 }
}
