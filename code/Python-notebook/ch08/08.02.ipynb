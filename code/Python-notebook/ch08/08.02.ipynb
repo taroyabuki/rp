{
 "cells": [
  {
   "cell_type": "code",
   "execution_count": null,
   "metadata": {},
   "outputs": [],
   "source": [
    "import pandas as pd\n",
    "from sklearn.linear_model import LinearRegression\n",
    "from sklearn.metrics import mean_squared_error\n",
    "from sklearn.model_selection import cross_val_score\n",
    "\n",
    "my_url = ('https://raw.githubusercontent.com'\n",
    "          '/taroyabuki/fromzero/master/data/wine.csv')\n",
    "my_data = pd.read_csv(my_url)\n",
    "X, y = my_data.drop(columns=['LPRICE2']), my_data['LPRICE2']\n",
    "\n",
    "my_model = LinearRegression().fit(X, y)"
   ]
  },
  {
   "cell_type": "code",
   "execution_count": null,
   "metadata": {},
   "outputs": [],
   "source": [
    "[my_model.intercept_, my_model.coef_]\n",
    "#> [-12.145333576510417,  # (Intercept)\n",
    "#>  array([ 0.00116678,   # WRAIN\n",
    "#>          0.61639244,   # DEGREES\n",
    "#>         -0.00386055,   # HRAIN\n",
    "#>          0.02384741])] # TIME_SV"
   ]
  },
  {
   "cell_type": "code",
   "execution_count": null,
   "metadata": {},
   "outputs": [],
   "source": [
    "my_test = [[500, 17, 120, 2]]\n",
    "my_model.predict(my_test)\n",
    "#> array([-1.49884253])"
   ]
  },
  {
   "cell_type": "code",
   "execution_count": null,
   "metadata": {},
   "outputs": [],
   "source": [
    "y_ = my_model.predict(X)\n",
    "\n",
    "mean_squared_error(y_, y)**0.5\n",
    "#> 0.2586166620130621 # RMSE（訓練）\n",
    "\n",
    "my_model.score(X, y)\n",
    "#> 0.8275277990052154 # 決定係数1\n",
    "\n",
    "import numpy as np\n",
    "np.corrcoef(y, y_)[0, 1]**2\n",
    "#> 0.8275277990052158 # 決定係数6"
   ]
  },
  {
   "cell_type": "code",
   "execution_count": null,
   "metadata": {},
   "outputs": [],
   "source": [
    "my_scores = cross_val_score(my_model, X, y,\n",
    "                            cv=len(y),                        # LOOCV\n",
    "                            scoring='neg_mean_squared_error') # MSE\n",
    "(-my_scores.mean())**0.5\n",
    "#> 0.32300426518411957 # RMSE（検証）"
   ]
  },
  {
   "cell_type": "code",
   "execution_count": null,
   "metadata": {},
   "outputs": [],
   "source": [
    "import numpy as np\n",
    "M = np.matrix(X.assign(b0=1))\n",
    "np.linalg.solve(M.T @ M, M.T @ y)\n",
    "#> array([ 1.16678230e-03,  # WRAIN\n",
    "#>         6.16392441e-01,  # DEGREES\n",
    "#>        -3.86055357e-03,  # HRAIN\n",
    "#>         2.38474129e-02,  # TIME_SV\n",
    "#>        -1.21453336e+01]) # b0"
   ]
  }
 ],
 "nbformat": 4,
 "nbformat_minor": 5,
 "metadata": {
  "kernelspec": {
   "name": "python3",
   "display_name": "Python 3"
  }
 }
}
