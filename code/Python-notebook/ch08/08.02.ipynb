{
 "cells": [
  {
   "cell_type": "markdown",
   "metadata": {},
   "source": [
    "### 8.2.2 Pythonの場合"
   ]
  },
  {
   "cell_type": "code",
   "execution_count": null,
   "metadata": {},
   "outputs": [],
   "source": [
    "from sklearn.linear_model import LinearRegression\n",
    "my_model = LinearRegression()"
   ]
  },
  {
   "cell_type": "code",
   "execution_count": null,
   "metadata": {},
   "outputs": [],
   "source": [
    "import pandas as pd\n",
    "tmp = pd.read_csv('wine.csv') # 8.1節で作成したwine.csvを使う．\n",
    "#my_url = 'https://raw.githubusercontent.com/taroyabuki/fromzero/master/data/wine.csv'\n",
    "#tmp = pd.read_csv(my_url)\n",
    "X, y = tmp.iloc[:, 1:5], tmp.LPRICE2\n",
    "my_model.fit(X, y) # 訓練"
   ]
  },
  {
   "cell_type": "code",
   "execution_count": null,
   "metadata": {},
   "outputs": [],
   "source": [
    "my_model.coef_ # 係数\n",
    "#> array([ 0.00116678,  0.61639244, -0.00386055,  0.02384741])\n",
    "\n",
    "my_model.intercept_ # 定数\n",
    "#> -12.145333576510417"
   ]
  },
  {
   "cell_type": "code",
   "execution_count": null,
   "metadata": {},
   "outputs": [],
   "source": [
    "my_test = pd.DataFrame([[500, 17, 120, 2]],\n",
    "                       columns=['WRAIN', 'DEGREES', 'HRAIN', 'TIME_SV'])\n",
    "my_model.predict(my_test)\n",
    "#> array([-1.49884253])"
   ]
  },
  {
   "cell_type": "code",
   "execution_count": null,
   "metadata": {},
   "outputs": [],
   "source": [
    "from sklearn.model_selection import *\n",
    "my_cv = RepeatedKFold(n_splits=5, n_repeats=10) # 5分割交差検証（10回）\n",
    "\n",
    "import os\n",
    "my_scores = cross_val_score(my_model, X, y, cv=my_cv, n_jobs=os.cpu_count())\n",
    "my_scores.mean() # 決定係数（検証）\n",
    "#> 0.5178759794549234"
   ]
  },
  {
   "cell_type": "code",
   "execution_count": null,
   "metadata": {},
   "outputs": [],
   "source": [
    "import pandas as pd\n",
    "tmp = pd.read_csv('wine.csv') # 8.1節で作成したwine.csvを使う．\n",
    "#my_url = 'https://raw.githubusercontent.com/taroyabuki/fromzero/master/data/wine.csv'\n",
    "#tmp = pd.read_csv(my_url)\n",
    "\n",
    "import numpy as np\n",
    "tmp['b'] = [1] * len(tmp)       # すべて1の列を追加して，\n",
    "A = np.matrix(tmp.iloc[:, 1:6]) # 1から5列目を行列にする．\n",
    "y = tmp['LPRICE2']\n",
    "np.linalg.solve(A.T @ A, A.T @ y) # AT A = AT yを解く（ATはAの転置行列）\n",
    "#> array([ 1.16678230e-03,  6.16392441e-01, -3.86055357e-03,  2.38474129e-02,\n",
    "#>        -1.21453336e+01])"
   ]
  }
 ],
 "nbformat": 4,
 "nbformat_minor": 5,
 "metadata": {
  "kernelspec": {
   "name": "python3",
   "display_name": "Python 3"
  }
 }
}
