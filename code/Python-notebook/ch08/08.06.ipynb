{
 "cells": [
  {
   "cell_type": "code",
   "execution_count": null,
   "metadata": {},
   "outputs": [],
   "source": [
    "import numpy as np\n",
    "import pandas as pd\n",
    "from sklearn.linear_model import ElasticNet, enet_path\n",
    "from sklearn.model_selection import GridSearchCV, LeaveOneOut\n",
    "from sklearn.pipeline import Pipeline\n",
    "from sklearn.preprocessing import StandardScaler\n",
    "from scipy.stats import zscore\n",
    "\n",
    "my_url = ('https://raw.githubusercontent.com'\n",
    "          '/taroyabuki/fromzero/master/data/wine.csv')\n",
    "my_data = pd.read_csv(my_url)\n",
    "X, y = my_data.drop(columns=['LPRICE2']), my_data['LPRICE2']"
   ]
  },
  {
   "cell_type": "code",
   "execution_count": null,
   "metadata": {},
   "outputs": [],
   "source": [
    "A = 2\n",
    "B = 0.1\n",
    "\n",
    "my_model = Pipeline([\n",
    "    ('sc', StandardScaler()),\n",
    "    ('enet', ElasticNet(\n",
    "        alpha=A,\n",
    "        l1_ratio=B))])\n",
    "my_model.fit(X, y)\n",
    "\n",
    "tmp = my_model.named_steps.enet\n",
    "[tmp.intercept_, tmp.coef_]\n",
    "#> [-1.4517651851851852,\n",
    "#>  array([ 0.        ,   # WRAIN\n",
    "#>          0.07410095,   # DEGREES\n",
    "#>         -0.04115856,   # HRAIN\n",
    "#>          0.02402688])] # TIME_SV"
   ]
  },
  {
   "cell_type": "code",
   "execution_count": null,
   "metadata": {},
   "outputs": [],
   "source": [
    "my_test = pd.DataFrame(\n",
    "    [[500, 17, 120, 2]])\n",
    "my_model.predict(my_test)\n",
    "#> array([-1.41981616])"
   ]
  },
  {
   "cell_type": "code",
   "execution_count": null,
   "metadata": {},
   "outputs": [],
   "source": [
    "As = np.e**np.arange(\n",
    "    2, -5.5, -0.1)\n",
    "B = 0.1\n",
    "\n",
    "_, my_path, _ = enet_path(\n",
    "    zscore(X), zscore(y),\n",
    "    alphas=As,\n",
    "    l1_ratio=B)\n",
    "\n",
    "pd.DataFrame(\n",
    "    my_path.T,\n",
    "    columns = X.columns,\n",
    "    index = np.log(As)\n",
    ").plot(\n",
    "    xlabel='log A ( = log alpha)',\n",
    "    ylabel='Coefficients')"
   ]
  },
  {
   "cell_type": "code",
   "execution_count": null,
   "metadata": {},
   "outputs": [],
   "source": [
    "As = np.linspace(0, 0.1, 21)\n",
    "Bs = np.linspace(0, 0.1,  6)\n",
    "\n",
    "my_pipeline = Pipeline([('sc', StandardScaler()),\n",
    "                        ('enet', ElasticNet())])\n",
    "my_search = GridSearchCV(\n",
    "    estimator=my_pipeline,\n",
    "    param_grid={'enet__alpha': As, 'enet__l1_ratio': Bs},\n",
    "    cv=LeaveOneOut(),\n",
    "    scoring='neg_mean_squared_error',\n",
    "    n_jobs=-1).fit(X, y)\n",
    "my_search.best_params_\n",
    "#> {'enet__alpha': 0.075, 'enet__l1_ratio': 0.0}\n",
    "\n",
    "my_model = my_search.best_estimator_ # 最良モデル"
   ]
  },
  {
   "cell_type": "code",
   "execution_count": null,
   "metadata": {},
   "outputs": [],
   "source": [
    "my_scores = (-my_search.cv_results_['mean_test_score'])**0.5\n",
    "\n",
    "tmp = pd.DataFrame(\n",
    "    my_scores.reshape(len(As), -1),\n",
    "    index = As,\n",
    "    columns = Bs.round(3))\n",
    "tmp.plot(style='o-', xlabel='A ( = alpha)', ylabel='RMSE').legend(\n",
    "    title='B ( = l1_ratio)')"
   ]
  },
  {
   "cell_type": "code",
   "execution_count": null,
   "metadata": {},
   "outputs": [],
   "source": [
    "y_ = my_model.predict(X)\n",
    "mean_squared_error(y_, y)**0.5\n",
    "#> 0.2627174747098049  # RMSE（訓練）\n",
    "\n",
    "(-my_search.best_score_)**0.5\n",
    "#> 0.31839530644830927 # RMSE（検証）"
   ]
  },
  {
   "cell_type": "code",
   "execution_count": null,
   "metadata": {},
   "outputs": [],
   "source": [
    "A = 2\n",
    "B = 0.1\n",
    "\n",
    "my_model = Pipeline([\n",
    "    ('sc', StandardScaler()),\n",
    "    ('enet', ElasticNet(\n",
    "        alpha=A,\n",
    "        l1_ratio=B))])\n",
    "my_model.fit(X, zscore(y)) # 対策1"
   ]
  },
  {
   "cell_type": "code",
   "execution_count": null,
   "metadata": {},
   "outputs": [],
   "source": [
    "u = y.mean()\n",
    "s = y.std(ddof=0)\n",
    "\n",
    "my_test = pd.DataFrame(\n",
    "    [[500, 17, 120, 2]])\n",
    "my_model.predict(my_test) * s + u\n",
    "#> array([-1.4347718])"
   ]
  },
  {
   "cell_type": "code",
   "execution_count": null,
   "metadata": {},
   "outputs": [],
   "source": [
    "tmp = my_model.named_steps.enet\n",
    "[tmp.intercept_ - sum(\n",
    "    tmp.coef_ * X.mean() /\n",
    "    X.std(ddof=0)),\n",
    " tmp.coef_ / X.std(ddof=0)]\n",
    "#> [-3.950668387804453,\n",
    "#>  WRAIN      0.000000\n",
    "#>  DEGREES    0.243667\n",
    "#>  HRAIN     -0.001532\n",
    "#>  TIME_SV    0.009727"
   ]
  },
  {
   "cell_type": "code",
   "execution_count": null,
   "metadata": {},
   "outputs": [],
   "source": [
    "[tmp.intercept_, tmp.coef_]\n",
    "#> [6.39844527890396e-16,\n",
    "#>  array([ 0.        ,   # WRAIN\n",
    "#>          0.15761997,   # DEGREES\n",
    "#>         -0.10983842,   # HRAIN\n",
    "#>          0.07870943])] # TIME_SV"
   ]
  }
 ],
 "nbformat": 4,
 "nbformat_minor": 5,
 "metadata": {
  "kernelspec": {
   "name": "python3",
   "display_name": "Python 3"
  }
 }
}
