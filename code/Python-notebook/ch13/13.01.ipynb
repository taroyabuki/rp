{
 "cells": [
  {
   "cell_type": "code",
   "execution_count": null,
   "metadata": {},
   "outputs": [],
   "source": [
    "import pandas as pd\n",
    "my_url = 'https://www.data.jma.go.jp/cpdinfo/temp/list/csv/an_wld.csv'\n",
    "my_data = pd.read_csv(my_url, encoding='sjis') # 文字コードはShift_JIS\n",
    "my_data.head()\n",
    "#>       年  世界全体   北半球   南半球\n",
    "#> 0  1891 -0.63 -0.68 -0.59\n",
    "#> 1  1892 -0.71 -0.80 -0.62\n",
    "#> 2  1893 -0.75 -0.87 -0.63\n",
    "#> 3  1894 -0.70 -0.73 -0.68\n",
    "#> 4  1895 -0.68 -0.75 -0.60"
   ]
  },
  {
   "cell_type": "code",
   "execution_count": null,
   "metadata": {},
   "outputs": [],
   "source": [
    "my_data = my_data.iloc[:129, 0:2] # 最初の129年分，年と世界全体の2列だけ残す．\n",
    "my_data.columns = ['year', 'world']\n",
    "my_data.to_csv('an_wld_en.csv', index=False)"
   ]
  },
  {
   "cell_type": "code",
   "execution_count": null,
   "metadata": {},
   "outputs": [],
   "source": [
    "my_data = pd.read_csv('an_wld_en.csv')\n",
    "my_data.head()\n",
    "#>    year  world\n",
    "#> 0  1891  -0.63\n",
    "#> 1  1892  -0.71\n",
    "#> 2  1893  -0.75\n",
    "#> 3  1894  -0.70\n",
    "#> 4  1895  -0.68"
   ]
  },
  {
   "cell_type": "code",
   "execution_count": null,
   "metadata": {},
   "outputs": [],
   "source": [
    "my_data.query('1981 <= year <= 2010')[['world']].mean()\n",
    "#> world    0.003667\n",
    "#> dtype: float64"
   ]
  },
  {
   "cell_type": "code",
   "execution_count": null,
   "metadata": {},
   "outputs": [],
   "source": [
    "my_data = pd.read_csv('an_wld_en.csv')\n",
    "\n",
    "from sklearn.linear_model import LinearRegression\n",
    "X, y = my_data[['year']], my_data['world']\n",
    "my_model = LinearRegression().fit(X, y)\n",
    "\n",
    "[my_model.intercept_, my_model.coef_] # 係数\n",
    "#> [-14.844194897883124, array([0.00744024])]"
   ]
  }
 ],
 "nbformat": 4,
 "nbformat_minor": 5,
 "metadata": {
  "kernelspec": {
   "name": "python3",
   "display_name": "Python 3"
  }
 }
}
