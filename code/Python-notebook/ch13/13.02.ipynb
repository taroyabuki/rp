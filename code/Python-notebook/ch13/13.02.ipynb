{
 "cells": [
  {
   "cell_type": "code",
   "execution_count": null,
   "metadata": {},
   "outputs": [],
   "source": [
    "# 年の列（Aは年，Sはその初めを表す．）\n",
    "pd.date_range('2020-01-01', '2025-01-01', freq='AS')\n",
    "#> DatetimeIndex(['2020-01-01', '2021-01-01', '2022-01-01', '2023-01-01',\n",
    "#>                '2024-01-01', '2025-01-01'],\n",
    "#>               dtype='datetime64[ns]', freq='AS-JAN')\n",
    "\n",
    "# 年月の列（Mは月，Sはその初めを表す．）\n",
    "pd.date_range('2020-01-01', '2020-05-01', freq='MS')\n",
    "#> DatetimeIndex(['2020-01-01', '2020-02-01', '2020-03-01', '2020-04-01',\n",
    "#>                '2020-05-01'],\n",
    "#>               dtype='datetime64[ns]', freq='MS')\n",
    "\n",
    "# 年月日の列\n",
    "pd.date_range('2020-01-01', '2020-01-05', freq='D')\n",
    "#> DatetimeIndex(['2020-01-01', '2020-01-02', '2020-01-03', '2020-01-04',\n",
    "#>                '2020-01-05'],\n",
    "#>               dtype='datetime64[ns]', freq='D')\n",
    "\n",
    "# 時の列\n",
    "pd.date_range('2020-01-01 12:00:00', '2020-01-01 14:00:00', freq='H')\n",
    "#> DatetimeIndex(['2020-01-01 12:00:00', '2020-01-01 13:00:00',\n",
    "#>                '2020-01-01 14:00:00'],\n",
    "#>               dtype='datetime64[ns]', freq='H')"
   ]
  },
  {
   "cell_type": "code",
   "execution_count": null,
   "metadata": {},
   "outputs": [],
   "source": [
    "import pandas as pd\n",
    "my_data = pd.read_csv('an_wld_en.csv')\n",
    "my_data.index = pd.to_datetime(my_data['year'], format='%Y')"
   ]
  },
  {
   "cell_type": "code",
   "execution_count": null,
   "metadata": {},
   "outputs": [],
   "source": [
    "import pandas as pd\n",
    "my_data = pd.read_csv('an_wld_en.csv')\n",
    "my_data.index = pd.to_datetime(my_data['year'], format='%Y')\n",
    "\n",
    "# 移動平均\n",
    "my_data['mean5'] = my_data.rolling(window=5).mean()['world']\n",
    "\n",
    "# 回帰分析結果\n",
    "from sklearn.linear_model import LinearRegression\n",
    "X, y = my_data[['year']], my_data['world']\n",
    "my_data['lm'] = LinearRegression().fit(X, y).predict(X)\n",
    "my_data.head()\n",
    "#>             year  world  mean5        lm\n",
    "#> year\n",
    "#> 1891-01-01  1891  -0.63    NaN -0.774702\n",
    "#> 1892-01-01  1892  -0.71    NaN -0.767262\n",
    "#> 1893-01-01  1893  -0.75    NaN -0.759822\n",
    "#> 1894-01-01  1894  -0.70    NaN -0.752382\n",
    "#> 1895-01-01  1895  -0.68 -0.694 -0.744941"
   ]
  },
  {
   "cell_type": "code",
   "execution_count": null,
   "metadata": {},
   "outputs": [],
   "source": [
    "my_data[['lm', 'mean5', 'world']].plot(style=['-', '-', 'o-'])"
   ]
  }
 ],
 "nbformat": 4,
 "nbformat_minor": 5,
 "metadata": {
  "kernelspec": {
   "name": "python3",
   "display_name": "Python 3"
  }
 }
}
