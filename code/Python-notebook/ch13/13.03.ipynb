{
 "cells": [
  {
   "cell_type": "code",
   "execution_count": null,
   "metadata": {},
   "outputs": [],
   "source": [
    "import pandas as pd\n",
    "my_data = pd.read_csv('an_wld_en.csv')\n",
    "my_data.index = pd.to_datetime(my_data['year'], format='%Y')\n",
    "\n",
    "my_train = my_data[:109] # 訓練データ\n",
    "my_test  = my_data[-20:] # 検証データ\n",
    "\n",
    "import matplotlib.pyplot as plt\n",
    "plt.plot(my_train[['world']], label='train')\n",
    "plt.plot(my_test[['world']], label='test')\n",
    "plt.legend()"
   ]
  },
  {
   "cell_type": "code",
   "execution_count": null,
   "metadata": {},
   "outputs": [],
   "source": [
    "from sklearn.linear_model import LinearRegression\n",
    "X_train, y_train = my_train[['year']], my_train['world']\n",
    "my_lm_model = LinearRegression().fit(X_train, y_train)\n",
    "\n",
    "import numpy as np\n",
    "from sklearn.metrics import mean_squared_error, r2_score\n",
    "y_ = my_lm_model.predict(X_train)\n",
    "[np.sqrt(mean_squared_error(y_train, y_)), # RMSE\n",
    " r2_score(y_true=y_train, y_pred=y_),      # 決定係数（その1）\n",
    " my_lm_model.score(X_train, y_train)]      # 決定係数（その2）\n",
    "#> [0.11727053954998497, 0.73458474420936, 0.73458474420936]"
   ]
  },
  {
   "cell_type": "code",
   "execution_count": null,
   "metadata": {},
   "outputs": [],
   "source": [
    "X_test, y_test = my_test[['year']], my_test['world']\n",
    "y_ = my_lm_model.predict(X_test)\n",
    "[np.sqrt(mean_squared_error(y_test, y_)), # RMSE\n",
    " r2_score(y_true=y_test, y_pred=y_),      # 決定係数（その1）\n",
    " my_lm_model.score(X_test, y_test)]       # 決定係数（その2）\n",
    "#> [0.22055093276762147, -2.054535483738701, -2.054535483738701]"
   ]
  },
  {
   "cell_type": "code",
   "execution_count": null,
   "metadata": {},
   "outputs": [],
   "source": [
    "from pmdarima import auto_arima\n",
    "my_arima_model = auto_arima(y_train)    # モデルの作成\n",
    "#my_arima_model.summary()               # モデルの確認と診断1（割愛）\n",
    "#my_arima_model.plot_diagnostics()      # モデルの確認と診断2（割愛）\n",
    "\n",
    "y_ = my_arima_model.predict(20)         # 20年分の予測\n",
    "np.sqrt(mean_squared_error(y, y_))      # RMSEの計算\n",
    "#> 0.16406012856510532"
   ]
  },
  {
   "cell_type": "code",
   "execution_count": null,
   "metadata": {},
   "outputs": [],
   "source": [
    "my_model = auto_arima(my_data['world']) # すべてのデータを使う．\n",
    "y_, my_ci = my_model.predict(30,                   # 30年分の予測\n",
    "                             return_conf_int=True) # 信頼区間を求める．\n",
    "\n",
    "from datetime import datetime\n",
    "my_df = pd.DataFrame({'world': y_,\n",
    "                      'Lo': my_ci[:, 0],\n",
    "                      'Hi': my_ci[:, 1]})\n",
    "my_df.index=pd.date_range('2020-01-01', '2049-01-01', freq='AS')\n",
    "my_df.head()\n",
    "#>                world        Lo        Hi\n",
    "#> 2020-01-01  0.411209  0.223448  0.598969\n",
    "#> 2021-01-01  0.383494  0.157460  0.609529\n",
    "#> 2022-01-01  0.380250  0.145498  0.615002\n",
    "#> 2023-01-01  0.398964  0.159492  0.638436\n",
    "#> 2024-01-01  0.397272  0.149843  0.644700"
   ]
  },
  {
   "cell_type": "code",
   "execution_count": null,
   "metadata": {},
   "outputs": [],
   "source": [
    "import matplotlib.pyplot as plt\n",
    "plt.plot(my_data['world'])\n",
    "plt.plot(my_df['world'])\n",
    "plt.fill_between(my_df.index,\n",
    "                 my_df.Lo,\n",
    "                 my_df.Hi,\n",
    "                 color='k',\n",
    "                 alpha=0.25)"
   ]
  },
  {
   "cell_type": "code",
   "execution_count": null,
   "metadata": {},
   "outputs": [],
   "source": [
    "import pandas as pd\n",
    "my_url = 'https://raw.githubusercontent.com/taroyabuki/fromzero/master/data/tokyo-max-temp-2015--2019.csv'\n",
    "my_data = pd.read_csv(my_url,\n",
    "                      encoding='sjis',\n",
    "                      skiprows=5,\n",
    "                      names=['month', 'tokyo', 'quality', 'no'])\n",
    "my_data.head()\n",
    "#>     month  tokyo  quality  no\n",
    "#> 0  2015/1   10.4        8   1\n",
    "#> 1  2015/2   10.4        8   1\n",
    "#> 2  2015/3   15.5        8   1\n",
    "#> 3  2015/4   19.3        8   1\n",
    "#> 4  2015/5   26.4        8   1"
   ]
  },
  {
   "cell_type": "code",
   "execution_count": null,
   "metadata": {},
   "outputs": [],
   "source": [
    "my_data.index = pd.to_datetime(my_data['month'], format='%Y/%m')\n",
    "my_data.head()\n",
    "#>              month  tokyo  quality  no\n",
    "#> month\n",
    "#> 2015-01-01  2015/1   10.4        8   1\n",
    "#> 2015-02-01  2015/2   10.4        8   1\n",
    "#> 2015-03-01  2015/3   15.5        8   1\n",
    "#> 2015-04-01  2015/4   19.3        8   1\n",
    "#> 2015-05-01  2015/5   26.4        8   1"
   ]
  },
  {
   "cell_type": "code",
   "execution_count": null,
   "metadata": {},
   "outputs": [],
   "source": [
    "from pmdarima import auto_arima\n",
    "my_model = auto_arima(my_data['tokyo'])\n",
    "\n",
    "my_pred, my_ci = my_model.predict(24,\n",
    "                                  return_conf_int=True)\n",
    "my_df = pd.DataFrame({'tokyo': my_pred,\n",
    "                      'Lo': my_ci[:, 0],\n",
    "                      'Hi': my_ci[:, 1]})\n",
    "my_df.index=pd.date_range('2020-01-01', '2021-12-01', freq='MS')\n",
    "my_df.head()\n",
    "#>                 tokyo         Lo         Hi\n",
    "#> 2020-01-01  10.100906   7.170399  13.031412\n",
    "#> 2020-02-01  10.287664   7.266074  13.309253\n",
    "#> 2020-03-01  13.242980  10.216923  16.269037\n",
    "#> 2020-04-01  18.169809  14.977157  21.362461\n",
    "#> 2020-05-01  23.755596  20.185964  27.325228"
   ]
  },
  {
   "cell_type": "code",
   "execution_count": null,
   "metadata": {},
   "outputs": [],
   "source": [
    "import matplotlib.pyplot as plt\n",
    "plt.plot(my_data['tokyo'])\n",
    "plt.plot(my_df['tokyo'])\n",
    "plt.fill_between(my_df.index,\n",
    "                 my_df.Lo,\n",
    "                 my_df.Hi,\n",
    "                 color='k',\n",
    "                 alpha=0.25)"
   ]
  }
 ],
 "nbformat": 4,
 "nbformat_minor": 5,
 "metadata": {
  "kernelspec": {
   "name": "python3",
   "display_name": "Python 3"
  }
 }
}
