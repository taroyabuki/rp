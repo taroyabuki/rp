{
 "cells": [
  {
   "cell_type": "markdown",
   "metadata": {},
   "source": [
    "### 12.2.1 前処理"
   ]
  },
  {
   "cell_type": "code",
   "execution_count": null,
   "metadata": {},
   "outputs": [],
   "source": [
    "x_train1d <- array_reshape(x = x_train, dim = c(nrow(x_train), 784))\n",
    "x_test1d  <- array_reshape(x = x_test,  dim = c(nrow(x_test),  784))"
   ]
  },
  {
   "cell_type": "markdown",
   "metadata": {},
   "source": [
    "### 12.2.2 訓練"
   ]
  },
  {
   "cell_type": "code",
   "execution_count": null,
   "metadata": {},
   "outputs": [],
   "source": [
    "my_model <- keras_model_sequential() %>%\n",
    "  layer_dense(units = 256, activation = \"relu\", input_shape = c(784)) %>%\n",
    "  layer_dense(units = 10, activation = \"softmax\")\n",
    "\n",
    "my_model %>% compile(\n",
    "  loss = \"sparse_categorical_crossentropy\",\n",
    "  optimizer = \"rmsprop\",\n",
    "  metrics = c(\"accuracy\"))"
   ]
  },
  {
   "cell_type": "code",
   "execution_count": null,
   "metadata": {},
   "outputs": [],
   "source": [
    "my_cb <- callback_early_stopping(patience = 5,                # 訓練停止条件\n",
    "                                 restore_best_weights = TRUE) # 最善を保持\n",
    "\n",
    "my_history <- my_model %>%\n",
    "  fit(x = x_train1d,          # 入力変数\n",
    "      y = y_train,            # 出力変数\n",
    "      validation_split = 0.2, # 検証データの割合\n",
    "      batch_size = 128,       # バッチサイズ\n",
    "      epochs = 20,            # エポック数の上限\n",
    "      callbacks = my_cb)      # エポックごとに行う処理\n",
    "\n",
    "tmp <- my_history\n",
    "tmp$params$epochs<-length(tmp$metrics$loss)\n",
    "plot(tmp)"
   ]
  },
  {
   "cell_type": "code",
   "execution_count": null,
   "metadata": {},
   "outputs": [],
   "source": [
    "my_prob <- my_model %>% predict(x_test1d)\n",
    "my_pred <- apply(X = my_prob, MARGIN = 1, FUN = which.max) - 1\n",
    "\n",
    "table(my_pred, y_test)\n",
    "#>        y_test\n",
    "#> my_pred    0    1    2    3    4    5    6    7    8    9\n",
    "#>       0  962    0    8    2    0    6   11    0    8   11\n",
    "#>       1    0 1110    1    0    3    1    3    8    2    4\n",
    "#>       2    0    5  959   13    4    4    2   16    6    1\n",
    "#>       3    1    1   22  958    1   27    0    7   33   13\n",
    "#>       4    2    0    6    1  905    8    6    6    3   14\n",
    "#>       5    5    2    0   12    1  809    9    1   15    4\n",
    "#>       6    6    3    8    0    8   11  922    0    5    1\n",
    "#>       7    1    1    7    7    1    2    0  963    4    8\n",
    "#>       8    2   13   19   13    4   16    5    0  890    5\n",
    "#>       9    1    0    2    4   55    8    0   27    8  948"
   ]
  },
  {
   "cell_type": "code",
   "execution_count": null,
   "metadata": {},
   "outputs": [],
   "source": [
    "mean(my_pred == y_test)\n",
    "#> [1] 0.9426000"
   ]
  },
  {
   "cell_type": "code",
   "execution_count": null,
   "metadata": {},
   "outputs": [],
   "source": [
    "my_model %>%\n",
    "  evaluate(x = x_test1d, y = y_test)\n",
    "#>      loss  accuracy\n",
    "#> 0.2071411 0.9426000"
   ]
  }
 ],
 "nbformat": 4,
 "nbformat_minor": 5,
 "metadata": {
  "kernelspec": {
   "name": "ir",
   "display_name": "R"
  }
 }
}
