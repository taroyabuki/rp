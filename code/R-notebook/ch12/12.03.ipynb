{
 "cells": [
  {
   "cell_type": "markdown",
   "metadata": {},
   "source": [
    "### 12.3.1 前処理"
   ]
  },
  {
   "cell_type": "code",
   "execution_count": null,
   "metadata": {},
   "outputs": [],
   "source": [
    "library(keras)\n",
    "#c(c(x_train, y_train), c(x_test, y_test)) %<-% dataset_mnist()\n",
    "#↑がうまく行かない場合\n",
    "c(c(x_train, y_train), c(x_test, y_test)) %<-% readRDS(\"/tmp/mnist.obj\")\n",
    "\n",
    "x_train <- x_train / 255\n",
    "x_test  <- x_test  / 255\n",
    "\n",
    "my_index <- sample(1:60000, 6000)\n",
    "x_train <- x_train[my_index, , ]\n",
    "y_train <- y_train[my_index]\n",
    "\n",
    "x_train2d <- array_reshape(x = x_train, dim = c(nrow(x_train), 28, 28, 1))\n",
    "x_test2d  <- array_reshape(x = x_test,  dim = c(nrow(x_test),  28, 28, 1))"
   ]
  },
  {
   "cell_type": "markdown",
   "metadata": {},
   "source": [
    "#### 12.3.2.1 単純なCNN"
   ]
  },
  {
   "cell_type": "code",
   "execution_count": null,
   "metadata": {},
   "outputs": [],
   "source": [
    "my_model <- keras_model_sequential() %>%\n",
    "  layer_conv_2d(filters = 32, kernel_size = 3, # 畳み込み層\n",
    "                activation = \"relu\",\n",
    "                input_shape = c(28, 28, 1)) %>% \n",
    "  layer_max_pooling_2d(pool_size = 2) %>% # プーリング層\n",
    "  layer_flatten() %>% \n",
    "  layer_dense(units = 128, activation = \"relu\") %>% \n",
    "  layer_dense(units = 10, activation = \"softmax\")\n",
    "\n",
    "my_model # ネットワークの確認（結果はPythonのものを参照）"
   ]
  },
  {
   "cell_type": "code",
   "execution_count": null,
   "metadata": {},
   "outputs": [],
   "source": [
    "my_model %>% compile(\n",
    "  loss = \"sparse_categorical_crossentropy\",\n",
    "  optimizer = \"rmsprop\",\n",
    "  metrics = c(\"accuracy\"))\n",
    "\n",
    "my_cb <- callback_early_stopping(patience = 5,                # 訓練停止条件\n",
    "                                 restore_best_weights = TRUE) # 最善を保持\n",
    "\n",
    "my_history <- my_model %>%\n",
    "  fit(x = x_train2d,          # 入力変数\n",
    "      y = y_train,            # 出力変数\n",
    "      validation_split = 0.2, # 検証データの割合\n",
    "      batch_size = 128,       # バッチサイズ\n",
    "      epochs = 20,            # エポック数の上限\n",
    "      callbacks = my_cb)      # エポックごとに行う処理\n",
    "\n",
    "tmp <- my_history\n",
    "tmp$params$epochs<-length(tmp$metrics$loss)\n",
    "plot(tmp)"
   ]
  },
  {
   "cell_type": "code",
   "execution_count": null,
   "metadata": {},
   "outputs": [],
   "source": [
    "my_model %>%\n",
    "  evaluate(x = x_test2d, y = y_test)\n",
    "#>      loss  accuracy\n",
    "#> 0.1392894 0.9607000"
   ]
  },
  {
   "cell_type": "markdown",
   "metadata": {},
   "source": [
    "#### 12.3.2.2 LeNet"
   ]
  },
  {
   "cell_type": "code",
   "execution_count": null,
   "metadata": {},
   "outputs": [],
   "source": [
    "my_model <- keras_model_sequential() %>%\n",
    "  layer_conv_2d(filters = 20, kernel_size = 5, activation = \"relu\",\n",
    "                input_shape = c(28, 28, 1)) %>% \n",
    "  layer_max_pooling_2d(pool_size = 2, strides = 2) %>% \n",
    "  layer_conv_2d(filters = 50, kernel_size = 5, activation = \"relu\") %>% \n",
    "  layer_max_pooling_2d(pool_size = 2, strides = 2) %>% \n",
    "  layer_dropout(rate = 0.25) %>% \n",
    "  layer_flatten() %>% \n",
    "  layer_dense(units = 500, activation = \"relu\") %>% \n",
    "  layer_dropout(rate = 0.5) %>% \n",
    "  layer_dense(units = 10, activation = \"softmax\")"
   ]
  },
  {
   "cell_type": "code",
   "execution_count": null,
   "metadata": {},
   "outputs": [],
   "source": [
    "my_model %>% compile(\n",
    "  loss = \"sparse_categorical_crossentropy\",\n",
    "  optimizer = \"rmsprop\",\n",
    "  metrics = c(\"accuracy\"))\n",
    "\n",
    "my_cb <- callback_early_stopping(patience = 5,                # 訓練停止条件\n",
    "                                 restore_best_weights = TRUE) # 最善を保持\n",
    "\n",
    "my_history <- my_model %>%\n",
    "  fit(x = x_train2d,          # 入力変数\n",
    "      y = y_train,            # 出力変数\n",
    "      validation_split = 0.2, # 検証データの割合\n",
    "      batch_size = 128,       # バッチサイズ\n",
    "      epochs = 20,            # エポック数の上限\n",
    "      callbacks = my_cb)      # エポックごとに行う処理\n",
    "\n",
    "tmp <- my_history\n",
    "tmp$params$epochs<-length(tmp$metrics$loss)\n",
    "plot(tmp)"
   ]
  },
  {
   "cell_type": "code",
   "execution_count": null,
   "metadata": {},
   "outputs": [],
   "source": [
    "my_model %>%\n",
    "  evaluate(x = x_test2d, y = y_test)\n",
    "#>      loss  accuracy\n",
    "#> 0.05227623 0.98390001"
   ]
  },
  {
   "cell_type": "markdown",
   "metadata": {},
   "source": [
    "#### 12.3.2.3 補足：LeNetが自信満々で間違う例"
   ]
  },
  {
   "cell_type": "code",
   "execution_count": null,
   "metadata": {},
   "outputs": [],
   "source": [
    "library(tidyverse)\n",
    "my_prob <- my_model %>% predict(x_test2d)   # カテゴリに属する確率\n",
    "\n",
    "my_result <- data.frame(\n",
    "  prob = apply(my_prob, 1, max),           # 確率の最大値\n",
    "  pred = apply(my_prob, 1, which.max) - 1, # 予測カテゴリ\n",
    "  answer = y_test,                         # 正解\n",
    "  id = 1:length(y_test)) %>%               # 番号\n",
    "  filter(pred != answer) %>%               # 予測がはずれたものを残す\n",
    "  arrange(desc(prob))                      # 確率の大きい順に並び替える\n",
    "head(my_result)\n",
    "#>        prob pred answer   id\n",
    "#> 1 0.9999145    1      6 2655\n",
    "#> 2 0.9988992    6      5 9730\n",
    "#> 3 0.9979954    3      5 2598\n",
    "#> 4 0.9975871    3      5 5938\n",
    "#> 5 0.9958567    9      4 2131\n",
    "#> 6 0.9949815    4      9 1233"
   ]
  },
  {
   "cell_type": "code",
   "execution_count": null,
   "metadata": {},
   "outputs": [],
   "source": [
    "my_miss <- x_test[my_result$id[1], , ] # 最初の画像\n",
    "2:6 %>% walk(                          # 2から6番目の画像\n",
    "  function(i) { my_miss <<- cbind(my_miss, x_test[my_result$id[i], , ])})\n",
    "plot(as.raster(my_miss, max = 1))"
   ]
  }
 ],
 "nbformat": 4,
 "nbformat_minor": 5,
 "metadata": {
  "kernelspec": {
   "name": "ir",
   "display_name": "R"
  }
 }
}
