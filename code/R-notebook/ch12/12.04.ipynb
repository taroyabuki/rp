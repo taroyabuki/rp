{
 "cells": [
  {
   "cell_type": "markdown",
   "metadata": {},
   "source": [
    "### 12.4.1 ドロップアウト"
   ]
  },
  {
   "cell_type": "code",
   "execution_count": null,
   "metadata": {},
   "outputs": [],
   "source": [
    "library(keras)\n",
    "my_model <- keras_model_sequential() %>%\n",
    "  layer_conv_2d(filters = 32, kernel_size = 3, activation = \"relu\",\n",
    "                input_shape = c(28, 28, 1)) %>%\n",
    "  layer_max_pooling_2d(pool_size = 2) %>%\n",
    "  layer_dropout(rate = 0.25) %>% # ドロップアウト\n",
    "  layer_flatten() %>%\n",
    "  layer_dense(units = 128, activation = \"relu\") %>%\n",
    "  layer_dense(units = 10, activation = \"softmax\")"
   ]
  },
  {
   "cell_type": "markdown",
   "metadata": {},
   "source": [
    "### 12.4.2 正則化"
   ]
  },
  {
   "cell_type": "code",
   "execution_count": null,
   "metadata": {},
   "outputs": [],
   "source": [
    "library(keras)\n",
    "my_model <- keras_model_sequential() %>%\n",
    "  layer_conv_2d(filters = 32, kernel_size = 3, activation = \"relu\",\n",
    "                input_shape = c(28, 28, 1)) %>%\n",
    "  layer_max_pooling_2d(pool_size = 2) %>%\n",
    "  layer_flatten() %>%\n",
    "  layer_dense(units = 128, activation = \"relu\",\n",
    "              kernel_regularizer = regularizer_l2(0.001)) %>% # Ridge回帰\n",
    "  layer_dense(units = 10, activation = \"softmax\")"
   ]
  }
 ],
 "nbformat": 4,
 "nbformat_minor": 5,
 "metadata": {
  "kernelspec": {
   "name": "ir",
   "display_name": "R"
  }
 }
}
