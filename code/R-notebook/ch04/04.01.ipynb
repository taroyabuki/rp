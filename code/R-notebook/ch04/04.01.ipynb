{
 "cells": [
  {
   "cell_type": "markdown",
   "metadata": {},
   "source": [
    "### 4.1.1 平均・分散・標準偏差"
   ]
  },
  {
   "cell_type": "code",
   "execution_count": null,
   "metadata": {},
   "outputs": [],
   "source": [
    "x <- c(165, 170, 175, 180, 185)\n",
    "\n",
    "mean(x) # 平均（その1）\n",
    "#> [1] 175"
   ]
  },
  {
   "cell_type": "code",
   "execution_count": null,
   "metadata": {},
   "outputs": [],
   "source": [
    "sum(x) / length(x) # 平均（その2）\n",
    "#> [1] 175"
   ]
  },
  {
   "cell_type": "code",
   "execution_count": null,
   "metadata": {},
   "outputs": [],
   "source": [
    "x - mean(x)\n",
    "#> [1] -10  -5   0   5  10"
   ]
  },
  {
   "cell_type": "code",
   "execution_count": null,
   "metadata": {},
   "outputs": [],
   "source": [
    "mean(x - mean(x))\n",
    "#> [1] 0"
   ]
  },
  {
   "cell_type": "code",
   "execution_count": null,
   "metadata": {},
   "outputs": [],
   "source": [
    "mean((x - mean(x))^2)\n",
    "#> [1] 50"
   ]
  },
  {
   "cell_type": "code",
   "execution_count": null,
   "metadata": {},
   "outputs": [],
   "source": [
    "sqrt(mean((x - mean(x))^2))\n",
    "#> [1] 7.071068"
   ]
  },
  {
   "cell_type": "code",
   "execution_count": null,
   "metadata": {},
   "outputs": [],
   "source": [
    "y <- c(173, 174, 175, 176, 177)\n",
    "\n",
    "mean(y)\n",
    "#> [1] 175 # 平均\n",
    "\n",
    "sqrt(mean((y - mean(y))^2))\n",
    "#> [1] 1.414214 # 標準偏差"
   ]
  },
  {
   "cell_type": "code",
   "execution_count": null,
   "metadata": {},
   "outputs": [],
   "source": [
    "var(x) # 分散\n",
    "#> [1] 62.5\n",
    "\n",
    "sd(x) # 標準偏差\n",
    "#> [1] 7.905694"
   ]
  },
  {
   "cell_type": "code",
   "execution_count": null,
   "metadata": {},
   "outputs": [],
   "source": [
    "var(x) # 不偏分散\n",
    "#> [1] 62.5\n",
    "\n",
    "sd(x) # 平方根\n",
    "#> [1] 7.905694"
   ]
  },
  {
   "cell_type": "code",
   "execution_count": null,
   "metadata": {},
   "outputs": [],
   "source": [
    "n <- length(x)\n",
    "var(x) * (n - 1) / n # 不偏でない分散\n",
    "#> [1] 50\n",
    "\n",
    "sd(x) * sqrt((n - 1) / n) # 平方根\n",
    "#> [1] 7.071068"
   ]
  },
  {
   "cell_type": "code",
   "execution_count": null,
   "metadata": {},
   "outputs": [],
   "source": [
    "psych::describe(x)\n",
    "#>    vars n mean   sd ...\n",
    "#> X1    1 5  175 7.91 ..."
   ]
  },
  {
   "cell_type": "code",
   "execution_count": null,
   "metadata": {},
   "outputs": [],
   "source": [
    "x <- 1:9\n",
    "quantile(x)\n",
    "#>   0%  25%  50%  75% 100% \n",
    "#>    1    3    5    7    9 "
   ]
  },
  {
   "cell_type": "code",
   "execution_count": null,
   "metadata": {},
   "outputs": [],
   "source": [
    "my_df <- data.frame(\n",
    "  english = c( 60,  90,  70,  90),\n",
    "  math    = c( 70,  80,  90, 100))\n",
    "psych::describe(my_df)\n",
    "\n",
    "#>         vars n mean    sd ...\n",
    "#> english    1 4 77.5 15.00 ...\n",
    "#> math       2 4 85.0 12.91 ..."
   ]
  },
  {
   "cell_type": "markdown",
   "metadata": {},
   "source": [
    "### 4.1.2 可視化"
   ]
  },
  {
   "cell_type": "code",
   "execution_count": null,
   "metadata": {},
   "outputs": [],
   "source": [
    "head(iris)\n",
    "#>   Sepal.Length Sepal.Width Petal.Length Petal.Width Species\n",
    "#> 1          5.1         3.5          1.4         0.2  setosa\n",
    "#> 2          4.9         3.0          1.4         0.2  setosa\n",
    "#> 3          4.7         3.2          1.3         0.2  setosa\n",
    "#> 4          4.6         3.1          1.5         0.2  setosa\n",
    "#> 5          5.0         3.6          1.4         0.2  setosa\n",
    "#> 6          5.4         3.9          1.7         0.4  setosa"
   ]
  },
  {
   "cell_type": "markdown",
   "metadata": {},
   "source": [
    "#### 4.1.2.1 ヒストグラム"
   ]
  },
  {
   "cell_type": "code",
   "execution_count": null,
   "metadata": {},
   "outputs": [],
   "source": [
    "hist(iris$Sepal.Length) # ヒストグラム"
   ]
  },
  {
   "cell_type": "code",
   "execution_count": null,
   "metadata": {},
   "outputs": [],
   "source": [
    "x <- c(1, 2, 3)\n",
    "hist(x, breaks = 2) # 階級数は2"
   ]
  },
  {
   "cell_type": "markdown",
   "metadata": {},
   "source": [
    "#### 4.1.2.2 箱ひげ図"
   ]
  },
  {
   "cell_type": "code",
   "execution_count": null,
   "metadata": {},
   "outputs": [],
   "source": [
    "boxplot(iris[, -5])"
   ]
  },
  {
   "cell_type": "code",
   "execution_count": null,
   "metadata": {},
   "outputs": [],
   "source": [
    "psych::describe(iris)\n",
    "#>              vars   n mean   sd median trimmed  mad min max range  skew kurtosis   se\n",
    "#> Sepal.Length    1 150 5.84 0.83   5.80    5.81 1.04 4.3 7.9   3.6  0.31    -0.61 0.07\n",
    "#> Sepal.Width     2 150 3.06 0.44   3.00    3.04 0.44 2.0 4.4   2.4  0.31     0.14 0.04\n",
    "#> Petal.Length    3 150 3.76 1.77   4.35    3.76 1.85 1.0 6.9   5.9 -0.27    -1.42 0.14\n",
    "#> Petal.Width     4 150 1.20 0.76   1.30    1.18 1.04 0.1 2.5   2.4 -0.10    -1.36 0.06\n",
    "#> Species*        5 150 2.00 0.82   2.00    2.00 1.48 1.0 3.0   2.0  0.00    -1.52 0.07"
   ]
  },
  {
   "cell_type": "code",
   "execution_count": null,
   "metadata": {},
   "outputs": [],
   "source": [
    "boxplot(x = iris,\n",
    "  formula = Sepal.Length ~ Species)"
   ]
  },
  {
   "cell_type": "code",
   "execution_count": null,
   "metadata": {},
   "outputs": [],
   "source": [
    "iris %>% \n",
    "  group_by(Species) %>%\n",
    "  summarise(mean = mean(Sepal.Length),\n",
    "            median = median(Sepal.Length))\n",
    "#>   Species     mean median\n",
    "#>   <fct>      <dbl>  <dbl>\n",
    "#> 1 setosa      5.01    5  \n",
    "#> 2 versicolor  5.94    5.9\n",
    "#> 3 virginica   6.59    6.5"
   ]
  },
  {
   "cell_type": "markdown",
   "metadata": {},
   "source": [
    "#### 4.1.2.3 散布図"
   ]
  },
  {
   "cell_type": "code",
   "execution_count": null,
   "metadata": {},
   "outputs": [],
   "source": [
    "plot(iris$Sepal.Length,\n",
    "     iris$Sepal.Width)"
   ]
  },
  {
   "cell_type": "markdown",
   "metadata": {},
   "source": [
    "#### 4.1.2.4 関数のグラフ"
   ]
  },
  {
   "cell_type": "code",
   "execution_count": null,
   "metadata": {},
   "outputs": [],
   "source": [
    "curve(x^3 - x, -2, 2)\n",
    "\n",
    "# あるいは\n",
    "f <- function(x) { x^3 - x }\n",
    "data.frame(x = c(-2, 2)) %>%\n",
    "  ggplot(aes(x)) +\n",
    "  stat_function(fun = f)"
   ]
  },
  {
   "cell_type": "markdown",
   "metadata": {},
   "source": [
    "### 4.1.3 ggplot2 (R)"
   ]
  },
  {
   "cell_type": "code",
   "execution_count": null,
   "metadata": {},
   "outputs": [],
   "source": [
    "データフレーム %>%\n",
    "  ggplot(aes(x = 横軸に使うもの, y = 縦軸に使うもの)) +\n",
    "  幾何オブジェクト1(オプション) +\n",
    "  幾何オブジェクト2(オプション) + ..."
   ]
  },
  {
   "cell_type": "code",
   "execution_count": null,
   "metadata": {},
   "outputs": [],
   "source": [
    "# ヒストグラム\n",
    "g1 <- iris %>%\n",
    "  ggplot(aes(x = Sepal.Length)) +\n",
    "  geom_histogram(bins = 8)\n",
    "\n",
    "# 箱ひげ図（その1）\n",
    "tmp <- iris %>% pivot_longer(-Species) # 整然データ\n",
    "g2 <- tmp %>% \n",
    "  ggplot(aes(x = name, y = value)) +\n",
    "  geom_boxplot()\n",
    "\n",
    "# 箱ひげ図（その2）\n",
    "g3 <- iris %>%\n",
    "  ggplot(aes(x = Species, y = Sepal.Length)) +\n",
    "  geom_boxplot()\n",
    "\n",
    "# 散布図\n",
    "g4 <- iris %>%\n",
    "  ggplot(aes(x = Sepal.Length, y = Sepal.Width)) +\n",
    "  geom_point()\n",
    "\n",
    "# 並べて描画（列数は2）\n",
    "gridExtra::grid.arrange(g1, g2, g3, g4, ncol = 2)"
   ]
  }
 ],
 "nbformat": 4,
 "nbformat_minor": 5,
 "metadata": {
  "kernelspec": {
   "name": "ir",
   "display_name": "R"
  }
 }
}
