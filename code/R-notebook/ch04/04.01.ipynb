{
 "cells": [
  {
   "cell_type": "markdown",
   "metadata": {},
   "source": [
    "### 4.1.1 平均・分散・標準偏差"
   ]
  },
  {
   "cell_type": "code",
   "execution_count": null,
   "metadata": {},
   "outputs": [],
   "source": [
    "x <- c(165, 170, 175, 180, 185)\n",
    "\n",
    "mean(x) # 平均\n",
    "#> [1] 175"
   ]
  },
  {
   "cell_type": "code",
   "execution_count": null,
   "metadata": {},
   "outputs": [],
   "source": [
    "n <- length(x) # 標本の大きさ\n",
    "sum(x) / n\n",
    "#> [1] 175"
   ]
  },
  {
   "cell_type": "code",
   "execution_count": null,
   "metadata": {},
   "outputs": [],
   "source": [
    "y <- c(173, 174, 175, 176, 177)\n",
    "mean(y)\n",
    "#> [1] 175"
   ]
  },
  {
   "cell_type": "code",
   "execution_count": null,
   "metadata": {},
   "outputs": [],
   "source": [
    "var(x) # xの分散\n",
    "#> [1] 62.5\n",
    "\n",
    "var(y) # yの分散\n",
    "#> [1] 2.5"
   ]
  },
  {
   "cell_type": "code",
   "execution_count": null,
   "metadata": {},
   "outputs": [],
   "source": [
    "sum((x - mean(x))^2) / (n - 1) # 分散\n",
    "#> [1] 62.5"
   ]
  },
  {
   "cell_type": "code",
   "execution_count": null,
   "metadata": {},
   "outputs": [],
   "source": [
    "sd(x) # xの標準偏差\n",
    "#> [1] 7.905694\n",
    "\n",
    "sd(y) # yの標準偏差\n",
    "#> [1] 1.581139"
   ]
  },
  {
   "cell_type": "code",
   "execution_count": null,
   "metadata": {},
   "outputs": [],
   "source": [
    "var(x)**0.5 # xの標準偏差\n",
    "#> [1] 7.905694"
   ]
  },
  {
   "cell_type": "code",
   "execution_count": null,
   "metadata": {},
   "outputs": [],
   "source": [
    "# 結果はデータフレーム\n",
    "psych::describe(x)\n",
    "#>    vars n mean   sd ...\n",
    "#> X1    1 5  175 7.91 ...\n",
    "\n",
    "# 結果は1次元データ\n",
    "pastecs::stat.desc(x)\n",
    "#>      nbr.val ...   std.dev ...\n",
    "#>    5.0000000 ... 7.9056942 ..."
   ]
  },
  {
   "cell_type": "code",
   "execution_count": null,
   "metadata": {},
   "outputs": [],
   "source": [
    "x <- 1:9\n",
    "quantile(x)\n",
    "#>   0%  25%  50%  75% 100% \n",
    "#>    1    3    5    7    9 "
   ]
  },
  {
   "cell_type": "code",
   "execution_count": null,
   "metadata": {},
   "outputs": [],
   "source": [
    "my_df <- data.frame(\n",
    "  english = c( 60,  90,  70,  90),\n",
    "  math    = c( 70,  80,  90, 100))\n",
    "psych::describe(my_df)\n",
    "#>         vars n mean    sd ...\n",
    "#> english    1 4 77.5 15.00 ...\n",
    "#> math       2 4 85.0 12.91 ...\n",
    "\n"
   ]
  },
  {
   "cell_type": "markdown",
   "metadata": {},
   "source": [
    "#### 4.1.1.1 補足：不偏分散とその平方根"
   ]
  },
  {
   "cell_type": "code",
   "execution_count": null,
   "metadata": {},
   "outputs": [],
   "source": [
    "var(x)\n",
    "#> [1] 62.5\n",
    "\n",
    "var(x) * (n - 1) / n\n",
    "#> [1] 50"
   ]
  },
  {
   "cell_type": "code",
   "execution_count": null,
   "metadata": {},
   "outputs": [],
   "source": [
    "# 不偏分散の平方根\n",
    "sd(x)\n",
    "#> [1] 7.905694\n",
    "\n",
    "# 標準偏差'\n",
    "sqrt((n - 1) / n) * sd(x)\n",
    "#> [1] 7.071068"
   ]
  },
  {
   "cell_type": "code",
   "execution_count": null,
   "metadata": {},
   "outputs": [],
   "source": [
    "sd(x) / length(x)**0.5\n",
    "#> [1] 3.535534"
   ]
  },
  {
   "cell_type": "markdown",
   "metadata": {},
   "source": [
    "### 4.1.2 データフレームの統計処理"
   ]
  },
  {
   "cell_type": "code",
   "execution_count": null,
   "metadata": {},
   "outputs": [],
   "source": [
    "library(tidyverse)\n",
    "\n",
    "my_df <- data.frame(\n",
    "  name    = c(\"A\", \"B\", \"C\", \"D\"),\n",
    "  english = c( 60,  90,  70,  90),\n",
    "  math    = c( 70,  80,  90, 100),\n",
    "  gender  = c(\"f\", \"m\", \"m\", \"f\"))"
   ]
  },
  {
   "cell_type": "markdown",
   "metadata": {},
   "source": [
    "#### 4.1.2.1 列ごとの集計"
   ]
  },
  {
   "cell_type": "code",
   "execution_count": null,
   "metadata": {},
   "outputs": [],
   "source": [
    "var(my_df$english)\n",
    "#> [1] 225"
   ]
  },
  {
   "cell_type": "code",
   "execution_count": null,
   "metadata": {},
   "outputs": [],
   "source": [
    "my_df[, c(2, 3)] %>%\n",
    "  summarize_each(var)\n",
    "#>   english     math\n",
    "#> 1     225 166.6667"
   ]
  },
  {
   "cell_type": "code",
   "execution_count": null,
   "metadata": {},
   "outputs": [],
   "source": [
    "my_df[, c(2, 3)] %>%\n",
    "  summarize_each(function(x) {\n",
    "    sd(x) / length(x)**0.5 })\n",
    "# あるいは\n",
    "my_df[, c(2, 3)] %>%\n",
    "  summarize_each(\n",
    "    ~ sd(.) / length(.)**0.5)\n",
    "\n",
    "#>   english     math\n",
    "#> 1     7.5 6.454972"
   ]
  },
  {
   "cell_type": "code",
   "execution_count": null,
   "metadata": {},
   "outputs": [],
   "source": [
    "psych::describe(my_df)\n",
    "#>         vars n mean    sd ...\n",
    "#> name*      1 4  2.5  1.29 ...\n",
    "#> english    2 4 77.5 15.00 ...\n",
    "#> math       3 4 85.0 12.91 ...\n",
    "#> gender*    4 4  1.5  0.58 ...\n",
    "\n",
    "pastecs::stat.desc(my_df)\n",
    "#>                  english        math\n",
    "#> nbr.val        4.0000000   4.0000000\n",
    "#> nbr.null       0.0000000   0.0000000\n",
    "#> nbr.na         0.0000000   0.0000000\n",
    "#> （以下略）"
   ]
  },
  {
   "cell_type": "markdown",
   "metadata": {},
   "source": [
    "#### 4.1.2.2 分割表"
   ]
  },
  {
   "cell_type": "code",
   "execution_count": null,
   "metadata": {},
   "outputs": [],
   "source": [
    "table(my_df$gender)\n",
    "\n",
    "#> f m \n",
    "#> 2 2 "
   ]
  },
  {
   "cell_type": "code",
   "execution_count": null,
   "metadata": {},
   "outputs": [],
   "source": [
    "my_df2 <- data.frame(\n",
    "  gender = my_df$gender,\n",
    "  excel = my_df$math >= 80)\n",
    "table(my_df2)\n",
    "\n",
    "#>       excel\n",
    "#> gender FALSE TRUE\n",
    "#>      f     1    1\n",
    "#>      m     0    2"
   ]
  },
  {
   "cell_type": "markdown",
   "metadata": {},
   "source": [
    "#### 4.1.2.3 グループごとの集計"
   ]
  },
  {
   "cell_type": "code",
   "execution_count": null,
   "metadata": {},
   "outputs": [],
   "source": [
    "my_df %>%\n",
    "  group_by(gender) %>%\n",
    "  summarize(n = n())\n",
    "#> # A tibble: 2 x 2\n",
    "#>   gender `n()`\n",
    "#>   <chr>  <int>\n",
    "#> 1 f          2\n",
    "#> 2 m          2"
   ]
  },
  {
   "cell_type": "code",
   "execution_count": null,
   "metadata": {},
   "outputs": [],
   "source": [
    "my_df[, -1] %>%\n",
    "  group_by(gender) %>%\n",
    "  summarize_each(mean)\n",
    "\n",
    "#> # A tibble: 2 x 3\n",
    "#>   gender english  math\n",
    "#>   <chr>    <dbl> <dbl>\n",
    "#> 1 f           75    85\n",
    "#> 2 m           80    85"
   ]
  },
  {
   "cell_type": "code",
   "execution_count": null,
   "metadata": {},
   "outputs": [],
   "source": [
    "my_df[, -1] %>%\n",
    "  group_by(gender) %>%\n",
    "  summarize_each(\n",
    "    ~ sd(.) /length(.)**0.5)\n",
    "#> # A tibble: 2 x 3\n",
    "#>   gender english  math\n",
    "#>   <chr>    <dbl> <dbl>\n",
    "#> 1 f           15    15\n",
    "#> 2 m           10     5"
   ]
  }
 ],
 "nbformat": 4,
 "nbformat_minor": 5,
 "metadata": {
  "kernelspec": {
   "name": "ir",
   "display_name": "R"
  }
 }
}
