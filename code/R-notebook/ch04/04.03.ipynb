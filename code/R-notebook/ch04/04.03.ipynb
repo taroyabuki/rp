{
 "cells": [
  {
   "cell_type": "markdown",
   "metadata": {},
   "source": [
    "### 4.3.1 検定"
   ]
  },
  {
   "cell_type": "code",
   "execution_count": null,
   "metadata": {},
   "outputs": [],
   "source": [
    "binom.test(x = 14,                # 表が出た回数\n",
    "           n = 20,                # コインを投げた回数\n",
    "           p = 0.5,               # 表が出る確率（仮説）\n",
    "           conf.level = 1 - 0.05) # 信頼係数（後述） = 1 - 有意水準\n",
    "\n",
    "#>         Exact binomial test\n",
    "#> \n",
    "#> data:  14 and 20\n",
    "#> number of successes = 14, number of trials = 20, p-value = 0.1153\n",
    "#> alternative hypothesis: true probability of success is not equal to 0.5\n",
    "#> 95 percent confidence interval:\n",
    "#>  0.4572108 0.8810684\n",
    "#> sample estimates:\n",
    "#> probability of success \n",
    "#>                    0.7 "
   ]
  },
  {
   "cell_type": "code",
   "execution_count": null,
   "metadata": {},
   "outputs": [],
   "source": [
    "x = 5\n",
    "s = pbinom(q = x,\n",
    "           size = 20,\n",
    "           prob = 0.5)\n",
    "s\n",
    "#> [1] 0.02069473\n",
    "\n",
    "qbinom(p = s, size = 20, prob = 0.5)\n",
    "#> [1] 5"
   ]
  },
  {
   "cell_type": "code",
   "execution_count": null,
   "metadata": {},
   "outputs": [],
   "source": [
    "alpha = 0.05\n",
    "qbinom(p = c(alpha / 2,      # 左側 2.5%\n",
    "             1 - alpha / 2), # 右側97.5%\n",
    "       size = 20,            # コインを投げた回数\n",
    "       prob = 0.5)           # 表が出る確率（仮説）\n",
    "#> [1]  6 14 # 左側の境界は6，右側の境界は14"
   ]
  },
  {
   "cell_type": "markdown",
   "metadata": {},
   "source": [
    "#### 4.3.2.2 ブートストラップ"
   ]
  },
  {
   "cell_type": "code",
   "execution_count": null,
   "metadata": {},
   "outputs": [],
   "source": [
    "X <- rep(0:1, c(6,14))                      # 手順1\n",
    "tmp <- sample(X, size = 20, replace = TRUE) # 手順2\n",
    "tmp\n",
    "#>  [1] 1 0 1 0 1 0 0 0 1 0 0 1 0 1 1 1 1 1 1 1\n",
    "\n",
    "mean(tmp) # 手順3\n",
    "#> [1] 0.75"
   ]
  },
  {
   "cell_type": "code",
   "execution_count": null,
   "metadata": {},
   "outputs": [],
   "source": [
    "result <- replicate(10^5, mean(sample(X, size = 20, replace = TRUE))) # 手順4\n",
    "quantile(result, c(0.025, 0.975))                                     # 手順5\n",
    "\n",
    "#>  2.5% 97.5% \n",
    "#>   0.5   0.9 "
   ]
  }
 ],
 "nbformat": 4,
 "nbformat_minor": 5,
 "metadata": {
  "kernelspec": {
   "name": "ir",
   "display_name": "R"
  }
 }
}
