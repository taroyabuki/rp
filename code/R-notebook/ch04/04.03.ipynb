{
 "cells": [
  {
   "cell_type": "markdown",
   "metadata": {},
   "source": [
    "### 4.3.1 一様乱数（整数）"
   ]
  },
  {
   "cell_type": "code",
   "execution_count": null,
   "metadata": {},
   "outputs": [],
   "source": [
    "x <- sample(x = 1:6,        # 範囲\n",
    "            size = 10000,   # 個数\n",
    "            replace = TRUE) # 重複あり\n",
    "hist(x, breaks = 0:6) # ヒストグラム"
   ]
  },
  {
   "cell_type": "markdown",
   "metadata": {},
   "source": [
    "### 4.3.2 一様乱数（連続）"
   ]
  },
  {
   "cell_type": "code",
   "execution_count": null,
   "metadata": {},
   "outputs": [],
   "source": [
    "x <- runif(n = 1000, # 個数\n",
    "           min = 0,  # これ以上\n",
    "           max = 1)  # これ未満\n",
    "hist(x)"
   ]
  },
  {
   "cell_type": "code",
   "execution_count": null,
   "metadata": {},
   "outputs": [],
   "source": [
    "x <- runif(n = 1000,\n",
    "           min = 1,\n",
    "           max = 7) %>% as.integer\n",
    "hist(x) # 結果は割愛"
   ]
  },
  {
   "cell_type": "markdown",
   "metadata": {},
   "source": [
    "### 4.3.3 二項乱数"
   ]
  },
  {
   "cell_type": "code",
   "execution_count": null,
   "metadata": {},
   "outputs": [],
   "source": [
    "x <- rbinom(n = 1000,   # 乱数の数\n",
    "            size = 100, # 試行回数\n",
    "            prob = 0.5) # 確率\n",
    "hist(x)"
   ]
  },
  {
   "cell_type": "markdown",
   "metadata": {},
   "source": [
    "### 4.3.4 正規乱数"
   ]
  },
  {
   "cell_type": "code",
   "execution_count": null,
   "metadata": {},
   "outputs": [],
   "source": [
    "x <- rnorm(n = 1000,   # 乱数の数\n",
    "           mean = 165, # 平均\n",
    "           sd = 10)    # 標準偏差\n",
    "hist(x)"
   ]
  },
  {
   "cell_type": "markdown",
   "metadata": {},
   "source": [
    "#### 4.3.4.1 不偏性の具体例"
   ]
  },
  {
   "cell_type": "code",
   "execution_count": null,
   "metadata": {},
   "outputs": [],
   "source": [
    "n <- 100000\n",
    "x <- replicate(n = n,\n",
    "  expr = var(rnorm(n = 5, sd = 3)))\n",
    "\n",
    "mean(x)\n",
    "#> [1] 9.013718\n",
    "\n",
    "hist(x)"
   ]
  },
  {
   "cell_type": "code",
   "execution_count": null,
   "metadata": {},
   "outputs": [],
   "source": [
    "x <- replicate(n = n,\n",
    "  expr = sd(rnorm(n = 5, sd = 3)))\n",
    "\n",
    "mean(x)\n",
    "#> [1] 2.805624"
   ]
  }
 ],
 "nbformat": 4,
 "nbformat_minor": 5,
 "metadata": {
  "kernelspec": {
   "name": "ir",
   "display_name": "R"
  }
 }
}
