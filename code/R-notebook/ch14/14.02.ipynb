{
 "cells": [
  {
   "cell_type": "markdown",
   "metadata": {},
   "source": [
    "### 14.2.1 距離"
   ]
  },
  {
   "cell_type": "code",
   "execution_count": null,
   "metadata": {},
   "outputs": [],
   "source": [
    "my_data <- data.frame(\n",
    "  x = c(  0, -16,  10,  10),\n",
    "  y = c(  0,   0,  10, -15),\n",
    "  row.names = c(\"A\", \"B\", \"C\", \"D\"))\n",
    "\n",
    "# ユークリッド距離\n",
    "my_data %>% dist\n",
    "# あるいは\n",
    "my_data %>% dist(\"euclidian\")\n",
    "\n",
    "#>          A        B        C\n",
    "#> B 16.00000                  \n",
    "#> C 14.14214 27.85678         \n",
    "#> D 18.02776 30.01666 25.00000\n",
    "\n",
    "# マンハッタン距離\n",
    "my_data %>% dist(\"manhattan\")\n",
    "#>    A  B  C\n",
    "#> B 16      \n",
    "#> C 20 36   \n",
    "#> D 25 41 25"
   ]
  },
  {
   "cell_type": "markdown",
   "metadata": {},
   "source": [
    "#### 14.2.2.1 Rの場合"
   ]
  },
  {
   "cell_type": "code",
   "execution_count": null,
   "metadata": {},
   "outputs": [],
   "source": [
    "library(tidyverse)\n",
    "my_data <- data.frame(\n",
    "  x = c(  0, -16,  10,  10),\n",
    "  y = c(  0,   0,  10, -15),\n",
    "  row.names = c(\"A\", \"B\", \"C\", \"D\"))\n",
    "\n",
    "# 距離の計算\n",
    "my_dist <- my_data %>% dist\n",
    "# あるいは\n",
    "my_dist <- my_data %>% dist(\"euclidian\")\n",
    "\n",
    "# 階層的クラスター分析\n",
    "my_result <- my_dist %>% hclust\n",
    "# あるいは\n",
    "my_result <- my_dist %>% hclust(\"complete\")\n",
    "\n",
    "plot(my_result, hang = -1)    # デンドログラム\n",
    "rect.hclust(my_result, k = 3) # クラスター（3個）の明示\n",
    "# あるいは\n",
    "factoextra::fviz_dend(my_result, # デンドログラム（図14.3の左）\n",
    "                      k = 3,     # クラスター（3個）の明示\n",
    "                      rect = T, rect_fill = T) # クラスターを囲む長方形\n",
    "\n",
    "# クラスター数を3にする場合に，各点がどのクラスターに属しているかを確認する．\n",
    "my_result %>% cutree(3)\n",
    "#> A B C D \n",
    "#> 1 2 1 3 "
   ]
  },
  {
   "cell_type": "markdown",
   "metadata": {},
   "source": [
    "#### 14.2.3.1 Rの場合"
   ]
  },
  {
   "cell_type": "code",
   "execution_count": null,
   "metadata": {},
   "outputs": [],
   "source": [
    "library(tidyverse)\n",
    "my_data <- data.frame(\n",
    "  language = c(  0, 20, 20, 25, 22, 17),\n",
    "  english  = c(  0, 20, 40, 20, 24, 18),\n",
    "  math     = c(100, 20,  5, 30, 17, 25),\n",
    "  science  = c(  0, 20,  5, 25, 16, 23),\n",
    "  society  = c(  0, 20, 30,  0, 21, 17),\n",
    "  row.names = c(\"A\", \"B\", \"C\", \"D\", \"E\", \"F\"))\n",
    "\n",
    "my_data %>%\n",
    "  scale %>%          # 標準化，\n",
    "  as.matrix %>%      # 行列にしてから，\n",
    "  gplots::heatmap.2( # 可視化\n",
    "    distfun = function(m) { dist(x = m, method = 'euclidean') },\n",
    "    hclustfun = function(d) { hclust(d = d, method = 'complete') },\n",
    "    cexRow = 1, # 行ラベルのサイズ\n",
    "    cexCol = 1) # 列ラベルのサイズ"
   ]
  },
  {
   "cell_type": "markdown",
   "metadata": {},
   "source": [
    "#### 14.2.4.1 Rの場合"
   ]
  },
  {
   "cell_type": "code",
   "execution_count": null,
   "metadata": {},
   "outputs": [],
   "source": [
    "my_data <- data.frame(\n",
    "  x = c(  0, -16,  10,  10),\n",
    "  y = c(  0,   0,  10, -15),\n",
    "  row.names = c(\"A\", \"B\", \"C\", \"D\"))\n",
    "\n",
    "# クラスター数を3として，非階層的クラスター分析を行う．\n",
    "my_result <- my_data %>% kmeans(3)\n",
    "\n",
    "# 各データがどのクラスターに属しているかを確認する．\n",
    "my_cluster <- my_result$cluster\n",
    "my_cluster\n",
    "#> A B C D \n",
    "#> 2 3 2 1 "
   ]
  },
  {
   "cell_type": "markdown",
   "metadata": {},
   "source": [
    "### 14.2.5 主成分分析とクラスター分析"
   ]
  },
  {
   "cell_type": "code",
   "execution_count": null,
   "metadata": {},
   "outputs": [],
   "source": [
    "library(tidyverse)\n",
    "# アヤメのデータ\n",
    "my_data <- iris[, -5]\n",
    "\n",
    "# 主成分分析\n",
    "my_result <- prcomp(my_data)\n",
    "\n",
    "# 階層的クラスター分析\n",
    "my_cluster <- my_data %>% scale %>% dist %>% hclust %>% cutree(3)\n",
    "\n",
    "# 非階層的クラスター分析\n",
    "#my_cluster <- (my_data %>% scale %>% kmeans(3))$cluster\n",
    "\n",
    "# バイプロット\n",
    "my_result %>%\n",
    "  ggbiplot::ggbiplot(\n",
    "    scale = 0,\n",
    "    groups = as.factor(my_cluster)) # クラスターによるグループ分け"
   ]
  }
 ],
 "nbformat": 4,
 "nbformat_minor": 5,
 "metadata": {
  "kernelspec": {
   "name": "ir",
   "display_name": "R"
  }
 }
}
