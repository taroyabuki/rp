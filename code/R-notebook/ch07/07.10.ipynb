{
 "cells": [
  {
   "cell_type": "markdown",
   "metadata": {},
   "source": [
    "7.10 ニューラルネットワーク\n",
    "---------------------------"
   ]
  },
  {
   "cell_type": "code",
   "execution_count": null,
   "metadata": {},
   "outputs": [],
   "source": [
    "curve(1 / (1 + exp(-x)), -6, 6)"
   ]
  },
  {
   "cell_type": "markdown",
   "metadata": {},
   "source": [
    "### 7.10.1 Rの場合"
   ]
  },
  {
   "cell_type": "code",
   "execution_count": null,
   "metadata": {},
   "outputs": [],
   "source": [
    "library(tidyverse)\n",
    "library(caret)\n",
    "my_data <- cars\n",
    "\n",
    "my_result <- train(form = dist ~ speed, data = my_data, method = \"nnet\",\n",
    "                   linout = TRUE,                     # 回帰（nnetで回帰を行う際は必須）\n",
    "                   preProcess = c(\"center\", \"scale\")) # 標準化"
   ]
  },
  {
   "cell_type": "code",
   "execution_count": null,
   "metadata": {},
   "outputs": [],
   "source": [
    "f <- function(x) { my_result %>% predict(data.frame(speed = x))}\n",
    "\n",
    "my_data %>% ggplot(aes(x = speed, y = dist)) +\n",
    "  geom_point() +         # データ\n",
    "  stat_function(fun = f) # モデル"
   ]
  },
  {
   "cell_type": "code",
   "execution_count": null,
   "metadata": {},
   "outputs": [],
   "source": [
    "w <- my_result$finalModel$wts          # 重み（訓練結果）\n",
    "f <- function(x) { 1 / (1 + exp(-x)) } # 隠れ層の活性化関数（標準シグモイド関数）\n",
    "g <- function(x) { x }                 # 出力層の活性化関数（何もしない）\n",
    "h <- function(x) {                     # 標準化したspeedからdistを計算する関数（ニューロン数は3個）\n",
    "  g(w[7] +\n",
    "      w[8]  * f(w[1] + w[2] * x) +\n",
    "      w[9]  * f(w[3] + w[4] * x) +\n",
    "      w[10] * f(w[5] + w[6] * x))\n",
    "}\n",
    "\n",
    "# 標準化してから予測する関数\n",
    "model <- function(x) { h((x - mean(my_data$speed)) / sd(my_data$speed)) }\n",
    "\n",
    "my_data %>%\n",
    "  ggplot(aes(x = speed, y = dist)) +\n",
    "  geom_point() +\n",
    "  stat_function(fun = model)\n",
    "# 結果は割愛"
   ]
  }
 ],
 "nbformat": 4,
 "nbformat_minor": 5,
 "metadata": {
  "kernelspec": {
   "name": "ir",
   "display_name": "R"
  }
 }
}
