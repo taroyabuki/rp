{
 "cells": [
  {
   "cell_type": "markdown",
   "metadata": {},
   "source": [
    "7.14 補足：モデルの柔軟さと予測性能\n",
    "-----------------------------------"
   ]
  },
  {
   "cell_type": "code",
   "execution_count": null,
   "metadata": {},
   "outputs": [],
   "source": [
    "library(tidyverse)\n",
    "library(caret)\n",
    "library(furrr)\n",
    "plan(multisession)\n",
    "\n",
    "my_data <- cars\n",
    "my_samples <- createResample(my_data$dist, times = n) # ブートストラップ\n",
    "#my_samples <- createMultiFolds(my_data$dist, k = 5, times = 10) # 5分割交差検証（10回）"
   ]
  },
  {
   "cell_type": "code",
   "execution_count": null,
   "metadata": {},
   "outputs": [],
   "source": [
    "f <- function(x) {\n",
    "  my_samples %>% map_dfr(function(sample) {\n",
    "    my_train <- my_data[ sample, ]\n",
    "    my_test  <- my_data[-sample, ]\n",
    "    tmp <- as.formula(bquote(dist ~ poly(speed, degree = .(x), raw = TRUE)))\n",
    "    my_model <- train(form = tmp, data = my_train, method = \"lm\",\n",
    "                      trControl = trainControl(method = \"none\"))\n",
    "    list(\n",
    "      x = x,\n",
    "      train = RMSE(my_train$dist, predict(my_model, newdata = my_train)),\n",
    "      validation = RMSE(my_test$dist, predict(my_model, newdata = my_test))\n",
    "    )\n",
    "  })\n",
    "}"
   ]
  },
  {
   "cell_type": "code",
   "execution_count": null,
   "metadata": {},
   "outputs": [],
   "source": [
    "my_scores <- 1:6 %>% future_map_dfr(f)\n",
    "head(my_scores)\n",
    "#>       x train validation\n",
    "#>   <int> <dbl>      <dbl>\n",
    "#> 1     1  12.3       17.5\n",
    "#> 2     1  12.5       20.3\n",
    "#> 3     1  13.1       17.4\n",
    "#> 4     1  15.9       12.2\n",
    "#> 5     1  14.5       12.7\n",
    "#> 6     1  16.2       12.2"
   ]
  },
  {
   "cell_type": "code",
   "execution_count": null,
   "metadata": {},
   "outputs": [],
   "source": [
    "tmp <- my_scores %>% pivot_longer(-x)\n",
    "tmp %>% ggplot(aes(x = x, y = value, color = name)) +\n",
    "  stat_summary(fun = mean, geom = \"line\") +\n",
    "  stat_summary(fun.data = mean_se) +\n",
    "  xlab(\"degree\") + ylab(\"RMSE\")"
   ]
  }
 ],
 "nbformat": 4,
 "nbformat_minor": 5,
 "metadata": {
  "kernelspec": {
   "name": "ir",
   "display_name": "R"
  }
 }
}
