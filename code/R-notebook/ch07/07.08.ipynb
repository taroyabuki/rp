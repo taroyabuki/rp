{
 "cells": [
  {
   "cell_type": "markdown",
   "metadata": {},
   "source": [
    "### 7.8.1 Rの場合"
   ]
  },
  {
   "cell_type": "code",
   "execution_count": null,
   "metadata": {},
   "outputs": [],
   "source": [
    "library(tidyverse)\n",
    "library(caret)\n",
    "my_data <- cars\n",
    "my_result <- train(form = dist ~ speed, data = my_data, method = \"knn\")"
   ]
  },
  {
   "cell_type": "code",
   "execution_count": null,
   "metadata": {},
   "outputs": [],
   "source": [
    "my_pred <- my_result %>% predict(my_data)\n",
    "RMSE(my_pred, my_data$speed)\n",
    "#> [1] 32.24723"
   ]
  },
  {
   "cell_type": "code",
   "execution_count": null,
   "metadata": {},
   "outputs": [],
   "source": [
    "f <- function(x) { my_result %>% predict(data.frame(speed = x))}\n",
    "\n",
    "my_data %>% ggplot(aes(x = speed, y = dist)) +\n",
    "  geom_point() +         # データ\n",
    "  stat_function(fun = f) # モデル"
   ]
  }
 ],
 "nbformat": 4,
 "nbformat_minor": 5,
 "metadata": {
  "kernelspec": {
   "name": "ir",
   "display_name": "R"
  }
 }
}
