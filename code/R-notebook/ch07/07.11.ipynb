{
 "cells": [
  {
   "cell_type": "markdown",
   "metadata": {},
   "source": [
    "### 7.11.1 Rの場合"
   ]
  },
  {
   "cell_type": "code",
   "execution_count": null,
   "metadata": {},
   "outputs": [],
   "source": [
    "library(tidyverse)\n",
    "library(caret)\n",
    "my_data <- cars\n",
    "\n",
    "my_model <- train(form = dist ~ speed, data = my_data, method = \"lm\",\n",
    "                  trControl = trainControl(method = \"cv\", number = 5))"
   ]
  },
  {
   "cell_type": "code",
   "execution_count": null,
   "metadata": {},
   "outputs": [],
   "source": [
    "my_model$results\n",
    "#>   intercept     RMSE  Rsquared      MAE   RMSESD RsquaredSD    MAESD\n",
    "#> 1      TRUE 15.54312 0.6844412 12.37043 3.497211  0.1979125 3.068685"
   ]
  },
  {
   "cell_type": "markdown",
   "metadata": {},
   "source": [
    "### 7.11.3 補足：交差検証による手法の比較"
   ]
  },
  {
   "cell_type": "code",
   "execution_count": null,
   "metadata": {},
   "outputs": [],
   "source": [
    "library(tidyverse)\n",
    "library(caret)\n",
    "my_data <- cars\n",
    "\n",
    "# 線形単回帰分析\n",
    "my_lm_model  <- train(form = dist ~ ., data = my_data, method = \"lm\")\n",
    "my_lm_model$results\n",
    "#>   intercept     RMSE  Rsquared      MAE RMSESD RsquaredSD    MAESD\n",
    "#> 1      TRUE 15.78902 0.6699013 12.21545 3.1511  0.1050254 2.267991\n",
    "\n",
    "# K最近傍法\n",
    "my_knn_model <- train(form = dist ~ ., data = my_data, method = \"knn\")\n",
    "my_knn_model$results\n",
    "#>   k     RMSE  Rsquared      MAE   RMSESD RsquaredSD    MAESD\n",
    "#> 1 5 16.95169 0.6179135 13.12438 2.742619  0.1380670 1.970236\n",
    "#> 2 7 17.16295 0.6136017 13.24059 2.304467  0.1185074 1.483025\n",
    "#> 3 9 17.63868 0.5898739 13.56792 2.749958  0.1251806 1.733104"
   ]
  },
  {
   "cell_type": "code",
   "execution_count": null,
   "metadata": {},
   "outputs": [],
   "source": [
    "my_df <- data.frame(lm = my_lm_model$resample$RMSE,\n",
    "                    knn = my_knn_model$resample$RMSE)\n",
    "head(my_df)\n",
    "#>         lm      knn\n",
    "#> 1 11.65310 15.88667\n",
    "#> 2 19.02267 16.50157\n",
    "#> 3 15.19800 17.99563\n",
    "#> 4 11.99702 19.17346\n",
    "#> 5 19.39390 21.07320\n",
    "#> 6 16.20855 11.63737"
   ]
  },
  {
   "cell_type": "code",
   "execution_count": null,
   "metadata": {},
   "outputs": [],
   "source": [
    "boxplot(my_df)"
   ]
  },
  {
   "cell_type": "code",
   "execution_count": null,
   "metadata": {},
   "outputs": [],
   "source": [
    "wilcox.test(my_df$lm, my_df$knn, alternative = \"two.sided\")\n",
    "#>         Wilcoxon rank sum exact test\n",
    "#> \n",
    "#> data:  my_df$lm and my_df$knn\n",
    "#> W = 243, p-value = 0.1823\n",
    "#> alternative hypothesis: true location shift is not equal to 0"
   ]
  }
 ],
 "nbformat": 4,
 "nbformat_minor": 5,
 "metadata": {
  "kernelspec": {
   "name": "ir",
   "display_name": "R"
  }
 }
}
