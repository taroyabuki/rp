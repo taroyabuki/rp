{
 "cells": [
  {
   "cell_type": "markdown",
   "metadata": {},
   "source": [
    "### 7.2.1 Rの場合"
   ]
  },
  {
   "cell_type": "code",
   "execution_count": null,
   "metadata": {},
   "outputs": [],
   "source": [
    "library(tidyverse)\n",
    "library(caret)"
   ]
  },
  {
   "cell_type": "code",
   "execution_count": null,
   "metadata": {},
   "outputs": [],
   "source": [
    "my_data <- cars # データに別名を付ける．"
   ]
  },
  {
   "cell_type": "code",
   "execution_count": null,
   "metadata": {},
   "outputs": [],
   "source": [
    "dim(my_data) # データ数の表示\n",
    "#> [1] 50  2"
   ]
  },
  {
   "cell_type": "code",
   "execution_count": null,
   "metadata": {},
   "outputs": [],
   "source": [
    "head(my_data) # 最初の数件の表示\n",
    "#>   speed dist\n",
    "#> 1     4    2\n",
    "#> 2     4   10\n",
    "#> 3     7    4\n",
    "#> 4     7   22\n",
    "#> 5     8   16\n",
    "#> 6     9   10"
   ]
  },
  {
   "cell_type": "code",
   "execution_count": null,
   "metadata": {},
   "outputs": [],
   "source": [
    "psych::describe(my_data) # 基本統計量\n",
    "#>       vars  n  mean    sd median trimmed   mad min max range  skew kurtosis   se\n",
    "#> speed    1 50 15.40  5.29     15   15.47  5.93   4  25    21 -0.11    -0.67 0.75\n",
    "#> dist     2 50 42.98 25.77     36   40.88 23.72   2 120   118  0.76     0.12 3.64"
   ]
  },
  {
   "cell_type": "code",
   "execution_count": null,
   "metadata": {},
   "outputs": [],
   "source": [
    "plot(my_data) # 結果は割愛"
   ]
  }
 ],
 "nbformat": 4,
 "nbformat_minor": 5,
 "metadata": {
  "kernelspec": {
   "name": "ir",
   "display_name": "R"
  }
 }
}
