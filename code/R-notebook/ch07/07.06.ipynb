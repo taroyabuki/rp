{
 "cells": [
  {
   "cell_type": "markdown",
   "metadata": {},
   "source": [
    "### 7.6.3 交差検証の実践"
   ]
  },
  {
   "cell_type": "code",
   "execution_count": null,
   "metadata": {},
   "outputs": [],
   "source": [
    "library(caret)\n",
    "library(tidyverse)\n",
    "my_data <- cars\n",
    "\n",
    "my_model <- train(form = dist ~ speed, data = my_data, method = \"lm\")\n",
    "\n",
    "my_model$results\n",
    "#>   intercept    RMSE  Rsquared      MAE   RMSESD RsquaredSD    MAESD\n",
    "#> 1      TRUE 16.0206 0.6662176 12.14701 2.518604 0.09249158 1.920564"
   ]
  },
  {
   "cell_type": "code",
   "execution_count": null,
   "metadata": {},
   "outputs": [],
   "source": [
    "my_model <- train(form = dist ~ speed, data = my_data, method = \"lm\",\n",
    "                  trControl = trainControl(method = \"cv\", number = 5))\n",
    "my_model$results                 \n",
    "#>   intercept     RMSE  Rsquared      MAE  RMSESD RsquaredSD    MAESD\n",
    "#> 1      TRUE 15.06708 0.6724501 12.12448 4.75811  0.1848932 3.052435"
   ]
  },
  {
   "cell_type": "code",
   "execution_count": null,
   "metadata": {},
   "outputs": [],
   "source": [
    "my_model <- train(form = dist ~ speed, data = my_data, method = \"lm\",\n",
    "                  trControl = trainControl(method=\"LOOCV\"))\n",
    "my_model$results\n",
    "#>   intercept     RMSE  Rsquared      MAE\n",
    "#> 1      TRUE 15.69731 0.6217139 12.05918"
   ]
  },
  {
   "cell_type": "markdown",
   "metadata": {},
   "source": [
    "### 7.6.4 交差検証の並列化"
   ]
  },
  {
   "cell_type": "code",
   "execution_count": null,
   "metadata": {},
   "outputs": [],
   "source": [
    "library(doParallel)\n",
    "cl <- makeCluster(detectCores())\n",
    "registerDoParallel(cl)"
   ]
  },
  {
   "cell_type": "markdown",
   "metadata": {},
   "source": [
    "#### 7.6.5.1 準備"
   ]
  },
  {
   "cell_type": "code",
   "execution_count": null,
   "metadata": {},
   "outputs": [],
   "source": [
    "library(caret)\n",
    "library(tidyverse)\n",
    "my_data <- cars\n",
    "my_model <- train(form = dist ~ speed, data = my_data, method = \"lm\")\n",
    "y  <- my_data$dist\n",
    "y_ <- my_model %>% predict(my_data)"
   ]
  },
  {
   "cell_type": "markdown",
   "metadata": {},
   "source": [
    "#### 7.6.5.2 当てはまりの良さの指標"
   ]
  },
  {
   "cell_type": "code",
   "execution_count": null,
   "metadata": {},
   "outputs": [],
   "source": [
    "# RMSE（訓練）\n",
    "RMSE(y_, y)\n",
    "#> [1] 15.06886\n",
    "\n",
    "\n",
    "\n",
    "# 決定係数1（訓練）\n",
    "R2(pred = y_, obs = y,\n",
    "   form = \"traditional\")\n",
    "#> [1] 0.6510794\n",
    "\n",
    "\n",
    "# 決定係数6（訓練）\n",
    "R2(pred = y_, obs = y,\n",
    "   form = \"corr\")\n",
    "#> [1] 0.6510794"
   ]
  },
  {
   "cell_type": "markdown",
   "metadata": {},
   "source": [
    "#### 7.6.5.3 予測性能の指標"
   ]
  },
  {
   "cell_type": "code",
   "execution_count": null,
   "metadata": {},
   "outputs": [],
   "source": [
    "my_model <- train(form = dist ~ speed, data = my_data, method = \"lm\")\n",
    "my_model$results\n",
    "#>   intercept     RMSE  Rsquared      MAE   RMSESD RsquaredSD   MAESD\n",
    "#> 1      TRUE 14.88504 0.6700353 11.59226 2.778445  0.1529552 2.05134"
   ]
  },
  {
   "cell_type": "markdown",
   "metadata": {},
   "source": [
    "#### 7.6.5.4 補足：予測性能の指標（工夫が必要なもの）"
   ]
  },
  {
   "cell_type": "code",
   "execution_count": null,
   "metadata": {},
   "outputs": [],
   "source": [
    "# 決定係数1（検証）を求めるための準備\n",
    "my_r2_1 <- function(data, lev, model) {\n",
    "  c(defaultSummary(data),\n",
    "    \"R2_1\" = R2(pred = data$pred, obs = data$obs, form=\"traditional\"))\n",
    "}\n",
    "\n",
    "my_model <- train(form = dist ~ speed, data = my_data, method = \"lm\",\n",
    "                  trControl = trainControl(summaryFunction = my_r2_1))\n",
    "my_model$results\n",
    "#>   intercept    RMSE  Rsquared      MAE      R2_1 ...\n",
    "#> 1      TRUE 16.7833 0.6206035 12.93985 0.5718879 ...\n",
    "# 左から，RMSE（検証），決定係数6（検証），MAE（検証），決定係数1（検証）"
   ]
  },
  {
   "cell_type": "markdown",
   "metadata": {},
   "source": [
    "#### 7.6.5.5 補足：予測性能の指標（RとPythonで同じ結果を得る）"
   ]
  },
  {
   "cell_type": "code",
   "execution_count": null,
   "metadata": {},
   "outputs": [],
   "source": [
    "my_model <- train(form = dist ~ speed, data = my_data, method = \"lm\",\n",
    "                  trControl = trainControl(\n",
    "                    method = \"LOOCV\",\n",
    "                    summaryFunction = my_r2_1))\n",
    "my_model$results\n",
    "#>   intercept     RMSE  Rsquared      MAE      R2_1\n",
    "#> 1      TRUE 15.69731 0.6217139 12.05918 0.6213689\n",
    "# 左から，RMSE（検証），決定係数 6（検証），MAE（検証），決定係数 1（検証）"
   ]
  }
 ],
 "nbformat": 4,
 "nbformat_minor": 5,
 "metadata": {
  "kernelspec": {
   "name": "ir",
   "display_name": "R"
  }
 }
}
