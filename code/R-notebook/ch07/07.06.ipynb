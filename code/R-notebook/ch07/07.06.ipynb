{
 "cells": [
  {
   "cell_type": "markdown",
   "metadata": {},
   "source": [
    "### 7.6.1 Rの場合"
   ]
  },
  {
   "cell_type": "code",
   "execution_count": null,
   "metadata": {},
   "outputs": [],
   "source": [
    "library(tidyverse)\n",
    "library(caret)\n",
    "my_data <- cars\n",
    "my_model <- train(form = dist ~ speed, data = my_data, method = \"lm\") # 訓練\n",
    "my_data$prediction <- my_model %>% predict(my_data)                   # 予測"
   ]
  },
  {
   "cell_type": "code",
   "execution_count": null,
   "metadata": {},
   "outputs": [],
   "source": [
    "my_data$residual <- my_data$dist - my_data$prediction # 残差\n",
    "head(my_data)\n",
    "#>   speed dist prediction  residual\n",
    "#> 1     4    2  -1.849460  3.849460\n",
    "#> 2     4   10  -1.849460 11.849460\n",
    "#> 3     7    4   9.947766 -5.947766\n",
    "#> 4     7   22   9.947766 12.052234\n",
    "#> 5     8   16  13.880175  2.119825\n",
    "#> 6     9   10  17.812584 -7.812584"
   ]
  },
  {
   "cell_type": "code",
   "execution_count": null,
   "metadata": {},
   "outputs": [],
   "source": [
    "f <- function(x) { my_model %>% predict(data.frame(speed = x)) }\n",
    "\n",
    "my_data %>% ggplot(aes(x = speed, y = dist)) +\n",
    "  geom_point() +\n",
    "  stat_function(fun = f) +\n",
    "  geom_linerange(mapping = aes(ymin = dist, ymax = prediction),\n",
    "                 linetype = \"dotted\")"
   ]
  },
  {
   "cell_type": "code",
   "execution_count": null,
   "metadata": {},
   "outputs": [],
   "source": [
    "sqrt(mean(my_data$residual^2))\n",
    "# あるいは\n",
    "RMSE(my_data$prediction, my_data$dist)\n",
    "\n",
    "#> [1] 15.06886"
   ]
  }
 ],
 "nbformat": 4,
 "nbformat_minor": 5,
 "metadata": {
  "kernelspec": {
   "name": "ir",
   "display_name": "R"
  }
 }
}
