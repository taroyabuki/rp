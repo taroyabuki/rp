{
 "cells": [
  {
   "cell_type": "markdown",
   "metadata": {},
   "source": [
    "### 7.12.1 Rの場合"
   ]
  },
  {
   "cell_type": "code",
   "execution_count": null,
   "metadata": {},
   "outputs": [],
   "source": [
    "library(tidyverse)\n",
    "library(caret)\n",
    "modelLookup(\"knn\")\n",
    "#>   model parameter      label forReg forClass probModel\n",
    "#> 1   knn         k #Neighbors   TRUE     TRUE      TRUE"
   ]
  },
  {
   "cell_type": "code",
   "execution_count": null,
   "metadata": {},
   "outputs": [],
   "source": [
    "my_data <- cars\n",
    "my_model <- train(form = dist ~ speed, data = my_data, method = \"knn\")"
   ]
  },
  {
   "cell_type": "code",
   "execution_count": null,
   "metadata": {},
   "outputs": [],
   "source": [
    "my_model <- train(form = dist ~ speed, data = my_data, method = \"knn\",\n",
    "                  tuneGrid = expand.grid(k = 1:15))"
   ]
  },
  {
   "cell_type": "code",
   "execution_count": null,
   "metadata": {},
   "outputs": [],
   "source": [
    "ggplot(my_model)"
   ]
  },
  {
   "cell_type": "code",
   "execution_count": null,
   "metadata": {},
   "outputs": [],
   "source": [
    "my_model$results %>% filter(RMSE == min(my_model$results$RMSE))\n",
    "#>   k     RMSE  Rsquared      MAE   RMSESD RsquaredSD MAESD\n",
    "#> 1 5 16.37505 0.6116958 12.84625 3.271331  0.1077829 2.356"
   ]
  },
  {
   "cell_type": "markdown",
   "metadata": {},
   "source": [
    "#### 7.12.1.1 関数\\\\texttt{train"
   ]
  },
  {
   "cell_type": "code",
   "execution_count": null,
   "metadata": {},
   "outputs": [],
   "source": [
    "my_model <-\n",
    "  train(form = dist ~ speed,\n",
    "        data = my_data,\n",
    "        method = \"knn\",\n",
    "        linout = TRUE,\n",
    "        preProcess = c(\"center\", \"scale\"),\n",
    "        tuneGrid = expand.grid(k = 1:15),\n",
    "        tuneLength = 10, # この例では無効\n",
    "        trControl = trainControl(method = \"boot\", number = 50))"
   ]
  }
 ],
 "nbformat": 4,
 "nbformat_minor": 5,
 "metadata": {
  "kernelspec": {
   "name": "ir",
   "display_name": "R"
  }
 }
}
