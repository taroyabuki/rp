{
 "cells": [
  {
   "cell_type": "markdown",
   "metadata": {},
   "source": [
    "#### 7.12.1.1 K最近傍法"
   ]
  },
  {
   "cell_type": "code",
   "execution_count": null,
   "metadata": {},
   "outputs": [],
   "source": [
    "library(tidyverse)\n",
    "library(caret)\n",
    "\n",
    "modelLookup(\"knn\")\n",
    "#>   model parameter      label forReg forClass probModel\n",
    "#> 1   knn         k #Neighbors   TRUE     TRUE      TRUE"
   ]
  },
  {
   "cell_type": "code",
   "execution_count": null,
   "metadata": {},
   "outputs": [],
   "source": [
    "my_data <- cars\n",
    "my_result <- train(form = dist ~ speed, data = my_data, method = \"knn\")"
   ]
  },
  {
   "cell_type": "code",
   "execution_count": null,
   "metadata": {},
   "outputs": [],
   "source": [
    "my_data <- cars\n",
    "my_result <- train(form = dist ~ speed, data = my_data, method = \"knn\",\n",
    "                   tuneGrid = data.frame(k = 1:15))"
   ]
  },
  {
   "cell_type": "code",
   "execution_count": null,
   "metadata": {},
   "outputs": [],
   "source": [
    "my_result$results %>% filter(RMSE == min(my_result$results$RMSE))\n",
    "#>   k     RMSE  Rsquared      MAE   RMSESD RsquaredSD    MAESD\n",
    "#> 1 5 17.64586 0.6178916 13.93285 3.173842  0.1087155 2.530383"
   ]
  },
  {
   "cell_type": "markdown",
   "metadata": {},
   "source": [
    "#### 7.12.1.2 ニューラルネットワーク"
   ]
  },
  {
   "cell_type": "code",
   "execution_count": null,
   "metadata": {},
   "outputs": [],
   "source": [
    "library(tidyverse)\n",
    "library(caret)\n",
    "my_data <- cars\n",
    "\n",
    "modelLookup(\"nnet\")\n",
    "#>   model parameter         label forReg forClass probModel\n",
    "#> 1  nnet      size #Hidden Units   TRUE     TRUE      TRUE\n",
    "#> 2  nnet     decay  Weight Decay   TRUE     TRUE      TRUE"
   ]
  },
  {
   "cell_type": "code",
   "execution_count": null,
   "metadata": {},
   "outputs": [],
   "source": [
    "my_result <- train(form = dist ~ speed, data = my_data, method = \"nnet\",\n",
    "                   linout = TRUE,\n",
    "                   preProcess = c(\"center\", \"scale\"))"
   ]
  },
  {
   "cell_type": "code",
   "execution_count": null,
   "metadata": {},
   "outputs": [],
   "source": [
    "my_result <-\n",
    "  train(form = dist ~ speed, data = my_data, method = \"nnet\",\n",
    "        linout = TRUE,\n",
    "        preProcess = c(\"center\", \"scale\"),\n",
    "        tuneGrid = expand.grid(size = 1:10,\n",
    "                               decay = c(0, 1e-4, 1e-3, 1e-2, 1e-1)))"
   ]
  },
  {
   "cell_type": "code",
   "execution_count": null,
   "metadata": {},
   "outputs": [],
   "source": [
    "my_result$results %>% filter(RMSE == min(my_result$results$RMSE))\n",
    "#>   size decay     RMSE  Rsquared      MAE   RMSESD RsquaredSD    MAESD\n",
    "#> 1    1     0 16.39848 0.5820078 12.75363 3.096083  0.1650226 2.653641"
   ]
  },
  {
   "cell_type": "markdown",
   "metadata": {},
   "source": [
    "#### 7.12.1.3 関数\\\\texttt{train"
   ]
  },
  {
   "cell_type": "code",
   "execution_count": null,
   "metadata": {},
   "outputs": [],
   "source": [
    "my_result <-\n",
    "  train(form = dist ~ speed,\n",
    "        data = my_data,\n",
    "        method = \"nnet\",\n",
    "        linout = TRUE,\n",
    "        preProcess = c(\"center\", \"scale\"),\n",
    "        tuneGrid = expand.grid(size = 1:10,\n",
    "                               decay = c(0, 1e-4, 1e-3, 1e-2, 1e-1)),\n",
    "        tuneLength = 10, # この例では無効\n",
    "        trControl = trainControl(method = \"boot\", number = 50))"
   ]
  }
 ],
 "nbformat": 4,
 "nbformat_minor": 5,
 "metadata": {
  "kernelspec": {
   "name": "ir",
   "display_name": "R"
  }
 }
}
