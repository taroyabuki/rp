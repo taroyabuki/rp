{
 "cells": [
  {
   "cell_type": "markdown",
   "metadata": {},
   "source": [
    "### 3.4.1 データフレームの作成"
   ]
  },
  {
   "cell_type": "code",
   "execution_count": null,
   "metadata": {},
   "outputs": [],
   "source": [
    "library(tidyverse)"
   ]
  },
  {
   "cell_type": "markdown",
   "metadata": {},
   "source": [
    "#### 3.4.1.1 データを列ごとに記述する方法"
   ]
  },
  {
   "cell_type": "code",
   "execution_count": null,
   "metadata": {},
   "outputs": [],
   "source": [
    "my_df <- data.frame(\n",
    "  name    = c(\"A\", \"B\", \"C\", \"D\"),\n",
    "  english = c( 60,  90,  70,  90),\n",
    "  math    = c( 70,  80,  90, 100),\n",
    "  gender  = c(\"f\", \"m\", \"m\", \"f\"))"
   ]
  },
  {
   "cell_type": "markdown",
   "metadata": {},
   "source": [
    "#### 3.4.1.2 データを行ごとに記述する方法"
   ]
  },
  {
   "cell_type": "code",
   "execution_count": null,
   "metadata": {},
   "outputs": [],
   "source": [
    "my_df <- tribble(\n",
    "  ~name, ~english, ~math, ~gender,\n",
    "  \"A\",         60,    70,     \"f\",\n",
    "  \"B\",         90,    80,     \"m\",\n",
    "  \"C\",         70,    90,     \"m\",\n",
    "  \"D\",         90,   100,     \"f\")"
   ]
  },
  {
   "cell_type": "markdown",
   "metadata": {},
   "source": [
    "#### 3.4.1.3 データフレームのサイズ"
   ]
  },
  {
   "cell_type": "code",
   "execution_count": null,
   "metadata": {},
   "outputs": [],
   "source": [
    "dim(my_df)  # 行数と列数\n",
    "[1] 4 4\n",
    "\n",
    "nrow(my_df) # 行数\n",
    "[1] 4\n",
    "\n",
    "ncol(my_df) # 列数\n",
    "[1] 4"
   ]
  },
  {
   "cell_type": "markdown",
   "metadata": {},
   "source": [
    "#### 3.4.1.4 組合せ"
   ]
  },
  {
   "cell_type": "code",
   "execution_count": null,
   "metadata": {},
   "outputs": [],
   "source": [
    "my_df2 <- expand.grid(\n",
    "  X = c(1, 2, 3),\n",
    "  Y = c(10, 100))\n",
    "my_df2\n",
    "#>   X   Y\n",
    "#> 1 1  10\n",
    "#> 2 2  10\n",
    "#> 3 3  10\n",
    "#> 4 1 100\n",
    "#> 5 2 100\n",
    "#> 6 3 100"
   ]
  },
  {
   "cell_type": "markdown",
   "metadata": {},
   "source": [
    "#### 3.4.1.5 列と行の名前"
   ]
  },
  {
   "cell_type": "code",
   "execution_count": null,
   "metadata": {},
   "outputs": [],
   "source": [
    "colnames(my_df2)\n",
    "#> [1] \"P\" \"Q\""
   ]
  },
  {
   "cell_type": "code",
   "execution_count": null,
   "metadata": {},
   "outputs": [],
   "source": [
    "colnames(my_df2) <- c(\"P\", \"Q\")\n",
    "my_df2\n",
    "#>   P   Q\n",
    "#> 1 1  10\n",
    "#> 2 2  10\n",
    "# 以下略"
   ]
  },
  {
   "cell_type": "code",
   "execution_count": null,
   "metadata": {},
   "outputs": [],
   "source": [
    "row.names(my_df)\n",
    "#> [1] \"1\" \"2\" \"3\" \"4\""
   ]
  },
  {
   "cell_type": "code",
   "execution_count": null,
   "metadata": {},
   "outputs": [],
   "source": [
    "row.names(my_df2) <-\n",
    "  c(\"a\", \"b\", \"c\", \"d\", \"e\", \"f\")\n",
    "my_df2\n",
    "#>   P   Q\n",
    "#> a 1  10\n",
    "#> b 2  10\n",
    "#> c 3  10\n",
    "# 以下略"
   ]
  },
  {
   "cell_type": "code",
   "execution_count": null,
   "metadata": {},
   "outputs": [],
   "source": [
    "my_df3 <- data.frame(\n",
    "  english =   c( 60,  90,  70,  90),\n",
    "  math    =   c( 70,  80,  90, 100),\n",
    "  gender  =   c(\"f\", \"m\", \"m\", \"f\"),\n",
    "  row.names = c(\"A\", \"B\", \"C\", \"D\"))\n",
    "my_df3\n",
    "#>   english math gender\n",
    "#> A      60   70      f\n",
    "#> B      90   80      m\n",
    "#> C      70   90      m\n",
    "#> D      90  100      f"
   ]
  },
  {
   "cell_type": "markdown",
   "metadata": {},
   "source": [
    "#### 3.4.2.1 行の追加（データフレームの結合）"
   ]
  },
  {
   "cell_type": "code",
   "execution_count": null,
   "metadata": {},
   "outputs": [],
   "source": [
    "tmp <- data.frame(\n",
    "  name = \"E\",\n",
    "  english = 80,\n",
    "  math = 80,\n",
    "  gender = \"m\")\n",
    "rbind(my_df, tmp)"
   ]
  },
  {
   "cell_type": "markdown",
   "metadata": {},
   "source": [
    "#### 3.4.2.2 列の追加"
   ]
  },
  {
   "cell_type": "code",
   "execution_count": null,
   "metadata": {},
   "outputs": [],
   "source": [
    "my_df %>% mutate(id = c(1, 2, 3, 4))"
   ]
  },
  {
   "cell_type": "code",
   "execution_count": null,
   "metadata": {},
   "outputs": [],
   "source": [
    "my_df[\"id\"] <- c(1, 2, 3, 4)"
   ]
  },
  {
   "cell_type": "markdown",
   "metadata": {},
   "source": [
    "#### 3.4.3.1 1列の取り出し（結果は1次元データ）"
   ]
  },
  {
   "cell_type": "code",
   "execution_count": null,
   "metadata": {},
   "outputs": [],
   "source": [
    "my_df$english\n",
    "# あるいは\n",
    "my_df$\"english\"\n",
    "# あるいは\n",
    "my_df[[\"english\"]]\n",
    "# あるいは\n",
    "tmp <- \"english\"\n",
    "my_df[[tmp]]\n",
    "\n",
    "#> [1] 60 90 70 90"
   ]
  },
  {
   "cell_type": "markdown",
   "metadata": {},
   "source": [
    "#### 3.4.3.2 複数列の取り出し（結果はデータフレーム）"
   ]
  },
  {
   "cell_type": "code",
   "execution_count": null,
   "metadata": {},
   "outputs": [],
   "source": [
    "my_df %>% select(name, math)"
   ]
  },
  {
   "cell_type": "code",
   "execution_count": null,
   "metadata": {},
   "outputs": [],
   "source": [
    "my_df[, c(1, 3)]"
   ]
  },
  {
   "cell_type": "code",
   "execution_count": null,
   "metadata": {},
   "outputs": [],
   "source": [
    "my_df %>% select(-c(english, gender))\n",
    "# あるいは\n",
    "my_df[, -c(2, 4)]"
   ]
  },
  {
   "cell_type": "markdown",
   "metadata": {},
   "source": [
    "#### 3.4.3.3 複数行の取り出し（結果はデータフレーム）"
   ]
  },
  {
   "cell_type": "code",
   "execution_count": null,
   "metadata": {},
   "outputs": [],
   "source": [
    "my_df[c(1, 3), ]"
   ]
  },
  {
   "cell_type": "code",
   "execution_count": null,
   "metadata": {},
   "outputs": [],
   "source": [
    "my_df[-c(2, 4), ]"
   ]
  },
  {
   "cell_type": "markdown",
   "metadata": {},
   "source": [
    "#### 3.4.3.4 検索"
   ]
  },
  {
   "cell_type": "code",
   "execution_count": null,
   "metadata": {},
   "outputs": [],
   "source": [
    "my_df[my_df$gender == \"m\", ]\n",
    "# あるいは\n",
    "my_df %>% filter(gender == \"m\")"
   ]
  },
  {
   "cell_type": "code",
   "execution_count": null,
   "metadata": {},
   "outputs": [],
   "source": [
    "my_df[my_df$english > 80 & my_df$gender == \"m\", ]\n",
    "# あるいは\n",
    "my_df %>% filter(english > 80 & gender == \"m\")"
   ]
  },
  {
   "cell_type": "code",
   "execution_count": null,
   "metadata": {},
   "outputs": [],
   "source": [
    "my_df[my_df$english == max(my_df$english), ]\n",
    "# あるいは\n",
    "my_df %>% filter(english == max(my_df$english))"
   ]
  },
  {
   "cell_type": "markdown",
   "metadata": {},
   "source": [
    "#### 3.4.3.5 並べ替え"
   ]
  },
  {
   "cell_type": "code",
   "execution_count": null,
   "metadata": {},
   "outputs": [],
   "source": [
    "my_df %>% arrange(english)"
   ]
  },
  {
   "cell_type": "code",
   "execution_count": null,
   "metadata": {},
   "outputs": [],
   "source": [
    "my_df %>% arrange(-english)"
   ]
  },
  {
   "cell_type": "markdown",
   "metadata": {},
   "source": [
    "#### 3.4.4.1 行列の生成"
   ]
  },
  {
   "cell_type": "code",
   "execution_count": null,
   "metadata": {},
   "outputs": [],
   "source": [
    "x = c(2, 3, 5, 7, 11, 13,\n",
    "      17, 19, 23, 29, 31, 37)\n",
    "A <- matrix(\n",
    "  data = x,     # 1次元データ\n",
    "  nrow = 3,     # 行数\n",
    "  byrow = TRUE) # 行ごとの生成\n",
    "A\n",
    "#>      [,1] [,2] [,3] [,4]\n",
    "#> [1,]    2    3    5    7\n",
    "#> [2,]   11   13   17   19\n",
    "#> [3,]   23   29   31   37"
   ]
  },
  {
   "cell_type": "markdown",
   "metadata": {},
   "source": [
    "#### 3.4.4.2 データフレームと行列"
   ]
  },
  {
   "cell_type": "code",
   "execution_count": null,
   "metadata": {},
   "outputs": [],
   "source": [
    "my_df[, c(2, 3)] %>% as.matrix\n",
    "#>      english math\n",
    "#> [1,]      60   70\n",
    "#> [2,]      90   80\n",
    "#> [3,]      70   90\n",
    "#> [4,]      90  100"
   ]
  },
  {
   "cell_type": "code",
   "execution_count": null,
   "metadata": {},
   "outputs": [],
   "source": [
    "as.data.frame(A)\n",
    "#>   english math\n",
    "#> 1      60   70\n",
    "#> 2      90   80\n",
    "#> 3      70   90\n",
    "#> 4      90  100"
   ]
  },
  {
   "cell_type": "markdown",
   "metadata": {},
   "source": [
    "#### 3.4.4.3 行列の変形"
   ]
  },
  {
   "cell_type": "code",
   "execution_count": null,
   "metadata": {},
   "outputs": [],
   "source": [
    "t(A)\n",
    "#>      [,1] [,2] [,3]\n",
    "#> [1,]    2   11   23\n",
    "#> [2,]    3   13   29\n",
    "#> [3,]    5   17   31\n",
    "#> [4,]    7   19   37"
   ]
  },
  {
   "cell_type": "markdown",
   "metadata": {},
   "source": [
    "#### 3.4.4.4 行列の積"
   ]
  },
  {
   "cell_type": "code",
   "execution_count": null,
   "metadata": {},
   "outputs": [],
   "source": [
    "t(A) %*% A\n",
    "#>      [,1] [,2] [,3] [,4]\n",
    "#> [1,]  654  816  910 1074\n",
    "#> [2,]  816 1019 1135 1341\n",
    "#> [3,]  910 1135 1275 1505\n",
    "#> [4,] 1074 1341 1505 1779"
   ]
  },
  {
   "cell_type": "markdown",
   "metadata": {},
   "source": [
    "### 3.4.5 整然データ（R）"
   ]
  },
  {
   "cell_type": "code",
   "execution_count": null,
   "metadata": {},
   "outputs": [],
   "source": [
    "library(tidyverse)\n",
    "\n",
    "my_df <- data.table(\n",
    "  名前 = c(\"A\", \"B\"),\n",
    "  身長 = c(160, 170),\n",
    "  体重 = c(60, 70)\n",
    ")\n",
    "\n",
    "my_tidy <- my_df %>% pivot_longer(c(身長, 体重))\n",
    "# あるいは\n",
    "my_tidy <- my_df %>% pivot_longer(-名前)\n",
    "\n",
    "my_tidy\n",
    "#>   名前  name  value\n",
    "#>   <chr> <chr> <dbl>\n",
    "#> 1 A     身長    160\n",
    "#> 2 A     体重     60\n",
    "#> 3 B     身長    170\n",
    "#> 4 B     体重     70"
   ]
  },
  {
   "cell_type": "code",
   "execution_count": null,
   "metadata": {},
   "outputs": [],
   "source": [
    "my_tidy %>% pivot_wider()\n",
    "#>   名前   身長  体重\n",
    "#>   <chr> <dbl> <dbl>\n",
    "#> 1 A       160    60\n",
    "#> 2 B       170    70"
   ]
  }
 ],
 "nbformat": 4,
 "nbformat_minor": 5,
 "metadata": {
  "kernelspec": {
   "name": "ir",
   "display_name": "R"
  }
 }
}
