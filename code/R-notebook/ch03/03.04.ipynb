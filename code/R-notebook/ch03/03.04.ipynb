{
 "cells": [
  {
   "cell_type": "markdown",
   "metadata": {},
   "source": [
    "### 3.4.1 1次元データ"
   ]
  },
  {
   "cell_type": "code",
   "execution_count": null,
   "metadata": {},
   "outputs": [],
   "source": [
    "my_v <- c(\"foo\", \"bar\", \"baz\")"
   ]
  },
  {
   "cell_type": "code",
   "execution_count": null,
   "metadata": {},
   "outputs": [],
   "source": [
    "length(my_v)\n",
    "#> [1] 3"
   ]
  },
  {
   "cell_type": "code",
   "execution_count": null,
   "metadata": {},
   "outputs": [],
   "source": [
    "my_v[2]\n",
    "#> [1] \"bar\""
   ]
  },
  {
   "cell_type": "code",
   "execution_count": null,
   "metadata": {},
   "outputs": [],
   "source": [
    "my_v[-2]\n",
    "#> [1] \"foo\" \"baz\""
   ]
  },
  {
   "cell_type": "code",
   "execution_count": null,
   "metadata": {},
   "outputs": [],
   "source": [
    "c(my_v, \"qux\")\n",
    "#> [1] \"foo\" \"bar\" \"baz\" \"qux\""
   ]
  },
  {
   "cell_type": "code",
   "execution_count": null,
   "metadata": {},
   "outputs": [],
   "source": [
    "my_v <- c(my_v, \"qux\")\n",
    "my_v\n",
    "#> [1] \"foo\" \"bar\" \"baz\" \"qux\""
   ]
  },
  {
   "cell_type": "markdown",
   "metadata": {},
   "source": [
    "#### 3.4.1.1 等間隔の数値からなる1次元データ"
   ]
  },
  {
   "cell_type": "code",
   "execution_count": null,
   "metadata": {},
   "outputs": [],
   "source": [
    "my_v <- 1:5\n",
    "# my_v <- c(1, 2, 3, 4, 5)と同じ"
   ]
  },
  {
   "cell_type": "code",
   "execution_count": null,
   "metadata": {},
   "outputs": [],
   "source": [
    "seq(from = 1, to = 9, by = 2)\n",
    "#> [1] 1 3 5 7 9"
   ]
  },
  {
   "cell_type": "markdown",
   "metadata": {},
   "source": [
    "#### 3.4.1.2 ファクタ（Rのみ）"
   ]
  },
  {
   "cell_type": "code",
   "execution_count": null,
   "metadata": {},
   "outputs": [],
   "source": [
    "my_v <- c(\"グー\", \"パー\", \"グー\", \"パー\")\n",
    "my_factor <- factor(my_v, levels = c(\"グー\", \"チョキ\", \"パー\"))\n",
    "my_factor\n",
    "#> [1] グー パー グー パー\n",
    "#> Levels: グー チョキ パー"
   ]
  },
  {
   "cell_type": "markdown",
   "metadata": {},
   "source": [
    "### 3.4.2 数値計算やデータ解析用の1次元データ"
   ]
  },
  {
   "cell_type": "code",
   "execution_count": null,
   "metadata": {},
   "outputs": [],
   "source": [
    "# 準備不要"
   ]
  },
  {
   "cell_type": "code",
   "execution_count": null,
   "metadata": {},
   "outputs": [],
   "source": [
    "my_v <- c(2, 3, 5, 7)\n",
    "my_v + 10 # 加算\n",
    "#> [1] 12 13 15 17\n",
    "\n",
    "my_v * 10 # 乗算\n",
    "#> [1] 20 30 50 70"
   ]
  },
  {
   "cell_type": "code",
   "execution_count": null,
   "metadata": {},
   "outputs": [],
   "source": [
    "my_u <- c(2, 3)\n",
    "sin(my_u)\n",
    "#> [1] 0.9092974 0.1411200"
   ]
  },
  {
   "cell_type": "code",
   "execution_count": null,
   "metadata": {},
   "outputs": [],
   "source": [
    "my_v <- c(2,  3,   5,    7)\n",
    "my_w <- c(1, 10, 100, 1000)\n",
    "my_v + my_w\n",
    "#> [1]    3   13  105 1007\n",
    "\n",
    "my_v * my_w\n",
    "#> [1]    2   30  500 7000"
   ]
  },
  {
   "cell_type": "code",
   "execution_count": null,
   "metadata": {},
   "outputs": [],
   "source": [
    "sum(my_v * my_w)\n",
    "#> [1] 7532"
   ]
  },
  {
   "cell_type": "markdown",
   "metadata": {},
   "source": [
    "#### 3.4.2.1 1次元データ同士の比較"
   ]
  },
  {
   "cell_type": "code",
   "execution_count": null,
   "metadata": {},
   "outputs": [],
   "source": [
    "u = c(1, 2, 3)\n",
    "v = c(1, 2, 3)\n",
    "w = c(1, 2, 4)\n",
    "\n",
    "# 全体の比較\n",
    "identical(u, v)\n",
    "#> [1] TRUE\n",
    "\n",
    "identical(u, w)\n",
    "#> [1] FALSE\n",
    "\n",
    "# 要素ごとの比較\n",
    "u == v\n",
    "#> [1] TRUE TRUE TRUE\n",
    "> u == w\n",
    "#> [1]  TRUE  TRUE FALSE"
   ]
  },
  {
   "cell_type": "code",
   "execution_count": null,
   "metadata": {},
   "outputs": [],
   "source": [
    "# 同じ要素の数\n",
    "sum(u == w)\n",
    "#> [1] 2\n",
    "\n",
    "# 同じ要素の割合\n",
    "mean(u == w)\n",
    "#> [1] 0.6666667"
   ]
  },
  {
   "cell_type": "markdown",
   "metadata": {},
   "source": [
    "### 3.4.3 複数種類のデータをひとまとめにする"
   ]
  },
  {
   "cell_type": "code",
   "execution_count": null,
   "metadata": {},
   "outputs": [],
   "source": [
    "my_list <- list(1, \"two\")"
   ]
  },
  {
   "cell_type": "code",
   "execution_count": null,
   "metadata": {},
   "outputs": [],
   "source": [
    "my_list[[2]]\n",
    "#> [1] \"two\""
   ]
  },
  {
   "cell_type": "markdown",
   "metadata": {},
   "source": [
    "### 3.4.4 データのペアをひとまとめにする"
   ]
  },
  {
   "cell_type": "code",
   "execution_count": null,
   "metadata": {},
   "outputs": [],
   "source": [
    "my_dic <- list(\"apple\"  = \"りんご\",\n",
    "               \"orange\" = \"みかん\")"
   ]
  },
  {
   "cell_type": "code",
   "execution_count": null,
   "metadata": {},
   "outputs": [],
   "source": [
    "my_dic$\"apple\"\n",
    "# あるいは\n",
    "my_dic[[\"apple\"]]\n",
    "#> [1] \"りんご\""
   ]
  }
 ],
 "nbformat": 4,
 "nbformat_minor": 5,
 "metadata": {
  "kernelspec": {
   "name": "ir",
   "display_name": "R"
  }
 }
}
