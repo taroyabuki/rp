{
 "cells": [
  {
   "cell_type": "markdown",
   "metadata": {},
   "source": [
    "3.5 データフレーム\n",
    "------------------"
   ]
  },
  {
   "cell_type": "code",
   "execution_count": null,
   "metadata": {},
   "outputs": [],
   "source": [
    "library(tidyverse)"
   ]
  },
  {
   "cell_type": "markdown",
   "metadata": {},
   "source": [
    "#### 3.5.1.1 データを列ごとに記述する方法"
   ]
  },
  {
   "cell_type": "code",
   "execution_count": null,
   "metadata": {},
   "outputs": [],
   "source": [
    "my_df <- data.frame(\n",
    "  name    = c(\"A\", \"B\", \"C\", \"D\"),\n",
    "  english = c( 60,  90,  70,  90),\n",
    "  math    = c( 70,  80,  90, 100),\n",
    "  gender  = c(\"f\", \"m\", \"m\", \"f\"))"
   ]
  },
  {
   "cell_type": "markdown",
   "metadata": {},
   "source": [
    "#### 3.5.1.2 データを行ごとに記述する方法"
   ]
  },
  {
   "cell_type": "code",
   "execution_count": null,
   "metadata": {},
   "outputs": [],
   "source": [
    "my_df <- tribble(\n",
    "  ~name, ~english, ~math, ~gender,\n",
    "  \"A\",         60,    70,     \"f\",\n",
    "  \"B\",         90,    80,     \"m\",\n",
    "  \"C\",         70,    90,     \"m\",\n",
    "  \"D\",         90,   100,     \"f\")"
   ]
  },
  {
   "cell_type": "markdown",
   "metadata": {},
   "source": [
    "#### 3.5.1.3 組合せ"
   ]
  },
  {
   "cell_type": "code",
   "execution_count": null,
   "metadata": {},
   "outputs": [],
   "source": [
    "my_df2 <- expand.grid(\n",
    "  X = c(1, 2, 3),\n",
    "  Y = c(10, 100))\n",
    "my_df2\n",
    "#>   X   Y\n",
    "#> 1 1  10\n",
    "#> 2 2  10\n",
    "#> 3 3  10\n",
    "#> 4 1 100\n",
    "#> 5 2 100\n",
    "#> 6 3 100"
   ]
  },
  {
   "cell_type": "markdown",
   "metadata": {},
   "source": [
    "#### 3.5.1.4 列と行の名前"
   ]
  },
  {
   "cell_type": "code",
   "execution_count": null,
   "metadata": {},
   "outputs": [],
   "source": [
    "colnames(my_df)\n",
    "#> [1] \"name\"    \"english\" \"math\"    \"gender\" "
   ]
  },
  {
   "cell_type": "code",
   "execution_count": null,
   "metadata": {},
   "outputs": [],
   "source": [
    "colnames(my_df) <- c(\"NAME\", \"ENGLISH\", \"MATH\", \"GENDER\")\n",
    "# あるいは\n",
    "colnames(my_df) = toupper(colnames(my_df))\n",
    "\n",
    "my_df\n",
    "#>   NAME  ENGLISH  MATH GENDER\n",
    "#>   <chr>   <dbl> <dbl> <chr> \n",
    "#> 1 A          60    70 f    \n",
    "#> 2 B          90    80 m     \n",
    "# 以下略\n",
    "\n",
    "colnames(my_df) = tolower(colnames(my_df)) # 元に戻す．"
   ]
  },
  {
   "cell_type": "code",
   "execution_count": null,
   "metadata": {},
   "outputs": [],
   "source": [
    "my_df2 <- data.frame(\n",
    "  english =   c( 60,  90,  70,  90),\n",
    "  math    =   c( 70,  80,  90, 100),\n",
    "  gender  =   c(\"f\", \"m\", \"m\", \"f\"),\n",
    "  row.names = c(\"A\", \"B\", \"C\", \"D\"))\n",
    "my_df2\n",
    "#>   english math gender\n",
    "#> A      60   70      f\n",
    "#> B      90   80      m\n",
    "#> C      70   90      m\n",
    "#> D      90  100      f"
   ]
  },
  {
   "cell_type": "markdown",
   "metadata": {},
   "source": [
    "#### 3.5.2.1 行の追加"
   ]
  },
  {
   "cell_type": "code",
   "execution_count": null,
   "metadata": {},
   "outputs": [],
   "source": [
    "tmp <- data.frame(\n",
    "  name = \"E\",\n",
    "  english = 80,\n",
    "  math = 80,\n",
    "  gender = \"m\")\n",
    "rbind(my_df, tmp)"
   ]
  },
  {
   "cell_type": "markdown",
   "metadata": {},
   "source": [
    "#### 3.5.2.2 列の追加"
   ]
  },
  {
   "cell_type": "code",
   "execution_count": null,
   "metadata": {},
   "outputs": [],
   "source": [
    "my_df %>% mutate(id = c(1, 2, 3, 4))"
   ]
  },
  {
   "cell_type": "code",
   "execution_count": null,
   "metadata": {},
   "outputs": [],
   "source": [
    "my_df[\"id\"] <- c(1, 2, 3, 4)"
   ]
  },
  {
   "cell_type": "markdown",
   "metadata": {},
   "source": [
    "#### 3.5.3.1 1列の取り出し（結果は1次元データ）"
   ]
  },
  {
   "cell_type": "code",
   "execution_count": null,
   "metadata": {},
   "outputs": [],
   "source": [
    "my_df$english\n",
    "# あるいは\n",
    "my_df[[\"english\"]]\n",
    "#> [1] 60 90 70 90"
   ]
  },
  {
   "cell_type": "markdown",
   "metadata": {},
   "source": [
    "#### 3.5.3.2 複数列の取り出し（結果はデータフレーム）"
   ]
  },
  {
   "cell_type": "code",
   "execution_count": null,
   "metadata": {},
   "outputs": [],
   "source": [
    "my_df %>% select(name, math)"
   ]
  },
  {
   "cell_type": "code",
   "execution_count": null,
   "metadata": {},
   "outputs": [],
   "source": [
    "my_df[, c(1, 3)]"
   ]
  },
  {
   "cell_type": "code",
   "execution_count": null,
   "metadata": {},
   "outputs": [],
   "source": [
    "my_df[, -c(2, 4)]"
   ]
  },
  {
   "cell_type": "markdown",
   "metadata": {},
   "source": [
    "#### 3.5.3.3 複数行の取り出し（結果はデータフレーム）"
   ]
  },
  {
   "cell_type": "code",
   "execution_count": null,
   "metadata": {},
   "outputs": [],
   "source": [
    "my_df[c(1, 3), ]"
   ]
  },
  {
   "cell_type": "code",
   "execution_count": null,
   "metadata": {},
   "outputs": [],
   "source": [
    "my_df[-c(2, 4), ]"
   ]
  },
  {
   "cell_type": "markdown",
   "metadata": {},
   "source": [
    "#### 3.5.3.4 検索"
   ]
  },
  {
   "cell_type": "code",
   "execution_count": null,
   "metadata": {},
   "outputs": [],
   "source": [
    "my_df %>% filter(gender == \"m\")"
   ]
  },
  {
   "cell_type": "code",
   "execution_count": null,
   "metadata": {},
   "outputs": [],
   "source": [
    "my_df %>% filter(english > 80 & gender == \"m\")"
   ]
  },
  {
   "cell_type": "code",
   "execution_count": null,
   "metadata": {},
   "outputs": [],
   "source": [
    "my_df %>% filter(english == max(my_df$english))"
   ]
  },
  {
   "cell_type": "markdown",
   "metadata": {},
   "source": [
    "#### 3.5.3.5 並べ替え"
   ]
  },
  {
   "cell_type": "code",
   "execution_count": null,
   "metadata": {},
   "outputs": [],
   "source": [
    "my_df %>% arrange(english)"
   ]
  },
  {
   "cell_type": "code",
   "execution_count": null,
   "metadata": {},
   "outputs": [],
   "source": [
    "my_df %>% arrange(-english)"
   ]
  }
 ],
 "nbformat": 4,
 "nbformat_minor": 5,
 "metadata": {
  "kernelspec": {
   "name": "ir",
   "display_name": "R"
  }
 }
}
