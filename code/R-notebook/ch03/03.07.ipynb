{
 "cells": [
  {
   "cell_type": "markdown",
   "metadata": {},
   "source": [
    "### 3.7.1 1次元データ→1次元データ"
   ]
  },
  {
   "cell_type": "code",
   "execution_count": null,
   "metadata": {},
   "outputs": [],
   "source": [
    "my_f1 <- function(x) {\n",
    "  tmp <- runif(x)\n",
    "  mean(tmp)\n",
    "}\n",
    "\n",
    "my_f1(10) # 動作確認\n",
    "#> [1] 0.5776604 （結果の例）"
   ]
  },
  {
   "cell_type": "code",
   "execution_count": null,
   "metadata": {},
   "outputs": [],
   "source": [
    "my_v <- c(5, 10, 100)\n",
    "my_v %>% map_dbl(my_f1)\n",
    "#> [1] 0.4857329 0.5322183 0.5084124"
   ]
  },
  {
   "cell_type": "markdown",
   "metadata": {},
   "source": [
    "### 3.7.2 1次元データ→データフレーム"
   ]
  },
  {
   "cell_type": "code",
   "execution_count": null,
   "metadata": {},
   "outputs": [],
   "source": [
    "my_f2 <- function(n) {\n",
    "  tmp = runif(n)\n",
    "  list(x = n,\n",
    "       p = mean(tmp),\n",
    "       q = sd(tmp))\n",
    "}\n",
    "\n",
    "my_f2(10) # 動作確認\n",
    "#> $x\n",
    "#> [1] 10\n",
    "#> \n",
    "#> $p\n",
    "#> [1] 0.6840032 （平均の例）\n",
    "#> \n",
    "#> $q\n",
    "#> [1] 0.3750788 （標準偏差の例）"
   ]
  },
  {
   "cell_type": "code",
   "execution_count": null,
   "metadata": {},
   "outputs": [],
   "source": [
    "my_v <- c(5, 10, 100)\n",
    "my_v %>% map_dfr(my_f2)\n",
    "#>       x     p     q\n",
    "#>   <dbl> <dbl> <dbl>\n",
    "#> 1     5 0.560 0.320\n",
    "#> 2    10 0.559 0.271\n",
    "#> 3   100 0.507 0.283"
   ]
  },
  {
   "cell_type": "markdown",
   "metadata": {},
   "source": [
    "### 3.7.3 データフレーム→データフレーム"
   ]
  },
  {
   "cell_type": "code",
   "execution_count": null,
   "metadata": {},
   "outputs": [],
   "source": [
    "my_f3 = function(x, y) {\n",
    "  tmp <- runif(x, min = 1,\n",
    "                  max = y + 1) %>%\n",
    "    as.integer\n",
    "  list(x = x,\n",
    "       y = y,\n",
    "       p = mean(tmp),\n",
    "       q = sd(tmp))\n",
    "}\n",
    "\n",
    "my_f3(x = 10, y = 6) # 動作確認\n",
    "#> $x\n",
    "#> [1] 10\n",
    "#> \n",
    "#> $y\n",
    "#> [1] 6\n",
    "#> \n",
    "#> $p\n",
    "#> [1] 3.2 （平均の例）\n",
    "#> \n",
    "#> $q\n",
    "#> [1] 1.316561 （標準偏差の例）"
   ]
  },
  {
   "cell_type": "code",
   "execution_count": null,
   "metadata": {},
   "outputs": [],
   "source": [
    "my_df = data.frame(\n",
    "  x = c(5, 10, 100, 5, 10, 100),\n",
    "  y = c(6, 6, 6, 12, 12, 12))\n",
    "\n",
    "my_df %>% pmap_dfr(my_f3)\n",
    "#>       x     y     p     q\n",
    "#>   <dbl> <dbl> <dbl> <dbl>\n",
    "#> 1     5     6  3     1.41\n",
    "#> 2    10     6  3     1.49\n",
    "#> 3   100     6  3.57  1.78\n",
    "#> 4     5    12  7.6   5.22\n",
    "#> 5    10    12  5.7   3.77\n",
    "#> 6   100    12  6.36  3.59"
   ]
  }
 ],
 "nbformat": 4,
 "nbformat_minor": 5,
 "metadata": {
  "kernelspec": {
   "name": "ir",
   "display_name": "R"
  }
 }
}
