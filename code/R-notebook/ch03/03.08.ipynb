{
 "cells": [
  {
   "cell_type": "markdown",
   "metadata": {},
   "source": [
    "### 3.8.1 よく遭遇するエラーとその対処方法"
   ]
  },
  {
   "cell_type": "code",
   "execution_count": null,
   "metadata": {},
   "outputs": [],
   "source": [
    "my_model <- train(form = dist ~ ., data = cars, method = \"lm\")\n",
    "#> Error in train(form = dist ~ speed, data = cars, method = \"lm\"):\n",
    "#> could not find function \"train\"\n",
    "# trainという関数が見つからないというエラーです．\n",
    "# trainが属するパッケージcaretを読み込むことで対応します．\n",
    "\n",
    "library(caret)\n",
    "#> Error in library(caret): there is no package called ‘caret’\n",
    "# caretというパッケージが見つからないというエラーです．\n",
    "# caretをインストールすることで対応します．\n",
    "\n",
    "install.packages(\"caret\")"
   ]
  },
  {
   "cell_type": "markdown",
   "metadata": {},
   "source": [
    "### 3.8.2 変数や関数についての調査"
   ]
  },
  {
   "cell_type": "code",
   "execution_count": null,
   "metadata": {},
   "outputs": [],
   "source": [
    "x <- 123\n",
    "typeof(x)\n",
    "#> [1] \"double\""
   ]
  },
  {
   "cell_type": "code",
   "execution_count": null,
   "metadata": {},
   "outputs": [],
   "source": [
    "library(caret)\n",
    "library(tidyverse)\n",
    "my_data <- cars\n",
    "my_model <- train(form = dist ~ speed, data = my_data, method = \"knn\")\n",
    "my_model$results\n",
    "# 結果は割愛"
   ]
  },
  {
   "cell_type": "code",
   "execution_count": null,
   "metadata": {},
   "outputs": [],
   "source": [
    "attributes(my_model)\n",
    "#> $names\n",
    "#>  [1] \"method\"       \"modelInfo\"    \"modelType\"    \"results\"     \n",
    "#>  [5] \"pred\"         \"bestTune\"     \"call\"         \"dots\"        \n",
    "#>  [9] \"metric\"       \"control\"      \"finalModel\"   \"preProcess\"  \n",
    "#> [13] \"trainingData\" \"resample\"     \"resampledCM\"  \"perfNames\"   \n",
    "#> [17] \"maximize\"     \"yLimits\"      \"times\"        \"levels\"      \n",
    "#> [21] \"terms\"        \"coefnames\"    \"xlevels\"    \n",
    "#> \n",
    "#> $class\n",
    "#> [1] \"train\"         \"train.formula\""
   ]
  },
  {
   "cell_type": "code",
   "execution_count": null,
   "metadata": {},
   "outputs": [],
   "source": [
    "?log\n",
    "# あるいは\n",
    "help(log)"
   ]
  },
  {
   "cell_type": "markdown",
   "metadata": {},
   "source": [
    "### 3.8.3 RのNA，Pythonのnan"
   ]
  },
  {
   "cell_type": "code",
   "execution_count": null,
   "metadata": {},
   "outputs": [],
   "source": [
    "my_v = c(1, NA, 3)\n",
    "my_v\n",
    "#> [1]  1 NA  3"
   ]
  },
  {
   "cell_type": "code",
   "execution_count": null,
   "metadata": {},
   "outputs": [],
   "source": [
    "is.na(my_v[2])\n",
    "#> [1] TRUE\n",
    "\n",
    "my_v[2] == NA # 誤り\n",
    "#> [1] NA"
   ]
  }
 ],
 "nbformat": 4,
 "nbformat_minor": 5,
 "metadata": {
  "kernelspec": {
   "name": "ir",
   "display_name": "R"
  }
 }
}
