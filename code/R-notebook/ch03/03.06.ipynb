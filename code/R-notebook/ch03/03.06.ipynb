{
 "cells": [
  {
   "cell_type": "markdown",
   "metadata": {},
   "source": [
    "### 3.6.1 RのNA，Pythonのnan"
   ]
  },
  {
   "cell_type": "code",
   "execution_count": null,
   "metadata": {},
   "outputs": [],
   "source": [
    "my_v = c(1, NA, 3)\n",
    "my_v\n",
    "#> [1]  1 NA  3"
   ]
  },
  {
   "cell_type": "code",
   "execution_count": null,
   "metadata": {},
   "outputs": [],
   "source": [
    "is.na(my_v[2])\n",
    "#> [1] TRUE\n",
    "\n",
    "my_v[2] == NA # 誤り\n",
    "#> [1] NA"
   ]
  },
  {
   "cell_type": "markdown",
   "metadata": {},
   "source": [
    "### 3.6.2 変数についての調査"
   ]
  },
  {
   "cell_type": "code",
   "execution_count": null,
   "metadata": {},
   "outputs": [],
   "source": [
    "x = 123\n",
    "typeof(x)\n",
    "#> [1] \"double\""
   ]
  },
  {
   "cell_type": "code",
   "execution_count": null,
   "metadata": {},
   "outputs": [],
   "source": [
    "x <- list(\"apple\"   = \"りんご\",\n",
    "          \"orange\" = \"みかん\")\n",
    "names(x)\n",
    "#> [1] \"apple\"  \"orange\""
   ]
  },
  {
   "cell_type": "code",
   "execution_count": null,
   "metadata": {},
   "outputs": [],
   "source": [
    "str(x)\n",
    "#> List of 2\n",
    "#>  $ apple : chr \"りんご\"\n",
    "#>  $ orange: chr \"みかん\""
   ]
  }
 ],
 "nbformat": 4,
 "nbformat_minor": 5,
 "metadata": {
  "kernelspec": {
   "name": "ir",
   "display_name": "R"
  }
 }
}
