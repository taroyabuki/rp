{
 "cells": [
  {
   "cell_type": "markdown",
   "metadata": {},
   "source": [
    "### 9.8.1 Rの場合"
   ]
  },
  {
   "cell_type": "code",
   "execution_count": null,
   "metadata": {},
   "outputs": [],
   "source": [
    "library(tidyverse)\n",
    "library(caret)\n",
    "my_data <- iris\n",
    "\n",
    "my_model <- train(form = Species ~ ., data = my_data, method = \"rf\")\n",
    "my_model$results\n",
    "#>   mtry  Accuracy     Kappa AccuracySD    KappaSD\n",
    "#> 1    2 0.9541731 0.9304340 0.01731558 0.02635300\n",
    "#> 2    3 0.9520800 0.9273056 0.01973786 0.03001535\n",
    "#> 3    4 0.9477295 0.9207535 0.02067023 0.03139036"
   ]
  },
  {
   "cell_type": "code",
   "execution_count": null,
   "metadata": {},
   "outputs": [],
   "source": [
    "my_model <- train(form = Species ~ ., data = my_data, method = \"xgbTree\")\n",
    "my_model$results %>%\n",
    "  filter(Accuracy == max(Accuracy)) %>% # 正解率（検証）の最大値\n",
    "  select(Accuracy)\n",
    "#>   Accuracy\n",
    "#> 1 0.949123"
   ]
  }
 ],
 "nbformat": 4,
 "nbformat_minor": 5,
 "metadata": {
  "kernelspec": {
   "name": "ir",
   "display_name": "R"
  }
 }
}
