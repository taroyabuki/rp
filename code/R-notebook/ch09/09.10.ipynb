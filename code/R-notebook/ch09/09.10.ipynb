{
 "cells": [
  {
   "cell_type": "markdown",
   "metadata": {},
   "source": [
    "9.10 欠損のあるデータでの学習\n",
    "-----------------------------"
   ]
  },
  {
   "cell_type": "code",
   "execution_count": null,
   "metadata": {},
   "outputs": [],
   "source": [
    "library(tidyverse)\n",
    "library(caret)\n",
    "my_data <- iris\n",
    "n <- nrow(iris) # データの件数（150）\n",
    "\n",
    "1:4 %>% walk(function(c) { my_data[runif(n) < 0.1, c] <<- NA; })\n",
    "\n",
    "psych::describe(my_data)\n",
    "#>              vars   n mean   sd median trimmed  mad min max range  skew kurtosis   se\n",
    "#> Sepal.Length    1 130 5.90 0.81    5.8    5.86 0.96 4.4 7.9   3.5  0.36    -0.61 0.07\n",
    "#> Sepal.Width     2 138 3.04 0.44    3.0    3.03 0.44 2.0 4.4   2.4  0.34     0.15 0.04\n",
    "#> Petal.Length    3 137 3.86 1.76    4.4    3.88 1.63 1.0 6.9   5.9 -0.37    -1.32 0.15\n",
    "#> Petal.Width     4 133 1.22 0.77    1.4    1.21 0.89 0.1 2.5   2.4 -0.12    -1.37 0.07\n",
    "#> Species*        5 150 2.00 0.82    2.0    2.00 1.48 1.0 3.0   2.0  0.00    -1.52 0.07"
   ]
  },
  {
   "cell_type": "code",
   "execution_count": null,
   "metadata": {},
   "outputs": [],
   "source": [
    "my_model <- train(form = Species ~ ., data = my_data, method = \"xgbTree\",\n",
    "                  na.action = na.pass) # 欠損があっても止めない\n",
    "my_model$results %>%\n",
    "  filter(Accuracy == max(Accuracy)) %>% # 正解率（検証）の最大値\n",
    "  select(Accuracy)\n",
    "#>    Accuracy\n",
    "#> 1 0.9571577"
   ]
  }
 ],
 "nbformat": 4,
 "nbformat_minor": 5,
 "metadata": {
  "kernelspec": {
   "name": "ir",
   "display_name": "R"
  }
 }
}
