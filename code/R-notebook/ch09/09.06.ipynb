{
 "cells": [
  {
   "cell_type": "markdown",
   "metadata": {},
   "source": [
    "### 9.6.1 Rの場合"
   ]
  },
  {
   "cell_type": "code",
   "execution_count": null,
   "metadata": {},
   "outputs": [],
   "source": [
    "library(tidyverse)\n",
    "library(caret)\n",
    "my_data <- iris\n",
    "\n",
    "my_model <- train(form = Species ~ ., data = my_data, method = \"nnet\",\n",
    "                   preProcess = c(\"center\", \"scale\")) # 標準化\n",
    "\n",
    "my_model$results %>% filter(Accuracy == max(Accuracy)) # 正解率（検証）の最大値\n",
    "#>   size      decay  Accuracy     Kappa AccuracySD    KappaSD\n",
    "#> 1    3 0.01778279 0.9684804 0.9521008 0.02219845 0.03344919"
   ]
  }
 ],
 "nbformat": 4,
 "nbformat_minor": 5,
 "metadata": {
  "kernelspec": {
   "name": "ir",
   "display_name": "R"
  }
 }
}
