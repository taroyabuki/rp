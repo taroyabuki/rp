{
 "cells": [
  {
   "cell_type": "markdown",
   "metadata": {},
   "source": [
    "### 9.3.1 Rの場合"
   ]
  },
  {
   "cell_type": "code",
   "execution_count": null,
   "metadata": {},
   "outputs": [],
   "source": [
    "library(tidyverse)\n",
    "library(caret)\n",
    "my_data <- iris\n",
    "my_model <- train(form = Species ~ ., data = my_data, method = \"knn\")"
   ]
  },
  {
   "cell_type": "code",
   "execution_count": null,
   "metadata": {},
   "outputs": [],
   "source": [
    "my_test <- tribble(\n",
    "~Sepal.Length, ~Sepal.Width, ~Petal.Length, ~Petal.Width,\n",
    "          5.0,          3.5,           1.5,          0.5,\n",
    "          6.5,          3.0,           5.0,          2.0)"
   ]
  },
  {
   "cell_type": "code",
   "execution_count": null,
   "metadata": {},
   "outputs": [],
   "source": [
    "my_model %>% predict(my_test)\n",
    "#> [1] setosa    virginica\n",
    "#> Levels: setosa versicolor virginica"
   ]
  },
  {
   "cell_type": "code",
   "execution_count": null,
   "metadata": {},
   "outputs": [],
   "source": [
    "my_model %>% predict(my_test, type = \"prob\")\n",
    "#>   setosa versicolor virginica\n",
    "#> 1      1      0.000     0.000\n",
    "#> 2      0      0.125     0.875"
   ]
  }
 ],
 "nbformat": 4,
 "nbformat_minor": 5,
 "metadata": {
  "kernelspec": {
   "name": "ir",
   "display_name": "R"
  }
 }
}
