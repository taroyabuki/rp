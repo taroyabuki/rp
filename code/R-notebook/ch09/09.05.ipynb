{
 "cells": [
  {
   "cell_type": "markdown",
   "metadata": {},
   "source": [
    "### 9.5.1 Rの場合"
   ]
  },
  {
   "cell_type": "code",
   "execution_count": null,
   "metadata": {},
   "outputs": [],
   "source": [
    "library(tidyverse)\n",
    "library(caret)\n",
    "my_data <- iris\n",
    "\n",
    "my_model <- train(form = Species ~ ., data = my_data, method = \"knn\",\n",
    "                  tuneGrid = data.frame(k = c(1:20)),\n",
    "                  trControl = trainControl(method = \"boot\", number = 1000))\n",
    "                   \n",
    "my_model$results %>% filter(Accuracy == max(Accuracy)) # 正解率（検証）の最大値\n",
    "#>    k  Accuracy     Kappa AccuracySD    KappaSD\n",
    "#> 1 13 0.9591608 0.9381671 0.02507297 0.03777022\n",
    "\n",
    "ggplot(my_model) # チューニング結果の描画"
   ]
  }
 ],
 "nbformat": 4,
 "nbformat_minor": 5,
 "metadata": {
  "kernelspec": {
   "name": "ir",
   "display_name": "R"
  }
 }
}
