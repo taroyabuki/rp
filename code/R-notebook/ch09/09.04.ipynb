{
 "cells": [
  {
   "cell_type": "markdown",
   "metadata": {},
   "source": [
    "9.4 訓練データの再現\n",
    "--------------------"
   ]
  },
  {
   "cell_type": "code",
   "execution_count": null,
   "metadata": {},
   "outputs": [],
   "source": [
    "# 正解\n",
    "y <- c(\"serosa\", \"setosa\")\n",
    "\n",
    "# 予測\n",
    "y_A <- c(\"serosa\", \"versicolor\")\n",
    "\n",
    "# 比較\n",
    "y_A == y\n",
    "#> [1]  TRUE FALSE\n",
    "\n",
    "# 正解率\n",
    "mean(y_A == y)\n",
    "#> [1] 0.5"
   ]
  },
  {
   "cell_type": "markdown",
   "metadata": {},
   "source": [
    "### 9.4.1 Rの場合"
   ]
  },
  {
   "cell_type": "code",
   "execution_count": null,
   "metadata": {},
   "outputs": [],
   "source": [
    "library(tidyverse)\n",
    "library(caret)\n",
    "my_data <- iris\n",
    "my_model <- train(form = Species ~ ., data = my_data, method = \"knn\")\n",
    "\n",
    "y_ <- my_model %>% predict(my_data) # 訓練データの再現\n",
    "table(y_, my_data$Species)           # 混同行列の作成\n",
    "#> y_           setosa versicolor virginica\n",
    "#>   setosa         50          0         0\n",
    "#>   versicolor      0         48         1\n",
    "#>   virginica       0          2        49"
   ]
  },
  {
   "cell_type": "code",
   "execution_count": null,
   "metadata": {},
   "outputs": [],
   "source": [
    "mean(y_ == my_data$Species)\n",
    "#> [1] 0.98"
   ]
  },
  {
   "cell_type": "code",
   "execution_count": null,
   "metadata": {},
   "outputs": [],
   "source": [
    "y_ %>% confusionMatrix(my_data$Species)\n",
    "#> Confusion Matrix and Statistics\n",
    "#> \n",
    "#>             Reference\n",
    "#> Prediction   setosa versicolor virginica\n",
    "#>   setosa         50          0         0\n",
    "#>   versicolor      0         48         1\n",
    "#>   virginica       0          2        49\n",
    "#> \n",
    "#> Overall Statistics\n",
    "#>                                           \n",
    "#>                Accuracy : 0.98 \n",
    "# 以下は割愛"
   ]
  }
 ],
 "nbformat": 4,
 "nbformat_minor": 5,
 "metadata": {
  "kernelspec": {
   "name": "ir",
   "display_name": "R"
  }
 }
}
