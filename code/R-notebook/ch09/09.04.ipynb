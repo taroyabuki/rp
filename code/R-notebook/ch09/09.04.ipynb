{
 "cells": [
  {
   "cell_type": "markdown",
   "metadata": {},
   "source": [
    "### 9.4.1 ランダムフォレスト"
   ]
  },
  {
   "cell_type": "code",
   "execution_count": null,
   "metadata": {},
   "outputs": [],
   "source": [
    "library(caret)\n",
    "library(tidyverse)\n",
    "my_data <- iris\n",
    "\n",
    "my_model <- train(form = Species ~ ., data = my_data, method = \"rf\",\n",
    "                  tuneGrid = data.frame(mtry = 2:4), # 省略可\n",
    "                  trControl = trainControl(method = \"LOOCV\"))\n",
    "my_model$results\n",
    "#>   mtry Accuracy Kappa\n",
    "#> 1    2     0.96  0.94\n",
    "#> 2    3     0.96  0.94\n",
    "#> 3    4     0.96  0.94"
   ]
  },
  {
   "cell_type": "markdown",
   "metadata": {},
   "source": [
    "### 9.4.2 ブースティング"
   ]
  },
  {
   "cell_type": "code",
   "execution_count": null,
   "metadata": {},
   "outputs": [],
   "source": [
    "library(doParallel)\n",
    "cl <- makeCluster(detectCores())\n",
    "registerDoParallel(cl)\n",
    "\n",
    "my_model <- train(\n",
    "  form = Species ~ ., data = my_data, method = \"xgbTree\",\n",
    "  tuneGrid = expand.grid(                     # ここから\n",
    "    nrounds          = c(50, 100, 150),\n",
    "    max_depth        = c(1, 2, 3),\n",
    "    eta              = c(0.3, 0.4),\n",
    "    gamma            = 0,\n",
    "    colsample_bytree = c(0.6, 0.8),\n",
    "    min_child_weight = 1,\n",
    "    subsample        = c(0.5, 0.75, 1)),\n",
    "  trControl = trainControl(method = \"LOOCV\")) # ここまで省略可\n",
    "my_model$results %>% filter(Accuracy == max(Accuracy)) %>% t\n",
    "#>                        [,1]       [,2]\n",
    "#> nrounds          50.0000000 50.0000000\n",
    "#> max_depth         1.0000000  2.0000000\n",
    "#> eta               0.3000000  0.4000000\n",
    "#> gamma             0.0000000  0.0000000\n",
    "#> colsample_bytree  0.8000000  0.8000000\n",
    "#> min_child_weight  1.0000000  1.0000000\n",
    "#> subsample         0.5000000  0.7500000\n",
    "#> Accuracy          0.9533333  0.9533333\n",
    "#> Kappa             0.9300000  0.9300000"
   ]
  },
  {
   "cell_type": "markdown",
   "metadata": {},
   "source": [
    "### 9.4.3 変数の重要度"
   ]
  },
  {
   "cell_type": "code",
   "execution_count": null,
   "metadata": {},
   "outputs": [],
   "source": [
    "my_model <- train(form = Species ~ ., data = my_data, method = \"rf\")\n",
    "ggplot(varImp(my_model))"
   ]
  }
 ],
 "nbformat": 4,
 "nbformat_minor": 5,
 "metadata": {
  "kernelspec": {
   "name": "ir",
   "display_name": "R"
  }
 }
}
