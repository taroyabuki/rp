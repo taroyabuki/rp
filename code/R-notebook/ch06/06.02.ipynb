{
 "cells": [
  {
   "cell_type": "markdown",
   "metadata": {},
   "source": [
    "#### 6.2.2.1 R"
   ]
  },
  {
   "cell_type": "code",
   "execution_count": null,
   "metadata": {},
   "outputs": [],
   "source": [
    "iris\n",
    "#>     Sepal.Length Sepal.Width Petal.Length Petal.Width    Species\n",
    "#> 1            5.1         3.5          1.4         0.2     setosa\n",
    "#> （以下省略）"
   ]
  }
 ],
 "nbformat": 4,
 "nbformat_minor": 5,
 "metadata": {
  "kernelspec": {
   "name": "ir",
   "display_name": "R"
  }
 }
}
