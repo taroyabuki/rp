{
 "cells": [
  {
   "cell_type": "markdown",
   "metadata": {},
   "source": [
    "## 8.5 変数選択"
   ]
  },
  {
   "cell_type": "code",
   "execution_count": null,
   "metadata": {},
   "outputs": [],
   "source": [
    "library(caret)\n",
    "library(tidyverse)\n",
    "my_url <- str_c(\"https://raw.githubusercontent.com\",\n",
    "                \"/taroyabuki/fromzero/master/data/wine.csv\")\n",
    "my_data <- read_csv(my_url)\n",
    "n <- nrow(my_data)\n",
    "my_data2 <- my_data %>% mutate(rand1 = runif(n), rand2 = runif(n))"
   ]
  },
  {
   "cell_type": "code",
   "execution_count": null,
   "metadata": {},
   "outputs": [],
   "source": [
    "my_model <- train(form = LPRICE2 ~ .,\n",
    "                  data = my_data2,\n",
    "                  method = \"leapForward\",\n",
    "                  trControl = trainControl(method = \"LOOCV\"))\n",
    "summary(my_model$finalModel)$outmat\n",
    "#>          WRAIN DEGREES HRAIN TIME_SV rand1 rand2\n",
    "#> 1  ( 1 ) \" \"   \"*\"     \" \"   \" \"     \" \"   \" \"  \n",
    "#> 2  ( 1 ) \" \"   \"*\"     \"*\"   \" \"     \" \"   \" \"  \n",
    "#> 3  ( 1 ) \" \"   \"*\"     \"*\"   \"*\"     \" \"   \" \"  \n",
    "#> 4  ( 1 ) \"*\"   \"*\"     \"*\"   \"*\"     \" \"   \" \"  "
   ]
  }
 ],
 "nbformat": 4,
 "nbformat_minor": 5,
 "metadata": {
  "kernelspec": {
   "name": "ir",
   "display_name": "R"
  }
 }
}
