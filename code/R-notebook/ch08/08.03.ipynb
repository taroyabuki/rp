{
 "cells": [
  {
   "cell_type": "markdown",
   "metadata": {},
   "source": [
    "8.3 入力変数の数と訓練誤差・検証誤差の関係\n",
    "------------------------------------------"
   ]
  },
  {
   "cell_type": "code",
   "execution_count": null,
   "metadata": {},
   "outputs": [],
   "source": [
    "library(tidyverse)\n",
    "library(caret)\n",
    "my_data <- read.csv(\"wine.csv\")\n",
    "my_model1 <- train(form = LPRICE2 ~ .,\n",
    "                   data = my_data,\n",
    "                   method = \"lm\")\n",
    "\n",
    "my_pred <- my_model1 %>% predict(my_data)\n",
    "RMSE(my_pred, my_data$LPRICE2) # RMSE（訓練）\n",
    "#> [1] 0.2586167"
   ]
  },
  {
   "cell_type": "code",
   "execution_count": null,
   "metadata": {},
   "outputs": [],
   "source": [
    "n <- nrow(my_data) # データの件数\n",
    "my_data2 <- my_data %>% mutate(rand1 = runif(n)) # 乱数からなる列の追加"
   ]
  },
  {
   "cell_type": "code",
   "execution_count": null,
   "metadata": {},
   "outputs": [],
   "source": [
    "my_model2 <- train(form = LPRICE2 ~ .,\n",
    "                   data = my_data2,\n",
    "                   method = \"lm\")\n",
    "\n",
    "my_pred2 <- my_model2 %>% predict(my_data2)\n",
    "RMSE(my_pred2, my_data$LPRICE2) # RMSE（訓練）\n",
    "#> [1] 0.2534026"
   ]
  },
  {
   "cell_type": "code",
   "execution_count": null,
   "metadata": {},
   "outputs": [],
   "source": [
    "c(my_model1$result$RMSE,  # RMSE（検証）（rand1なしのモデル）\n",
    "  my_model22$result$RMSE) # RMSE（検証）（rand1ありのモデル）\n",
    "\n",
    "#> [1] 0.3680248 0.3842703"
   ]
  }
 ],
 "nbformat": 4,
 "nbformat_minor": 5,
 "metadata": {
  "kernelspec": {
   "name": "ir",
   "display_name": "R"
  }
 }
}
