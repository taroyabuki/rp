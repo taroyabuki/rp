{
 "cells": [
  {
   "cell_type": "markdown",
   "metadata": {},
   "source": [
    "## 8.1 ワインの生育条件と価格"
   ]
  },
  {
   "cell_type": "code",
   "execution_count": null,
   "metadata": {},
   "outputs": [],
   "source": [
    "library(caret)\n",
    "library(tidyverse)\n",
    "\n",
    "my_url <- \"http://www.liquidasset.com/winedata.html\"\n",
    "tmp <- read.table(file = my_url,   # 読み込む対象\n",
    "                  header = TRUE,   # 1行目は変数名\n",
    "                  na.string = \".\", # 欠損値を表す文字列\n",
    "                  skip = 62,       # 読み飛ばす行数\n",
    "                  nrows = 38)      # 読み込む行数\n",
    "psych::describe(tmp)\n",
    "#>         vars  n    mean     sd  median trimmed    mad     min     max  range  skew kurtosis    se\n",
    "#> OBS        1 38   19.50  11.11   19.50   19.50  14.08    1.00   38.00  37.00  0.00    -1.30  1.80\n",
    "#> VINT       2 38 1970.50  11.11 1970.50 1970.50  14.08 1952.00 1989.00  37.00  0.00    -1.30  1.80\n",
    "#> LPRICE2    3 27   -1.45   0.63   -1.51   -1.49   0.72   -2.29    0.00   2.29  0.41    -0.82  0.12\n",
    "#> WRAIN      4 38  605.00 135.28  586.50  603.06 174.95  376.00  845.00 469.00  0.15    -1.10 21.95\n",
    "#> DEGREES    5 37   16.52   0.66   16.53   16.55   0.67   14.98   17.65   2.67 -0.34    -0.73  0.11\n",
    "#> HRAIN      6 38  137.00  66.74  120.50  132.19  59.30   38.00  292.00 254.00  0.69    -0.20 10.83\n",
    "#> TIME_SV    7 38   12.50  11.11   12.50   12.50  14.08   -6.00   31.00  37.00  0.00    -1.30  1.80"
   ]
  },
  {
   "cell_type": "code",
   "execution_count": null,
   "metadata": {},
   "outputs": [],
   "source": [
    "my_data <- na.omit(tmp[, -c(1, 2)])\n",
    "head(my_data)\n",
    "#>    LPRICE2 WRAIN DEGREES HRAIN TIME_SV\n",
    "#> 1 -0.99868   600 17.1167   160      31\n",
    "#> 2 -0.45440   690 16.7333    80      30\n",
    "#> 4 -0.80796   502 17.1500   130      28\n",
    "#> 6 -1.50926   420 16.1333   110      26\n",
    "#> 7 -1.71655   582 16.4167   187      25\n",
    "#> 8 -0.41800   485 17.4833   187      24"
   ]
  },
  {
   "cell_type": "code",
   "execution_count": null,
   "metadata": {},
   "outputs": [],
   "source": [
    "nrow(my_data)\n",
    "#> [1] 27"
   ]
  },
  {
   "cell_type": "code",
   "execution_count": null,
   "metadata": {},
   "outputs": [],
   "source": [
    "my_data %>% write_csv(\"wine.csv\")"
   ]
  },
  {
   "cell_type": "code",
   "execution_count": null,
   "metadata": {},
   "outputs": [],
   "source": [
    "library(tidyverse)\n",
    "#my_data <- read_csv(\"wine.csv\") # 作ったファイルを使う場合\n",
    "my_url <- str_c(\"https://raw.githubusercontent.com\",\n",
    "                \"/taroyabuki/fromzero/master/data/wine.csv\")\n",
    "my_data <- read_csv(my_url)"
   ]
  }
 ],
 "nbformat": 4,
 "nbformat_minor": 5,
 "metadata": {
  "kernelspec": {
   "name": "ir",
   "display_name": "R"
  }
 }
}
