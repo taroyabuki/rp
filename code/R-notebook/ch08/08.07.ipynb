{
 "cells": [
  {
   "cell_type": "markdown",
   "metadata": {},
   "source": [
    "### 8.7.1 ニューラルネットワークとは何か"
   ]
  },
  {
   "cell_type": "code",
   "execution_count": null,
   "metadata": {},
   "outputs": [],
   "source": [
    "curve(1 / (1 + exp(-x)), -6, 6)"
   ]
  },
  {
   "cell_type": "markdown",
   "metadata": {},
   "source": [
    "### 8.7.2 ニューラルネットワークの訓練"
   ]
  },
  {
   "cell_type": "code",
   "execution_count": null,
   "metadata": {},
   "outputs": [],
   "source": [
    "library(caret)\n",
    "library(tidyverse)\n",
    "my_url <- str_c(\"https://raw.githubusercontent.com\",\n",
    "                \"/taroyabuki/fromzero/master/data/wine.csv\")\n",
    "my_data <- read_csv(my_url)"
   ]
  },
  {
   "cell_type": "code",
   "execution_count": null,
   "metadata": {},
   "outputs": [],
   "source": [
    "my_model <- train(form = LPRICE2 ~ .,\n",
    "                  data = my_data,\n",
    "                  method = \"neuralnet\",              # ニューラルネットワーク\n",
    "                  preProcess = c(\"center\", \"scale\"), # 標準化\n",
    "                  trControl = trainControl(method = \"LOOCV\"))\n",
    "plot(my_model$finalModel) # 訓練済ネットワークの描画（結果は割愛）"
   ]
  },
  {
   "cell_type": "code",
   "execution_count": null,
   "metadata": {},
   "outputs": [],
   "source": [
    "y  <- my_data$LPRICE2\n",
    "y_ <- my_model %>% predict(my_data)\n",
    "RMSE(y_, y)      # RMSE（訓練）\n",
    "#> [1] 0.2199101\n",
    "\n",
    "my_model$results # RMSE（検証）\n",
    "#>   layer1 layer2 layer3      RMSE ...\n",
    "#> 1      1      0      0 0.2957813 ...\n",
    "#> 2      3      0      0 0.3095204 ...\n",
    "#> 3      5      0      0 0.3937699 ..."
   ]
  },
  {
   "cell_type": "markdown",
   "metadata": {},
   "source": [
    "### 8.7.3 ニューラルネットワークのチューニング"
   ]
  },
  {
   "cell_type": "code",
   "execution_count": null,
   "metadata": {},
   "outputs": [],
   "source": [
    "my_model <- train(\n",
    "  form = LPRICE2 ~ .,\n",
    "  data = my_data,\n",
    "  method = \"neuralnet\",\n",
    "  preProcess = c(\"center\", \"scale\"),\n",
    "  trControl = trainControl(method = \"LOOCV\"),\n",
    "  tuneGrid = expand.grid(layer1 = 1:5,\n",
    "                         layer2 = 0:2,\n",
    "                         layer3 = 0))"
   ]
  },
  {
   "cell_type": "code",
   "execution_count": null,
   "metadata": {},
   "outputs": [],
   "source": [
    "y  <- my_data$LPRICE2\n",
    "y_ <- my_model %>% predict(my_data)\n",
    "\n",
    "RMSE(y_, y)          # RMSE（訓練）\n",
    "#> [1] 0.1336863\n",
    "\n",
    "my_model$results %>% # RMSE（検証）\n",
    "  filter(RMSE == min(RMSE))\n",
    "#>   layer1 layer2 layer3      RMSE ...\n",
    "#> 1      2      0      0 0.3165704 ..."
   ]
  }
 ],
 "nbformat": 4,
 "nbformat_minor": 5,
 "metadata": {
  "kernelspec": {
   "name": "ir",
   "display_name": "R"
  }
 }
}
