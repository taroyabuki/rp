{
 "cells": [
  {
   "cell_type": "markdown",
   "metadata": {},
   "source": [
    "### 8.4.1 部分集合選択（R）"
   ]
  },
  {
   "cell_type": "code",
   "execution_count": null,
   "metadata": {},
   "outputs": [],
   "source": [
    "library(tidyverse)\n",
    "library(caret)\n",
    "#my_data <- read_csv(\"wine.csv\") # 8.1節で作成したwine.csvを使う．\n",
    "my_url <- \"https://raw.githubusercontent.com/taroyabuki/fromzero/master/data/wine.csv\"\n",
    "my_data <- read_csv(my_url)\n",
    "\n",
    "n <- nrow(my_data) # データの件数\n",
    "my_data2 <- my_data %>% mutate(rand1 = runif(n), # 乱数からなる列1\n",
    "                               rand2 = runif(n)) # 乱数からなる列2"
   ]
  },
  {
   "cell_type": "code",
   "execution_count": null,
   "metadata": {},
   "outputs": [],
   "source": [
    "my_model <- train(form = LPRICE2 ~ .,\n",
    "                  data = my_data2,\n",
    "                  method = \"leapForward\") # 変数増加法\n",
    "my_model$results\n",
    "#>   nvmax      RMSE  Rsquared       MAE     RMSESD RsquaredSD      MAESD\n",
    "#> 1     2 0.4569208 0.5293057 0.3732875 0.09644487  0.2028072 0.09831864\n",
    "#> 2     3 0.4239871 0.6071033 0.3541027 0.10882958  0.2199566 0.08446131\n",
    "#> 3     4 0.4043440 0.6307024 0.3348481 0.11736135  0.2324715 0.09355537"
   ]
  },
  {
   "cell_type": "code",
   "execution_count": null,
   "metadata": {},
   "outputs": [],
   "source": [
    "coef(my_model$finalModel, id = 3)\n",
    "#>   (Intercept)       DEGREES         HRAIN       TIME_SV \n",
    "#> -10.058633901   0.536709044  -0.004440506   0.025093649 "
   ]
  },
  {
   "cell_type": "markdown",
   "metadata": {},
   "source": [
    "#### 8.4.2.1 Rの場合"
   ]
  },
  {
   "cell_type": "code",
   "execution_count": null,
   "metadata": {},
   "outputs": [],
   "source": [
    "library(tidyverse)\n",
    "library(caret)\n",
    "#my_data <- read_csv(\"wine.csv\") # 8.1節で作成したwine.csvを使う．\n",
    "my_url <- \"https://raw.githubusercontent.com/taroyabuki/fromzero/master/data/wine.csv\"\n",
    "my_data <- read_csv(my_url)\n",
    "\n",
    "my_model <- train(form = LPRICE2 ~ .,\n",
    "                  data = my_data,\n",
    "                  tuneGrid = expand.grid(alpha = seq(0, 0.001, 0.0001),\n",
    "                                         lambda = seq(0.01, 0.2, 0.01)),\n",
    "                  method = \"glmnet\") # Elastic Net 回帰\n",
    "\n",
    "my_model$results %>% filter(RMSE == min(RMSE)) # RMSE（検証）の最小値\n",
    "#>   alpha lambda      RMSE  Rsquared       MAE     RMSESD RsquaredSD     MAESD\n",
    "#> 1     0   0.12 0.3309999 0.7336179 0.2813216 0.06294584  0.1109651 0.0552441"
   ]
  },
  {
   "cell_type": "code",
   "execution_count": null,
   "metadata": {},
   "outputs": [],
   "source": [
    "coef(my_model$finalModel, my_model$bestTune$lambda)\n",
    "#> 5 x 1 sparse Matrix of class \"dgCMatrix\"\n",
    "#>                         1\n",
    "#> (Intercept) -1.026592e+01\n",
    "#> WRAIN        8.905547e-04\n",
    "#> DEGREES      5.102242e-01\n",
    "#> HRAIN       -3.356299e-03\n",
    "#> TIME_SV      2.168751e-02"
   ]
  }
 ],
 "nbformat": 4,
 "nbformat_minor": 5,
 "metadata": {
  "kernelspec": {
   "name": "ir",
   "display_name": "R"
  }
 }
}
