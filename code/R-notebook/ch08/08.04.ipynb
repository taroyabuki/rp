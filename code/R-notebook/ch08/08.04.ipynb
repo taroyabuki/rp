{
 "cells": [
  {
   "cell_type": "markdown",
   "metadata": {},
   "source": [
    "## 8.4 入力変数の数とモデルの良さ"
   ]
  },
  {
   "cell_type": "code",
   "execution_count": null,
   "metadata": {},
   "outputs": [],
   "source": [
    "library(caret)\n",
    "library(tidyverse)\n",
    "my_url <- str_c(\"https://raw.githubusercontent.com\",\n",
    "                \"/taroyabuki/fromzero/master/data/wine.csv\")\n",
    "my_data <- read_csv(my_url)\n",
    "\n",
    "n <- nrow(my_data)\n",
    "my_data2 <- my_data %>% mutate(rand1 = runif(n), rand2 = runif(n))\n",
    "head(my_data2)\n",
    "#> # A tibble: 6 x 7\n",
    "#>   LPRICE2 WRAIN DEGREES HRAIN TIME_SV  rand1 rand2\n",
    "#>     <dbl> <dbl>   <dbl> <dbl>   <dbl>  <dbl> <dbl>\n",
    "#> 1  -0.999   600    17.1   160      31 0.189  0.601\n",
    "#> 2  -0.454   690    16.7    80      30 0.843  0.283\n",
    "#> 3  -0.808   502    17.2   130      28 0.723  0.846\n",
    "#> 4  -1.51    420    16.1   110      26 0.0472 0.406\n",
    "#> 5  -1.72    582    16.4   187      25 0.812  0.479\n",
    "#> 6  -0.418   485    17.5   187      24 0.105  0.801"
   ]
  },
  {
   "cell_type": "code",
   "execution_count": null,
   "metadata": {},
   "outputs": [],
   "source": [
    "my_model2 <- train(form = LPRICE2 ~ ., data = my_data2, method = \"lm\",\n",
    "                   trControl = trainControl(method = \"LOOCV\"))\n",
    "y  <- my_data2$LPRICE2\n",
    "y_ <- my_model2 %>% predict(my_data2)\n",
    "\n",
    "RMSE(y_, y)\n",
    "#> [1] 0.2532344 # RMSE（訓練）\n",
    "\n",
    "my_model2$results$RMSE\n",
    "#> [1] 0.3550712 # RMSE（検証）"
   ]
  }
 ],
 "nbformat": 4,
 "nbformat_minor": 5,
 "metadata": {
  "kernelspec": {
   "name": "ir",
   "display_name": "R"
  }
 }
}
