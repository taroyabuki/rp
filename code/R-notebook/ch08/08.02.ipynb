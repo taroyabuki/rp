{
 "cells": [
  {
   "cell_type": "markdown",
   "metadata": {},
   "source": [
    "### 8.2.1 Rの場合"
   ]
  },
  {
   "cell_type": "code",
   "execution_count": null,
   "metadata": {},
   "outputs": [],
   "source": [
    "library(tidyverse)\n",
    "library(caret)\n",
    "#my_data <- read_csv(\"wine.csv\") # 8.1節で作成したwine.csvを使う．\n",
    "my_url <- \"https://raw.githubusercontent.com/taroyabuki/fromzero/master/data/wine.csv\"\n",
    "my_data <- read_csv(my_url)\n",
    "\n",
    "my_model <- train(form = LPRICE2 ~ WRAIN + DEGREES + HRAIN + TIME_SV,\n",
    "                  data = my_data,\n",
    "                  method = \"lm\")"
   ]
  },
  {
   "cell_type": "code",
   "execution_count": null,
   "metadata": {},
   "outputs": [],
   "source": [
    "my_model$finalModel$coefficients\n",
    "#>   (Intercept)         WRAIN       DEGREES         HRAIN       TIME_SV \n",
    "#> -12.145333577   0.001166782   0.616392441  -0.003860554   0.023847413 "
   ]
  },
  {
   "cell_type": "code",
   "execution_count": null,
   "metadata": {},
   "outputs": [],
   "source": [
    "my_test <- data.frame(WRAIN = 500, DEGREES = 17, HRAIN = 120, TIME_SV = 2)\n",
    "my_model %>% predict(my_test)\n",
    "#> 1 \n",
    "#> -1.498843 "
   ]
  },
  {
   "cell_type": "code",
   "execution_count": null,
   "metadata": {},
   "outputs": [],
   "source": [
    "my_model$results\n",
    "#>   intercept     RMSE Rsquared       MAE     RMSESD RsquaredSD      MAESD\n",
    "#> 1      TRUE 0.339309 0.751259 0.2834835 0.06092742  0.1486527 0.05348568"
   ]
  },
  {
   "cell_type": "markdown",
   "metadata": {},
   "source": [
    "### 8.2.3 補足：行列計算による再現"
   ]
  },
  {
   "cell_type": "code",
   "execution_count": null,
   "metadata": {},
   "outputs": [],
   "source": [
    "#my_data <- read_csv(\"wine.csv\") # 8.1節で作成したwine.csvを使う．\n",
    "my_url <- \"https://raw.githubusercontent.com/taroyabuki/fromzero/master/data/wine.csv\"\n",
    "my_data <- read_csv(my_url)\n",
    "\n",
    "A <- my_data[, -1] %>% # 1列目（LPRICE2）を除外して，\n",
    "  mutate(b = 1) %>%    # すべて1の列を追加して，\n",
    "  as.matrix            # 行列にする．\n",
    "y <- my_data$LPRICE2\n",
    "solve(t(A) %*% A, t(A) %*% y) # t(A) A z = t(A) yを解く（t(A)はAの転置行列）\n",
    "#>                  [,1]\n",
    "#> WRAIN     0.001166782\n",
    "#> DEGREES   0.616392441\n",
    "#> HRAIN    -0.003860554\n",
    "#> TIME_SV   0.023847413\n",
    "#> b       -12.145333577"
   ]
  }
 ],
 "nbformat": 4,
 "nbformat_minor": 5,
 "metadata": {
  "kernelspec": {
   "name": "ir",
   "display_name": "R"
  }
 }
}
