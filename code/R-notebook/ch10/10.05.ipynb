{
 "cells": [
  {
   "cell_type": "markdown",
   "metadata": {},
   "source": [
    "## 10.5 ロジスティック回帰"
   ]
  },
  {
   "cell_type": "code",
   "execution_count": null,
   "metadata": {},
   "outputs": [],
   "source": [
    "curve(1 / (1 + exp(-x)), -6, 6)"
   ]
  },
  {
   "cell_type": "code",
   "execution_count": null,
   "metadata": {},
   "outputs": [],
   "source": [
    "#> (Intercept)    Class2nd    Class3rd   ClassCrew   SexFemale    AgeAdult \n",
    "#>   0.6853195  -1.0180950  -1.7777622  -0.8576762   2.4200603  -1.0615424 "
   ]
  },
  {
   "cell_type": "markdown",
   "metadata": {},
   "source": [
    "### 10.5.1 Rの場合"
   ]
  },
  {
   "cell_type": "code",
   "execution_count": null,
   "metadata": {},
   "outputs": [],
   "source": [
    "library(tidyverse)\n",
    "library(caret)\n",
    "my_data <- epitools::expand.table(Titanic)\n",
    "\n",
    "my_model <- train(form = Survived ~ .,data = my_data,  method = \"glm\") \n",
    "my_model$results # 正解率（検証）\n",
    "#>   parameter  Accuracy     Kappa AccuracySD    KappaSD\n",
    "#> 1      none 0.7789422 0.4455538 0.01106743 0.02311639"
   ]
  },
  {
   "cell_type": "code",
   "execution_count": null,
   "metadata": {},
   "outputs": [],
   "source": [
    "my_model$finalModel$coefficients\n",
    "#> (Intercept)    Class2nd    Class3rd   ClassCrew   SexFemale    AgeAdult \n",
    "#>   0.6853195  -1.0180950  -1.7777622  -0.8576762   2.4200603  -1.0615424 "
   ]
  },
  {
   "cell_type": "code",
   "execution_count": null,
   "metadata": {},
   "outputs": [],
   "source": [
    "mean(my_pred == my_data$Survived)\n",
    "#> [1] 0.7782826"
   ]
  }
 ],
 "nbformat": 4,
 "nbformat_minor": 5,
 "metadata": {
  "kernelspec": {
   "name": "ir",
   "display_name": "R"
  }
 }
}
