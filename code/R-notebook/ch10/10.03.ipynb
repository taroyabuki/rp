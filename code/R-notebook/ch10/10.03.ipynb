{
 "cells": [
  {
   "cell_type": "markdown",
   "metadata": {},
   "source": [
    "### 10.3.1 質的入力変数を含むデータでの学習"
   ]
  },
  {
   "cell_type": "code",
   "execution_count": null,
   "metadata": {},
   "outputs": [],
   "source": [
    "library(caret)\n",
    "library(PRROC)\n",
    "library(tidyverse)\n",
    "\n",
    "my_url <- str_c(\"https://raw.githubusercontent.com\",\n",
    "                \"/taroyabuki/fromzero/master/data/titanic.csv\")\n",
    "my_data <- read_csv(my_url)"
   ]
  },
  {
   "cell_type": "code",
   "execution_count": null,
   "metadata": {},
   "outputs": [],
   "source": [
    "head(my_data)\n",
    "#> # A tibble: 6 x 4\n",
    "#>   Class Sex   Age   Survived\n",
    "#>   <chr> <chr> <chr> <chr>   \n",
    "#> 1 1st   Male  Child Yes     \n",
    "#> 2 1st   Male  Child Yes     \n",
    "#> 3 1st   Male  Child Yes     \n",
    "#> 4 1st   Male  Child Yes     \n",
    "#> 5 1st   Male  Child Yes     \n",
    "#> 6 1st   Male  Adult No"
   ]
  },
  {
   "cell_type": "markdown",
   "metadata": {},
   "source": [
    "### 10.3.2 分類木"
   ]
  },
  {
   "cell_type": "code",
   "execution_count": null,
   "metadata": {},
   "outputs": [],
   "source": [
    "my_model <- train(form = Survived ~ ., data = my_data, method = \"rpart2\",\n",
    "                  tuneGrid = data.frame(maxdepth = 2),\n",
    "                  trControl = trainControl(method = \"LOOCV\"))"
   ]
  },
  {
   "cell_type": "markdown",
   "metadata": {},
   "source": [
    "#### 10.3.2.1 分類木の描画"
   ]
  },
  {
   "cell_type": "code",
   "execution_count": null,
   "metadata": {},
   "outputs": [],
   "source": [
    "rpart.plot::rpart.plot(my_model$finalModel, extra = 1)"
   ]
  },
  {
   "cell_type": "markdown",
   "metadata": {},
   "source": [
    "#### 10.3.2.2 分類木の評価"
   ]
  },
  {
   "cell_type": "code",
   "execution_count": null,
   "metadata": {},
   "outputs": [],
   "source": [
    "my_model$results\n",
    "#>   maxdepth  Accuracy     Kappa\n",
    "#> 1        2 0.7832803 0.4096365"
   ]
  },
  {
   "cell_type": "code",
   "execution_count": null,
   "metadata": {},
   "outputs": [],
   "source": [
    "y <- my_data$Survived\n",
    "tmp <- my_model %>% predict(newdata = my_data, type = \"prob\")\n",
    "y_score <- tmp$Yes\n",
    "\n",
    "my_roc <- roc.curve(scores.class0 = y_score[y == \"Yes\"],\n",
    "                    scores.class1 = y_score[y == \"No\"],\n",
    "                    curve = TRUE)\n",
    "my_roc$auc\n",
    "#> [1] 0.7114887\n",
    "\n",
    "my_roc %>% plot(xlab = \"False Positive Rate\",\n",
    "                ylab = \"True Positive Rate\",\n",
    "                legend = FALSE)"
   ]
  }
 ],
 "nbformat": 4,
 "nbformat_minor": 5,
 "metadata": {
  "kernelspec": {
   "name": "ir",
   "display_name": "R"
  }
 }
}
