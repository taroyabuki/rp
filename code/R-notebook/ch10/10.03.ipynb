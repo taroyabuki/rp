{
 "cells": [
  {
   "cell_type": "markdown",
   "metadata": {},
   "source": [
    "## 10.3 ROC曲線"
   ]
  },
  {
   "cell_type": "code",
   "execution_count": null,
   "metadata": {},
   "outputs": [],
   "source": [
    "library(tidyverse)\n",
    "\n",
    "my_data <- data.frame(\n",
    "  answer = factor(c(  0,   1,   1,   0,   1,   0,    1,   0,   0,   1)),\n",
    "  prob =          c(0.7, 0.8, 0.3, 0.4, 0.9, 0.6, 0.99, 0.1, 0.2, 0.5)) %>%\n",
    "  arrange(desc(prob)) # probが大きい順に並び替える．\n",
    "\n",
    "my_data\n",
    "#>    answer prob\n",
    "#> 1       1 0.99\n",
    "#> 2       1 0.90\n",
    "#> 3       1 0.80\n",
    "#> 4       0 0.70\n",
    "#> 5       0 0.60\n",
    "#> 6       1 0.50\n",
    "#> 7       0 0.40\n",
    "#> 8       1 0.30\n",
    "#> 9       0 0.20\n",
    "#> 10      0 0.10"
   ]
  },
  {
   "cell_type": "code",
   "execution_count": null,
   "metadata": {},
   "outputs": [],
   "source": [
    "n <- nrow(my_data)                             # データの件数\n",
    "m <- 6                                         # 陽性確率上位6人を陽性とする．\n",
    "my_pred <- factor(c(rep(1, m), rep(0, n - m))) # m=6個の1とn-6=4個の0\n",
    "FP <- sum(my_pred == 1 & my_data$answer == 0)  # 偽陽性\n",
    "TP <- sum(my_pred == 1 & my_data$answer == 1)  # 真陽性\n",
    "X  <- sum(my_data$answer == 0)                 # 病気でない\n",
    "Y  <- sum(my_data$answer == 1)                 # 病気である\n",
    "FPR <- FP / X                                  # 偽陽性率\n",
    "TPR <- TP / Y                                  # 真陽性率\n",
    "\n",
    "list(FPR = FPR, TPR = TPR)                     # 結果をリストにまとめる．\n",
    "#> $FPR\n",
    "#> [1] 0.4\n",
    "#> \n",
    "#> $TPR\n",
    "#> [1] 0.8"
   ]
  },
  {
   "cell_type": "code",
   "execution_count": null,
   "metadata": {},
   "outputs": [],
   "source": [
    "f <- function(m) {\n",
    "  my_pred <- factor(c(rep(1, m), rep(0, n - m))) # m個の1とn-m個の0\n",
    "  FP <- sum(my_pred == 1 & my_data$answer == 0)  # 偽陽性\n",
    "  TP <- sum(my_pred == 1 & my_data$answer == 1)  # 真陽性\n",
    "  X  <- sum(my_data$answer == 0)                 # 病気でない\n",
    "  Y  <- sum(my_data$answer == 1)                 # 病気である\n",
    "  FPR <- FP / X                                  # 偽陽性率\n",
    "  TPR <- TP / Y                                  # 真陽性率\n",
    "  list(FPR = FPR, TPR = TPR)                     # 結果をリストにまとめる．\n",
    "}\n",
    "\n",
    "my_model <- 1:10 %>% map_dfr(f)\n",
    "my_model\n",
    "#>      FPR   TPR\n",
    "#>    <dbl> <dbl>\n",
    "#>  1   0     0.2\n",
    "#>  2   0     0.4\n",
    "#>  3   0     0.6\n",
    "#>  4   0.2   0.6\n",
    "#>  5   0.4   0.6\n",
    "#>  6   0.4   0.8\n",
    "#>  7   0.6   0.8\n",
    "#>  8   0.6   1  \n",
    "#>  9   0.8   1  \n",
    "#> 10   1     1 "
   ]
  },
  {
   "cell_type": "code",
   "execution_count": null,
   "metadata": {},
   "outputs": [],
   "source": [
    "my_model %>%\n",
    "  ggplot(aes(x = FPR, y = TPR)) +\n",
    "  geom_line() # 結果は割愛"
   ]
  },
  {
   "cell_type": "markdown",
   "metadata": {},
   "source": [
    "### 10.3.1 Rの場合"
   ]
  },
  {
   "cell_type": "code",
   "execution_count": null,
   "metadata": {},
   "outputs": [],
   "source": [
    "library(tidyverse)\n",
    "\n",
    "my_data <- data.frame(\n",
    "  answer = factor(c(  0,   1,   1,   0,   1,   0,    1,   0,   0,   1)),\n",
    "  prob =          c(0.7, 0.8, 0.3, 0.4, 0.9, 0.6, 0.99, 0.1, 0.2, 0.5))\n",
    "\n",
    "library(ROCR)\n",
    "my_data$prob %>%\n",
    "  prediction(labels = my_data$answer) %>%\n",
    "  performance(measure = \"tpr\", x.measure = \"fpr\") %>% plot"
   ]
  },
  {
   "cell_type": "code",
   "execution_count": null,
   "metadata": {},
   "outputs": [],
   "source": [
    "MLmetrics::AUC(my_data$prob, my_data$answer)\n",
    "#> [1] 0.8"
   ]
  }
 ],
 "nbformat": 4,
 "nbformat_minor": 5,
 "metadata": {
  "kernelspec": {
   "name": "ir",
   "display_name": "R"
  }
 }
}
