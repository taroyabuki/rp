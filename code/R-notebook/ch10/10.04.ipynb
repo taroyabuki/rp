{
 "cells": [
  {
   "cell_type": "markdown",
   "metadata": {},
   "source": [
    "### 10.4.1 Rの場合"
   ]
  },
  {
   "cell_type": "code",
   "execution_count": null,
   "metadata": {},
   "outputs": [],
   "source": [
    "my_data <- epitools::expand.table(Titanic)\n",
    "head(my_data)\n",
    "#>   Class  Sex   Age Survived\n",
    "#> 1   1st Male Child      Yes\n",
    "#> 2   1st Male Child      Yes\n",
    "#> 3   1st Male Child      Yes\n",
    "#> 4   1st Male Child      Yes\n",
    "#> 5   1st Male Child      Yes\n",
    "#> 6   1st Male Adult       No"
   ]
  },
  {
   "cell_type": "markdown",
   "metadata": {},
   "source": [
    "#### 10.4.3.1 Rの場合"
   ]
  },
  {
   "cell_type": "code",
   "execution_count": null,
   "metadata": {},
   "outputs": [],
   "source": [
    "library(tidyverse)\n",
    "library(caret)\n",
    "my_data <- epitools::expand.table(Titanic)\n",
    "\n",
    "my_model <- train(form = Survived ~ .,data = my_data,  method = \"rpart\")\n",
    "my_model$results %>% filter(Accuracy == max(Accuracy)) # 正解率（検証）の最大値\n",
    "#>           cp  Accuracy     Kappa AccuracySD    KappaSD\n",
    "#> 1 0.01125176 0.7810916 0.4196713 0.01187911 0.02960261\n",
    "\n",
    "rpart.plot::rpart.plot(my_model$finalModel, digit = 3, type = 5) # 可視化"
   ]
  }
 ],
 "nbformat": 4,
 "nbformat_minor": 5,
 "metadata": {
  "kernelspec": {
   "name": "ir",
   "display_name": "R"
  }
 }
}
