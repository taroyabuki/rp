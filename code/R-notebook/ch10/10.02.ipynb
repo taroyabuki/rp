{
 "cells": [
  {
   "cell_type": "markdown",
   "metadata": {},
   "source": [
    "## 10.2 2値分類の性能指標"
   ]
  },
  {
   "cell_type": "code",
   "execution_count": null,
   "metadata": {},
   "outputs": [],
   "source": [
    "library(tidyverse)\n",
    "library(caret)\n",
    "\n",
    "my_data <- data.frame(\n",
    "  answer = factor(c(  0,   1,   1,   0,   1,   0,    1,   0,   0,   1)), # 正解\n",
    "  prob =          c(0.7, 0.8, 0.3, 0.4, 0.9, 0.6, 0.99, 0.1, 0.2, 0.5))  # 陽性確率"
   ]
  },
  {
   "cell_type": "code",
   "execution_count": null,
   "metadata": {},
   "outputs": [],
   "source": [
    "my_pred <- ifelse(my_data$prob >= 0.5, 1, 0) %>% # 0.5以上を陽性とする．\n",
    "  as.factor                                      # 因子に変換する．\n",
    "my_pred\n",
    "#>  [1] 1 1 0 0 1 1 1 0 0 1\n",
    "#> Levels: 0 1"
   ]
  },
  {
   "cell_type": "code",
   "execution_count": null,
   "metadata": {},
   "outputs": [],
   "source": [
    "confusionMatrix(data = my_data$pred,        # 予測\n",
    "                reference = my_data$answer, # 正解\n",
    "                positive = \"1\",             # 陽性\n",
    "                mode = \"everything\")        # すべての指標を求める．\n",
    "#> Confusion Matrix and Statistics\n",
    "#> \n",
    "#>           Reference\n",
    "#> Prediction 0 1\n",
    "#>          0 3 1\n",
    "#>          1 2 4\n",
    "#>                                           \n",
    "#>                Accuracy : 0.7             \n",
    "#>                  95% CI : (0.3475, 0.9333)\n",
    "#>     No Information Rate : 0.5             \n",
    "#>     P-Value [Acc > NIR] : 0.1719          \n",
    "#>                                           \n",
    "#>                   Kappa : 0.4             \n",
    "#>                                           \n",
    "#>  Mcnemar's Test P-Value : 1.0000          \n",
    "#>                                           \n",
    "#>             Sensitivity : 0.8000          \n",
    "#>             Specificity : 0.6000          \n",
    "#>          Pos Pred Value : 0.6667          \n",
    "#>          Neg Pred Value : 0.7500          \n",
    "#>               Precision : 0.6667          \n",
    "#>                  Recall : 0.8000          \n",
    "#>                      F1 : 0.7273          \n",
    "#>              Prevalence : 0.5000          \n",
    "#>          Detection Rate : 0.4000          \n",
    "#>    Detection Prevalence : 0.6000          \n",
    "#>       Balanced Accuracy : 0.7000          \n",
    "#>                                           \n",
    "#>        'Positive' Class : 1"
   ]
  }
 ],
 "nbformat": 4,
 "nbformat_minor": 5,
 "metadata": {
  "kernelspec": {
   "name": "ir",
   "display_name": "R"
  }
 }
}
