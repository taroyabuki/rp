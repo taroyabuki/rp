{
 "cells": [
  {
   "cell_type": "markdown",
   "metadata": {},
   "source": [
    "### 13.2.2 日時の列"
   ]
  },
  {
   "cell_type": "code",
   "execution_count": null,
   "metadata": {},
   "outputs": [],
   "source": [
    "# 年の列\n",
    "2020:2025\n",
    "#> [1] 2020 2021 2022 2023 2024 2025\n",
    "\n",
    "# 年月の列\n",
    "seq(from = as.Date(\"2020/01/01\"), to = as.Date(\"2020/03/01\"),\n",
    "    by = \"1 month\") %>% yearmonth\n",
    "#> <yearmonth[5]>\n",
    "#> [1] \"2020 Jan\" \"2020 Feb\" \"2020 Mar\" \"2020 Apr\" \"2020 May\"\n",
    "\n",
    "# 年月日の列\n",
    "seq(from = as.Date(\"2020/01/01\"), to = as.Date(\"2020/01/05\"),\n",
    "    by = \"1 day\")\n",
    "#> [1] \"2020-01-01\" \"2020-01-02\" \"2020-01-03\" \"2020-01-04\" \"2020-01-05\"\n",
    "\n",
    "# 時の列\n",
    "seq(from = as.POSIXct(\"2020/01/01 12:00\"),\n",
    "    to   = as.POSIXct(\"2020/01/01 14:00\"),\n",
    "    by = \"hour\")\n",
    "#> [1] \"2020-01-01 12:00:00 UTC\" \"2020-01-01 13:00:00 UTC\" \"2020-01-01 14:00:00 UTC\""
   ]
  },
  {
   "cell_type": "markdown",
   "metadata": {},
   "source": [
    "### 13.2.3 時系列データ用のデータフレーム"
   ]
  },
  {
   "cell_type": "code",
   "execution_count": null,
   "metadata": {},
   "outputs": [],
   "source": [
    "library(tidyverse)\n",
    "library(tsibble)\n",
    "tmp <- read_csv(\"an_wld_en.csv\")\n",
    "my_data <- tmp %>% as_tsibble(index = year)"
   ]
  },
  {
   "cell_type": "markdown",
   "metadata": {},
   "source": [
    "### 13.2.4 移動平均"
   ]
  },
  {
   "cell_type": "code",
   "execution_count": null,
   "metadata": {},
   "outputs": [],
   "source": [
    "library(tidyverse)\n",
    "library(tsibble)\n",
    "tmp <- read_csv(\"an_wld_en.csv\")\n",
    "my_data <- tmp %>% as_tsibble(index = year) # 時系列データの作成\n",
    "\n",
    "library(zoo)\n",
    "my_data$mean5 <- my_data$world %>%\n",
    "  rollmean(k = 5,           # 移動平均（5年）\n",
    "           fill = NA,       # 計算できないところはNa\n",
    "           align = \"right\") # 過去の値を使う．\n",
    "\n",
    "# 回帰分析の結果をデータフレームに追加する．\n",
    "library(caret)\n",
    "my_data$lm <- train(form = world ~ year, data = my_data, method = \"lm\") %>%\n",
    "  predict(my_data)\n",
    "head(my_data)\n",
    "#>    year world  mean5     lm\n",
    "#>   <dbl> <dbl>  <dbl>  <dbl>\n",
    "#> 1  1891 -0.63 NA     -0.775\n",
    "#> 2  1892 -0.71 NA     -0.767\n",
    "#> 3  1893 -0.75 NA     -0.760\n",
    "#> 4  1894 -0.7  NA     -0.752\n",
    "#> 5  1895 -0.68 -0.694 -0.745\n",
    "#> 6  1896 -0.47 -0.662 -0.738"
   ]
  },
  {
   "cell_type": "code",
   "execution_count": null,
   "metadata": {},
   "outputs": [],
   "source": [
    "my_data %>% pivot_longer(-year) %>% head # 整然データ（確認）\n",
    "#>    year name   value\n",
    "#>   <dbl> <chr>  <dbl>\n",
    "#> 1  1891 world -0.63 \n",
    "#> 2  1891 mean5 NA    \n",
    "#> 3  1891 lm    -0.775\n",
    "#> 4  1892 world -0.71 \n",
    "#> 5  1892 mean5 NA    \n",
    "#> 6  1892 lm    -0.767\n",
    "\n",
    "# 折れ線（元データ，移動平均，回帰分析）と散布図（元データ）\n",
    "my_data %>% pivot_longer(-year) %>%\n",
    "  ggplot(aes(x = year)) +\n",
    "  geom_line(aes(y = value, color = name)) +\n",
    "  geom_point(data = my_data, mapping = aes(y = world))"
   ]
  }
 ],
 "nbformat": 4,
 "nbformat_minor": 5,
 "metadata": {
  "kernelspec": {
   "name": "ir",
   "display_name": "R"
  }
 }
}
