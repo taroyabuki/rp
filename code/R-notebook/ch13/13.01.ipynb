{
 "cells": [
  {
   "cell_type": "markdown",
   "metadata": {},
   "source": [
    "13.1 世界の平均気温\n",
    "-------------------"
   ]
  },
  {
   "cell_type": "code",
   "execution_count": null,
   "metadata": {},
   "outputs": [],
   "source": [
    "library(tidyverse)\n",
    "my_url <- \"https://www.data.jma.go.jp/cpdinfo/temp/list/csv/an_wld.csv\"\n",
    "my_data <- read_csv(my_url, locale = locale(encoding=\"sjis\")) # 文字コードはShift_JIS\n",
    "head(my_data)\n",
    "#>      年 世界全体 北半球 南半球\n",
    "#>   <dbl>    <dbl>  <dbl>  <dbl>\n",
    "#> 1  1891    -0.63  -0.68  -0.59\n",
    "#> 2  1892    -0.71  -0.8   -0.62\n",
    "#> 3  1893    -0.75  -0.87  -0.63\n",
    "#> 4  1894    -0.7   -0.73  -0.68\n",
    "#> 5  1895    -0.68  -0.75  -0.6 \n",
    "#> 6  1896    -0.47  -0.53  -0.42"
   ]
  },
  {
   "cell_type": "code",
   "execution_count": null,
   "metadata": {},
   "outputs": [],
   "source": [
    "my_data <- my_data[1:129, 1:2] # 最初の129年分，年と世界全体の2列だけ残す．\n",
    "colnames(my_data) <- c(\"year\", \"world\")\n",
    "my_data %>% write_csv(\"an_wld_en.csv\")"
   ]
  },
  {
   "cell_type": "code",
   "execution_count": null,
   "metadata": {},
   "outputs": [],
   "source": [
    "my_data <- read_csv(\"an_wld_en.csv\")\n",
    "head(my_data)\n",
    "#>    year world\n",
    "#>   <dbl> <dbl>\n",
    "#> 1  1891 -0.63\n",
    "#> 2  1892 -0.71\n",
    "#> 3  1893 -0.75\n",
    "#> 4  1894 -0.7 \n",
    "#> 5  1895 -0.68\n",
    "#> 6  1896 -0.47"
   ]
  },
  {
   "cell_type": "code",
   "execution_count": null,
   "metadata": {},
   "outputs": [],
   "source": [
    "my_data %>%\n",
    "  filter(1981 <= year & year <= 2010) %>%\n",
    "  summarize(mean(world))\n",
    "#>   `mean(world)`\n",
    "#>           <dbl>\n",
    "#> 1       0.00367"
   ]
  },
  {
   "cell_type": "markdown",
   "metadata": {},
   "source": [
    "### 13.1.1 回帰分析"
   ]
  },
  {
   "cell_type": "code",
   "execution_count": null,
   "metadata": {},
   "outputs": [],
   "source": [
    "library(tidyverse)\n",
    "library(caret)\n",
    "my_data <- read_csv(\"an_wld_en.csv\")\n",
    "\n",
    "my_model <- train(form = world ~ year, data = my_data, method = \"lm\")\n",
    "\n",
    "my_model$finalModel$coefficients # 係数\n",
    "#>   (Intercept)          year \n",
    "#> -14.844194898   0.007440239"
   ]
  }
 ],
 "nbformat": 4,
 "nbformat_minor": 5,
 "metadata": {
  "kernelspec": {
   "name": "ir",
   "display_name": "R"
  }
 }
}
