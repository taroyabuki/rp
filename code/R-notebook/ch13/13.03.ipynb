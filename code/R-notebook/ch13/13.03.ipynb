{
 "cells": [
  {
   "cell_type": "markdown",
   "metadata": {},
   "source": [
    "### 13.3.1 訓練データと検証データ"
   ]
  },
  {
   "cell_type": "code",
   "execution_count": null,
   "metadata": {},
   "outputs": [],
   "source": [
    "library(tidyverse)\n",
    "library(tsibble)\n",
    "tmp <- read_csv(\"an_wld_en.csv\")\n",
    "my_data <- tmp %>% as_tsibble(index = year)\n",
    "\n",
    "my_index = 1:109\n",
    "my_train <- my_data[ my_index, ] # 訓練データ\n",
    "my_test  <- my_data[-my_index, ] # 検証データ\n",
    "\n",
    "my_data %>%\n",
    "  mutate(name = rep(c(\"train\", \"test\"), c(109, 20))) %>%\n",
    "  ggplot(aes(x = year, y = world, color = name)) +\n",
    "    geom_line()"
   ]
  },
  {
   "cell_type": "markdown",
   "metadata": {},
   "source": [
    "#### 13.3.2.1 モデル1：線形単回帰分析"
   ]
  },
  {
   "cell_type": "code",
   "execution_count": null,
   "metadata": {},
   "outputs": [],
   "source": [
    "library(caret)\n",
    "my_lm_model <- train(form = world ~ year, data = my_train, method = \"lm\")\n",
    "\n",
    "y_ <- my_lm_model %>% predict(my_train)\n",
    "postResample(y_, my_train$world)\n",
    "#>       RMSE   Rsquared        MAE \n",
    "#> 0.11727054 0.73458474 0.09558441 "
   ]
  },
  {
   "cell_type": "code",
   "execution_count": null,
   "metadata": {},
   "outputs": [],
   "source": [
    "y_ <- my_lm_model %>% predict(my_test)\n",
    "postResample(y_, my_test$world)\n",
    "#>      RMSE  Rsquared       MAE \n",
    "#> 0.2205509 0.6369629 0.1965745 "
   ]
  },
  {
   "cell_type": "markdown",
   "metadata": {},
   "source": [
    "#### 13.3.2.2 モデル2：ARIMA"
   ]
  },
  {
   "cell_type": "code",
   "execution_count": null,
   "metadata": {},
   "outputs": [],
   "source": [
    "library(forecast)\n",
    "my_arima_model <- my_train %>% auto.arima # モデルの作成\n",
    "# summary(my_arima_model)                 # モデルの確認（割愛）\n",
    "# checkresiduals(my_arima_model)          # モデルの診断（割愛）\n",
    "\n",
    "y_ <- my_arima_model %>% forecast(20)     # 20年分の予測\n",
    "postResample(y_$mean, my_test$world)      # RMSEの計算\n",
    "#>      RMSE  Rsquared       MAE \n",
    "#> 0.1640015 0.6263019 0.1349202 "
   ]
  },
  {
   "cell_type": "markdown",
   "metadata": {},
   "source": [
    "### 13.3.3 最良モデルの利用"
   ]
  },
  {
   "cell_type": "code",
   "execution_count": null,
   "metadata": {},
   "outputs": [],
   "source": [
    "my_model <- my_data %>% auto.arima() # すべてのデータを使う．\n",
    "my_df <- my_model %>% forecast(30)   # 30年分の予測\n",
    "my_df\n",
    "#>      Point Forecast     Lo 80     Hi 80     Lo 95     Hi 95\n",
    "#> 2020      0.4112152 0.2859716 0.5364588 0.2196717 0.6027588\n",
    "#> 2021      0.3835121 0.2327403 0.5342840 0.1529265 0.6140978\n",
    "#> 2022      0.3802712 0.2236842 0.5368582 0.1407921 0.6197504\n",
    "#> 2023      0.3989868 0.2392511 0.5587224 0.1546922 0.6432814\n",
    "#> 2024      0.3972986 0.2322553 0.5623419 0.1448866 0.6497106\n",
    "# 以下略"
   ]
  },
  {
   "cell_type": "code",
   "execution_count": null,
   "metadata": {},
   "outputs": [],
   "source": [
    "autoplot(my_df)"
   ]
  },
  {
   "cell_type": "markdown",
   "metadata": {},
   "source": [
    "### 13.3.4 例2：最高気温の月平均データ"
   ]
  },
  {
   "cell_type": "code",
   "execution_count": null,
   "metadata": {},
   "outputs": [],
   "source": [
    "library(tidyverse)\n",
    "library(tsibble)\n",
    "library(forecast)\n",
    "\n",
    "my_url <- \"https://raw.githubusercontent.com/taroyabuki/fromzero/master/data/tokyo-max-temp-2015--2019.csv\"\n",
    "tmp <- read_csv(my_url,\n",
    "                locale = locale(encoding=\"sjis\"),\n",
    "                skip = 5,\n",
    "                col_names = c(\"date\", \"tokyo\", \"quality\", \"no\"))\n",
    "head(tmp)\n",
    "#>   date   tokyo quality    no\n",
    "#>   <chr>  <dbl>   <dbl> <dbl>\n",
    "#> 1 2015/1  10.4       8     1\n",
    "#> 2 2015/2  10.4       8     1\n",
    "#> 3 2015/3  15.5       8     1\n",
    "#> 4 2015/4  19.3       8     1\n",
    "#> 5 2015/5  26.4       8     1\n",
    "#> 6 2015/6  26.4       8     1"
   ]
  },
  {
   "cell_type": "code",
   "execution_count": null,
   "metadata": {},
   "outputs": [],
   "source": [
    "my_data <- tmp %>%\n",
    "  mutate(month = yearmonth(tmp$date)) %>%\n",
    "  select(month, tokyo) %>%\n",
    "  as_tsibble(index = month)\n",
    "head(my_data)\n",
    "#>      month tokyo\n",
    "#>      <mth> <dbl>\n",
    "#> 1 2015 Jan  10.4\n",
    "#> 2 2015 Feb  10.4\n",
    "#> 3 2015 Mar  15.5\n",
    "#> 4 2015 Apr  19.3\n",
    "#> 5 2015 May  26.4\n",
    "#> 6 2015 Jun  26.4"
   ]
  },
  {
   "cell_type": "code",
   "execution_count": null,
   "metadata": {},
   "outputs": [],
   "source": [
    "my_model <- my_data %>% auto.arima\n",
    "my_df <- my_model %>% forecast(24)\n",
    "my_df\n",
    "#>          Point Forecast     Lo 80    Hi 80     Lo 95    Hi 95\n",
    "#> Jan 2020       9.907492  7.994020 11.82096  6.981089 12.83390\n",
    "#> Feb 2020      10.945820  9.032348 12.85929  8.019417 13.87222\n",
    "#> Mar 2020      16.054180 14.140707 17.96765 13.127776 18.98058\n",
    "#> Apr 2020      20.351972 18.438499 22.26544 17.425568 23.27838\n",
    "#> May 2020      24.994716 23.081244 26.90819 22.068313 27.92112\n",
    "# 以下略"
   ]
  },
  {
   "cell_type": "code",
   "execution_count": null,
   "metadata": {},
   "outputs": [],
   "source": [
    "autoplot(my_df)"
   ]
  }
 ],
 "nbformat": 4,
 "nbformat_minor": 5,
 "metadata": {
  "kernelspec": {
   "name": "ir",
   "display_name": "R"
  }
 }
}
