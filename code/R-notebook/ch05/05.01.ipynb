{
 "cells": [
  {
   "cell_type": "markdown",
   "metadata": {},
   "source": [
    "### 5.1.1 CSVデータの読み込み"
   ]
  },
  {
   "cell_type": "code",
   "execution_count": null,
   "metadata": {},
   "outputs": [],
   "source": [
    "library(tidyverse)\n",
    "my_df <- read_csv(\"exam.csv\")\n",
    "# あるいは\n",
    "my_df <- read.csv(\"exam.csv\",\n",
    "  stringsAsFactors = FALSE)\n",
    "\n",
    "my_df # 後者を実行した場合\n",
    "#>   name english math gender\n",
    "#> 1    A      60   70      f\n",
    "#> 2    B      90   80      m\n",
    "#> 3    C      70   90      m\n",
    "#> 4    D      90  100      f"
   ]
  },
  {
   "cell_type": "code",
   "execution_count": null,
   "metadata": {},
   "outputs": [],
   "source": [
    "my_url <- \"https://raw.githubusercontent.com/taroyabuki/fromzero/master/data/exam.csv\"\n",
    "my_df <- read_csv(my_url)\n",
    "# あるいは\n",
    "my_df <- read.csv(my_url, stringsAsFactors = FALSE)"
   ]
  },
  {
   "cell_type": "code",
   "execution_count": null,
   "metadata": {},
   "outputs": [],
   "source": [
    "my_df2 <- read.csv(\n",
    "  file = \"exam.csv\",\n",
    "  stringsAsFactors = FALSE,\n",
    "  row.names = 1)\n",
    "my_df2\n",
    "#>   english math gender\n",
    "#> A      60   70      f\n",
    "#> B      90   80      m\n",
    "#> C      70   90      m\n",
    "#> D      90  100      f"
   ]
  },
  {
   "cell_type": "markdown",
   "metadata": {},
   "source": [
    "### 5.1.2 CSVファイルへの書き出し"
   ]
  },
  {
   "cell_type": "code",
   "execution_count": null,
   "metadata": {},
   "outputs": [],
   "source": [
    "my_df %>% write_csv(\"exam2.csv\")\n",
    "# あるいは\n",
    "my_df %>% write.csv(file = \"exam2.csv\",\n",
    "  row.names = FALSE) # 行名を出力しない．"
   ]
  },
  {
   "cell_type": "code",
   "execution_count": null,
   "metadata": {},
   "outputs": [],
   "source": [
    "my_df2 %>% write.csv(\"exam3.csv\")"
   ]
  },
  {
   "cell_type": "markdown",
   "metadata": {},
   "source": [
    "### 5.1.3 文字コード"
   ]
  },
  {
   "cell_type": "code",
   "execution_count": null,
   "metadata": {},
   "outputs": [],
   "source": [
    "library(tidyverse)\n",
    "my_df <- read_csv(file = \"exam.csv\",\n",
    "  locale = locale(encoding = \"UTF-8\"))\n",
    "# あるいは\n",
    "my_df <- read.csv(file = \"exam.csv\",\n",
    "  stringsAsFactors = FALSE,\n",
    "  fileEncoding = \"UTF-8\")"
   ]
  },
  {
   "cell_type": "code",
   "execution_count": null,
   "metadata": {},
   "outputs": [],
   "source": [
    "my_df %>% write_csv(\"exam2.csv\")\n",
    "# あるいは\n",
    "my_df %>% write.csv(file = \"exam2.csv\", row.names = FALSE, fileEncoding = \"UTF-8\")"
   ]
  },
  {
   "cell_type": "markdown",
   "metadata": {},
   "source": [
    "### 5.1.4 ウェブ上の表"
   ]
  },
  {
   "cell_type": "code",
   "execution_count": null,
   "metadata": {},
   "outputs": [],
   "source": [
    "library(tidyverse)\n",
    "my_url <- \"https://github.com/taroyabuki/fromzero/blob/master/data/exam.csv\"\n",
    "my_tables <- xml2::read_html(my_url) %>% rvest::html_table()"
   ]
  },
  {
   "cell_type": "code",
   "execution_count": null,
   "metadata": {},
   "outputs": [],
   "source": [
    "my_tables \n",
    "[[1]]\n",
    "  X1   X2      X3   X4     X5\n",
    "1 NA name english math gender\n",
    "2 NA    A      60   70      f\n",
    "3 NA    B      90   80      m\n",
    "4 NA    C      70   90      m\n",
    "5 NA    D      90  100      f"
   ]
  },
  {
   "cell_type": "code",
   "execution_count": null,
   "metadata": {},
   "outputs": [],
   "source": [
    "tmp <- my_tables[[1]]\n",
    "tmp\n",
    "  X1   X2      X3   X4     X5\n",
    "1 NA name english math gender\n",
    "2 NA    A      60   70      f\n",
    "3 NA    B      90   80      m\n",
    "4 NA    C      70   90      m\n",
    "5 NA    D      90  100      f"
   ]
  },
  {
   "cell_type": "code",
   "execution_count": null,
   "metadata": {},
   "outputs": [],
   "source": [
    "# 1行目のデータを使って列の名前を付け直す．\n",
    "colnames(tmp) <- tmp[1,]\n",
    "\n",
    "# 1行目と1列目を削除する．\n",
    "my_data <- tmp[-1 ,-1]\n",
    "my_data\n",
    "  name english math gender\n",
    "2    A      60   70      f\n",
    "3    B      90   80      m\n",
    "4    C      70   90      m\n",
    "5    D      90  100      f"
   ]
  }
 ],
 "nbformat": 4,
 "nbformat_minor": 5,
 "metadata": {
  "kernelspec": {
   "name": "ir",
   "display_name": "R"
  }
 }
}
