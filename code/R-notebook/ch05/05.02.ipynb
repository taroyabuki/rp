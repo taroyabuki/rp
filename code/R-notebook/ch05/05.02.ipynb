{
 "cells": [
  {
   "cell_type": "markdown",
   "metadata": {},
   "source": [
    "### 5.2.1 JSONデータの読み込み"
   ]
  },
  {
   "cell_type": "code",
   "execution_count": null,
   "metadata": {},
   "outputs": [],
   "source": [
    "library(tidyverse)\n",
    "library(jsonlite)\n",
    "\n",
    "my_url <- \"https://raw.githubusercontent.com/taroyabuki/fromzero/master/data/exam.json\"\n",
    "my_data <- fromJSON(my_url)\n",
    "#my_data <- fromJSON(\"exam.json\") # （ファイルを使う場合）\n",
    "my_data\n",
    "#>   name english math gender\n",
    "#> 1    A      60   70      f\n",
    "#> 2    B      90   80      m\n",
    "#> 3    C      70   90      m\n",
    "#> 4    D      90  100      f"
   ]
  },
  {
   "cell_type": "markdown",
   "metadata": {},
   "source": [
    "### 5.2.2 XMLデータの読み込み"
   ]
  },
  {
   "cell_type": "code",
   "execution_count": null,
   "metadata": {},
   "outputs": [],
   "source": [
    "library(tidyverse)\n",
    "library(xml2)\n",
    "\n",
    "my_url <- \"https://raw.githubusercontent.com/taroyabuki/fromzero/master/data/exam.xml\"\n",
    "my_xml <- read_xml(my_url)      # XMLデータの読み込み\n",
    "#my_xml <- read_xml(\"exam.xml\") # （ファイルを使う場合）\n",
    "xml_ns(my_xml)                  # 名前空間の確認（d1）\n",
    "#> d1 <-> https://www.example.net/ns/1.0"
   ]
  },
  {
   "cell_type": "code",
   "execution_count": null,
   "metadata": {},
   "outputs": [],
   "source": [
    "my_records <- xml_find_all(my_xml, \".//d1:record\")"
   ]
  },
  {
   "cell_type": "code",
   "execution_count": null,
   "metadata": {},
   "outputs": [],
   "source": [
    "f <- function(record) {\n",
    "  tmp <- xml_attrs(record)                    # 属性をすべて取り出し，\n",
    "  xml_children(record) %>% walk(function(e) {\n",
    "    tmp[xml_name(e)] <<- xml_text(e)          # 子要素の名前と内容を追加する．\n",
    "  })\n",
    "  tmp\n",
    "}"
   ]
  },
  {
   "cell_type": "code",
   "execution_count": null,
   "metadata": {},
   "outputs": [],
   "source": [
    "my_data <- my_records %>% map_dfr(f)\n",
    "my_data$english <- as.numeric(my_data$english)\n",
    "my_data$math    <- as.numeric(my_data$math)\n",
    "my_data\n",
    "#>   english  math gender name \n",
    "#>     <dbl> <dbl> <chr>  <chr>\n",
    "#> 1      60    70 f      A    \n",
    "#> 2      90    80 m      B    \n",
    "#> 3      70    90 m      C    \n",
    "#> 4      90   100 f      D  "
   ]
  }
 ],
 "nbformat": 4,
 "nbformat_minor": 5,
 "metadata": {
  "kernelspec": {
   "name": "ir",
   "display_name": "R"
  }
 }
}
