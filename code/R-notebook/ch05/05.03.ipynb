{
 "cells": [
  {
   "cell_type": "markdown",
   "metadata": {},
   "source": [
    "### 5.3.1 標準化"
   ]
  },
  {
   "cell_type": "code",
   "execution_count": null,
   "metadata": {},
   "outputs": [],
   "source": [
    "x <- c(2, 3)\n",
    "y <- (x - mean(x)) / sd(x)\n",
    "y\n",
    "#> [1] -0.7071068  0.7071068"
   ]
  },
  {
   "cell_type": "code",
   "execution_count": null,
   "metadata": {},
   "outputs": [],
   "source": [
    "c(mean(y), sd(y))\n",
    "#> [1] 0 1"
   ]
  },
  {
   "cell_type": "code",
   "execution_count": null,
   "metadata": {},
   "outputs": [],
   "source": [
    "tmp <- scale(iris[, -5])\n",
    "head(tmp)\n",
    "#>      Sepal.Length Sepal.Width Petal.Length Petal.Width\n",
    "#> [1,]   -0.8976739  1.01560199    -1.335752   -1.311052\n",
    "#> [2,]   -1.1392005 -0.13153881    -1.335752   -1.311052\n",
    "#> [3,]   -1.3807271  0.32731751    -1.392399   -1.311052\n",
    "#> [4,]   -1.5014904  0.09788935    -1.279104   -1.311052\n",
    "#> [5,]   -1.0184372  1.24503015    -1.335752   -1.311052\n",
    "#> [6,]   -0.5353840  1.93331463    -1.165809   -1.048667\n",
    "\n",
    "attr(tmp, \"scaled:center\") # 元のデータの平均\n",
    "Sepal.Length  Sepal.Width Petal.Length  Petal.Width \n",
    "    5.843333     3.057333     3.758000     1.199333 \n",
    "\n",
    "attr(tmp, \"scaled:scale\") # 元のデータの標準偏差\n",
    "Sepal.Length  Sepal.Width Petal.Length  Petal.Width \n",
    "   0.8280661    0.4358663    1.7652982    0.7622377 "
   ]
  },
  {
   "cell_type": "code",
   "execution_count": null,
   "metadata": {},
   "outputs": [],
   "source": [
    "psych::describe(tmp) # 基本統計量\n",
    "#>              vars   n mean sd median trimmed  mad   min  max range  skew kurtosis   se\n",
    "#> Sepal.Length    1 150    0  1  -0.05   -0.04 1.25 -1.86 2.48  4.35  0.31    -0.61 0.08\n",
    "#> Sepal.Width     2 150    0  1  -0.13   -0.03 1.02 -2.43 3.08  5.51  0.31     0.14 0.08\n",
    "#> Petal.Length    3 150    0  1   0.34    0.00 1.05 -1.56 1.78  3.34 -0.27    -1.42 0.08\n",
    "#> Petal.Width     4 150    0  1   0.13   -0.02 1.36 -1.44 1.71  3.15 -0.10    -1.36 0.08"
   ]
  },
  {
   "cell_type": "markdown",
   "metadata": {},
   "source": [
    "### 5.3.2 ワンホットエンコーディング"
   ]
  },
  {
   "cell_type": "code",
   "execution_count": null,
   "metadata": {},
   "outputs": [],
   "source": [
    "library(tidyverse)\n",
    "library(caret)\n",
    "\n",
    "my_df <- data.frame(\n",
    "  id = c(1, 2, 3),\n",
    "  class = as.factor(c(\"A\", \"B\", \"C\")))\n",
    "\n",
    "dummyVars(formula = ~ ., data = my_df) %>%\n",
    "  predict(my_df)\n",
    "#>   id class.A class.B class.C\n",
    "#> 1  1       1       0       0\n",
    "#> 2  2       0       1       0\n",
    "#> 3  3       0       0       1"
   ]
  },
  {
   "cell_type": "code",
   "execution_count": null,
   "metadata": {},
   "outputs": [],
   "source": [
    "dummyVars(formula = ~ .,\n",
    "          data = my_df,\n",
    "          fullRank = TRUE) %>%\n",
    "  predict(my_df)\n",
    "#>   id class.B class.C\n",
    "#> 1  1       0       0\n",
    "#> 2  2       1       0\n",
    "#> 3  3       0       1"
   ]
  },
  {
   "cell_type": "markdown",
   "metadata": {},
   "source": [
    "### 5.3.3 整然データ（R）"
   ]
  },
  {
   "cell_type": "code",
   "execution_count": null,
   "metadata": {},
   "outputs": [],
   "source": [
    "library(tidyverse)\n",
    "\n",
    "my_df <- data.table(\n",
    "  名前 = c(\"A\", \"B\"),\n",
    "  身長 = c(160, 170),\n",
    "  体重 = c(60, 70)\n",
    ")\n",
    "\n",
    "my_tidy <- my_df %>% pivot_longer(c(身長, 体重))\n",
    "# あるいは\n",
    "my_tidy <- my_df %>% pivot_longer(-名前)\n",
    "\n",
    "my_tidy\n",
    "#>   名前  name  value\n",
    "#>   <chr> <chr> <dbl>\n",
    "#> 1 A     身長    160\n",
    "#> 2 A     体重     60\n",
    "#> 3 B     身長    170\n",
    "#> 4 B     体重     70"
   ]
  },
  {
   "cell_type": "code",
   "execution_count": null,
   "metadata": {},
   "outputs": [],
   "source": [
    "my_tidy %>% pivot_wider()\n",
    "#>   名前   身長  体重\n",
    "#>   <chr> <dbl> <dbl>\n",
    "#> 1 A       160    60\n",
    "#> 2 B       170    70"
   ]
  }
 ],
 "nbformat": 4,
 "nbformat_minor": 5,
 "metadata": {
  "kernelspec": {
   "name": "ir",
   "display_name": "R"
  }
 }
}
