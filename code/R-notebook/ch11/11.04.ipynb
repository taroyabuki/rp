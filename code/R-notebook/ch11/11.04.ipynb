{
 "cells": [
  {
   "cell_type": "markdown",
   "metadata": {},
   "source": [
    "### 11.4.1 準備"
   ]
  },
  {
   "cell_type": "code",
   "execution_count": null,
   "metadata": {},
   "outputs": [],
   "source": [
    "library(keras)\n",
    "tmp <- epitools::expand.table(Titanic)\n",
    "tmp2 <- caret::dummyVars(formula = ~ ., data = tmp, fullRank = TRUE) %>%\n",
    "  predict(tmp)\n",
    "head(tmp2)\n",
    "#>   Class.2nd Class.3rd Class.Crew Sex.Female Age.Adult Survived.Yes\n",
    "#> 1         0         0          0          0         0            1\n",
    "#> 2         0         0          0          0         0            1\n",
    "#> 3         0         0          0          0         0            1\n",
    "#> 4         0         0          0          0         0            1\n",
    "#> 5         0         0          0          0         0            1\n",
    "#> 6         0         0          0          0         1            0\n",
    "\n",
    "my_data <- tmp2[sample(nrow(tmp2)), ] # シャッフル\n",
    "X <- my_data[, -6] # 入力変数\n",
    "y <- my_data[,  6] # 出力変数"
   ]
  },
  {
   "cell_type": "markdown",
   "metadata": {},
   "source": [
    "### 11.4.2 ネットワークの構築"
   ]
  },
  {
   "cell_type": "code",
   "execution_count": null,
   "metadata": {},
   "outputs": [],
   "source": [
    "my_model <- keras_model_sequential() %>%\n",
    "  layer_dense(units = 5, activation = \"relu\", input_shape = c(5)) %>%\n",
    "  layer_dense(units = 1, activation = \"sigmoid\") # 変更箇所1"
   ]
  },
  {
   "cell_type": "code",
   "execution_count": null,
   "metadata": {},
   "outputs": [],
   "source": [
    "my_model %>% compile(\n",
    "  loss = \"binary_crossentropy\", # 変更箇所2\n",
    "  optimizer = \"rmsprop\",\n",
    "  metric = c(\"accuracy\"))"
   ]
  },
  {
   "cell_type": "code",
   "execution_count": null,
   "metadata": {},
   "outputs": [],
   "source": [
    "my_cb <- callback_early_stopping(patience = 20,               # 訓練停止条件\n",
    "                                 restore_best_weights = TRUE) # 最善を保持\n",
    "\n",
    "my_history <- my_model %>%\n",
    "  fit(x = X,                   # 入力変数\n",
    "      y = y,                   # 出力変数\n",
    "      validation_split = 0.25, # 検証データの割合\n",
    "      batch_size = 10,         # バッチサイズ\n",
    "      epochs = 500,            # エポック数の上限\n",
    "      callbacks = my_cb)       # エポックごとに行う処理"
   ]
  },
  {
   "cell_type": "code",
   "execution_count": null,
   "metadata": {},
   "outputs": [],
   "source": [
    "my_model %>% evaluate(x = X, y = y)\n",
    "#>      loss  accuracy \n",
    "#> 0.4797515 0.7891867 "
   ]
  },
  {
   "cell_type": "code",
   "execution_count": null,
   "metadata": {},
   "outputs": [],
   "source": [
    "# 予測確率\n",
    "p_A <- my_model %>% predict(X)\n",
    "\n",
    "# 予測カテゴリ\n",
    "y_A <- p_A > 0.5\n",
    "\n",
    "# 正解率（訓練）\n",
    "mean(y_A == y)\n",
    "#> [1] 0.7891867\n",
    "\n",
    "# 交差エントロピー（訓練）\n",
    "-mean(log(\n",
    "  p_A * y + (1 - p_A) * (!y)))\n",
    "#> [1] 0.4797515"
   ]
  }
 ],
 "nbformat": 4,
 "nbformat_minor": 5,
 "metadata": {
  "kernelspec": {
   "name": "ir",
   "display_name": "R"
  }
 }
}
