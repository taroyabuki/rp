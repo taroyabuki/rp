{
 "cells": [
  {
   "cell_type": "markdown",
   "metadata": {},
   "source": [
    "### 11.2.1 準備"
   ]
  },
  {
   "cell_type": "code",
   "execution_count": null,
   "metadata": {},
   "outputs": [],
   "source": [
    "library(tidyverse)\n",
    "my_url <- \"https://raw.githubusercontent.com/taroyabuki/fromzero/master/data/wine.csv\"\n",
    "tmp <- read_csv(my_url)\n",
    "head(tmp)\n",
    "#>   LPRICE2 WRAIN DEGREES HRAIN TIME_SV\n",
    "#>     <dbl> <dbl>   <dbl> <dbl>   <dbl>\n",
    "#> 1  -0.999   600    17.1   160      31\n",
    "#> 2  -0.454   690    16.7    80      30\n",
    "#> 3  -0.808   502    17.2   130      28\n",
    "#> 4  -1.51    420    16.1   110      26\n",
    "#> 5  -1.72    582    16.4   187      25\n",
    "#> 6  -0.418   485    17.5   187      24"
   ]
  },
  {
   "cell_type": "code",
   "execution_count": null,
   "metadata": {},
   "outputs": [],
   "source": [
    "my_data <- tmp[sample(nrow(tmp)), ] %>% scale # シャッフルと標準化\n",
    "X <- my_data[, -1] # 入力変数\n",
    "y <- my_data[,  1] # 出力変数"
   ]
  },
  {
   "cell_type": "code",
   "execution_count": null,
   "metadata": {},
   "outputs": [],
   "source": [
    "library(caret)\n",
    "my_model <- train(form = LPRICE2 ~ ., data = my_data, method = \"lm\")\n",
    "my_model$results$RMSE^2\n",
    "#> [1] 0.2940522"
   ]
  },
  {
   "cell_type": "markdown",
   "metadata": {},
   "source": [
    "### 11.2.2 ネットワークの構築"
   ]
  },
  {
   "cell_type": "code",
   "execution_count": null,
   "metadata": {},
   "outputs": [],
   "source": [
    "library(keras)\n",
    "my_model <- keras_model_sequential() %>% # 層状のネットワーク\n",
    "  layer_dense(\n",
    "    units = 3,              # 隠れ層のニューロン数\n",
    "    activation = \"relu\",    # 活性化関数\n",
    "    input_shape = c(4)) %>% # 入力層のニューロン数\n",
    "  layer_dense(units = 1)    # 出力層のニューロン数"
   ]
  },
  {
   "cell_type": "code",
   "execution_count": null,
   "metadata": {},
   "outputs": [],
   "source": [
    "my_model %>% compile(loss = \"mean_squared_error\",\n",
    "                     optimizer = \"rmsprop\")"
   ]
  },
  {
   "cell_type": "code",
   "execution_count": null,
   "metadata": {},
   "outputs": [],
   "source": [
    "my_cb <- callback_early_stopping(patience = 20,               # 訓練停止条件\n",
    "                                 restore_best_weights = TRUE) # 最善を保持"
   ]
  },
  {
   "cell_type": "code",
   "execution_count": null,
   "metadata": {},
   "outputs": [],
   "source": [
    "my_history <- my_model %>%\n",
    "  fit(x = X,                   # 入力変数\n",
    "      y = y,                   # 出力変数\n",
    "      validation_split = 0.25, # 検証データの割合\n",
    "      batch_size = 10,         # バッチサイズ\n",
    "      epochs = 500,            # エポック数の上限\n",
    "      callbacks = my_cb)       # エポックごとに行う処理"
   ]
  },
  {
   "cell_type": "code",
   "execution_count": null,
   "metadata": {},
   "outputs": [],
   "source": [
    "#plot(my_history) # がうまく行かない場合の方法\n",
    "tmp <- my_history\n",
    "tmp$params$epochs<-length(tmp$metrics$loss)\n",
    "plot(tmp)"
   ]
  },
  {
   "cell_type": "code",
   "execution_count": null,
   "metadata": {},
   "outputs": [],
   "source": [
    "my_history\n",
    "#> Final epoch (plot to see history):\n",
    "#>     loss: 0.1301\n",
    "#> val_loss: 0.1529"
   ]
  }
 ],
 "nbformat": 4,
 "nbformat_minor": 5,
 "metadata": {
  "kernelspec": {
   "name": "ir",
   "display_name": "R"
  }
 }
}
