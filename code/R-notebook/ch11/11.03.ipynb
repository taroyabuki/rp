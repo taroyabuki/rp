{
 "cells": [
  {
   "cell_type": "markdown",
   "metadata": {},
   "source": [
    "### 11.3.1 交差エントロピー"
   ]
  },
  {
   "cell_type": "code",
   "execution_count": null,
   "metadata": {},
   "outputs": [],
   "source": [
    "y <- c(2, 1, 0, 1) # 正解\n",
    "\n",
    "# 予測例A\n",
    "p_A <- matrix(\n",
    "  c(0.1, 0.1, 0.8,\n",
    "    0.1, 0.7, 0.2,\n",
    "    0.3, 0.4, 0.3,\n",
    "    0.1, 0.8, 0.1),\n",
    "  nrow = 4, byrow = TRUE)\n",
    "\n",
    "# 予測例B\n",
    "p_B <- matrix(\n",
    "  c(0.1, 0.2, 0.7,\n",
    "    0.2, 0.6, 0.2,\n",
    "    0.2, 0.5, 0.3,\n",
    "    0.2, 0.7, 0.1),\n",
    "  nrow = 4, byrow = TRUE)"
   ]
  },
  {
   "cell_type": "code",
   "execution_count": null,
   "metadata": {},
   "outputs": [],
   "source": [
    "# 予測カテゴリA\n",
    "y_A <- apply(X = p_A,\n",
    "             MARGIN = 1,\n",
    "             FUN = which.max) - 1\n",
    "y_A\n",
    "#> [1] 2 1 1 1\n",
    "\n",
    "# 予測カテゴリB\n",
    "y_B <- apply(X = p_B,\n",
    "             MARGIN = 1,\n",
    "             FUN = which.max) - 1\n",
    "y_B\n",
    "#> [1] 2 1 1 1"
   ]
  },
  {
   "cell_type": "code",
   "execution_count": null,
   "metadata": {},
   "outputs": [],
   "source": [
    "mean(y_A == y) # 正解率A\n",
    "#> [1] 0.75\n",
    "\n",
    "mean(y_B == y) # 正解率B\n",
    "#> [1] 0.75"
   ]
  },
  {
   "cell_type": "code",
   "execution_count": null,
   "metadata": {},
   "outputs": [],
   "source": [
    "p <- to_categorical(y)\n",
    "p\n",
    "#>      [,1] [,2] [,3]\n",
    "#> [1,]    0    0    1\n",
    "#> [2,]    0    1    0\n",
    "#> [3,]    1    0    0\n",
    "#> [4,]    0    1    0"
   ]
  },
  {
   "cell_type": "code",
   "execution_count": null,
   "metadata": {},
   "outputs": [],
   "source": [
    "p_A * p\n",
    "#>      [,1] [,2] [,3]\n",
    "#> [1,]  0.0  0.0  0.8\n",
    "#> [2,]  0.0  0.7  0.0\n",
    "#> [3,]  0.3  0.0  0.0\n",
    "#> [4,]  0.0  0.8  0.0\n",
    "\n",
    "# 予測例Aの交差エントロピー\n",
    "-mean(log(apply(X = p_A * p,\n",
    "                MARGIN = 1,\n",
    "                FUN = sum)))\n",
    "#> [1] 0.5017337\n",
    "\n",
    "# 予測例Bの交差エントロピー\n",
    "-mean(log(apply(X = p_B * p,\n",
    "                MARGIN = 1,\n",
    "                FUN = sum)))\n",
    "#> [1] 0.7084034"
   ]
  },
  {
   "cell_type": "markdown",
   "metadata": {},
   "source": [
    "#### 11.3.2.1 出力変数が0から始まる整数の場合（表\\\\ref{ネットワーク構築の基本原則"
   ]
  },
  {
   "cell_type": "code",
   "execution_count": null,
   "metadata": {},
   "outputs": [],
   "source": [
    "library(keras)\n",
    "my_data <- iris[sample(nrow(iris)), ] # シャッフル\n",
    "X <- scale(my_data[, -5])             # 標準化\n",
    "y <- as.integer(my_data$Species) - 1  # 0から始まる整数"
   ]
  },
  {
   "cell_type": "code",
   "execution_count": null,
   "metadata": {},
   "outputs": [],
   "source": [
    "my_model <- keras_model_sequential() %>%\n",
    "  layer_dense(units = 3, activation = \"relu\", input_shape = c(4)) %>%\n",
    "  layer_dense(units = 3, activation = \"softmax\")"
   ]
  },
  {
   "cell_type": "code",
   "execution_count": null,
   "metadata": {},
   "outputs": [],
   "source": [
    "my_model %>% compile(loss = \"sparse_categorical_crossentropy\",\n",
    "                     optimizer = \"rmsprop\",\n",
    "                     metrics = c(\"accuracy\")) # 正解率を記録する．"
   ]
  },
  {
   "cell_type": "code",
   "execution_count": null,
   "metadata": {},
   "outputs": [],
   "source": [
    "my_cb <- callback_early_stopping(patience = 20,               # 訓練停止条件\n",
    "                                 restore_best_weights = TRUE) # 最善を保持\n",
    "\n",
    "my_history <- my_model %>%\n",
    "  fit(x = X,                   # 入力変数\n",
    "      y = y,                   # 出力変数\n",
    "      validation_split = 0.25, # 検証データの割合\n",
    "      batch_size = 20,         # バッチサイズ\n",
    "      epochs = 500,            # エポック数の上限\n",
    "      callbacks = my_cb)       # エポックごとに行う処理"
   ]
  },
  {
   "cell_type": "code",
   "execution_count": null,
   "metadata": {},
   "outputs": [],
   "source": [
    "tmp <- my_history\n",
    "tmp$params$epochs<-length(tmp$metrics$loss)\n",
    "plot(tmp)"
   ]
  },
  {
   "cell_type": "code",
   "execution_count": null,
   "metadata": {},
   "outputs": [],
   "source": [
    "my_history\n",
    "#>         loss: 0.06704\n",
    "#>     accuracy: 0.9732\n",
    "#>     val_loss: 0.144\n",
    "#> val_accuracy: 0.9474"
   ]
  },
  {
   "cell_type": "code",
   "execution_count": null,
   "metadata": {},
   "outputs": [],
   "source": [
    "my_model %>% evaluate(x = X, y = y)\n",
    "#>       loss   accuracy\n",
    "#> 0.08633477 0.96666664"
   ]
  },
  {
   "cell_type": "code",
   "execution_count": null,
   "metadata": {},
   "outputs": [],
   "source": [
    "p_A <- my_model %>% predict(X)\n",
    "head(p_A)\n",
    "#>              [,1]         [,2]         [,3]\n",
    "#> [1,] 5.627665e-08 6.949594e-03 9.930503e-01\n",
    "#> [2,] 7.952168e-05 9.933645e-01 6.556002e-03\n",
    "#> [3,] 2.432919e-09 6.402077e-03 9.935979e-01\n",
    "#> [4,] 9.999996e-01 3.476715e-07 5.606830e-11\n",
    "#> [5,] 9.999999e-01 1.118252e-07 1.196033e-11\n",
    "#> [6,] 7.851200e-05 9.281746e-01 7.174686e-02"
   ]
  },
  {
   "cell_type": "code",
   "execution_count": null,
   "metadata": {},
   "outputs": [],
   "source": [
    "# 予測カテゴリ\n",
    "y_A <- apply(X = p_A,\n",
    "             MARGIN = 1,\n",
    "             FUN = which.max) - 1\n",
    "\n",
    "# 正解率（訓練）\n",
    "mean(y_A == y)\n",
    "#> [1] 0.96666664"
   ]
  },
  {
   "cell_type": "code",
   "execution_count": null,
   "metadata": {},
   "outputs": [],
   "source": [
    "p <- to_categorical(y)\n",
    "\n",
    "# 交差エントロピー（訓練）\n",
    "-mean(log(apply(X = p_A * p,\n",
    "                MARGIN = 1,\n",
    "                FUN = sum)))\n",
    "#> [1] 0.08633477"
   ]
  },
  {
   "cell_type": "markdown",
   "metadata": {},
   "source": [
    "#### 11.3.2.2 ワンホットエンコーディングの場合（表\\\\ref{ネットワーク構築の基本原則"
   ]
  },
  {
   "cell_type": "code",
   "execution_count": null,
   "metadata": {},
   "outputs": [],
   "source": [
    "library(keras)\n",
    "my_data <- iris[sample(nrow(iris)), ]      # シャッフル\n",
    "X <- scale(my_data[, -5])                  # 標準化\n",
    "p <- (as.integer(my_data$Species) - 1) %>% # 0から始まる整数\n",
    "  to_categorical                           # ワンホットエンコーディング\n",
    "head(p)\n",
    "#>      [,1] [,2] [,3]\n",
    "#> [1,]    0    1    0\n",
    "#> [2,]    0    1    0\n",
    "#> [3,]    1    0    0\n",
    "#> [4,]    0    1    0\n",
    "#> [5,]    0    1    0\n",
    "#> [6,]    0    0    1"
   ]
  },
  {
   "cell_type": "code",
   "execution_count": null,
   "metadata": {},
   "outputs": [],
   "source": [
    "my_model <- keras_model_sequential() %>%\n",
    "  layer_dense(units = 3, activation = \"relu\", input_shape = c(4)) %>%\n",
    "  layer_dense(units = 3, activation = \"softmax\")\n",
    "\n",
    "my_model %>% compile(\n",
    "  loss = \"categorical_crossentropy\", # 変更箇所\n",
    "  optimizer = \"rmsprop\",\n",
    "  metrics = c(\"accuracy\"))"
   ]
  },
  {
   "cell_type": "code",
   "execution_count": null,
   "metadata": {},
   "outputs": [],
   "source": [
    "my_cb <- callback_early_stopping(patience = 20,               # 訓練停止条件\n",
    "                                 restore_best_weights = TRUE) # 最善を保持\n",
    "\n",
    "my_history <- my_model %>%\n",
    "  fit(x = X,                   # 入力変数\n",
    "      y = p,                   # 出力変数\n",
    "      validation_split = 0.25, # 検証データの割合\n",
    "      batch_size = 20,         # バッチサイズ\n",
    "      epochs = 500,            # エポック数の上限\n",
    "      callbacks = my_cb)       # エポックごとに行う処理"
   ]
  },
  {
   "cell_type": "code",
   "execution_count": null,
   "metadata": {},
   "outputs": [],
   "source": [
    "my_model %>% evaluate(x = X, y = p)\n",
    "#>       loss   accuracy \n",
    "#> 0.07238474 0.96666664 "
   ]
  },
  {
   "cell_type": "code",
   "execution_count": null,
   "metadata": {},
   "outputs": [],
   "source": [
    "# 正解カテゴリ\n",
    "y <- apply(X = p,\n",
    "           MARGIN = 1,\n",
    "           FUN = which.max) - 1\n",
    "\n",
    "# 予測確率\n",
    "p_A <- my_model %>% predict(X)\n",
    "\n",
    "# 予測カテゴリ\n",
    "y_A <- apply(X = p_A,\n",
    "             MARGIN = 1,\n",
    "             FUN = which.max) - 1\n",
    "\n",
    "# 正解率（訓練）\n",
    "mean(y_A == y)\n",
    "#> [1] 0.96666664\n",
    "\n",
    "# 交差エントロピー（訓練）\n",
    "-mean(log(apply(p_A * p, 1, sum)))\n",
    "#> [1] 0.07238474"
   ]
  }
 ],
 "nbformat": 4,
 "nbformat_minor": 5,
 "metadata": {
  "kernelspec": {
   "name": "ir",
   "display_name": "R"
  }
 }
}
